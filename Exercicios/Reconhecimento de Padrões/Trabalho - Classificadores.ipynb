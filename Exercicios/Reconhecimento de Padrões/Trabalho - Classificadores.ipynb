{
 "cells": [
  {
   "cell_type": "code",
   "execution_count": null,
<<<<<<< HEAD
   "metadata": {},
   "outputs": [],
   "source": []
  }
 ],
 "metadata": {
  "interpreter": {
   "hash": "a97cea9040a71f963f6525d18201786996e5c5add084f4c8fbf988376b1b48ba"
  },
  "kernelspec": {
   "display_name": "Python 3.8.5 32-bit",
   "name": "python3"
  },
  "language_info": {
=======
   "source": [],
   "outputs": [],
   "metadata": {}
  }
 ],
 "metadata": {
  "orig_nbformat": 4,
  "language_info": {
   "name": "python",
   "version": "3.8.5",
   "mimetype": "text/x-python",
>>>>>>> a623abfbce2ac17a317cb8f228d96e23103d9a34
   "codemirror_mode": {
    "name": "ipython",
    "version": 3
   },
<<<<<<< HEAD
   "file_extension": ".py",
   "mimetype": "text/x-python",
   "name": "python",
   "nbconvert_exporter": "python",
   "pygments_lexer": "ipython3",
   "version": "3.8.5"
  },
  "orig_nbformat": 4
 },
 "nbformat": 4,
 "nbformat_minor": 2
}
=======
   "pygments_lexer": "ipython3",
   "nbconvert_exporter": "python",
   "file_extension": ".py"
  },
  "kernelspec": {
   "name": "python3",
   "display_name": "Python 3.8.5 32-bit"
  },
  "interpreter": {
   "hash": "a97cea9040a71f963f6525d18201786996e5c5add084f4c8fbf988376b1b48ba"
  }
 },
 "nbformat": 4,
 "nbformat_minor": 2
}
>>>>>>> a623abfbce2ac17a317cb8f228d96e23103d9a34
