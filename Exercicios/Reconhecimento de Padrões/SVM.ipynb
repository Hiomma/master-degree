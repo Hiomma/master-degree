{
 "cells": [
  {
   "cell_type": "code",
   "execution_count": null,
   "source": [
    "import numpy as np\r\n",
    "\r\n",
    "class SVM:\r\n",
    "\r\n",
    "    def __init__(self, nr_Learning_Rate, nr_Lambda_Param=0.01, nr_Iters=1000):\r\n",
    "        self.nr_Learning_Rate = nr_Learning_Rate\r\n",
    "        self.nr_Lambda_Param = nr_Lambda_Param\r\n",
    "        self.nr_Iters = nr_Iters\r\n",
    "        self.w = None\r\n",
    "        self.nr_Bias = None\r\n",
    "\r\n",
    "    def fit(self, x, y):\r\n",
    "        y_ = np.where(y <= 0, -1, 1)\r\n",
    "        nr_Samples, nr_Features = x.shape\r\n",
    "\r\n",
    "        self.w = np.zeros(nr_Features)\r\n",
    "        self.nr_Bias = 0\r\n",
    "\r\n",
    "        for _ in range(self.nr_Iters):\r\n",
    "            for index, xi in enumerate(x):\r\n",
    "                condition = y_[index] * (np.dot(xi, self.w) - self.nr_Bias\r\n"
   ],
   "outputs": [],
   "metadata": {}
  },
  {
   "cell_type": "code",
   "execution_count": null,
   "source": [],
   "outputs": [],
   "metadata": {}
  }
 ],
 "metadata": {
  "orig_nbformat": 4,
  "language_info": {
   "name": "python"
  }
 },
 "nbformat": 4,
 "nbformat_minor": 2
}