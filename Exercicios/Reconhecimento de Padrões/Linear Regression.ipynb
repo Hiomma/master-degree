{
 "cells": [
  {
   "cell_type": "code",
   "execution_count": 4,
   "metadata": {},
   "outputs": [],
   "source": [
    "import numpy as np\n",
    "\n",
    "class LinearRegression:\n",
    "    def __init__(self, nr_Learning_Rate=0.01, nr_Iteractions=1000):\n",
    "        self.nr_Learning_Rate = nr_Learning_Rate\n",
    "        self.nr_Iteractions = nr_Iteractions\n",
    "        self.weights = None\n",
    "        self.nr_Bias = None\n",
    "\n",
    "    def fit(self, data, target):\n",
    "        nr_Samples, nr_Features = data.shape\n",
    "        self.weights = np.zeros(nr_Features)\n",
    "        self.nr_Bias = 0\n",
    "\n",
    "        for _ in range(self.nr_Iteractions):\n",
    "            predicted = np.dot(data, self.weights) + self.nr_Bias\n",
    "\n",
    "            dw = (1/nr_Samples) * np.dot(data.T, (predicted - target))\n",
    "            db = (1/nr_Samples) * np.sum(predicted - target)\n",
    "\n",
    "            self.weights -= self.nr_Learning_Rate * dw\n",
    "            self.nr_Bias -= self.nr_Learning_Rate * db\n",
    "    \n",
    "    def predict(self, data):\n",
    "        return np.dot(data, self.weights) + self.nr_Bias\n",
    "\n",
    "    def Get_Error(self, trueTarget, predicted):\n",
    "        return np.mean((trueTarget - predicted) ** 2)\n"
   ]
  },
  {
   "cell_type": "code",
   "execution_count": 5,
   "metadata": {},
   "outputs": [
    {
     "ename": "AttributeError",
     "evalue": "'list' object has no attribute 'shape'",
     "output_type": "error",
     "traceback": [
      "\u001B[1;31m---------------------------------------------------------------------------\u001B[0m",
      "\u001B[1;31mAttributeError\u001B[0m                            Traceback (most recent call last)",
      "\u001B[1;32mC:\\Users\\JUSTMA~1\\AppData\\Local\\Temp/ipykernel_1300/2173220775.py\u001B[0m in \u001B[0;36m<module>\u001B[1;34m\u001B[0m\n\u001B[0;32m     11\u001B[0m \u001B[1;33m\u001B[0m\u001B[0m\n\u001B[0;32m     12\u001B[0m \u001B[0mclassifier\u001B[0m \u001B[1;33m=\u001B[0m \u001B[0mLinearRegression\u001B[0m\u001B[1;33m(\u001B[0m\u001B[1;33m)\u001B[0m\u001B[1;33m\u001B[0m\u001B[1;33m\u001B[0m\u001B[0m\n\u001B[1;32m---> 13\u001B[1;33m \u001B[0mclassifier\u001B[0m\u001B[1;33m.\u001B[0m\u001B[0mfit\u001B[0m\u001B[1;33m(\u001B[0m\u001B[0mtrain\u001B[0m\u001B[1;33m,\u001B[0m \u001B[0mtrainTarget\u001B[0m\u001B[1;33m)\u001B[0m\u001B[1;33m\u001B[0m\u001B[1;33m\u001B[0m\u001B[0m\n\u001B[0m\u001B[0;32m     14\u001B[0m \u001B[1;31m#predicted = classifier.predict(test)\u001B[0m\u001B[1;33m\u001B[0m\u001B[1;33m\u001B[0m\u001B[1;33m\u001B[0m\u001B[0m\n\u001B[0;32m     15\u001B[0m \u001B[1;33m\u001B[0m\u001B[0m\n",
      "\u001B[1;32mC:\\Users\\JUSTMA~1\\AppData\\Local\\Temp/ipykernel_1300/3376815233.py\u001B[0m in \u001B[0;36mfit\u001B[1;34m(self, data, target)\u001B[0m\n\u001B[0;32m      9\u001B[0m \u001B[1;33m\u001B[0m\u001B[0m\n\u001B[0;32m     10\u001B[0m     \u001B[1;32mdef\u001B[0m \u001B[0mfit\u001B[0m\u001B[1;33m(\u001B[0m\u001B[0mself\u001B[0m\u001B[1;33m,\u001B[0m \u001B[0mdata\u001B[0m\u001B[1;33m,\u001B[0m \u001B[0mtarget\u001B[0m\u001B[1;33m)\u001B[0m\u001B[1;33m:\u001B[0m\u001B[1;33m\u001B[0m\u001B[1;33m\u001B[0m\u001B[0m\n\u001B[1;32m---> 11\u001B[1;33m         \u001B[0mnr_Samples\u001B[0m\u001B[1;33m,\u001B[0m \u001B[0mnr_Features\u001B[0m \u001B[1;33m=\u001B[0m \u001B[0mdata\u001B[0m\u001B[1;33m.\u001B[0m\u001B[0mshape\u001B[0m\u001B[1;33m\u001B[0m\u001B[1;33m\u001B[0m\u001B[0m\n\u001B[0m\u001B[0;32m     12\u001B[0m         \u001B[0mself\u001B[0m\u001B[1;33m.\u001B[0m\u001B[0mweights\u001B[0m \u001B[1;33m=\u001B[0m \u001B[0mnp\u001B[0m\u001B[1;33m.\u001B[0m\u001B[0mzeros\u001B[0m\u001B[1;33m(\u001B[0m\u001B[0mnr_Features\u001B[0m\u001B[1;33m)\u001B[0m\u001B[1;33m\u001B[0m\u001B[1;33m\u001B[0m\u001B[0m\n\u001B[0;32m     13\u001B[0m         \u001B[0mself\u001B[0m\u001B[1;33m.\u001B[0m\u001B[0mnr_Bias\u001B[0m \u001B[1;33m=\u001B[0m \u001B[1;36m0\u001B[0m\u001B[1;33m\u001B[0m\u001B[1;33m\u001B[0m\u001B[0m\n",
      "\u001B[1;31mAttributeError\u001B[0m: 'list' object has no attribute 'shape'"
     ]
    }
   ],
   "source": [
    "\n",
    "from sklearn.model_selection import train_test_split\n",
    "from sklearn import datasets\n",
    "import matplotlib.pyplot as plt\n",
    "import numpy as np\n",
    "\n",
    "data, target = datasets.make_regression(n_features=1, noise=20)\n",
    "train, test, trainTarget, testTarget = train_test_split(data, target, test_size=0.2)\n",
    "\n",
    "classifier = LinearRegression()\n",
    "classifier.fit(train, trainTarget)\n",
    "predicted = classifier.predict(test)\n",
    "\n",
    "nr_Error = classifier.Get_Error(testTarget, predicted)\n",
    "print(nr_Error)\n",
    "\n",
    "\n",
    "cmap = plt.get_cmap('viridis')\n",
    "fig = plt.figure(figsize=(8,6))\n",
    "m1 = plt.scatter(train, trainTarget, color=cmap(0.9), s=10)\n",
    "m2 = plt.scatter(test, testTarget, color=cmap(0.5), s=10)\n",
    "plt.plot(data, classifier.predict(data), color=\"black\", linewidth=2, label=\"Prediction\")\n",
    "plt.show()"
   ]
  }
 ],
 "metadata": {
  "interpreter": {
   "hash": "ac59ebe37160ed0dfa835113d9b8498d9f09ceb179beaac4002f036b9467c963"
  },
  "kernelspec": {
   "display_name": "Python 3.9.6 64-bit",
   "name": "python3"
  },
  "language_info": {
   "codemirror_mode": {
    "name": "ipython",
    "version": 3
   },
   "file_extension": ".py",
   "mimetype": "text/x-python",
   "name": "python",
   "nbconvert_exporter": "python",
   "pygments_lexer": "ipython3",
   "version": "3.9.6"
  },
  "orig_nbformat": 4
 },
 "nbformat": 4,
 "nbformat_minor": 2
}