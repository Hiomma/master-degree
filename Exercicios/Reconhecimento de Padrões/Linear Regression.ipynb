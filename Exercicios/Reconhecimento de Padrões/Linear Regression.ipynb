{
 "cells": [
  {
   "cell_type": "code",
   "execution_count": 24,
   "metadata": {},
   "outputs": [],
   "source": [
    "import numpy as np\n",
    "\n",
    "class LinearRegression:\n",
    "    def __init__(self, nr_Learning_Rate=0.01, nr_Iteractions=1000):\n",
    "        self.nr_Learning_Rate = nr_Learning_Rate\n",
    "        self.nr_Iteractions = nr_Iteractions\n",
    "        self.weights = None\n",
    "        self.nr_Bias = None\n",
    "\n",
    "    def fit(self, data, target):\n",
    "        nr_Samples, nr_Features = data.shape\n",
    "        self.weights = np.zeros(nr_Features)\n",
    "        self.nr_Bias = 0\n",
    "\n",
    "        for _ in range(self.nr_Iteractions):\n",
    "            predicted = np.dot(data, self.weights) + self.nr_Bias\n",
    "\n",
    "            dw = (1/nr_Samples) * np.dot(data.T, (predicted - target))\n",
    "            db = (1/nr_Samples) * np.sum(predicted - target)\n",
    "\n",
    "            self.weights -= self.nr_Learning_Rate * dw\n",
    "            self.nr_Bias -= self.nr_Learning_Rate * db\n",
    "    \n",
    "    def predict(self, data):\n",
    "        return np.dot(data, self.weights) + self.nr_Bias\n",
    "\n",
    "    def Get_Error(self, trueTarget, predicted):\n",
    "        return np.mean((trueTarget - predicted) ** 2)\n"
   ]
  },
  {
   "cell_type": "code",
   "execution_count": 39,
   "metadata": {},
   "outputs": [
    {
     "name": "stdout",
     "output_type": "stream",
     "text": [
      "506.95399263428044\n"
     ]
    },
    {
     "data": {
      "image/png": "[encoded data removed]",
      "text/plain": [
       "<Figure size 576x432 with 1 Axes>"
      ]
     },
     "metadata": {
      "needs_background": "light"
     },
     "output_type": "display_data"
    }
   ],
   "source": [
    "\n",
    "from sklearn.model_selection import train_test_split\n",
    "from sklearn import datasets\n",
    "import matplotlib.pyplot as plt\n",
    "import numpy as np\n",
    "\n",
    "data, target = datasets.make_regression(n_features=1, noise=20)\n",
    "train, test, trainTarget, testTarget = train_test_split(data, target, test_size=0.2)\n",
    "\n",
    "classifier = LinearRegression()\n",
    "classifier.fit(train, trainTarget)\n",
    "predicted = classifier.predict(test)\n",
    "\n",
    "nr_Error = classifier.Get_Error(testTarget, predicted)\n",
    "print(nr_Error)\n",
    "\n",
    "\n",
    "cmap = plt.get_cmap('viridis')\n",
    "fig = plt.figure(figsize=(8,6))\n",
    "m1 = plt.scatter(train, trainTarget, color=cmap(0.9), s=10)\n",
    "m2 = plt.scatter(test, testTarget, color=cmap(0.5), s=10)\n",
    "plt.plot(data, classifier.predict(data), color=\"black\", linewidth=2, label=\"Prediction\")\n",
    "plt.show()"
   ]
  }
 ],
 "metadata": {
  "interpreter": {
   "hash": "ac59ebe37160ed0dfa835113d9b8498d9f09ceb179beaac4002f036b9467c963"
  },
  "kernelspec": {
   "display_name": "Python 3.9.6 64-bit",
   "name": "python3"
  },
  "language_info": {
   "codemirror_mode": {
    "name": "ipython",
    "version": 3
   },
   "file_extension": ".py",
   "mimetype": "text/x-python",
   "name": "python",
   "nbconvert_exporter": "python",
   "pygments_lexer": "ipython3",
   "version": "3.9.6"
  },
  "orig_nbformat": 4
 },
 "nbformat": 4,
 "nbformat_minor": 2
}
