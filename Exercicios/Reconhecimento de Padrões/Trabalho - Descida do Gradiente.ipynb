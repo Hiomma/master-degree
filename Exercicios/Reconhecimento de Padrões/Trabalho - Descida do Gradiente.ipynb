{
 "cells": [
  {
   "cell_type": "code",
   "execution_count": 13,
   "source": [
    "import numpy as np\r\n",
    "\r\n",
    "nr_Step = 0.001\r\n",
    "x = 1\r\n",
    "function = np.poly1d([0.034, -0.2, -0.12, 0.35, 4])\r\n",
    "derivative = np.polyder(function)\r\n",
    "\r\n",
    "\r\n",
    "for nr_Index in range(100):\r\n",
    "    x = x - nr_Step * np.polyval(derivative, x)\r\n",
    "\r\n",
    "print(x)\r\n",
    "\r\n",
    "print(function)\r\n",
    "print(derivative)"
   ],
   "outputs": [
    {
     "output_type": "stream",
     "name": "stdout",
     "text": [
      "1.037279470998926\n",
      "       4       3        2\n",
      "0.034 x - 0.2 x - 0.12 x + 0.35 x + 4\n",
      "       3       2\n",
      "0.136 x - 0.6 x - 0.24 x + 0.35\n"
     ]
    }
   ],
   "metadata": {}
  }
 ],
 "metadata": {
  "orig_nbformat": 4,
  "language_info": {
   "name": "python",
   "version": "3.8.5",
   "mimetype": "text/x-python",
   "codemirror_mode": {
    "name": "ipython",
    "version": 3
   },
   "pygments_lexer": "ipython3",
   "nbconvert_exporter": "python",
   "file_extension": ".py"
  },
  "kernelspec": {
   "name": "python3",
   "display_name": "Python 3.8.5 32-bit"
  },
  "interpreter": {
   "hash": "a97cea9040a71f963f6525d18201786996e5c5add084f4c8fbf988376b1b48ba"
  }
 },
 "nbformat": 4,
 "nbformat_minor": 2
}