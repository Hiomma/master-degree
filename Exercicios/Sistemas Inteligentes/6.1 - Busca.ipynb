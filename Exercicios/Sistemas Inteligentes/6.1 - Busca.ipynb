{
 "cells": [
  {
   "cell_type": "markdown",
   "id": "negative-sapphire",
   "metadata": {},
   "source": [
    "# Busca (Parte II)"
   ]
  },
  {
   "cell_type": "markdown",
   "id": "local-garlic",
   "metadata": {},
   "source": [
    "## Mochila com Número Irrestrito de Itens com Valor"
   ]
  },
  {
   "cell_type": "code",
   "execution_count": 1,
   "id": "marked-emergency",
   "metadata": {},
   "outputs": [],
   "source": [
    "max_size = 19\n",
    "items = [(1,3),(4,6),(5,7)]"
   ]
  },
  {
   "cell_type": "markdown",
   "id": "committed-basic",
   "metadata": {},
   "source": [
    "Tamanho de Estados"
   ]
  },
  {
   "cell_type": "code",
   "execution_count": 2,
   "id": "concrete-medicine",
   "metadata": {},
   "outputs": [],
   "source": [
    "def state_size(state, items):\n",
    "    size = 0\n",
    "    for i in range(len(state)):\n",
    "        size += state[i] * items[i][1]\n",
    "    return size"
   ]
  },
  {
   "cell_type": "code",
   "execution_count": 3,
   "id": "spiritual-drive",
   "metadata": {},
   "outputs": [
    {
     "data": {
      "text/plain": [
       "16"
      ]
     },
     "execution_count": 3,
     "metadata": {},
     "output_type": "execute_result"
    }
   ],
   "source": [
    "state_size([1,1,1], items)"
   ]
  },
  {
   "cell_type": "markdown",
   "id": "potential-hacker",
   "metadata": {},
   "source": [
    "Avaliação de Estados"
   ]
  },
  {
   "cell_type": "code",
   "execution_count": 4,
   "id": "blank-turner",
   "metadata": {},
   "outputs": [],
   "source": [
    "def evaluate_state(state, items):\n",
    "    value = 0\n",
    "    for i in range(len(state)):\n",
    "        value += state[i] * items[i][0]\n",
    "    return value"
   ]
  },
  {
   "cell_type": "code",
   "execution_count": 5,
   "id": "twenty-drinking",
   "metadata": {},
   "outputs": [
    {
     "data": {
      "text/plain": [
       "9"
      ]
     },
     "execution_count": 5,
     "metadata": {},
     "output_type": "execute_result"
    }
   ],
   "source": [
    "evaluate_state([1,2,0], items)"
   ]
  },
  {
   "cell_type": "markdown",
   "id": "associate-reporter",
   "metadata": {},
   "source": [
    "Geração de Estados"
   ]
  },
  {
   "cell_type": "code",
   "execution_count": 6,
   "id": "chubby-factor",
   "metadata": {},
   "outputs": [],
   "source": [
    "def generate_states(initial_state):\n",
    "    states = []\n",
    "    for i in range (len(initial_state)):\n",
    "        aux = initial_state.copy()\n",
    "        aux[i] = initial_state[i] + 1\n",
    "        states.append(aux)\n",
    "    return states"
   ]
  },
  {
   "cell_type": "code",
   "execution_count": 7,
   "id": "bacterial-clone",
   "metadata": {},
   "outputs": [
    {
     "data": {
      "text/plain": [
       "[[1, 0, 0], [0, 1, 0], [0, 0, 1]]"
      ]
     },
     "execution_count": 7,
     "metadata": {},
     "output_type": "execute_result"
    }
   ],
   "source": [
    "generate_states([0,0,0])"
   ]
  },
  {
   "cell_type": "markdown",
   "id": "marked-treatment",
   "metadata": {},
   "source": [
    "Roleta"
   ]
  },
  {
   "cell_type": "markdown",
   "id": "cleared-asthma",
   "metadata": {},
   "source": [
    "Soma de valores de todos os estados"
   ]
  },
  {
   "cell_type": "code",
   "execution_count": 8,
   "id": "vulnerable-literature",
   "metadata": {},
   "outputs": [],
   "source": [
    "def states_total_value(states):\n",
    "    total_sum = 0\n",
    "    for state in states:\n",
    "        total_sum = total_sum + state[0]\n",
    "    return total_sum"
   ]
  },
  {
   "cell_type": "code",
   "execution_count": 9,
   "id": "technical-warren",
   "metadata": {},
   "outputs": [
    {
     "data": {
      "text/plain": [
       "10"
      ]
     },
     "execution_count": 9,
     "metadata": {},
     "output_type": "execute_result"
    }
   ],
   "source": [
    "states_total_value([(1, [1,0,0]), (4, [0, 1, 0]), (5, [0, 0, 1])])"
   ]
  },
  {
   "cell_type": "markdown",
   "id": "careful-association",
   "metadata": {},
   "source": [
    "Construção da roleta"
   ]
  },
  {
   "cell_type": "code",
   "execution_count": 10,
   "id": "headed-crowd",
   "metadata": {},
   "outputs": [],
   "source": [
    "def roulette_construction(states):\n",
    "    aux_states = []\n",
    "    roulette = []\n",
    "    total_value = states_total_value(states)\n",
    "\n",
    "    for state in states:\n",
    "        value = state[0]\n",
    "        if total_value != 0:\n",
    "            ratio = value/total_value\n",
    "        else:\n",
    "            ratio = 1\n",
    "        aux_states.append((ratio,state[1]))\n",
    " \n",
    "    acc_value = 0\n",
    "    for state in aux_states:\n",
    "        acc_value = acc_value + state[0]\n",
    "        s = (acc_value,state[1])\n",
    "        roulette.append(s)\n",
    "    return roulette"
   ]
  },
  {
   "cell_type": "code",
   "execution_count": 11,
   "id": "proud-width",
   "metadata": {},
   "outputs": [
    {
     "data": {
      "text/plain": [
       "[(0.1, [1, 0, 0]), (0.5, [0, 1, 0]), (1.0, [0, 0, 1])]"
      ]
     },
     "execution_count": 11,
     "metadata": {},
     "output_type": "execute_result"
    }
   ],
   "source": [
    "roulette_construction([(1, [1,0,0]), (4, [0, 1, 0]), (5, [0, 0, 1])])"
   ]
  },
  {
   "cell_type": "markdown",
   "id": "infinite-horizontal",
   "metadata": {},
   "source": [
    "Rodar a roleta"
   ]
  },
  {
   "cell_type": "code",
   "execution_count": 12,
   "id": "local-spelling",
   "metadata": {},
   "outputs": [],
   "source": [
    "import random\n",
    "\n",
    "def roulette_run (rounds, roulette):\n",
    "    if roulette == []:\n",
    "        return []\n",
    "    selected = []\n",
    "    while len(selected) < rounds:\n",
    "        r = random.uniform(0,1)\n",
    "        for state in roulette:\n",
    "            if r <= state[0]:\n",
    "                selected.append(state[1])\n",
    "                break\n",
    "    return selected"
   ]
  },
  {
   "cell_type": "code",
   "execution_count": 13,
   "id": "desperate-infrared",
   "metadata": {},
   "outputs": [
    {
     "data": {
      "text/plain": [
       "[[0, 0, 1]]"
      ]
     },
     "execution_count": 13,
     "metadata": {},
     "output_type": "execute_result"
    }
   ],
   "source": [
    "roulette_run (1, [(0.1, [1, 0, 0]), (0.5, [0, 1, 0]), (1.0, [0, 0, 1])])"
   ]
  },
  {
   "cell_type": "markdown",
   "id": "juvenile-project",
   "metadata": {},
   "source": [
    "Método Heurístico - Construtivo"
   ]
  },
  {
   "cell_type": "markdown",
   "id": "fixed-capitol",
   "metadata": {},
   "source": [
    "Hill Climbing Não Determinístico"
   ]
  },
  {
   "cell_type": "code",
   "execution_count": 14,
   "id": "cellular-application",
   "metadata": {},
   "outputs": [],
   "source": [
    "import time\n",
    "\n",
    "def hill_climbing(max_size, items, max_time):\n",
    "    start = time.process_time()\n",
    "    current_state = [0]*len(items)\n",
    "    optimal_value = 0\n",
    "    optimal_size = 0\n",
    "    optimal_state = current_state\n",
    "    valid_states = len(items)\n",
    "    end = 0\n",
    "\n",
    "    while valid_states != 0 and end-start <= max_time:\n",
    "        valid_states = len(items)\n",
    "        possible_states = generate_states(current_state)\n",
    "        \n",
    "        states = []\n",
    "        for state in possible_states:\n",
    "            aux_val = evaluate_state(state, items)\n",
    "            aux_size = state_size(state, items)\n",
    "            if aux_size <= max_size:\n",
    "                states.append((aux_val, state))\n",
    "                if aux_val > optimal_value:\n",
    "                    optimal_value = aux_val\n",
    "                    optimal_size = aux_size\n",
    "                    optimal_state = state\n",
    "            else:\n",
    "                valid_states = valid_states - 1                \n",
    "        \n",
    "        if valid_states > 0:\n",
    "            current_state = roulette_run (1, roulette_construction(states))[0]\n",
    "\n",
    "        end = time.process_time()\n",
    "\n",
    "    return optimal_state, optimal_size, optimal_value"
   ]
  },
  {
   "cell_type": "code",
   "execution_count": 15,
   "id": "romantic-anniversary",
   "metadata": {},
   "outputs": [
    {
     "data": {
      "text/plain": [
       "([1, 0, 2], 17, 11)"
      ]
     },
     "execution_count": 15,
     "metadata": {},
     "output_type": "execute_result"
    }
   ],
   "source": [
    "hill_climbing(max_size, items, 120)"
   ]
  },
  {
   "cell_type": "markdown",
   "id": "appreciated-studio",
   "metadata": {},
   "source": [
    "Métodos Heurísticos - Busca Local"
   ]
  },
  {
   "cell_type": "markdown",
   "id": "massive-probe",
   "metadata": {},
   "source": [
    "Estado Inicial Aleatório"
   ]
  },
  {
   "cell_type": "code",
   "execution_count": 16,
   "id": "humanitarian-standard",
   "metadata": {},
   "outputs": [],
   "source": [
    "import random\n",
    "\n",
    "def generate_initial_state(max_size, items):\n",
    "    initial_state = []\n",
    "    for i in range(len(items)):\n",
    "        initial_state.append(random.randint(0,max_size//items[i][1]))\n",
    "    print (initial_state)\n",
    "    if state_size(initial_state,items) > max_size:\n",
    "        while True:\n",
    "            for i in range(len(items)):\n",
    "                if initial_state[i] > 0:\n",
    "                    initial_state[i] = initial_state[i] - 1\n",
    "                    if state_size(initial_state,items) <= max_size:\n",
    "                        return initial_state\n",
    "    return initial_state"
   ]
  },
  {
   "cell_type": "code",
   "execution_count": 17,
   "id": "divided-correlation",
   "metadata": {},
   "outputs": [
    {
     "name": "stdout",
     "output_type": "stream",
     "text": [
      "[175, 222, 179, 48, 113, 404, 122, 190, 258, 32, 38, 59, 55, 16]\n"
     ]
    },
    {
     "data": {
      "text/plain": [
       "[0, 44, 1, 0, 0, 226, 0, 13, 81, 0, 0, 0, 0, 0]"
      ]
     },
     "execution_count": 17,
     "metadata": {},
     "output_type": "execute_result"
    }
   ],
   "source": [
    "generate_initial_state(1381, [(1,3),(4,6),(5,7),(3,4),(2,6),(2,3),(6,8),(1,2),(3,5),(7,10),(10,15),(13,20),(24,25),(29,37)])"
   ]
  },
  {
   "cell_type": "code",
   "execution_count": 18,
   "id": "composite-insight",
   "metadata": {},
   "outputs": [
    {
     "name": "stdout",
     "output_type": "stream",
     "text": [
      "[5, 1, 2]\n"
     ]
    },
    {
     "data": {
      "text/plain": [
       "[4, 0, 1]"
      ]
     },
     "execution_count": 18,
     "metadata": {},
     "output_type": "execute_result"
    }
   ],
   "source": [
    "generate_initial_state(max_size, items)"
   ]
  },
  {
   "cell_type": "markdown",
   "id": "italic-massage",
   "metadata": {},
   "source": [
    "Operador de Mudança de Estado"
   ]
  },
  {
   "cell_type": "code",
   "execution_count": 19,
   "id": "cultural-champagne",
   "metadata": {},
   "outputs": [],
   "source": [
    "def change_state(state,position,value):\n",
    "    if state[position] == 0 and value < 0:\n",
    "        return []\n",
    "    state[position] = state[position] + value\n",
    "    return state"
   ]
  },
  {
   "cell_type": "code",
   "execution_count": 20,
   "id": "hispanic-restriction",
   "metadata": {},
   "outputs": [
    {
     "data": {
      "text/plain": [
       "[2, 0, 0]"
      ]
     },
     "execution_count": 20,
     "metadata": {},
     "output_type": "execute_result"
    }
   ],
   "source": [
    "change_state([2,0,1], 2, -1)"
   ]
  },
  {
   "cell_type": "markdown",
   "id": "analyzed-turtle",
   "metadata": {},
   "source": [
    "Vizinhança"
   ]
  },
  {
   "cell_type": "code",
   "execution_count": 21,
   "id": "common-hurricane",
   "metadata": {},
   "outputs": [],
   "source": [
    "def generate_neighborhood(max_size, items, state):\n",
    "    neighborhood = []\n",
    "    for i in range(len(state)):\n",
    "        aux = state.copy()\n",
    "        new_state = change_state(aux,i,1)\n",
    "        if state_size (new_state, items) <= max_size:\n",
    "            neighborhood.append(new_state)\n",
    "    for i in range(len(state)):\n",
    "        aux = state.copy()\n",
    "        new_state = change_state(aux,i,-1)\n",
    "        if new_state != [] and state_size (new_state, items) <= max_size:\n",
    "            neighborhood.append(new_state)\n",
    "    return neighborhood"
   ]
  },
  {
   "cell_type": "code",
   "execution_count": 22,
   "id": "dominican-comment",
   "metadata": {},
   "outputs": [
    {
     "data": {
      "text/plain": [
       "[[0, 1, 1], [0, 2, 0]]"
      ]
     },
     "execution_count": 22,
     "metadata": {},
     "output_type": "execute_result"
    }
   ],
   "source": [
    "generate_neighborhood(max_size, items, [0,2,1])"
   ]
  },
  {
   "cell_type": "markdown",
   "id": "sweet-somewhere",
   "metadata": {},
   "source": [
    "Gradiente de Subida"
   ]
  },
  {
   "cell_type": "code",
   "execution_count": 23,
   "id": "analyzed-specification",
   "metadata": {},
   "outputs": [],
   "source": [
    "def gradient_ascent(solution,max_size,items):\n",
    "    max_value = evaluate_state(solution,items)\n",
    "    better = True\n",
    "    while better:       \n",
    "        neighborhood = generate_neighborhood(max_size, items, solution)\n",
    "        better = False\n",
    "        for s in neighborhood:\n",
    "            value = evaluate_state(s,items)\n",
    "            if value > max_value and state_size(s,items) <= max_size:\n",
    "                solution = s\n",
    "                max_value = value\n",
    "                better = True             \n",
    "    return solution, state_size(solution,items), max_value"
   ]
  },
  {
   "cell_type": "code",
   "execution_count": 24,
   "id": "cleared-appendix",
   "metadata": {},
   "outputs": [
    {
     "data": {
      "text/plain": [
       "([1, 0, 2], 17, 11)"
      ]
     },
     "execution_count": 24,
     "metadata": {},
     "output_type": "execute_result"
    }
   ],
   "source": [
    "gradient_ascent([1,0,2],max_size,items)"
   ]
  },
  {
   "cell_type": "code",
   "execution_count": 25,
   "id": "separated-brook",
   "metadata": {},
   "outputs": [
    {
     "name": "stdout",
     "output_type": "stream",
     "text": [
      "[1, 1, 2]\n"
     ]
    },
    {
     "data": {
      "text/plain": [
       "([1, 0, 2], 17, 11)"
      ]
     },
     "execution_count": 25,
     "metadata": {},
     "output_type": "execute_result"
    }
   ],
   "source": [
    "gradient_ascent(generate_initial_state(max_size, items),max_size,items)"
   ]
  },
  {
   "cell_type": "markdown",
   "id": "promising-livestock",
   "metadata": {},
   "source": [
    "Gradiente de Subida Recursivo"
   ]
  },
  {
   "cell_type": "code",
   "execution_count": 26,
   "id": "matched-calvin",
   "metadata": {},
   "outputs": [],
   "source": [
    "def gradient_ascent_rec(solution,max_size,items):\n",
    "    max_value = evaluate_state(solution,items)\n",
    "    neighborhood = generate_neighborhood(max_size, items, solution)\n",
    "    better = False\n",
    "    for s in neighborhood:\n",
    "        value = evaluate_state(s,items)\n",
    "        if value > max_value and state_size(s,items) <= max_size:\n",
    "            solution = s\n",
    "            max_value = value\n",
    "            better = True        \n",
    "    if(better):\n",
    "        return gradient_ascent(solution,max_size,items)\n",
    "    else:\n",
    "        return solution, state_size(solution,items), max_value"
   ]
  },
  {
   "cell_type": "code",
   "execution_count": 27,
   "id": "bizarre-bishop",
   "metadata": {},
   "outputs": [
    {
     "data": {
      "text/plain": [
       "([1, 0, 2], 17, 11)"
      ]
     },
     "execution_count": 27,
     "metadata": {},
     "output_type": "execute_result"
    }
   ],
   "source": [
    "gradient_ascent_rec([1,0,2],max_size,items)"
   ]
  },
  {
   "cell_type": "code",
   "execution_count": 28,
   "id": "timely-regulation",
   "metadata": {},
   "outputs": [
    {
     "name": "stdout",
     "output_type": "stream",
     "text": [
      "[5, 0, 1]\n"
     ]
    },
    {
     "data": {
      "text/plain": [
       "([4, 0, 1], 19, 9)"
      ]
     },
     "execution_count": 28,
     "metadata": {},
     "output_type": "execute_result"
    }
   ],
   "source": [
    "gradient_ascent_rec(generate_initial_state(max_size, items),max_size,items)"
   ]
  },
  {
   "cell_type": "markdown",
   "id": "going-chocolate",
   "metadata": {},
   "source": [
    "Primeiro elemento de uma lista ou tupla"
   ]
  },
  {
   "cell_type": "code",
   "execution_count": 29,
   "id": "later-reply",
   "metadata": {},
   "outputs": [],
   "source": [
    "def first(x):\n",
    "    return x[0]"
   ]
  },
  {
   "cell_type": "markdown",
   "id": "mediterranean-virginia",
   "metadata": {},
   "source": [
    "Vizinhança ordenada decrescentemente por valor"
   ]
  },
  {
   "cell_type": "code",
   "execution_count": 30,
   "id": "going-nicholas",
   "metadata": {},
   "outputs": [],
   "source": [
    "def ordered_neighborhood(solution,max_size,items):\n",
    "    neighborhood = generate_neighborhood(max_size, items, solution)\n",
    "    sv = []\n",
    "    for s in neighborhood:\n",
    "        v = evaluate_state(s,items)\n",
    "        sv.append ((v,s))\n",
    "    sv = sorted (sv, key = first, reverse = True) \n",
    "    return sv"
   ]
  },
  {
   "cell_type": "code",
   "execution_count": 31,
   "id": "average-composite",
   "metadata": {},
   "outputs": [
    {
     "data": {
      "text/plain": [
       "[(9, [0, 1, 1]), (8, [0, 2, 0])]"
      ]
     },
     "execution_count": 31,
     "metadata": {},
     "output_type": "execute_result"
    }
   ],
   "source": [
    "ordered_neighborhood([0,2,1],max_size,items)"
   ]
  },
  {
   "cell_type": "markdown",
   "id": "altered-finnish",
   "metadata": {},
   "source": [
    "Atualiza lista tabu"
   ]
  },
  {
   "cell_type": "code",
   "execution_count": 32,
   "id": "thrown-nancy",
   "metadata": {},
   "outputs": [],
   "source": [
    "def update_tabu (tabu, s, tabu_size):\n",
    "    if len(tabu) == tabu_size:\n",
    "        tabu = tabu[1:]\n",
    "    tabu = tabu + [s]\n",
    "    return tabu"
   ]
  },
  {
   "cell_type": "code",
   "execution_count": 33,
   "id": "meaning-undergraduate",
   "metadata": {},
   "outputs": [
    {
     "data": {
      "text/plain": [
       "[[1, 3, 1], [2, 1, 3], [1, 3, 2]]"
      ]
     },
     "execution_count": 33,
     "metadata": {},
     "output_type": "execute_result"
    }
   ],
   "source": [
    "update_tabu([[0,0,0], [1,3,1], [2,1,3]], [1,3,2], 3)"
   ]
  },
  {
   "cell_type": "markdown",
   "id": "distant-detroit",
   "metadata": {},
   "source": [
    "Busca Tabu"
   ]
  },
  {
   "cell_type": "code",
   "execution_count": 34,
   "id": "rough-palestine",
   "metadata": {},
   "outputs": [],
   "source": [
    "import time\n",
    "\n",
    "def tabu_search(init,max_size,items,max_time,max_non_improv,tabu_size):\n",
    "    start = time.process_time()\n",
    "    current = init\n",
    "    tabu = []\n",
    "    non_improv = 0\n",
    "    end = 0\n",
    "    \n",
    "    if state_size(init,items) <= max_size:    \n",
    "        best = init\n",
    "        best_value = evaluate_state(init,items)\n",
    "    else:\n",
    "        best = [0]*len(items)\n",
    "        best_value = 0   \n",
    "    \n",
    "    while non_improv <= max_non_improv and end-start <= max_time:       \n",
    "        onbh = ordered_neighborhood(current, max_size, items)\n",
    "        #print(onbh)\n",
    "\n",
    "        while onbh != []:\n",
    "            v, s = onbh[0]\n",
    "            \n",
    "            if v > best_value:\n",
    "                best = s\n",
    "                best_value = v\n",
    "                non_improv = 0 \n",
    "            else:\n",
    "                non_improv = non_improv + 1\n",
    "                \n",
    "            if not s in tabu:\n",
    "                current = s\n",
    "                tabu = update_tabu (tabu,s,tabu_size)\n",
    "                break\n",
    "            else:\n",
    "                onbh = onbh[1:] \n",
    "        \n",
    "        end = time.process_time()\n",
    "\n",
    "        if onbh == []:\n",
    "            break\n",
    "    \n",
    "    return best, state_size(best,items), best_value"
   ]
  },
  {
   "cell_type": "code",
   "execution_count": 35,
   "id": "arbitrary-pontiac",
   "metadata": {},
   "outputs": [
    {
     "name": "stdout",
     "output_type": "stream",
     "text": [
      "[3, 3, 0]\n",
      "[2, 2, 0]\n"
     ]
    },
    {
     "data": {
      "text/plain": [
       "([0, 2, 1], 19, 13)"
      ]
     },
     "execution_count": 35,
     "metadata": {},
     "output_type": "execute_result"
    }
   ],
   "source": [
    "init = generate_initial_state(max_size, items)\n",
    "print(init)\n",
    "tabu_search(init,max_size,items,120,5,3)"
   ]
  },
  {
   "cell_type": "markdown",
   "id": "manufactured-technician",
   "metadata": {},
   "source": [
    "Probabilidade de aceitar mudança para pior estado"
   ]
  },
  {
   "cell_type": "code",
   "execution_count": 36,
   "id": "warming-oxygen",
   "metadata": {},
   "outputs": [],
   "source": [
    "import math\n",
    "import random\n",
    "\n",
    "def change_probability(value,best_value,t):\n",
    "    p = 1/(math.exp(1)**((best_value-value)/t))\n",
    "    r = random.uniform(0,1)\n",
    "    if r < p:\n",
    "        return True\n",
    "    else:\n",
    "        return False"
   ]
  },
  {
   "cell_type": "code",
   "execution_count": 37,
   "id": "attached-jewelry",
   "metadata": {},
   "outputs": [
    {
     "data": {
      "text/plain": [
       "True"
      ]
     },
     "execution_count": 37,
     "metadata": {},
     "output_type": "execute_result"
    }
   ],
   "source": [
    "change_probability(10, 13, 200)"
   ]
  },
  {
   "cell_type": "markdown",
   "id": "induced-watch",
   "metadata": {},
   "source": [
    "Seleção aleatória de elemento de lista"
   ]
  },
  {
   "cell_type": "code",
   "execution_count": 38,
   "id": "corresponding-valve",
   "metadata": {},
   "outputs": [],
   "source": [
    "def random_state(states):\n",
    "    index = random.randint(0,len(states)-1)\n",
    "    return states[index]"
   ]
  },
  {
   "cell_type": "code",
   "execution_count": 39,
   "id": "weekly-symphony",
   "metadata": {},
   "outputs": [
    {
     "data": {
      "text/plain": [
       "[0, 1, 1]"
      ]
     },
     "execution_count": 39,
     "metadata": {},
     "output_type": "execute_result"
    }
   ],
   "source": [
    "random_state([[0,0,0],[0,2,1],[0,1,1]])"
   ]
  },
  {
   "cell_type": "markdown",
   "id": "blind-difficulty",
   "metadata": {},
   "source": [
    "Recozimento Simulado"
   ]
  },
  {
   "cell_type": "code",
   "execution_count": 40,
   "id": "animal-glucose",
   "metadata": {},
   "outputs": [],
   "source": [
    "import time\n",
    "\n",
    "def simulated_annealing(state,t,alfa,items,max_size,iter_max,max_time):\n",
    "    solution = state\n",
    "    max_value = evaluate_state(solution,items)\n",
    "    start = time.process_time()\n",
    "    end = 0\n",
    "    \n",
    "    while t >= 1 and end-start <= max_time:        \n",
    "        \n",
    "        for _ in range(iter_max):    \n",
    "            neighborhood = generate_neighborhood(max_size,items,state)\n",
    "            if neighborhood == []:\n",
    "                return solution,max_value,state_size(solution,values)                \n",
    "            aux = random_state(neighborhood)\n",
    "            aux_value = evaluate_state(aux,items)\n",
    "            aux_size = state_size(aux,items)\n",
    "            state_value = evaluate_state(state,items)\n",
    "            if aux_value > state_value and aux_size <= max_size:\n",
    "                state = aux\n",
    "                if aux_value > max_value:\n",
    "                    solution = aux\n",
    "                    max_value = aux_value\n",
    "            else:\n",
    "                if aux_size <= max_size:\n",
    "                    if change_probability(aux_value,state_value,t):\n",
    "                        state = aux\n",
    "        t = t*alfa\n",
    "        end = time.process_time()\n",
    "\n",
    "    return solution, state_size(solution,items), max_value"
   ]
  },
  {
   "cell_type": "code",
   "execution_count": 41,
   "id": "sixth-convergence",
   "metadata": {},
   "outputs": [
    {
     "name": "stdout",
     "output_type": "stream",
     "text": [
      "[4, 1, 0]\n",
      "[4, 1, 0]\n"
     ]
    },
    {
     "data": {
      "text/plain": [
       "([2, 1, 1], 19, 11)"
      ]
     },
     "execution_count": 41,
     "metadata": {},
     "output_type": "execute_result"
    }
   ],
   "source": [
    "init = generate_initial_state(max_size, items)\n",
    "print(init)\n",
    "simulated_annealing(init,200,0.1,items,max_size,10,120)"
   ]
  },
  {
   "cell_type": "markdown",
   "id": "living-tablet",
   "metadata": {},
   "source": [
    "GRASP"
   ]
  },
  {
   "cell_type": "code",
   "execution_count": 42,
   "id": "remarkable-narrative",
   "metadata": {},
   "outputs": [],
   "source": [
    "def grasp(max_size,items,iter_max,max_time):\n",
    "    optimal = [0]*len(items)\n",
    "    optimal_value = 0\n",
    "    start = time.process_time()\n",
    "    end = 0\n",
    "    iter = 0\n",
    "    while iter < iter_max and end-start <= max_time:\n",
    "        iter += 1\n",
    "        s = hill_climbing(max_size, items, max_time//iter_max)[0]\n",
    "        s = gradient_ascent(s,max_size,items)[0]\n",
    "        s_value = evaluate_state(s, items)\n",
    "        if s_value > optimal_value:\n",
    "            optimal = s\n",
    "            optimal_value = s_value\n",
    "        end = time.process_time()\n",
    "    return optimal,state_size(optimal,items),optimal_value"
   ]
  },
  {
   "cell_type": "code",
   "execution_count": 43,
   "id": "noticed-resident",
   "metadata": {},
   "outputs": [
    {
     "data": {
      "text/plain": [
       "([0, 2, 1], 19, 13)"
      ]
     },
     "execution_count": 43,
     "metadata": {},
     "output_type": "execute_result"
    }
   ],
   "source": [
    "grasp(max_size,items,10,120)"
   ]
  },
  {
   "cell_type": "markdown",
   "id": "grateful-lending",
   "metadata": {},
   "source": [
    "### Exercícios de Fixação"
   ]
  },
  {
   "cell_type": "markdown",
   "id": "reasonable-reunion",
   "metadata": {},
   "source": [
    "1. Explique como metaheurísticas de busca local conseguem escapar de vales e picos não globais? "
   ]
  },
  {
   "cell_type": "markdown",
   "id": "quiet-integer",
   "metadata": {},
   "source": [
    "2. A metaheurística multistart consiste em gerar várias soluções iniciais aleatórias e executar um algoritmo de busca local (como, por exemplo, o gradiente de subida) para cada uma delas. O melhor resultado encontrado nas várias buscas é o escolhido. Caracterize o que é a etapa de diversificação e o que é a etapa de intensificação nesta meta-heurística. "
   ]
  },
  {
   "cell_type": "markdown",
   "id": "tamil-harbor",
   "metadata": {},
   "source": [
    "3. Alterar o algoritmo de gradiente de subida para usar uma roleta ao escolher na vizinhança o próximo estado a ser considerado. Note que o critério de parada também deve ser modificado. Como sugestão de critério de parada considere estabelecer um número máximo de vezes que se escolhe uma solução que não melhora a melhor solução encontrada até o momento."
   ]
  },
  {
   "cell_type": "markdown",
   "id": "preceding-dealing",
   "metadata": {},
   "source": [
    "4. Explique porque um tamanho grande na lista tabu pode provocar a interrupção prematura da busca?"
   ]
  },
  {
   "cell_type": "markdown",
   "id": "ranking-mandate",
   "metadata": {},
   "source": [
    "5. Qual a importância da temperatura no método de recozimento simulado para regular as etapas de diversificação e intensificação da busca? "
   ]
  },
  {
   "cell_type": "markdown",
   "id": "global-criminal",
   "metadata": {},
   "source": [
    "6. Porque o algoritmo construtivo guloso usado no GRASP necessita ser não determinístico?"
   ]
  },
  {
   "cell_type": "markdown",
   "id": "electric-skill",
   "metadata": {},
   "source": [
    "7. Ajuste os hiperparâmetros de tabu search, resfriamento simulado e grasp para fazer com que eles encontrem o ótimo global do problema usado nesta aula na grande maioria de execuções. "
   ]
  },
  {
   "cell_type": "markdown",
   "id": "charming-catering",
   "metadata": {},
   "source": [
    "8. Considere o problema da mochila irrestrita com tamanho de mochila igual a 1381 e com a seguinte lista de pares (valor, tamanho) de itens {(1,3),(4,6),(5,7),(3,4),(2,6),(2,3),(6,8),(1,2),(3,5),(7,10),(10,15),(13,20),(24,25),(29,37)}. Execute várias vezes os métodos da questão 7 com os melhores valores de hiperaprâmetros encontrados por você ao resolver aquela questão. Reporte o melhor resultado encontrado, qual(is) o(s) método(s) que o acharam e qual o percentual das execuções do método encontrou o melhor resultado. "
   ]
  },
  {
   "cell_type": "markdown",
   "id": "pacific-petroleum",
   "metadata": {},
   "source": [
    "9. Altere a implementação do método de recozimento simulado para que ele também interrompa a busca quando o algoritmo avaliar um determinado número de novos estados sem mudar a melhor solução encontrada até o momento. "
   ]
  },
  {
   "cell_type": "markdown",
   "id": "central-perfume",
   "metadata": {},
   "source": [
    "10. Altere a implementação do método grasp para usar o método tabu search na etapa de busca local."
   ]
  }
 ],
 "metadata": {
  "kernelspec": {
   "display_name": "Python 3",
   "language": "python",
   "name": "python3"
  },
  "language_info": {
   "codemirror_mode": {
    "name": "ipython",
    "version": 3
   },
   "file_extension": ".py",
   "mimetype": "text/x-python",
   "name": "python",
   "nbconvert_exporter": "python",
   "pygments_lexer": "ipython3",
   "version": "3.6.7"
  }
 },
 "nbformat": 4,
 "nbformat_minor": 5
}
