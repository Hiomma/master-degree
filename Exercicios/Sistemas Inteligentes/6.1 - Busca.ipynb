{
 "cells": [
  {
   "cell_type": "markdown",
   "source": [
    "# Busca (Parte II)"
   ],
   "metadata": {}
  },
  {
   "cell_type": "markdown",
   "source": [
    "## Mochila com Número Irrestrito de Itens com Valor"
   ],
   "metadata": {}
  },
  {
   "cell_type": "code",
   "execution_count": 1,
   "source": [
    "max_size = 19\r\n",
    "items = [(1,3),(4,6),(5,7)]"
   ],
   "outputs": [],
   "metadata": {}
  },
  {
   "cell_type": "markdown",
   "source": [
    "Tamanho de Estados"
   ],
   "metadata": {}
  },
  {
   "cell_type": "code",
   "execution_count": 2,
   "source": [
    "def state_size(state, items):\r\n",
    "    size = 0\r\n",
    "    for i in range(len(state)):\r\n",
    "        size += state[i] * items[i][1]\r\n",
    "    return size"
   ],
   "outputs": [],
   "metadata": {}
  },
  {
   "cell_type": "code",
   "execution_count": 3,
   "source": [
    "state_size([1,1,1], items)"
   ],
   "outputs": [
    {
     "output_type": "execute_result",
     "data": {
      "text/plain": [
       "16"
      ]
     },
     "metadata": {},
     "execution_count": 3
    }
   ],
   "metadata": {}
  },
  {
   "cell_type": "markdown",
   "source": [
    "Avaliação de Estados"
   ],
   "metadata": {}
  },
  {
   "cell_type": "code",
   "execution_count": 4,
   "source": [
    "def evaluate_state(state, items):\r\n",
    "    value = 0\r\n",
    "    for i in range(len(state)):\r\n",
    "        value += state[i] * items[i][0]\r\n",
    "    return value"
   ],
   "outputs": [],
   "metadata": {}
  },
  {
   "cell_type": "code",
   "execution_count": 5,
   "source": [
    "evaluate_state([1,2,0], items)"
   ],
   "outputs": [
    {
     "output_type": "execute_result",
     "data": {
      "text/plain": [
       "9"
      ]
     },
     "metadata": {},
     "execution_count": 5
    }
   ],
   "metadata": {}
  },
  {
   "cell_type": "markdown",
   "source": [
    "Geração de Estados"
   ],
   "metadata": {}
  },
  {
   "cell_type": "code",
   "execution_count": 6,
   "source": [
    "def generate_states(initial_state):\r\n",
    "    states = []\r\n",
    "    for i in range (len(initial_state)):\r\n",
    "        aux = initial_state.copy()\r\n",
    "        aux[i] = initial_state[i] + 1\r\n",
    "        states.append(aux)\r\n",
    "    return states"
   ],
   "outputs": [],
   "metadata": {}
  },
  {
   "cell_type": "code",
   "execution_count": 7,
   "source": [
    "generate_states([0,0,0])"
   ],
   "outputs": [
    {
     "output_type": "execute_result",
     "data": {
      "text/plain": [
       "[[1, 0, 0], [0, 1, 0], [0, 0, 1]]"
      ]
     },
     "metadata": {},
     "execution_count": 7
    }
   ],
   "metadata": {}
  },
  {
   "cell_type": "markdown",
   "source": [
    "Roleta"
   ],
   "metadata": {}
  },
  {
   "cell_type": "markdown",
   "source": [
    "Soma de valores de todos os estados"
   ],
   "metadata": {}
  },
  {
   "cell_type": "code",
   "execution_count": 8,
   "source": [
    "def states_total_value(states):\r\n",
    "    total_sum = 0\r\n",
    "    for state in states:\r\n",
    "        total_sum = total_sum + state[0]\r\n",
    "    return total_sum"
   ],
   "outputs": [],
   "metadata": {}
  },
  {
   "cell_type": "code",
   "execution_count": 9,
   "source": [
    "states_total_value([(1, [1,0,0]), (4, [0, 1, 0]), (5, [0, 0, 1])])"
   ],
   "outputs": [
    {
     "output_type": "execute_result",
     "data": {
      "text/plain": [
       "10"
      ]
     },
     "metadata": {},
     "execution_count": 9
    }
   ],
   "metadata": {}
  },
  {
   "cell_type": "markdown",
   "source": [
    "Construção da roleta"
   ],
   "metadata": {}
  },
  {
   "cell_type": "code",
   "execution_count": 10,
   "source": [
    "def roulette_construction(states):\r\n",
    "    aux_states = []\r\n",
    "    roulette = []\r\n",
    "    total_value = states_total_value(states)\r\n",
    "\r\n",
    "    for state in states:\r\n",
    "        value = state[0]\r\n",
    "        if total_value != 0:\r\n",
    "            ratio = value/total_value\r\n",
    "        else:\r\n",
    "            ratio = 1\r\n",
    "        aux_states.append((ratio,state[1]))\r\n",
    " \r\n",
    "    acc_value = 0\r\n",
    "    for state in aux_states:\r\n",
    "        acc_value = acc_value + state[0]\r\n",
    "        s = (acc_value,state[1])\r\n",
    "        roulette.append(s)\r\n",
    "    return roulette"
   ],
   "outputs": [],
   "metadata": {}
  },
  {
   "cell_type": "code",
   "execution_count": 11,
   "source": [
    "roulette_construction([(1, [1,0,0]), (4, [0, 1, 0]), (5, [0, 0, 1])])"
   ],
   "outputs": [
    {
     "output_type": "execute_result",
     "data": {
      "text/plain": [
       "[(0.1, [1, 0, 0]), (0.5, [0, 1, 0]), (1.0, [0, 0, 1])]"
      ]
     },
     "metadata": {},
     "execution_count": 11
    }
   ],
   "metadata": {}
  },
  {
   "cell_type": "markdown",
   "source": [
    "Rodar a roleta"
   ],
   "metadata": {}
  },
  {
   "cell_type": "code",
   "execution_count": 12,
   "source": [
    "import random\r\n",
    "\r\n",
    "def roulette_run (rounds, roulette):\r\n",
    "    if roulette == []:\r\n",
    "        return []\r\n",
    "    selected = []\r\n",
    "    while len(selected) < rounds:\r\n",
    "        r = random.uniform(0,1)\r\n",
    "        for state in roulette:\r\n",
    "            if r <= state[0]:\r\n",
    "                selected.append(state[1])\r\n",
    "                break\r\n",
    "    return selected"
   ],
   "outputs": [],
   "metadata": {}
  },
  {
   "cell_type": "code",
   "execution_count": 13,
   "source": [
    "roulette_run (1, [(0.1, [1, 0, 0]), (0.5, [0, 1, 0]), (1.0, [0, 0, 1])])"
   ],
   "outputs": [
    {
     "output_type": "execute_result",
     "data": {
      "text/plain": [
       "[[0, 0, 1]]"
      ]
     },
     "metadata": {},
     "execution_count": 13
    }
   ],
   "metadata": {}
  },
  {
   "cell_type": "markdown",
   "source": [
    "Método Heurístico - Construtivo"
   ],
   "metadata": {}
  },
  {
   "cell_type": "markdown",
   "source": [
    "Hill Climbing Não Determinístico"
   ],
   "metadata": {}
  },
  {
   "cell_type": "code",
   "execution_count": 14,
   "source": [
    "import time\r\n",
    "\r\n",
    "def hill_climbing(max_size, items, max_time):\r\n",
    "    start = time.process_time()\r\n",
    "    current_state = [0]*len(items)\r\n",
    "    optimal_value = 0\r\n",
    "    optimal_size = 0\r\n",
    "    optimal_state = current_state\r\n",
    "    valid_states = len(items)\r\n",
    "    end = 0\r\n",
    "\r\n",
    "    while valid_states != 0 and end-start <= max_time:\r\n",
    "        valid_states = len(items)\r\n",
    "        possible_states = generate_states(current_state)\r\n",
    "        \r\n",
    "        states = []\r\n",
    "        for state in possible_states:\r\n",
    "            aux_val = evaluate_state(state, items)\r\n",
    "            aux_size = state_size(state, items)\r\n",
    "            if aux_size <= max_size:\r\n",
    "                states.append((aux_val, state))\r\n",
    "                if aux_val > optimal_value:\r\n",
    "                    optimal_value = aux_val\r\n",
    "                    optimal_size = aux_size\r\n",
    "                    optimal_state = state\r\n",
    "            else:\r\n",
    "                valid_states = valid_states - 1                \r\n",
    "        \r\n",
    "        if valid_states > 0:\r\n",
    "            current_state = roulette_run (1, roulette_construction(states))[0]\r\n",
    "\r\n",
    "        end = time.process_time()\r\n",
    "\r\n",
    "    return optimal_state, optimal_size, optimal_value"
   ],
   "outputs": [],
   "metadata": {}
  },
  {
   "cell_type": "code",
   "execution_count": 15,
   "source": [
    "hill_climbing(max_size, items, 120)"
   ],
   "outputs": [
    {
     "output_type": "execute_result",
     "data": {
      "text/plain": [
       "([1, 0, 2], 17, 11)"
      ]
     },
     "metadata": {},
     "execution_count": 15
    }
   ],
   "metadata": {}
  },
  {
   "cell_type": "markdown",
   "source": [
    "Métodos Heurísticos - Busca Local"
   ],
   "metadata": {}
  },
  {
   "cell_type": "markdown",
   "source": [
    "Estado Inicial Aleatório"
   ],
   "metadata": {}
  },
  {
   "cell_type": "code",
   "execution_count": 16,
   "source": [
    "import random\r\n",
    "\r\n",
    "def generate_initial_state(max_size, items):\r\n",
    "    initial_state = []\r\n",
    "    for i in range(len(items)):\r\n",
    "        initial_state.append(random.randint(0,max_size//items[i][1]))\r\n",
    "    print (initial_state)\r\n",
    "    if state_size(initial_state,items) > max_size:\r\n",
    "        while True:\r\n",
    "            for i in range(len(items)):\r\n",
    "                if initial_state[i] > 0:\r\n",
    "                    initial_state[i] = initial_state[i] - 1\r\n",
    "                    if state_size(initial_state,items) <= max_size:\r\n",
    "                        return initial_state\r\n",
    "    return initial_state"
   ],
   "outputs": [],
   "metadata": {}
  },
  {
   "cell_type": "code",
   "execution_count": 17,
   "source": [
    "generate_initial_state(1381, [(1,3),(4,6),(5,7),(3,4),(2,6),(2,3),(6,8),(1,2),(3,5),(7,10),(10,15),(13,20),(24,25),(29,37)])"
   ],
   "outputs": [
    {
     "output_type": "stream",
     "name": "stdout",
     "text": [
      "[300, 163, 15, 34, 22, 10, 112, 311, 95, 47, 56, 47, 5, 27]\n"
     ]
    },
    {
     "output_type": "execute_result",
     "data": {
      "text/plain": [
       "[193, 57, 0, 0, 0, 0, 6, 205, 0, 0, 0, 0, 0, 0]"
      ]
     },
     "metadata": {},
     "execution_count": 17
    }
   ],
   "metadata": {}
  },
  {
   "cell_type": "code",
   "execution_count": 18,
   "source": [
    "generate_initial_state(max_size, items)"
   ],
   "outputs": [
    {
     "output_type": "stream",
     "name": "stdout",
     "text": [
      "[6, 3, 2]\n"
     ]
    },
    {
     "output_type": "execute_result",
     "data": {
      "text/plain": [
       "[4, 1, 0]"
      ]
     },
     "metadata": {},
     "execution_count": 18
    }
   ],
   "metadata": {}
  },
  {
   "cell_type": "markdown",
   "source": [
    "Operador de Mudança de Estado"
   ],
   "metadata": {}
  },
  {
   "cell_type": "code",
   "execution_count": 19,
   "source": [
    "def change_state(state,position,value):\r\n",
    "    if state[position] == 0 and value < 0:\r\n",
    "        return []\r\n",
    "    state[position] = state[position] + value\r\n",
    "    return state"
   ],
   "outputs": [],
   "metadata": {}
  },
  {
   "cell_type": "code",
   "execution_count": 20,
   "source": [
    "change_state([2,0,1], 2, -1)"
   ],
   "outputs": [
    {
     "output_type": "execute_result",
     "data": {
      "text/plain": [
       "[2, 0, 0]"
      ]
     },
     "metadata": {},
     "execution_count": 20
    }
   ],
   "metadata": {}
  },
  {
   "cell_type": "markdown",
   "source": [
    "Vizinhança"
   ],
   "metadata": {}
  },
  {
   "cell_type": "code",
   "execution_count": 21,
   "source": [
    "def generate_neighborhood(max_size, items, state):\r\n",
    "    neighborhood = []\r\n",
    "    for i in range(len(state)):\r\n",
    "        aux = state.copy()\r\n",
    "        new_state = change_state(aux,i,1)\r\n",
    "        if state_size (new_state, items) <= max_size:\r\n",
    "            neighborhood.append(new_state)\r\n",
    "    for i in range(len(state)):\r\n",
    "        aux = state.copy()\r\n",
    "        new_state = change_state(aux,i,-1)\r\n",
    "        if new_state != [] and state_size (new_state, items) <= max_size:\r\n",
    "            neighborhood.append(new_state)\r\n",
    "    return neighborhood"
   ],
   "outputs": [],
   "metadata": {}
  },
  {
   "cell_type": "code",
   "execution_count": 22,
   "source": [
    "generate_neighborhood(max_size, items, [0,2,1])"
   ],
   "outputs": [
    {
     "output_type": "execute_result",
     "data": {
      "text/plain": [
       "[[0, 1, 1], [0, 2, 0]]"
      ]
     },
     "metadata": {},
     "execution_count": 22
    }
   ],
   "metadata": {}
  },
  {
   "cell_type": "markdown",
   "source": [
    "Gradiente de Subida"
   ],
   "metadata": {}
  },
  {
   "cell_type": "code",
   "execution_count": 23,
   "source": [
    "def gradient_ascent(solution,max_size,items):\n",
    "    max_value = evaluate_state(solution,items)\n",
    "    better = True\n",
    "    while better:       \n",
    "        neighborhood = generate_neighborhood(max_size, items, solution)\n",
    "        better = False\n",
    "        for s in neighborhood:\n",
    "            value = evaluate_state(s,items)\n",
    "            if value > max_value and state_size(s,items) <= max_size:\n",
    "                solution = s\n",
    "                max_value = value\n",
    "                better = True             \n",
    "    return solution, state_size(solution,items), max_value"
   ],
   "outputs": [],
   "metadata": {}
  },
  {
   "cell_type": "code",
   "execution_count": 24,
   "source": [
    "gradient_ascent([1,0,2],max_size,items)"
   ],
   "outputs": [
    {
     "output_type": "execute_result",
     "data": {
      "text/plain": [
       "([1, 0, 2], 17, 11)"
      ]
     },
     "metadata": {},
     "execution_count": 24
    }
   ],
   "metadata": {}
  },
  {
   "cell_type": "code",
   "execution_count": 25,
   "source": [
    "gradient_ascent(generate_initial_state(max_size, items),max_size,items)"
   ],
   "outputs": [
    {
     "output_type": "stream",
     "name": "stdout",
     "text": [
      "[0, 1, 2]\n"
     ]
    },
    {
     "output_type": "execute_result",
     "data": {
      "text/plain": [
       "([1, 0, 2], 17, 11)"
      ]
     },
     "metadata": {},
     "execution_count": 25
    }
   ],
   "metadata": {}
  },
  {
   "cell_type": "markdown",
   "source": [
    "Gradiente de Subida Recursivo"
   ],
   "metadata": {}
  },
  {
   "cell_type": "code",
   "execution_count": 26,
   "source": [
    "def gradient_ascent_rec(solution,max_size,items):\n",
    "    max_value = evaluate_state(solution,items)\n",
    "    neighborhood = generate_neighborhood(max_size, items, solution)\n",
    "    better = False\n",
    "    for s in neighborhood:\n",
    "        value = evaluate_state(s,items)\n",
    "        if value > max_value and state_size(s,items) <= max_size:\n",
    "            solution = s\n",
    "            max_value = value\n",
    "            better = True        \n",
    "    if(better):\n",
    "        return gradient_ascent(solution,max_size,items)\n",
    "    else:\n",
    "        return solution, state_size(solution,items), max_value"
   ],
   "outputs": [],
   "metadata": {}
  },
  {
   "cell_type": "code",
   "execution_count": 27,
   "source": [
    "gradient_ascent_rec([1,0,2],max_size,items)"
   ],
   "outputs": [
    {
     "output_type": "execute_result",
     "data": {
      "text/plain": [
       "([1, 0, 2], 17, 11)"
      ]
     },
     "metadata": {},
     "execution_count": 27
    }
   ],
   "metadata": {}
  },
  {
   "cell_type": "code",
   "execution_count": 28,
   "source": [
    "gradient_ascent_rec(generate_initial_state(max_size, items),max_size,items)"
   ],
   "outputs": [
    {
     "output_type": "stream",
     "name": "stdout",
     "text": [
      "[1, 1, 2]\n"
     ]
    },
    {
     "output_type": "execute_result",
     "data": {
      "text/plain": [
       "([1, 0, 2], 17, 11)"
      ]
     },
     "metadata": {},
     "execution_count": 28
    }
   ],
   "metadata": {}
  },
  {
   "cell_type": "markdown",
   "source": [
    "Primeiro elemento de uma lista ou tupla"
   ],
   "metadata": {}
  },
  {
   "cell_type": "code",
   "execution_count": 29,
   "source": [
    "def first(x):\n",
    "    return x[0]"
   ],
   "outputs": [],
   "metadata": {}
  },
  {
   "cell_type": "markdown",
   "source": [
    "Vizinhança ordenada decrescentemente por valor"
   ],
   "metadata": {}
  },
  {
   "cell_type": "code",
   "execution_count": 30,
   "source": [
    "def ordered_neighborhood(solution,max_size,items):\n",
    "    neighborhood = generate_neighborhood(max_size, items, solution)\n",
    "    sv = []\n",
    "    for s in neighborhood:\n",
    "        v = evaluate_state(s,items)\n",
    "        sv.append ((v,s))\n",
    "    sv = sorted (sv, key = first, reverse = True) \n",
    "    return sv"
   ],
   "outputs": [],
   "metadata": {}
  },
  {
   "cell_type": "code",
   "execution_count": 31,
   "source": [
    "ordered_neighborhood([0,2,1],max_size,items)"
   ],
   "outputs": [
    {
     "output_type": "execute_result",
     "data": {
      "text/plain": [
       "[(9, [0, 1, 1]), (8, [0, 2, 0])]"
      ]
     },
     "metadata": {},
     "execution_count": 31
    }
   ],
   "metadata": {}
  },
  {
   "cell_type": "markdown",
   "source": [
    "Atualiza lista tabu"
   ],
   "metadata": {}
  },
  {
   "cell_type": "code",
   "execution_count": 32,
   "source": [
    "def update_tabu (tabu, s, tabu_size):\n",
    "    if len(tabu) == tabu_size:\n",
    "        tabu = tabu[1:]\n",
    "    tabu = tabu + [s]\n",
    "    return tabu"
   ],
   "outputs": [],
   "metadata": {}
  },
  {
   "cell_type": "code",
   "execution_count": 33,
   "source": [
    "update_tabu([[0,0,0], [1,3,1], [2,1,3]], [1,3,2], 3)"
   ],
   "outputs": [
    {
     "output_type": "execute_result",
     "data": {
      "text/plain": [
       "[[1, 3, 1], [2, 1, 3], [1, 3, 2]]"
      ]
     },
     "metadata": {},
     "execution_count": 33
    }
   ],
   "metadata": {}
  },
  {
   "cell_type": "markdown",
   "source": [
    "Busca Tabu"
   ],
   "metadata": {}
  },
  {
   "cell_type": "code",
   "execution_count": 34,
   "source": [
    "import time\n",
    "\n",
    "def tabu_search(init,max_size,items,max_time,max_non_improv,tabu_size):\n",
    "    start = time.process_time()\n",
    "    current = init\n",
    "    tabu = []\n",
    "    non_improv = 0\n",
    "    end = 0\n",
    "    \n",
    "    if state_size(init,items) <= max_size:    \n",
    "        best = init\n",
    "        best_value = evaluate_state(init,items)\n",
    "    else:\n",
    "        best = [0]*len(items)\n",
    "        best_value = 0   \n",
    "    \n",
    "    while non_improv <= max_non_improv and end-start <= max_time:       \n",
    "        onbh = ordered_neighborhood(current, max_size, items)\n",
    "        #print(onbh)\n",
    "\n",
    "        while onbh != []:\n",
    "            v, s = onbh[0]\n",
    "            \n",
    "            if v > best_value:\n",
    "                best = s\n",
    "                best_value = v\n",
    "                non_improv = 0 \n",
    "            else:\n",
    "                non_improv = non_improv + 1\n",
    "                \n",
    "            if not s in tabu:\n",
    "                current = s\n",
    "                tabu = update_tabu (tabu,s,tabu_size)\n",
    "                break\n",
    "            else:\n",
    "                onbh = onbh[1:] \n",
    "        \n",
    "        end = time.process_time()\n",
    "\n",
    "        if onbh == []:\n",
    "            break\n",
    "    \n",
    "    return best, state_size(best,items), best_value"
   ],
   "outputs": [],
   "metadata": {}
  },
  {
   "cell_type": "code",
   "execution_count": 35,
   "source": [
    "init = generate_initial_state(max_size, items)\n",
    "print(init)\n",
    "tabu_search(init,max_size,items,120,5,3)"
   ],
   "outputs": [
    {
     "output_type": "stream",
     "name": "stdout",
     "text": [
      "[2, 3, 2]\n",
      "[0, 2, 1]\n"
     ]
    },
    {
     "output_type": "execute_result",
     "data": {
      "text/plain": [
       "([0, 2, 1], 19, 13)"
      ]
     },
     "metadata": {},
     "execution_count": 35
    }
   ],
   "metadata": {}
  },
  {
   "cell_type": "markdown",
   "source": [
    "Probabilidade de aceitar mudança para pior estado"
   ],
   "metadata": {}
  },
  {
   "cell_type": "code",
   "execution_count": 36,
   "source": [
    "import math\n",
    "import random\n",
    "\n",
    "def change_probability(value,best_value,t):\n",
    "    p = 1/(math.exp(1)**((best_value-value)/t))\n",
    "    r = random.uniform(0,1)\n",
    "    if r < p:\n",
    "        return True\n",
    "    else:\n",
    "        return False"
   ],
   "outputs": [],
   "metadata": {}
  },
  {
   "cell_type": "code",
   "execution_count": 37,
   "source": [
    "change_probability(10, 13, 200)"
   ],
   "outputs": [
    {
     "output_type": "execute_result",
     "data": {
      "text/plain": [
       "True"
      ]
     },
     "metadata": {},
     "execution_count": 37
    }
   ],
   "metadata": {}
  },
  {
   "cell_type": "markdown",
   "source": [
    "Seleção aleatória de elemento de lista"
   ],
   "metadata": {}
  },
  {
   "cell_type": "code",
   "execution_count": 38,
   "source": [
    "def random_state(states):\n",
    "    index = random.randint(0,len(states)-1)\n",
    "    return states[index]"
   ],
   "outputs": [],
   "metadata": {}
  },
  {
   "cell_type": "code",
   "execution_count": 39,
   "source": [
    "random_state([[0,0,0],[0,2,1],[0,1,1]])"
   ],
   "outputs": [
    {
     "output_type": "execute_result",
     "data": {
      "text/plain": [
       "[0, 0, 0]"
      ]
     },
     "metadata": {},
     "execution_count": 39
    }
   ],
   "metadata": {}
  },
  {
   "cell_type": "markdown",
   "source": [
    "Recozimento Simulado"
   ],
   "metadata": {}
  },
  {
   "cell_type": "code",
   "execution_count": 40,
   "source": [
    "import time\n",
    "\n",
    "def simulated_annealing(state,t,alfa,items,max_size,iter_max,max_time):\n",
    "    solution = state\n",
    "    max_value = evaluate_state(solution,items)\n",
    "    start = time.process_time()\n",
    "    end = 0\n",
    "    \n",
    "    while t >= 1 and end-start <= max_time:        \n",
    "        \n",
    "        for _ in range(iter_max):    \n",
    "            neighborhood = generate_neighborhood(max_size,items,state)\n",
    "            if neighborhood == []:\n",
    "                return solution,max_value,state_size(solution,values)                \n",
    "            aux = random_state(neighborhood)\n",
    "            aux_value = evaluate_state(aux,items)\n",
    "            aux_size = state_size(aux,items)\n",
    "            state_value = evaluate_state(state,items)\n",
    "            if aux_value > state_value and aux_size <= max_size:\n",
    "                state = aux\n",
    "                if aux_value > max_value:\n",
    "                    solution = aux\n",
    "                    max_value = aux_value\n",
    "            else:\n",
    "                if aux_size <= max_size:\n",
    "                    if change_probability(aux_value,state_value,t):\n",
    "                        state = aux\n",
    "        t = t*alfa\n",
    "        end = time.process_time()\n",
    "\n",
    "    return solution, state_size(solution,items), max_value"
   ],
   "outputs": [],
   "metadata": {}
  },
  {
   "cell_type": "code",
   "execution_count": 41,
   "source": [
    "init = generate_initial_state(max_size, items)\n",
    "print(init)\n",
    "simulated_annealing(init,200,0.1,items,max_size,10,120)"
   ],
   "outputs": [
    {
     "output_type": "stream",
     "name": "stdout",
     "text": [
      "[5, 3, 2]\n",
      "[3, 1, 0]\n"
     ]
    },
    {
     "output_type": "execute_result",
     "data": {
      "text/plain": [
       "([2, 1, 1], 19, 11)"
      ]
     },
     "metadata": {},
     "execution_count": 41
    }
   ],
   "metadata": {}
  },
  {
   "cell_type": "markdown",
   "source": [
    "GRASP"
   ],
   "metadata": {}
  },
  {
   "cell_type": "code",
   "execution_count": 42,
   "source": [
    "def grasp(max_size,items,iter_max,max_time):\n",
    "    optimal = [0]*len(items)\n",
    "    optimal_value = 0\n",
    "    start = time.process_time()\n",
    "    end = 0\n",
    "    iter = 0\n",
    "    while iter < iter_max and end-start <= max_time:\n",
    "        iter += 1\n",
    "        s = hill_climbing(max_size, items, max_time//iter_max)[0]\n",
    "        s = gradient_ascent(s,max_size,items)[0]\n",
    "        s_value = evaluate_state(s, items)\n",
    "        if s_value > optimal_value:\n",
    "            optimal = s\n",
    "            optimal_value = s_value\n",
    "        end = time.process_time()\n",
    "    return optimal,state_size(optimal,items),optimal_value"
   ],
   "outputs": [],
   "metadata": {}
  },
  {
   "cell_type": "code",
   "execution_count": 43,
   "source": [
    "grasp(max_size,items,10,120)"
   ],
   "outputs": [
    {
     "output_type": "execute_result",
     "data": {
      "text/plain": [
       "([0, 2, 1], 19, 13)"
      ]
     },
     "metadata": {},
     "execution_count": 43
    }
   ],
   "metadata": {}
  },
  {
   "cell_type": "markdown",
   "source": [
    "### Exercícios de Fixação"
   ],
   "metadata": {}
  },
  {
   "cell_type": "markdown",
   "source": [
    "1. Explique como metaheurísticas de busca local conseguem escapar de vales e picos não globais? "
   ],
   "metadata": {}
  },
  {
   "cell_type": "markdown",
   "source": [
    "2. A metaheurística multistart consiste em gerar várias soluções iniciais aleatórias e executar um algoritmo de busca local (como, por exemplo, o gradiente de subida) para cada uma delas. O melhor resultado encontrado nas várias buscas é o escolhido. Caracterize o que é a etapa de diversificação e o que é a etapa de intensificação nesta meta-heurística. "
   ],
   "metadata": {}
  },
  {
   "cell_type": "markdown",
   "source": [
    "3. Alterar o algoritmo de gradiente de subida para usar uma roleta ao escolher na vizinhança o próximo estado a ser considerado. Note que o critério de parada também deve ser modificado. Como sugestão de critério de parada considere estabelecer um número máximo de vezes que se escolhe uma solução que não melhora a melhor solução encontrada até o momento."
   ],
   "metadata": {}
  },
  {
   "cell_type": "markdown",
   "source": [
    "4. Explique porque um tamanho grande na lista tabu pode provocar a interrupção prematura da busca?"
   ],
   "metadata": {}
  },
  {
   "cell_type": "markdown",
   "source": [
    "5. Qual a importância da temperatura no método de recozimento simulado para regular as etapas de diversificação e intensificação da busca? "
   ],
   "metadata": {}
  },
  {
   "cell_type": "markdown",
   "source": [
    "6. Porque o algoritmo construtivo guloso usado no GRASP necessita ser não determinístico?"
   ],
   "metadata": {}
  },
  {
   "cell_type": "markdown",
   "source": [
    "7. Ajuste os hiperparâmetros de tabu search, resfriamento simulado e grasp para fazer com que eles encontrem o ótimo global do problema usado nesta aula na grande maioria de execuções. "
   ],
   "metadata": {}
  },
  {
   "cell_type": "markdown",
   "source": [
    "8. Considere o problema da mochila irrestrita com tamanho de mochila igual a 1381 e com a seguinte lista de pares (valor, tamanho) de itens {(1,3),(4,6),(5,7),(3,4),(2,6),(2,3),(6,8),(1,2),(3,5),(7,10),(10,15),(13,20),(24,25),(29,37)}. Execute várias vezes os métodos da questão 7 com os melhores valores de hiperaprâmetros encontrados por você ao resolver aquela questão. Reporte o melhor resultado encontrado, qual(is) o(s) método(s) que o acharam e qual o percentual das execuções do método encontrou o melhor resultado. "
   ],
   "metadata": {}
  },
  {
   "cell_type": "markdown",
   "source": [
    "9. Altere a implementação do método de recozimento simulado para que ele também interrompa a busca quando o algoritmo avaliar um determinado número de novos estados sem mudar a melhor solução encontrada até o momento. "
   ],
   "metadata": {}
  },
  {
   "cell_type": "markdown",
   "source": [
    "10. Altere a implementação do método grasp para usar o método tabu search na etapa de busca local."
   ],
   "metadata": {}
  }
 ],
 "metadata": {
  "kernelspec": {
   "name": "python3",
   "display_name": "Python 3.9.6 64-bit"
  },
  "language_info": {
   "codemirror_mode": {
    "name": "ipython",
    "version": 3
   },
   "file_extension": ".py",
   "mimetype": "text/x-python",
   "name": "python",
   "nbconvert_exporter": "python",
   "pygments_lexer": "ipython3",
   "version": "3.9.6"
  },
  "interpreter": {
   "hash": "ac59ebe37160ed0dfa835113d9b8498d9f09ceb179beaac4002f036b9467c963"
  }
 },
 "nbformat": 4,
 "nbformat_minor": 5
}