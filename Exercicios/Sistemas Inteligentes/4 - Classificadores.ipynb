{
 "cells": [
  {
   "cell_type": "markdown",
   "source": [
    "# Classificadores\n",
    "\n",
    "Scikit-learn: \n",
    "\n",
    "Dummy Classifier: https://scikit-learn.org/stable/modules/generated/sklearn.dummy.DummyClassifier.html\n",
    "\n",
    "K Nearest Neighbors: https://scikit-learn.org/stable/modules/generated/sklearn.neighbors.KNeighborsClassifier.html\n",
    "\n",
    "Gaussian Naive Bayes:\n",
    "https://scikit-learn.org/stable/modules/generated/sklearn.naive_bayes.GaussianNB.html\n",
    "\n",
    "Decision Tree:\n",
    "https://scikit-learn.org/stable/modules/generated/sklearn.tree.DecisionTreeClassifier.html\n",
    "\n",
    "Random Forest:\n",
    "https://scikit-learn.org/stable/modules/generated/sklearn.ensemble.RandomForestClassifier.html"
   ],
   "metadata": {}
  },
  {
   "cell_type": "markdown",
   "source": [
    "Classificadores ZeroR, Aleatório Uniforme e Estratificado"
   ],
   "metadata": {}
  },
  {
   "cell_type": "code",
   "execution_count": 1,
   "source": [
    "import numpy as np\r\n",
    "from scipy import stats\r\n",
    "from sklearn import datasets\r\n",
    "from sklearn.model_selection import cross_val_predict \r\n",
    "from sklearn.dummy import DummyClassifier\r\n",
    "from sklearn.metrics import confusion_matrix, plot_confusion_matrix\r\n",
    "import matplotlib.pyplot as plt\r\n",
    "\r\n",
    "iris = datasets.load_iris()\r\n",
    "iris_X = iris.data\r\n",
    "iris_y = iris.target\r\n",
    "\r\n",
    "zR = DummyClassifier()\r\n",
    "\r\n",
    "y_pred = cross_val_predict(zR, iris_X, iris_y, cv=5)\r\n",
    "conf_mat = confusion_matrix(iris_y, y_pred)\r\n",
    "\r\n",
    "print(conf_mat)\r\n",
    "\r\n",
    "plt.matshow(conf_mat, cmap=plt.cm.Blues)\r\n",
    "for i in range(len(conf_mat)):\r\n",
    "    for j in range(len(conf_mat)):\r\n",
    "        plt.text(i, j, conf_mat[i][j], va=\"center\", ha=\"center\")\r\n",
    "\r\n",
    "plt.show()\r\n",
    "\r\n",
    "aU = DummyClassifier(strategy='uniform')\r\n",
    "\r\n",
    "y_pred = cross_val_predict(aU, iris_X, iris_y, cv=5)\r\n",
    "conf_mat = confusion_matrix(iris_y, y_pred)\r\n",
    "\r\n",
    "print(conf_mat)\r\n",
    "\r\n",
    "plt.matshow(conf_mat, cmap=plt.cm.Blues)\r\n",
    "for i in range(len(conf_mat)):\r\n",
    "    for j in range(len(conf_mat)):\r\n",
    "        plt.text(i, j, conf_mat[i][j], va=\"center\", ha=\"center\")\r\n",
    "\r\n",
    "plt.show()\r\n",
    "\r\n",
    "aS = DummyClassifier(strategy='stratified')\r\n",
    "\r\n",
    "y_pred = cross_val_predict(aS, iris_X, iris_y, cv=5)\r\n",
    "conf_mat = confusion_matrix(iris_y, y_pred)\r\n",
    "\r\n",
    "print(conf_mat)\r\n",
    "\r\n",
    "plt.matshow(conf_mat, cmap=plt.cm.Blues)\r\n",
    "for i in range(len(conf_mat)):\r\n",
    "    for j in range(len(conf_mat)):\r\n",
    "        plt.text(i, j, conf_mat[i][j], va=\"center\", ha=\"center\")\r\n",
    "\r\n",
    "plt.show()"
   ],
   "outputs": [
    {
     "output_type": "stream",
     "name": "stdout",
     "text": [
      "[[50  0  0]\n",
      " [50  0  0]\n",
      " [50  0  0]]\n"
     ]
    },
    {
     "output_type": "display_data",
     "data": {
      "text/plain": [
       "<Figure size 288x288 with 1 Axes>"
      ],
      "image/png": "[encoded data removed]"
     },
     "metadata": {
      "needs_background": "light"
     }
    },
    {
     "output_type": "stream",
     "name": "stdout",
     "text": [
      "[[19 18 13]\n",
      " [17 13 20]\n",
      " [16 14 20]]\n"
     ]
    },
    {
     "output_type": "display_data",
     "data": {
      "text/plain": [
       "<Figure size 288x288 with 1 Axes>"
      ],
      "image/png": "[encoded data removed]"
     },
     "metadata": {
      "needs_background": "light"
     }
    },
    {
     "output_type": "stream",
     "name": "stdout",
     "text": [
      "[[13 17 20]\n",
      " [12 21 17]\n",
      " [17 16 17]]\n"
     ]
    },
    {
     "output_type": "display_data",
     "data": {
      "text/plain": [
       "<Figure size 288x288 with 1 Axes>"
      ],
      "image/png": "[encoded data removed]"
     },
     "metadata": {
      "needs_background": "light"
     }
    }
   ],
   "metadata": {}
  },
  {
   "cell_type": "code",
   "execution_count": 2,
   "source": [
    "import numpy as np\r\n",
    "from scipy import stats\r\n",
    "from sklearn import datasets\r\n",
    "from sklearn.model_selection import cross_val_predict \r\n",
    "from sklearn.dummy import DummyClassifier\r\n",
    "from sklearn.metrics import confusion_matrix, plot_confusion_matrix\r\n",
    "import matplotlib.pyplot as plt\r\n",
    "\r\n",
    "breast = datasets.load_breast_cancer()\r\n",
    "print (len([1 for i in breast.target if i == 0]))\r\n",
    "print (len([1 for i in breast.target if i == 1]))\r\n",
    "breast_X = breast.data\r\n",
    "breast_y = breast.target\r\n",
    "\r\n",
    "zR = DummyClassifier()\r\n",
    "\r\n",
    "y_pred = cross_val_predict(zR, breast_X, breast_y, cv=5)\r\n",
    "conf_mat = confusion_matrix(breast_y, y_pred)\r\n",
    "\r\n",
    "print(conf_mat)\r\n",
    "\r\n",
    "plt.matshow(conf_mat, cmap=plt.cm.Blues)\r\n",
    "for i in range(len(conf_mat)):\r\n",
    "    for j in range(len(conf_mat)):\r\n",
    "        plt.text(i, j, conf_mat[i][j], va=\"center\", ha=\"center\")\r\n",
    "\r\n",
    "plt.show()\r\n",
    "\r\n",
    "aU = DummyClassifier(strategy = 'uniform')\r\n",
    "\r\n",
    "y_pred = cross_val_predict(aU, breast_X, breast_y, cv=5)\r\n",
    "conf_mat = confusion_matrix(breast_y, y_pred)\r\n",
    "\r\n",
    "print(conf_mat)\r\n",
    "\r\n",
    "plt.matshow(conf_mat, cmap=plt.cm.Blues)\r\n",
    "for i in range(len(conf_mat)):\r\n",
    "    for j in range(len(conf_mat)):\r\n",
    "        plt.text(i, j, conf_mat[i][j], va=\"center\", ha=\"center\")\r\n",
    "\r\n",
    "plt.show()\r\n",
    "\r\n",
    "aS = DummyClassifier(strategy = 'stratified')\r\n",
    "\r\n",
    "y_pred = cross_val_predict(aS, breast_X, breast_y, cv=5)\r\n",
    "conf_mat = confusion_matrix(breast_y, y_pred)\r\n",
    "\r\n",
    "print(conf_mat)\r\n",
    "\r\n",
    "plt.matshow(conf_mat, cmap=plt.cm.Blues)\r\n",
    "for i in range(len(conf_mat)):\r\n",
    "    for j in range(len(conf_mat)):\r\n",
    "        plt.text(i, j, conf_mat[i][j], va=\"center\", ha=\"center\")\r\n",
    "\r\n",
    "plt.show()"
   ],
   "outputs": [
    {
     "output_type": "stream",
     "name": "stdout",
     "text": [
      "212\n",
      "357\n",
      "[[  0 212]\n",
      " [  0 357]]\n"
     ]
    },
    {
     "output_type": "display_data",
     "data": {
      "text/plain": [
       "<Figure size 288x288 with 1 Axes>"
      ],
      "image/png": "[encoded data removed]"
     },
     "metadata": {
      "needs_background": "light"
     }
    },
    {
     "output_type": "stream",
     "name": "stdout",
     "text": [
      "[[112 100]\n",
      " [187 170]]\n"
     ]
    },
    {
     "output_type": "display_data",
     "data": {
      "text/plain": [
       "<Figure size 288x288 with 1 Axes>"
      ],
      "image/png": "[encoded data removed]"
     },
     "metadata": {
      "needs_background": "light"
     }
    },
    {
     "output_type": "stream",
     "name": "stdout",
     "text": [
      "[[ 85 127]\n",
      " [134 223]]\n"
     ]
    },
    {
     "output_type": "display_data",
     "data": {
      "text/plain": [
       "<Figure size 288x288 with 1 Axes>"
      ],
      "image/png": "[encoded data removed]"
     },
     "metadata": {
      "needs_background": "light"
     }
    }
   ],
   "metadata": {}
  },
  {
   "cell_type": "code",
   "execution_count": 3,
   "source": [
    "import numpy as np\r\n",
    "from scipy import stats\r\n",
    "from sklearn import datasets\r\n",
    "from sklearn.model_selection import cross_val_predict \r\n",
    "from sklearn.dummy import DummyClassifier\r\n",
    "from sklearn.metrics import confusion_matrix, plot_confusion_matrix\r\n",
    "import matplotlib.pyplot as plt\r\n",
    "\r\n",
    "digits = datasets.load_digits()\r\n",
    "digits_X = digits.data\r\n",
    "digits_y = digits.target\r\n",
    "\r\n",
    "zR = DummyClassifier(strategy = 'stratified')\r\n",
    "\r\n",
    "y_pred = cross_val_predict(zR, digits_X, digits_y, cv=5)\r\n",
    "conf_mat = confusion_matrix(digits_y, y_pred)\r\n",
    "\r\n",
    "print(conf_mat)\r\n",
    "\r\n",
    "plt.matshow(conf_mat, cmap=plt.cm.Blues)\r\n",
    "for i in range(len(conf_mat)):\r\n",
    "    for j in range(len(conf_mat)):\r\n",
    "        plt.text(i, j, conf_mat[i][j], va=\"center\", ha=\"center\")\r\n",
    "\r\n",
    "plt.show()"
   ],
   "outputs": [
    {
     "output_type": "stream",
     "name": "stdout",
     "text": [
      "[[13 18 17 14 22 28 16 18 13 19]\n",
      " [24 15 18 16 21 11 18 15 18 26]\n",
      " [18 12 22 19 23 16 18 18 15 16]\n",
      " [20 21 17 18 16 17 18 24 19 13]\n",
      " [19 25 15 22 14 14 11 25 16 20]\n",
      " [18 16 13 16 22 16 27 16 18 20]\n",
      " [19 16 13 26 25 17 13 17 19 16]\n",
      " [14 21 29 13 17 15 17 24 10 19]\n",
      " [14 22 23 17 22  9 23 14 16 14]\n",
      " [12 19 18 14 20 20 23 18 18 18]]\n"
     ]
    },
    {
     "output_type": "display_data",
     "data": {
      "text/plain": [
       "<Figure size 288x288 with 1 Axes>"
      ],
      "image/png": "[encoded data removed]"
     },
     "metadata": {
      "needs_background": "light"
     }
    }
   ],
   "metadata": {}
  },
  {
   "cell_type": "markdown",
   "source": [
    "Naive Bayes Gaussiano"
   ],
   "metadata": {}
  },
  {
   "cell_type": "code",
   "execution_count": 4,
   "source": [
    "from sklearn.naive_bayes import GaussianNB\r\n",
    "from sklearn.preprocessing import StandardScaler\r\n",
    "from sklearn.pipeline import Pipeline\r\n",
    "from sklearn.model_selection import cross_val_score\r\n",
    "from sklearn.model_selection import RepeatedStratifiedKFold\r\n",
    "\r\n",
    "gNB = GaussianNB()\r\n",
    "\r\n",
    "y_pred = cross_val_predict(gNB, iris_X, iris_y, cv=5)\r\n",
    "conf_mat = confusion_matrix(iris_y, y_pred)\r\n",
    "\r\n",
    "print(conf_mat)\r\n",
    "\r\n",
    "plt.matshow(conf_mat, cmap=plt.cm.Blues)\r\n",
    "for i in range(len(conf_mat)):\r\n",
    "    for j in range(len(conf_mat)):\r\n",
    "        plt.text(i, j, conf_mat[i][j], va=\"center\", ha=\"center\")\r\n",
    "\r\n",
    "plt.show()\r\n",
    "\r\n",
    "scalar = StandardScaler()\r\n",
    "\r\n",
    "pipeline = Pipeline([('transformer', scalar), ('estimator', gNB)])\r\n",
    "\r\n",
    "rkf = RepeatedStratifiedKFold(n_splits=5, n_repeats=6)\r\n",
    "\r\n",
    "scores = cross_val_score(pipeline, iris_X, iris_y, scoring='accuracy', \r\n",
    "                         cv = rkf)\r\n",
    "\r\n",
    "print(scores)\r\n",
    "\r\n",
    "mean = scores.mean()\r\n",
    "std = scores.std()\r\n",
    "inf, sup = stats.norm.interval(0.95, loc=mean, \r\n",
    "                               scale=std/np.sqrt(len(scores)))\r\n",
    "\r\n",
    "print(\"\\nMean Accuracy: %0.2f Standard Deviation: %0.2f\" % (mean, std))\r\n",
    "print (\"Accuracy Confidence Interval (95%%): (%0.2f, %0.2f)\\n\" % \r\n",
    "       (inf, sup)) "
   ],
   "outputs": [
    {
     "output_type": "stream",
     "name": "stdout",
     "text": [
      "[[50  0  0]\n",
      " [ 0 47  3]\n",
      " [ 0  4 46]]\n"
     ]
    },
    {
     "output_type": "display_data",
     "data": {
      "text/plain": [
       "<Figure size 288x288 with 1 Axes>"
      ],
      "image/png": "[encoded data removed]"
     },
     "metadata": {
      "needs_background": "light"
     }
    },
    {
     "output_type": "stream",
     "name": "stdout",
     "text": [
      "[0.96666667 1.         0.86666667 0.93333333 1.         1.\n",
      " 0.96666667 0.86666667 1.         0.93333333 0.96666667 0.86666667\n",
      " 1.         0.96666667 0.96666667 0.96666667 0.96666667 0.86666667\n",
      " 0.96666667 1.         0.96666667 0.96666667 0.96666667 1.\n",
      " 0.9        0.93333333 0.93333333 0.93333333 0.96666667 1.        ]\n",
      "\n",
      "Mean Accuracy: 0.95 Standard Deviation: 0.04\n",
      "Accuracy Confidence Interval (95%): (0.94, 0.97)\n",
      "\n"
     ]
    }
   ],
   "metadata": {}
  },
  {
   "cell_type": "markdown",
   "source": [
    "K Vizinhos Mais Próximos com Votação Ponderada por Distância"
   ],
   "metadata": {}
  },
  {
   "cell_type": "code",
   "execution_count": 5,
   "source": [
    "import numpy as np\r\n",
    "import pandas as pd\r\n",
    "from sklearn import datasets\r\n",
    "from scipy import stats\r\n",
    "from sklearn.model_selection import cross_val_score, GridSearchCV, RepeatedStratifiedKFold\r\n",
    "from sklearn.neighbors import KNeighborsClassifier\r\n",
    "from sklearn.preprocessing import StandardScaler\r\n",
    "from sklearn.pipeline import Pipeline\r\n",
    "\r\n",
    "iris = datasets.load_iris()\r\n",
    "iris_X = iris.data\r\n",
    "iris_y = iris.target\r\n",
    "\r\n",
    "scalar = StandardScaler()\r\n",
    "\r\n",
    "dKNN = KNeighborsClassifier(weights = 'distance')\r\n",
    "\r\n",
    "pipeline = Pipeline([('transformer', scalar), ('estimator', dKNN)])\r\n",
    "\r\n",
    "grade={'estimator__n_neighbors': [1,3,5]}\r\n",
    "\r\n",
    "gs = GridSearchCV(estimator=pipeline, param_grid = grade, \r\n",
    "                  scoring='accuracy', cv = 4)\r\n",
    "\r\n",
    "rkf = RepeatedStratifiedKFold(n_splits=5, n_repeats=6)\r\n",
    "\r\n",
    "scores = cross_val_score(gs, iris_X, iris_y, scoring='accuracy', \r\n",
    "                         cv = rkf)\r\n",
    "\r\n",
    "print(scores)\r\n",
    "\r\n",
    "mean = scores.mean()\r\n",
    "std = scores.std()\r\n",
    "inf, sup = stats.norm.interval(0.95, loc=mean, \r\n",
    "                               scale=std/np.sqrt(len(scores)))\r\n",
    "\r\n",
    "print(\"\\nMean Accuracy: %0.2f Standard Deviation: %0.2f\" % (mean, std))\r\n",
    "print (\"Accuracy Confidence Interval (95%%): (%0.2f, %0.2f)\\n\" % \r\n",
    "       (inf, sup)) "
   ],
   "outputs": [
    {
     "output_type": "stream",
     "name": "stderr",
     "text": [
      "/home/flavio/.local/lib/python3.6/site-packages/pandas/compat/__init__.py:84: UserWarning: Could not import the lzma module. Your installed Python is incomplete. Attempting to use lzma compression will result in a RuntimeError.\n",
      "  warnings.warn(msg)\n"
     ]
    },
    {
     "output_type": "stream",
     "name": "stdout",
     "text": [
      "[0.96666667 0.96666667 0.9        0.93333333 0.93333333 0.96666667\n",
      " 0.93333333 0.93333333 1.         0.96666667 0.96666667 0.96666667\n",
      " 0.9        0.93333333 0.96666667 0.9        1.         1.\n",
      " 0.93333333 0.86666667 0.96666667 0.93333333 0.93333333 0.9\n",
      " 1.         0.93333333 0.96666667 0.86666667 0.96666667 0.96666667]\n",
      "\n",
      "Mean Accuracy: 0.95 Standard Deviation: 0.04\n",
      "Accuracy Confidence Interval (95%): (0.93, 0.96)\n",
      "\n"
     ]
    }
   ],
   "metadata": {}
  },
  {
   "cell_type": "markdown",
   "source": [
    "Árvores de Decisão"
   ],
   "metadata": {}
  },
  {
   "cell_type": "code",
   "execution_count": 6,
   "source": [
    "import numpy as np\r\n",
    "import pandas as pd\r\n",
    "from sklearn import datasets\r\n",
    "from scipy import stats\r\n",
    "from sklearn.model_selection import cross_val_score, GridSearchCV, RepeatedStratifiedKFold\r\n",
    "from sklearn.tree import DecisionTreeClassifier\r\n",
    "from sklearn.preprocessing import StandardScaler\r\n",
    "from sklearn.pipeline import Pipeline\r\n",
    "\r\n",
    "iris = datasets.load_iris()\r\n",
    "iris_X = iris.data\r\n",
    "iris_y = iris.target\r\n",
    "\r\n",
    "scalar = StandardScaler()\r\n",
    "\r\n",
    "dt = DecisionTreeClassifier()\r\n",
    "\r\n",
    "pipeline = Pipeline([('transformer', scalar), ('estimator', dt)])\r\n",
    "\r\n",
    "grade={'estimator__max_depth': [3,5,10]}\r\n",
    "\r\n",
    "gs = GridSearchCV(estimator=pipeline, param_grid = grade, \r\n",
    "                  scoring='accuracy', cv = 4)\r\n",
    "\r\n",
    "rkf = RepeatedStratifiedKFold(n_splits=5, n_repeats=6)\r\n",
    "\r\n",
    "scores = cross_val_score(gs, iris_X, iris_y, scoring='accuracy', \r\n",
    "                         cv = rkf)\r\n",
    "\r\n",
    "print(scores)\r\n",
    "\r\n",
    "mean = scores.mean()\r\n",
    "std = scores.std()\r\n",
    "inf, sup = stats.norm.interval(0.95, loc=mean, \r\n",
    "                               scale=std/np.sqrt(len(scores)))\r\n",
    "\r\n",
    "print(\"\\nMean Accuracy: %0.2f Standard Deviation: %0.2f\" % (mean, std))\r\n",
    "print (\"Accuracy Confidence Interval (95%%): (%0.2f, %0.2f)\\n\" % \r\n",
    "       (inf, sup)) "
   ],
   "outputs": [
    {
     "output_type": "stream",
     "name": "stdout",
     "text": [
      "[1.         0.93333333 0.9        0.96666667 0.96666667 0.93333333\n",
      " 0.96666667 0.96666667 0.93333333 0.96666667 0.93333333 0.96666667\n",
      " 0.96666667 0.93333333 0.96666667 0.9        1.         0.96666667\n",
      " 1.         0.93333333 1.         0.96666667 0.9        0.93333333\n",
      " 0.96666667 0.93333333 0.96666667 0.96666667 0.93333333 0.9       ]\n",
      "\n",
      "Mean Accuracy: 0.95 Standard Deviation: 0.03\n",
      "Accuracy Confidence Interval (95%): (0.94, 0.96)\n",
      "\n"
     ]
    }
   ],
   "metadata": {}
  },
  {
   "cell_type": "markdown",
   "source": [
    "Florestas de Árvores Aleatórias"
   ],
   "metadata": {}
  },
  {
   "cell_type": "code",
   "execution_count": 7,
   "source": [
    "from sklearn.ensemble import RandomForestClassifier\r\n",
    "\r\n",
    "rF = RandomForestClassifier()\r\n",
    "\r\n",
    "pipeline = Pipeline([('transformer', scalar), ('estimator', rF)])\r\n",
    "\r\n",
    "grade={'estimator__n_estimators': [10, 20, 50, 100]}\r\n",
    "\r\n",
    "gs = GridSearchCV(estimator=pipeline, param_grid = grade, \r\n",
    "                  scoring='accuracy', cv = 4)\r\n",
    "\r\n",
    "scores = cross_val_score(gs, iris_X, iris_y, scoring='accuracy', \r\n",
    "                         cv = rkf)\r\n",
    "\r\n",
    "print(scores)\r\n",
    "\r\n",
    "mean = scores.mean()\r\n",
    "std = scores.std()\r\n",
    "inf, sup = stats.norm.interval(0.95, loc=mean, \r\n",
    "                               scale=std/np.sqrt(len(scores)))\r\n",
    "\r\n",
    "print(\"\\nMean Accuracy: %0.2f Standard Deviation: %0.2f\" % (mean, std))\r\n",
    "print (\"Accuracy Confidence Interval (95%%): (%0.2f, %0.2f)\\n\" % \r\n",
    "       (inf, sup)) "
   ],
   "outputs": [
    {
     "output_type": "stream",
     "name": "stdout",
     "text": [
      "[0.96666667 0.96666667 0.9        0.9        1.         1.\n",
      " 0.86666667 0.9        0.96666667 1.         0.9        0.93333333\n",
      " 1.         0.96666667 0.96666667 0.96666667 0.86666667 0.96666667\n",
      " 0.96666667 0.9        0.96666667 0.93333333 0.93333333 0.96666667\n",
      " 0.86666667 0.96666667 0.96666667 0.86666667 1.         0.96666667]\n",
      "\n",
      "Mean Accuracy: 0.94 Standard Deviation: 0.04\n",
      "Accuracy Confidence Interval (95%): (0.93, 0.96)\n",
      "\n"
     ]
    }
   ],
   "metadata": {}
  },
  {
   "cell_type": "markdown",
   "source": [
    "Criando seu Próprio Classificador"
   ],
   "metadata": {}
  },
  {
   "cell_type": "code",
   "execution_count": 8,
   "source": [
    "from collections import Counter\r\n",
    "from random import uniform\r\n",
    "import numpy as np\r\n",
    "from math import floor\r\n",
    "\r\n",
    "from sklearn.base import BaseEstimator\r\n",
    "from sklearn.utils.validation import check_X_y\r\n",
    "\r\n",
    "class CrazyRClassifier(BaseEstimator):\r\n",
    "    def __init__(self, cx=None, cy=None):\r\n",
    "        super().__init__()\r\n",
    "        self.cx = cx\r\n",
    "        self.cy = cy\r\n",
    "    \r\n",
    "    def fit(self,x_train,y_train):\r\n",
    "        x_train,y_train = check_X_y(x_train,y_train)\r\n",
    "             \r\n",
    "        counter = Counter(y_train)\r\n",
    "        self.__self_pred = max(counter,key = counter.get)\r\n",
    "\r\n",
    "    def predict(self,x_test):\r\n",
    "        (n,_) = x_test.shape\r\n",
    "        n0 = floor(n*self.cx/100)\r\n",
    "        n1 = floor(n*self.cy/100)\r\n",
    "        nprd = n - (n0 + n1)        \r\n",
    "        prd = [self.__self_pred]*nprd + [0]*n0 + [1]*n1\r\n",
    "        return np.array(prd)\r\n",
    "    \r\n",
    "cR = CrazyRClassifier()\r\n",
    "\r\n",
    "pipeline = Pipeline([('transformer', scalar), ('estimator', cR)])\r\n",
    "\r\n",
    "grade={'estimator__cx': [10,30,50], 'estimator__cy': [0,20,40]}\r\n",
    "\r\n",
    "gs = GridSearchCV(estimator=pipeline, param_grid = grade, \r\n",
    "                  scoring='accuracy', cv = 3)\r\n",
    "\r\n",
    "rkf = RepeatedStratifiedKFold(n_splits=5, n_repeats=6)\r\n",
    "\r\n",
    "scores = cross_val_score(gs, iris_X, iris_y, scoring='accuracy', cv = rkf)\r\n",
    "\r\n",
    "print(scores)\r\n",
    "\r\n",
    "mean = scores.mean()\r\n",
    "std = scores.std()\r\n",
    "inf, sup = stats.norm.interval(0.95, loc=mean, \r\n",
    "                               scale=std/np.sqrt(len(scores)))\r\n",
    "\r\n",
    "print(\"\\nMean Accuracy: %0.2f Standard Deviation: %0.2f\" % (mean, std))\r\n",
    "print (\"Accuracy Confidence Interval (95%%): (%0.2f, %0.2f)\\n\" % \r\n",
    "       (inf, sup))     \r\n",
    "    "
   ],
   "outputs": [
    {
     "output_type": "stream",
     "name": "stdout",
     "text": [
      "[0.4 0.4 0.4 0.4 0.4 0.4 0.4 0.4 0.4 0.4 0.4 0.4 0.4 0.4 0.4 0.4 0.4 0.4\n",
      " 0.4 0.4 0.4 0.4 0.4 0.4 0.4 0.4 0.4 0.4 0.4 0.4]\n",
      "\n",
      "Mean Accuracy: 0.40 Standard Deviation: 0.00\n",
      "Accuracy Confidence Interval (95%): (0.40, 0.40)\n",
      "\n"
     ]
    }
   ],
   "metadata": {}
  },
  {
   "cell_type": "markdown",
   "source": [
    "### Exercícios de Fixação"
   ],
   "metadata": {}
  },
  {
   "cell_type": "markdown",
   "source": [
    "1. O que é um classificador de linha base (baseline)? Para quê são utilizados? Apresente as matrizes de confusão da aplicação dos classificadores ZeroR, Aleatório Uniforme e Aleatório Estratificado usando validação cruzada com 10 dobras (folds) na base de dados (dataset) wine."
   ],
   "metadata": {}
  },
  {
   "cell_type": "markdown",
   "source": [
    "Um classificador baseline, são classificadores simples para iniciar os estudos na área de AI. Essees classificadores geralmente não utilizam as caracteristicas dos dados para classificar, utilizando mais a aleatoriedade, \"tentando\" prever o resultado real. Muito utilizado para comparar com outros classificadores, caso a acurarcia seja menor que esses classificadores, algo está de errado!"
   ],
   "metadata": {}
  },
  {
   "cell_type": "code",
   "execution_count": 9,
   "source": [
    "from sklearn.dummy import DummyClassifier\r\n",
    "from sklearn import datasets\r\n",
    "from sklearn.model_selection import cross_val_predict\r\n",
    "from sklearn.metrics import confusion_matrix\r\n",
    "import matplotlib.pyplot as plt\r\n",
    "\r\n",
    "wine = datasets.load_wine()\r\n",
    "target = wine.target\r\n",
    "data = wine.data\r\n",
    "\r\n",
    "# ZeroR\r\n",
    "\r\n",
    "zR = DummyClassifier()\r\n",
    "\r\n",
    "prediction = cross_val_predict(zR, data, target, cv=10)\r\n",
    "confusion = confusion_matrix(target, prediction)\r\n",
    "\r\n",
    "plt.matshow(confusion, cmap=plt.cm.Blues)\r\n",
    "\r\n",
    "for i in range(len(confusion)):\r\n",
    "    for j in range(len(confusion)):\r\n",
    "        plt.text(i, j, confusion[i][j], va=\"center\", ha=\"center\")\r\n",
    "\r\n",
    "plt.show()\r\n",
    "\r\n",
    "# Aleatório uniforme\r\n",
    "\r\n",
    "aU = DummyClassifier(strategy='uniform')\r\n",
    "\r\n",
    "prediction = cross_val_predict(aU, data, target, cv=10)\r\n",
    "confusion = confusion_matrix(target, prediction)\r\n",
    "\r\n",
    "plt.matshow(confusion, cmap=plt.cm.Blues)\r\n",
    "\r\n",
    "for i in range(len(confusion)):\r\n",
    "    for j in range(len(confusion)):\r\n",
    "        plt.text(i, j, confusion[i][j], va=\"center\", ha=\"center\")\r\n",
    "\r\n",
    "plt.show()\r\n",
    "\r\n",
    "# Estratificado\r\n",
    "\r\n",
    "aS = DummyClassifier(strategy='stratified')\r\n",
    "\r\n",
    "prediction = cross_val_predict(aS, data, target, cv=10)\r\n",
    "confusion = confusion_matrix(target, prediction)\r\n",
    "\r\n",
    "plt.matshow(confusion, cmap=plt.cm.Blues)\r\n",
    "\r\n",
    "for i in range(len(confusion)):\r\n",
    "    for j in range(len(confusion)):\r\n",
    "        plt.text(i, j, confusion[i][j], va=\"center\", ha=\"center\")\r\n",
    "\r\n",
    "plt.show()\r\n"
   ],
   "outputs": [
    {
     "output_type": "display_data",
     "data": {
      "text/plain": [
       "<Figure size 288x288 with 1 Axes>"
      ],
      "image/png": "[encoded data removed]"
     },
     "metadata": {
      "needs_background": "light"
     }
    },
    {
     "output_type": "display_data",
     "data": {
      "text/plain": [
       "<Figure size 288x288 with 1 Axes>"
      ],
      "image/png": "[encoded data removed]"
     },
     "metadata": {
      "needs_background": "light"
     }
    },
    {
     "output_type": "display_data",
     "data": {
      "text/plain": [
       "<Figure size 288x288 with 1 Axes>"
      ],
      "image/png": "[encoded data removed]"
     },
     "metadata": {
      "needs_background": "light"
     }
    }
   ],
   "metadata": {}
  },
  {
   "cell_type": "markdown",
   "source": [
    "2. Apresente uma vantagem e uma desvantagem do classificador Vizinho Mais Próximo em relação ao K Vizinhos Mais Próximos. Obtenha a acurácia média, o desvio padrão e o intervalo de confiança a 95% dos classificadores Vizinho Mais Próximo, 3 Vizinhos Mais Próximos e 5 Vizinhos Mais Próximos usando validação cruzada com 5 dobras (folds) na base de dados (dataset) wine."
   ],
   "metadata": {}
  },
  {
   "cell_type": "markdown",
   "source": [
    "A desvantagem é que o Vizinho mais próximo é mais propenso a ter interferencia pelos outliers, pois apenas encherga o vizinho mais próximo e não o conjunto em volta. A vantagem é que é mais rápido que o KNN, pois é apenas necessário o calculo de um vizinho apenas."
   ],
   "metadata": {}
  },
  {
   "cell_type": "code",
   "execution_count": 19,
   "source": [
    "import numpy as np\r\n",
    "from sklearn.neighbors import KNeighborsClassifier\r\n",
    "from sklearn import datasets\r\n",
    "from sklearn.model_selection import GridSearchCV, cross_val_score\r\n",
    "from scipy import stats\r\n",
    "\r\n",
    "wine = datasets.load_wine()\r\n",
    "target = wine.target\r\n",
    "data = wine.data\r\n",
    "\r\n",
    "classifier = KNeighborsClassifier(weights='distance', n_neighbors=1)\r\n",
    "\r\n",
    "scores  = cross_val_score(classifier, data, target, scoring='accuracy',cv=5)\r\n",
    "\r\n",
    "mean = scores.mean()\r\n",
    "std = scores.std()\r\n",
    "lower, upper = stats.norm.interval(0.95, loc=mean, scale=std/np.sqrt(len(scores)))\r\n",
    "\r\n",
    "print(\"Mean: \", mean)\r\n",
    "print(\"Std: \", std)\r\n",
    "print(\"Accuracy Confidence Interval (95%%): (%0.2f, %0.2f)\\n\" %(lower, upper))\r\n",
    "\r\n",
    "classifier = KNeighborsClassifier(weights='distance', n_neighbors=3)\r\n",
    "\r\n",
    "scores  = cross_val_score(classifier, data, target, scoring='accuracy',cv=5)\r\n",
    "\r\n",
    "mean = scores.mean()\r\n",
    "std = scores.std()\r\n",
    "lower, upper = stats.norm.interval(0.95, loc=mean, scale=std/np.sqrt(len(scores)))\r\n",
    "\r\n",
    "print(\"Mean: \", mean)\r\n",
    "print(\"Std: \", std)\r\n",
    "print(\"Accuracy Confidence Interval (95%%): (%0.2f, %0.2f)\\n\" %(lower, upper))\r\n",
    "\r\n",
    "classifier = KNeighborsClassifier(weights='distance', n_neighbors=5)\r\n",
    "\r\n",
    "scores  = cross_val_score(classifier, data, target, scoring='accuracy',cv=5)\r\n",
    "\r\n",
    "mean = scores.mean()\r\n",
    "std = scores.std()\r\n",
    "lower, upper = stats.norm.interval(0.95, loc=mean, scale=std/np.sqrt(len(scores)))\r\n",
    "\r\n",
    "print(\"Mean: \", mean)\r\n",
    "print(\"Std: \", std)\r\n",
    "print(\"Accuracy Confidence Interval (95%%): (%0.2f, %0.2f)\\n\" %(lower, upper))\r\n",
    "\r\n",
    "\r\n"
   ],
   "outputs": [
    {
     "output_type": "stream",
     "name": "stdout",
     "text": [
      "Mean:  0.7250793650793651\n",
      "Std:  0.07691225576540883\n",
      "Accuracy Confidence Interval (95%): (0.66, 0.79)\n",
      "\n",
      "Mean:  0.7250793650793651\n",
      "Std:  0.07139258352668901\n",
      "Accuracy Confidence Interval (95%): (0.66, 0.79)\n",
      "\n",
      "Mean:  0.7195238095238095\n",
      "Std:  0.08428496696526973\n",
      "Accuracy Confidence Interval (95%): (0.65, 0.79)\n",
      "\n"
     ]
    }
   ],
   "metadata": {}
  },
  {
   "cell_type": "markdown",
   "source": [
    "3. Obtenha a acurácia média, o desvio padrão e o intervalo de confiança a 95% do classificador Vizinho Mais Próximo usando validação cruzada com 10 dobras (folds) na base de dados (dataset) wine padronizada e não padronizada. Analise os resultados.  "
   ],
   "metadata": {}
  },
  {
   "cell_type": "code",
   "execution_count": 21,
   "source": [
    "from sklearn import datasets\r\n",
    "from sklearn.neighbors import KNeighborsClassifier\r\n",
    "from sklearn.model_selection import cross_val_score\r\n",
    "from scipy import stats\r\n",
    "import numpy as np\r\n",
    "from sklearn.preprocessing import StandardScaler\r\n",
    "\r\n",
    "wine = datasets.load_wine()\r\n",
    "target = wine.target\r\n",
    "data = wine.data\r\n",
    "\r\n",
    "classifier = KNeighborsClassifier(weights='distance', n_neighbors=1)\r\n",
    "\r\n",
    "scores = cross_val_score(classifier, data, target, scoring='accuracy', cv=10)\r\n",
    "\r\n",
    "mean = scores.mean()\r\n",
    "std = scores.std()\r\n",
    "lower, upper = stats.norm.interval(0.95, loc=mean, scale=std/np.sqrt(len(scores)))\r\n",
    "\r\n",
    "print (\"Mean: \", mean)\r\n",
    "print (\"Std: \", std)\r\n",
    "print(\"Accuracy Confidence Interval (95%%): %0.2f, %0.2f\" %(lower, upper))\r\n",
    "\r\n",
    "# Padronizado\r\n",
    "\r\n",
    "wine = datasets.load_wine()\r\n",
    "target = wine.target\r\n",
    "data = wine.data\r\n",
    "\r\n",
    "scaler = StandardScaler()\r\n",
    "data = scaler.fit_transform(data)\r\n",
    "\r\n",
    "classifier = KNeighborsClassifier(weights='distance', n_neighbors=1)\r\n",
    "\r\n",
    "scores = cross_val_score(classifier, data, target, scoring='accuracy', cv=10)\r\n",
    "\r\n",
    "mean = scores.mean()\r\n",
    "std = scores.std()\r\n",
    "lower, upper = stats.norm.interval(0.95, loc=mean, scale=std/np.sqrt(len(scores)))\r\n",
    "\r\n",
    "print (\"Mean: \", mean)\r\n",
    "print (\"Std: \", std)\r\n",
    "print(\"Accuracy Confidence Interval (95%%): %0.2f, %0.2f\" %(lower, upper))"
   ],
   "outputs": [
    {
     "output_type": "stream",
     "name": "stdout",
     "text": [
      "Mean:  0.7480392156862745\n",
      "Std:  0.09540524913123215\n",
      "Accuracy Confidence Interval (95%): 0.69, 0.81\n"
     ]
    }
   ],
   "metadata": {}
  },
  {
   "cell_type": "markdown",
   "source": [
    "4. Explique como funcionam os métodos de Bagging e Boosting para criação de Combinados de Classificadores? Use os classificadores de Bagging (https://scikit-learn.org/stable/modules/generated/sklearn.ensemble.BaggingClassifier.html)e AdaBoost (https://scikit-learn.org/stable/modules/generated/sklearn.ensemble.AdaBoostClassifier.html) para realizar 3 repetições de validação cruzada aninhada com 10 folds no loop externo e 4 folds no loop interno. A busca em grade deve variar apenas a quantidade de classificadores do combinado considerando combinados com 10, 25 e 50 classificadores. A base de dados utilizada é a wine e deve ser padronizada. Apresente a acurácia média, o desvio padrão e o intervalo de confiança a 95% dos dois métodos e realize o teste t de Student para verificar se as diferenças são significativas. "
   ],
   "metadata": {}
  },
  {
   "cell_type": "markdown",
   "source": [
    "No método de bagging, para cada classificador utilizado é treinado uma parte da base de dados para que sejam classificados de forma paralela. Já o Boosting, são feitos de forma de uma fila, na qual cada classificador ajusta o peso de cada dado de acordo com a sua assertividade, fazendo com que dados que são mais dificeis de classificar fiquem mais fáceis pelo pesado treinamento em cima dessa parte."
   ],
   "metadata": {}
  },
  {
   "cell_type": "code",
   "execution_count": 7,
   "source": [
    "from sklearn import datasets\r\n",
    "import numpy as np\r\n",
    "from sklearn.model_selection import cross_val_score, RepeatedStratifiedKFold, GridSearchCV\r\n",
    "from sklearn.ensemble import BaggingClassifier, AdaBoostClassifier\r\n",
    "from sklearn.preprocessing import StandardScaler\r\n",
    "from scipy import stats\r\n",
    "\r\n",
    "wine = datasets.load_wine()\r\n",
    "target = wine.target\r\n",
    "data = wine.data\r\n",
    "\r\n",
    "scaler = StandardScaler()\r\n",
    "data = scaler.fit_transform(data)\r\n",
    "\r\n",
    "classifier = BaggingClassifier()\r\n",
    "grade = {'n_estimators': [10, 25, 50]}\r\n",
    "cv = RepeatedStratifiedKFold(n_splits=10, n_repeats=4)\r\n",
    "gridSearch = GridSearchCV(classifier,param_grid=grade, scoring='accuracy', cv=cv)\r\n",
    "\r\n",
    "scoresBagging = cross_val_score(gridSearch, data, target, scoring='accuracy', cv=cv, n_jobs=-1, error_score='raise')\r\n",
    "\r\n",
    "mean = scoresBagging.mean()\r\n",
    "std = scoresBagging.std()\r\n",
    "lower, upper = stats.norm.interval(0.95, loc=mean, scale=std/np.sqrt(len(scoresBagging)))\r\n",
    "\r\n",
    "print('Mean :', mean)\r\n",
    "print('Std: ', std)\r\n",
    "print('Accuracy Confidence Interval (95%%): (%0.2f, %0.2f)' %(lower, upper))\r\n",
    "\r\n",
    "# Adaboost\r\n",
    "\r\n",
    "wine = datasets.load_wine()\r\n",
    "target = wine.target\r\n",
    "data = wine.data\r\n",
    "\r\n",
    "scaler = StandardScaler()\r\n",
    "data = scaler.fit_transform(data)\r\n",
    "\r\n",
    "classifier = AdaBoostClassifier()\r\n",
    "grade = {'n_estimators': [10, 25, 50]}\r\n",
    "cv = RepeatedStratifiedKFold(n_splits=10, n_repeats=4)\r\n",
    "gridSearch = GridSearchCV(classifier,param_grid=grade, scoring='accuracy', cv=cv)\r\n",
    "\r\n",
    "scores = cross_val_score(gridSearch, data, target, scoring='accuracy', cv=cv, n_jobs=-1, error_score='raise')\r\n",
    "\r\n",
    "mean = scores.mean()\r\n",
    "std = scores.std()\r\n",
    "lower, upper = stats.norm.interval(0.95, loc=mean, scale=std/np.sqrt(len(scores)))\r\n",
    "\r\n",
    "print('Mean :', mean)\r\n",
    "print('Std: ', std)\r\n",
    "print('Accuracy Confidence Interval (95%%): (%0.2f, %0.2f)' %(lower, upper))\r\n",
    "\r\n",
    "\r\n",
    "\r\n",
    "print('Paired T Test')\r\n",
    "s,p = stats.ttest_rel(scores,scoresBagging)\r\n",
    "print(\"t: %0.2f p-value: %0.2f\\n\" % (s,p))"
   ],
   "outputs": [
    {
     "output_type": "stream",
     "name": "stdout",
     "text": [
      "Mean : 0.9606209150326798\n",
      "Std:  0.03815945498094459\n",
      "Accuracy Confidence Interval (95%): (0.95, 0.97)\n",
      "Mean : 0.9125\n",
      "Std:  0.07653789947166172\n",
      "Accuracy Confidence Interval (95%): (0.89, 0.94)\n"
     ]
    }
   ],
   "metadata": {}
  },
  {
   "cell_type": "markdown",
   "source": [
    "5. O artigo \"Combining Classifiers with Decision Templates for Automatic Fault Diagnosis of Electrical Submersible Pumps\" também utiliza técnicas para construção de ensembles de classificadores. Quais as técnicas usadas para formação dos classificadores e para combinação dos resultados dos classificadores?  "
   ],
   "metadata": {}
  },
  {
   "cell_type": "markdown",
   "source": [
    "6. O artigo \"Submersible Motor Pump Fault Diagnosis System: A Comparative Study of Classification Methods\" realiza uma comparação experimental de vários classificadores em um problema de detecção de falha. Os classificadores foram testados com e sem o uso de padronização. Qual dos classificadores apresentou melhoria significativa com o uso de padronização? Qual a razão para isso?"
   ],
   "metadata": {}
  }
 ],
 "metadata": {
  "kernelspec": {
   "display_name": "Python 3",
   "language": "python",
   "name": "python3"
  },
  "language_info": {
   "codemirror_mode": {
    "name": "ipython",
    "version": 3
   },
   "file_extension": ".py",
   "mimetype": "text/x-python",
   "name": "python",
   "nbconvert_exporter": "python",
   "pygments_lexer": "ipython3",
   "version": "3.6.7"
  }
 },
 "nbformat": 4,
 "nbformat_minor": 5
}