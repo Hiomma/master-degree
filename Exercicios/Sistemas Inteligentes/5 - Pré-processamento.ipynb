{
 "cells": [
  {
   "cell_type": "markdown",
   "source": [
    "# Pré-processamento\n",
    "\n",
    "Scikit-learn: \n",
    "\n",
    "https://scikit-learn.org/stable/user_guide.html#user-guide\n",
    "\n",
    "https://scikit-learn.org/stable/modules/preprocessing.html\n",
    "\n",
    "https://scikit-learn.org/stable/modules/impute.html#impute\n",
    "\n",
    "https://docs.scipy.org/doc/scipy-0.14.0/reference/tutorial/fftpack.html\n",
    "\n",
    "http://scikit-learn.org/stable/modules/preprocessing.html#scaling-features-to-a-range\n",
    "\n",
    "http://scikit-learn.org/stable/modules/preprocessing.html#standardization-or-mean-removal-and-variance-scaling\n",
    "\n",
    "http://scikit-learn.org/stable/modules/preprocessing.html#discretization\n",
    "\n",
    "https://scikit-learn.org/stable/modules/preprocessing.html#preprocessing-categorical-features\n",
    "\n",
    "https://scikit-learn.org/stable/auto_examples/decomposition/plot_pca_3d.html?highlight=principal%20component\n",
    "\n",
    "https://scikit-learn.org/stable/modules/feature_selection.html\n"
   ],
   "metadata": {}
  },
  {
   "cell_type": "markdown",
   "source": [
    "Valores Ausentes "
   ],
   "metadata": {}
  },
  {
   "cell_type": "markdown",
   "source": [
    "Média em Bases com Numpy Not a Number (np.nan)"
   ],
   "metadata": {}
  },
  {
   "cell_type": "code",
   "execution_count": 2,
   "source": [
    "import numpy as np\r\n",
    "\r\n",
    "from sklearn.impute import SimpleImputer\r\n",
    "\r\n",
    "X = [[1, 2], [np.nan, 3], [7, 6]]\r\n",
    "\r\n",
    "imp = SimpleImputer(missing_values=np.nan, strategy='mean')\r\n",
    "imp.fit(X)  \r\n",
    "\r\n",
    "X_test = [[np.nan, 2], [6, np.nan], [7, 6]]\r\n",
    "\r\n",
    "print(X_test)\r\n",
    "print(imp.transform(X_test))"
   ],
   "outputs": [
    {
     "output_type": "stream",
     "name": "stdout",
     "text": [
      "[[nan, 2], [6, nan], [7, 6]]\n",
      "[[4.         2.        ]\n",
      " [6.         3.66666667]\n",
      " [7.         6.        ]]\n"
     ]
    }
   ],
   "metadata": {}
  },
  {
   "cell_type": "markdown",
   "source": [
    "Mediana em Bases com -1"
   ],
   "metadata": {}
  },
  {
   "cell_type": "code",
   "execution_count": 26,
   "source": [
    "X = [[1, 2], [-1, 3], [7, 6]]\r\n",
    "\r\n",
    "imp = SimpleImputer(missing_values=-1, strategy='median')\r\n",
    "imp.fit(X)  \r\n",
    "\r\n",
    "X_test = [[-1, 2], [6, -1], [7, 6]]\r\n",
    "\r\n",
    "print(X_test)\r\n",
    "print(imp.transform(X_test)) "
   ],
   "outputs": [
    {
     "output_type": "stream",
     "name": "stdout",
     "text": [
      "[[-1, 2], [6, -1], [7, 6]]\n",
      "[[4. 2.]\n",
      " [6. 3.]\n",
      " [7. 6.]]\n"
     ]
    }
   ],
   "metadata": {}
  },
  {
   "cell_type": "markdown",
   "source": [
    "Valor Arbitrário em Bases com -1"
   ],
   "metadata": {}
  },
  {
   "cell_type": "code",
   "execution_count": 3,
   "source": [
    "X = [[1, 2], [-1, 3], [7, 6]]\r\n",
    "\r\n",
    "imp = SimpleImputer(missing_values=-1, strategy='constant', \r\n",
    "                    fill_value=11)\r\n",
    "imp.fit(X)  \r\n",
    "\r\n",
    "X_test = [[-1, 2], [6, -1], [7, 6]]\r\n",
    "\r\n",
    "print(X_test)\r\n",
    "print(imp.transform(X_test))   "
   ],
   "outputs": [
    {
     "output_type": "stream",
     "name": "stdout",
     "text": [
      "[[-1, 2], [6, -1], [7, 6]]\n",
      "[[11  2]\n",
      " [ 6 11]\n",
      " [ 7  6]]\n"
     ]
    }
   ],
   "metadata": {}
  },
  {
   "cell_type": "markdown",
   "source": [
    "Moda em Bases Categóricas com Numpy Not a Number (np.nan)"
   ],
   "metadata": {}
  },
  {
   "cell_type": "code",
   "execution_count": 4,
   "source": [
    "df = [[\"a\", \"x\"],\r\n",
    "      [np.nan, \"y\"],\r\n",
    "      [\"a\", np.nan],\r\n",
    "      [\"b\", \"y\"]]\r\n",
    "\r\n",
    "imp = SimpleImputer(strategy=\"most_frequent\")\r\n",
    "\r\n",
    "print(imp.fit_transform(df))"
   ],
   "outputs": [
    {
     "output_type": "stream",
     "name": "stdout",
     "text": [
      "[['a' 'x']\n",
      " ['a' 'y']\n",
      " ['a' 'y']\n",
      " ['b' 'y']]\n"
     ]
    }
   ],
   "metadata": {}
  },
  {
   "cell_type": "markdown",
   "source": [
    "Valor Arbitrário em Bases Categóricas com Numpy Not a Number (np.nan)"
   ],
   "metadata": {}
  },
  {
   "cell_type": "code",
   "execution_count": 5,
   "source": [
    "df = [[\"a\", \"x\"],\r\n",
    "      [np.nan, \"y\"],\r\n",
    "      [\"a\", np.nan],\r\n",
    "      [\"b\", \"y\"]]\r\n",
    "\r\n",
    "imp = SimpleImputer(strategy='constant', fill_value=\"k\")\r\n",
    "\r\n",
    "print(imp.fit_transform(df))"
   ],
   "outputs": [
    {
     "output_type": "stream",
     "name": "stdout",
     "text": [
      "[['a' 'x']\n",
      " ['k' 'y']\n",
      " ['a' 'k']\n",
      " ['b' 'y']]\n"
     ]
    }
   ],
   "metadata": {}
  },
  {
   "cell_type": "markdown",
   "source": [
    "Remoção de Ruídos"
   ],
   "metadata": {}
  },
  {
   "cell_type": "code",
   "execution_count": 6,
   "source": [
    "from numpy import where\r\n",
    "from sklearn.datasets import make_classification\r\n",
    "from matplotlib import pyplot\r\n",
    "\r\n",
    "# define dataset\r\n",
    "X, y = make_classification(n_samples=1000, n_features=2, \r\n",
    "                           n_informative=2, n_redundant=0, \r\n",
    "                           n_clusters_per_class=1, random_state=4)\r\n",
    "# create scatter plot for samples from each class\r\n",
    "for class_value in range(2):\r\n",
    "    # get row indexes for samples with this class\r\n",
    "    row_ix = where(y == class_value)\r\n",
    "    # create scatter of these samples\r\n",
    "    pyplot.scatter(X[row_ix, 0], X[row_ix, 1])\r\n",
    "# show the plot\r\n",
    "pyplot.show()\r\n",
    "\r\n",
    "from numpy import unique\r\n",
    "from numpy import where\r\n",
    "from sklearn.cluster import DBSCAN\r\n",
    "from matplotlib import pyplot\r\n",
    "\r\n",
    "# define the model\r\n",
    "model = DBSCAN(eps=0.30, min_samples=9)\r\n",
    "# fit model and predict clusters\r\n",
    "dyhat = model.fit_predict(X)\r\n",
    "# retrieve unique clusters\r\n",
    "clusters = unique(dyhat)\r\n",
    "# create scatter plot for samples from each cluster\r\n",
    "print(clusters)\r\n",
    "\r\n",
    "for cluster in clusters:\r\n",
    "    # get row indexes for samples with this cluster\r\n",
    "    row_ix = where(dyhat == cluster)\r\n",
    "    # create scatter of these samples\r\n",
    "    pyplot.scatter(X[row_ix, 0], X[row_ix, 1])\r\n",
    "# show the plot\r\n",
    "pyplot.show()\r\n",
    "\r\n",
    "X = np.asarray([X[i] for i in range (len(X)) if dyhat[i] != -1])\r\n",
    "dyhat = np.asarray([dyhat[i] for i in range (len(dyhat)) if dyhat[i] != -1])\r\n",
    "\r\n",
    "clusters = clusters[1:] \r\n",
    "\r\n",
    "for cluster in clusters:\r\n",
    "    # get row indexes for samples with this cluster\r\n",
    "    row_ix = where(dyhat == cluster)\r\n",
    "    # create scatter of these samples\r\n",
    "    pyplot.scatter(X[row_ix, 0], X[row_ix, 1])\r\n",
    "# show the plot\r\n",
    "pyplot.show()"
   ],
   "outputs": [
    {
     "output_type": "display_data",
     "data": {
      "text/plain": [
       "<Figure size 432x288 with 1 Axes>"
      ],
      "image/png": "[encoded data removed]"
     },
     "metadata": {
      "needs_background": "light"
     }
    },
    {
     "output_type": "stream",
     "name": "stdout",
     "text": [
      "[-1  0  1]\n"
     ]
    },
    {
     "output_type": "display_data",
     "data": {
      "text/plain": [
       "<Figure size 432x288 with 1 Axes>"
      ],
      "image/png": "[encoded data removed]"
     },
     "metadata": {
      "needs_background": "light"
     }
    },
    {
     "output_type": "display_data",
     "data": {
      "text/plain": [
       "<Figure size 432x288 with 1 Axes>"
      ],
      "image/png": "[encoded data removed]"
     },
     "metadata": {
      "needs_background": "light"
     }
    }
   ],
   "metadata": {}
  },
  {
   "cell_type": "markdown",
   "source": [
    "Transformação - FFT"
   ],
   "metadata": {}
  },
  {
   "cell_type": "code",
   "execution_count": 7,
   "source": [
    "from scipy.fftpack import fft\r\n",
    "\r\n",
    "N = 600\r\n",
    "\r\n",
    "T = 1.0 / 800.0\r\n",
    "x = np.linspace(0.0, N*T, N)\r\n",
    "y = np.sin(50.0 * 2.0*np.pi*x) + 0.5*np.sin(80.0 * 2.0*np.pi*x)\r\n",
    "yf = fft(y)\r\n",
    "xf = np.linspace(0.0, 1.0/(2.0*T), N//2)\r\n",
    "\r\n",
    "import matplotlib.pyplot as plt\r\n",
    "\r\n",
    "plt.plot(x, y)\r\n",
    "plt.grid()\r\n",
    "plt.show()\r\n",
    "\r\n",
    "plt.plot(xf, 2.0/N * np.abs(yf[0:N//2]))\r\n",
    "plt.grid()\r\n",
    "plt.show()"
   ],
   "outputs": [
    {
     "output_type": "display_data",
     "data": {
      "text/plain": [
       "<Figure size 432x288 with 1 Axes>"
      ],
      "image/png": "[encoded data removed]"
     },
     "metadata": {
      "needs_background": "light"
     }
    },
    {
     "output_type": "display_data",
     "data": {
      "text/plain": [
       "<Figure size 432x288 with 1 Axes>"
      ],
      "image/png": "[encoded data removed]"
     },
     "metadata": {
      "needs_background": "light"
     }
    }
   ],
   "metadata": {}
  },
  {
   "cell_type": "markdown",
   "source": [
    "Transformação - Mudança de Escala - Máximo"
   ],
   "metadata": {}
  },
  {
   "cell_type": "code",
   "execution_count": 8,
   "source": [
    "from sklearn import datasets\r\n",
    "iris = datasets.load_iris()\r\n",
    "from sklearn.model_selection import train_test_split\r\n",
    "X_train, X_test, y_train, y_test = train_test_split(\r\n",
    "    iris.data, iris.target, test_size=0.4, random_state=0)\r\n",
    "\r\n",
    "X_train = X_train [:18]\r\n",
    "X_test = X_test [:12]\r\n",
    "\r\n",
    "from sklearn import preprocessing\r\n",
    "max_abs_scaler = preprocessing.MaxAbsScaler()\r\n",
    "\r\n",
    "X_train_maxabs = max_abs_scaler.fit_transform(X_train)\r\n",
    "print ('Train')\r\n",
    "print(X_train)\r\n",
    "print(X_train_maxabs)\r\n",
    "\r\n",
    "X_test_maxabs = max_abs_scaler.transform(X_test)\r\n",
    "print ('\\nTest')\r\n",
    "print(X_test)\r\n",
    "print(X_test_maxabs)\r\n",
    "\r\n",
    "print ('\\nMáximos')\r\n",
    "print(max_abs_scaler.scale_) "
   ],
   "outputs": [
    {
     "output_type": "stream",
     "name": "stdout",
     "text": [
      "Train\n",
      "[[6.  3.4 4.5 1.6]\n",
      " [4.8 3.1 1.6 0.2]\n",
      " [5.8 2.7 5.1 1.9]\n",
      " [5.6 2.7 4.2 1.3]\n",
      " [5.6 2.9 3.6 1.3]\n",
      " [5.5 2.5 4.  1.3]\n",
      " [6.1 3.  4.6 1.4]\n",
      " [7.2 3.2 6.  1.8]\n",
      " [5.3 3.7 1.5 0.2]\n",
      " [4.3 3.  1.1 0.1]\n",
      " [6.4 2.7 5.3 1.9]\n",
      " [5.7 3.  4.2 1.2]\n",
      " [5.4 3.4 1.7 0.2]\n",
      " [5.7 4.4 1.5 0.4]\n",
      " [6.9 3.1 4.9 1.5]\n",
      " [4.6 3.1 1.5 0.2]\n",
      " [5.9 3.  5.1 1.8]\n",
      " [5.1 2.5 3.  1.1]]\n",
      "[[0.83333333 0.77272727 0.75       0.84210526]\n",
      " [0.66666667 0.70454545 0.26666667 0.10526316]\n",
      " [0.80555556 0.61363636 0.85       1.        ]\n",
      " [0.77777778 0.61363636 0.7        0.68421053]\n",
      " [0.77777778 0.65909091 0.6        0.68421053]\n",
      " [0.76388889 0.56818182 0.66666667 0.68421053]\n",
      " [0.84722222 0.68181818 0.76666667 0.73684211]\n",
      " [1.         0.72727273 1.         0.94736842]\n",
      " [0.73611111 0.84090909 0.25       0.10526316]\n",
      " [0.59722222 0.68181818 0.18333333 0.05263158]\n",
      " [0.88888889 0.61363636 0.88333333 1.        ]\n",
      " [0.79166667 0.68181818 0.7        0.63157895]\n",
      " [0.75       0.77272727 0.28333333 0.10526316]\n",
      " [0.79166667 1.         0.25       0.21052632]\n",
      " [0.95833333 0.70454545 0.81666667 0.78947368]\n",
      " [0.63888889 0.70454545 0.25       0.10526316]\n",
      " [0.81944444 0.68181818 0.85       0.94736842]\n",
      " [0.70833333 0.56818182 0.5        0.57894737]]\n",
      "\n",
      "Test\n",
      "[[5.8 2.8 5.1 2.4]\n",
      " [6.  2.2 4.  1. ]\n",
      " [5.5 4.2 1.4 0.2]\n",
      " [7.3 2.9 6.3 1.8]\n",
      " [5.  3.4 1.5 0.2]\n",
      " [6.3 3.3 6.  2.5]\n",
      " [5.  3.5 1.3 0.3]\n",
      " [6.7 3.1 4.7 1.5]\n",
      " [6.8 2.8 4.8 1.4]\n",
      " [6.1 2.8 4.  1.3]\n",
      " [6.1 2.6 5.6 1.4]\n",
      " [6.4 3.2 4.5 1.5]]\n",
      "[[0.80555556 0.63636364 0.85       1.26315789]\n",
      " [0.83333333 0.5        0.66666667 0.52631579]\n",
      " [0.76388889 0.95454545 0.23333333 0.10526316]\n",
      " [1.01388889 0.65909091 1.05       0.94736842]\n",
      " [0.69444444 0.77272727 0.25       0.10526316]\n",
      " [0.875      0.75       1.         1.31578947]\n",
      " [0.69444444 0.79545455 0.21666667 0.15789474]\n",
      " [0.93055556 0.70454545 0.78333333 0.78947368]\n",
      " [0.94444444 0.63636364 0.8        0.73684211]\n",
      " [0.84722222 0.63636364 0.66666667 0.68421053]\n",
      " [0.84722222 0.59090909 0.93333333 0.73684211]\n",
      " [0.88888889 0.72727273 0.75       0.78947368]]\n",
      "\n",
      "Máximos\n",
      "[7.2 4.4 6.  1.9]\n"
     ]
    }
   ],
   "metadata": {}
  },
  {
   "cell_type": "markdown",
   "source": [
    "Transformação - Mudança de Escala - Max-Min"
   ],
   "metadata": {}
  },
  {
   "cell_type": "code",
   "execution_count": 9,
   "source": [
    "min_max_scaler = preprocessing.MinMaxScaler()\r\n",
    "\r\n",
    "X_train_minmax = min_max_scaler.fit_transform(X_train)\r\n",
    "print ('Train')\r\n",
    "print(X_train_minmax)\r\n",
    "\r\n",
    "X_test_minmax = min_max_scaler.transform(X_test)\r\n",
    "print ('\\nTest')\r\n",
    "print(X_test_minmax)\r\n",
    "\r\n",
    "min_max_scaler = preprocessing.MinMaxScaler(feature_range=(10,20))\r\n",
    "\r\n",
    "X_train_minmax = min_max_scaler.fit_transform(X_train)\r\n",
    "print ('\\nTrain')\r\n",
    "print(X_train_minmax)\r\n",
    "\r\n",
    "X_test_minmax = min_max_scaler.transform(X_test)\r\n",
    "print ('\\nTest')\r\n",
    "print(X_test_minmax)"
   ],
   "outputs": [
    {
     "output_type": "stream",
     "name": "stdout",
     "text": [
      "Train\n",
      "[[0.5862069  0.47368421 0.69387755 0.83333333]\n",
      " [0.17241379 0.31578947 0.10204082 0.05555556]\n",
      " [0.51724138 0.10526316 0.81632653 1.        ]\n",
      " [0.44827586 0.10526316 0.63265306 0.66666667]\n",
      " [0.44827586 0.21052632 0.51020408 0.66666667]\n",
      " [0.4137931  0.         0.59183673 0.66666667]\n",
      " [0.62068966 0.26315789 0.71428571 0.72222222]\n",
      " [1.         0.36842105 1.         0.94444444]\n",
      " [0.34482759 0.63157895 0.08163265 0.05555556]\n",
      " [0.         0.26315789 0.         0.        ]\n",
      " [0.72413793 0.10526316 0.85714286 1.        ]\n",
      " [0.48275862 0.26315789 0.63265306 0.61111111]\n",
      " [0.37931034 0.47368421 0.12244898 0.05555556]\n",
      " [0.48275862 1.         0.08163265 0.16666667]\n",
      " [0.89655172 0.31578947 0.7755102  0.77777778]\n",
      " [0.10344828 0.31578947 0.08163265 0.05555556]\n",
      " [0.55172414 0.26315789 0.81632653 0.94444444]\n",
      " [0.27586207 0.         0.3877551  0.55555556]]\n",
      "\n",
      "Test\n",
      "[[ 0.51724138  0.15789474  0.81632653  1.27777778]\n",
      " [ 0.5862069  -0.15789474  0.59183673  0.5       ]\n",
      " [ 0.4137931   0.89473684  0.06122449  0.05555556]\n",
      " [ 1.03448276  0.21052632  1.06122449  0.94444444]\n",
      " [ 0.24137931  0.47368421  0.08163265  0.05555556]\n",
      " [ 0.68965517  0.42105263  1.          1.33333333]\n",
      " [ 0.24137931  0.52631579  0.04081633  0.11111111]\n",
      " [ 0.82758621  0.31578947  0.73469388  0.77777778]\n",
      " [ 0.86206897  0.15789474  0.75510204  0.72222222]\n",
      " [ 0.62068966  0.15789474  0.59183673  0.66666667]\n",
      " [ 0.62068966  0.05263158  0.91836735  0.72222222]\n",
      " [ 0.72413793  0.36842105  0.69387755  0.77777778]]\n",
      "\n",
      "Train\n",
      "[[15.86206897 14.73684211 16.93877551 18.33333333]\n",
      " [11.72413793 13.15789474 11.02040816 10.55555556]\n",
      " [15.17241379 11.05263158 18.16326531 20.        ]\n",
      " [14.48275862 11.05263158 16.32653061 16.66666667]\n",
      " [14.48275862 12.10526316 15.10204082 16.66666667]\n",
      " [14.13793103 10.         15.91836735 16.66666667]\n",
      " [16.20689655 12.63157895 17.14285714 17.22222222]\n",
      " [20.         13.68421053 20.         19.44444444]\n",
      " [13.44827586 16.31578947 10.81632653 10.55555556]\n",
      " [10.         12.63157895 10.         10.        ]\n",
      " [17.24137931 11.05263158 18.57142857 20.        ]\n",
      " [14.82758621 12.63157895 16.32653061 16.11111111]\n",
      " [13.79310345 14.73684211 11.2244898  10.55555556]\n",
      " [14.82758621 20.         10.81632653 11.66666667]\n",
      " [18.96551724 13.15789474 17.75510204 17.77777778]\n",
      " [11.03448276 13.15789474 10.81632653 10.55555556]\n",
      " [15.51724138 12.63157895 18.16326531 19.44444444]\n",
      " [12.75862069 10.         13.87755102 15.55555556]]\n",
      "\n",
      "Test\n",
      "[[15.17241379 11.57894737 18.16326531 22.77777778]\n",
      " [15.86206897  8.42105263 15.91836735 15.        ]\n",
      " [14.13793103 18.94736842 10.6122449  10.55555556]\n",
      " [20.34482759 12.10526316 20.6122449  19.44444444]\n",
      " [12.4137931  14.73684211 10.81632653 10.55555556]\n",
      " [16.89655172 14.21052632 20.         23.33333333]\n",
      " [12.4137931  15.26315789 10.40816327 11.11111111]\n",
      " [18.27586207 13.15789474 17.34693878 17.77777778]\n",
      " [18.62068966 11.57894737 17.55102041 17.22222222]\n",
      " [16.20689655 11.57894737 15.91836735 16.66666667]\n",
      " [16.20689655 10.52631579 19.18367347 17.22222222]\n",
      " [17.24137931 13.68421053 16.93877551 17.77777778]]\n"
     ]
    }
   ],
   "metadata": {}
  },
  {
   "cell_type": "markdown",
   "source": [
    "Transformação - Padronização"
   ],
   "metadata": {}
  },
  {
   "cell_type": "code",
   "execution_count": 10,
   "source": [
    "scaler = preprocessing.StandardScaler().fit(X_train)\r\n",
    "X_train_scaler = scaler.transform(X_train)\r\n",
    "print ('Train')\r\n",
    "print(X_train_scaler)\r\n",
    "\r\n",
    "X_test_scaler = scaler.transform(X_test)\r\n",
    "print ('\\nTest')\r\n",
    "print(X_test_scaler)\r\n",
    "\r\n",
    "X_scaled = preprocessing.scale(X_train)\r\n",
    "print ('\\nMean: ', X_scaled.mean(axis=0))\r\n",
    "print ('Standard Deviation: ', X_scaled.std(axis=0))"
   ],
   "outputs": [
    {
     "output_type": "stream",
     "name": "stdout",
     "text": [
      "Train\n",
      "[[ 0.47654796  0.72957418  0.61928848  0.8030962 ]\n",
      " [-1.21090055  0.05031546 -1.21746486 -1.3498851 ]\n",
      " [ 0.19530654 -0.85536283  0.99930642  1.26444933]\n",
      " [-0.08593488 -0.85536283  0.42927952  0.34174306]\n",
      " [-0.08593488 -0.40252368  0.04926158  0.34174306]\n",
      " [-0.22655559 -1.30820197  0.30260687  0.34174306]\n",
      " [ 0.61716867 -0.17610411  0.68262481  0.49552744]\n",
      " [ 2.16399646  0.27673503  1.56933331  1.11066496]\n",
      " [-0.507797    1.4088329  -1.28080118 -1.3498851 ]\n",
      " [-1.91400409 -0.17610411 -1.53414647 -1.50366948]\n",
      " [ 1.03903079 -0.85536283  1.12597906  1.26444933]\n",
      " [ 0.05468583 -0.17610411  0.42927952  0.18795868]\n",
      " [-0.36717629  0.72957418 -1.15412854 -1.3498851 ]\n",
      " [ 0.05468583  2.9937699  -1.28080118 -1.04231634]\n",
      " [ 1.74213434  0.05031546  0.87263377  0.64931182]\n",
      " [-1.49214196  0.05031546 -1.28080118 -1.3498851 ]\n",
      " [ 0.33592725 -0.17610411  0.99930642  1.11066496]\n",
      " [-0.78903842 -1.30820197 -0.33075635  0.03417431]]\n",
      "\n",
      "Test\n",
      "[[ 0.19530654 -0.62894326  0.99930642  2.03337123]\n",
      " [ 0.47654796 -1.98746069  0.30260687 -0.11961007]\n",
      " [-0.22655559  2.54093076 -1.3441375  -1.3498851 ]\n",
      " [ 2.30461717 -0.40252368  1.75934228  1.11066496]\n",
      " [-0.92965913  0.72957418 -1.28080118 -1.3498851 ]\n",
      " [ 0.89841008  0.50315461  1.56933331  2.1871556 ]\n",
      " [-0.92965913  0.95599375 -1.40747382 -1.19610072]\n",
      " [ 1.46089292  0.05031546  0.74596113  0.64931182]\n",
      " [ 1.60151363 -0.62894326  0.80929745  0.49552744]\n",
      " [ 0.61716867 -0.62894326  0.30260687  0.34174306]\n",
      " [ 0.61716867 -1.0817824   1.31598803  0.49552744]\n",
      " [ 1.03903079  0.27673503  0.61928848  0.64931182]]\n",
      "\n",
      "Mean:  [-4.87264550e-16  7.77156117e-16 -2.15876699e-16  6.59194921e-17]\n",
      "Standard Deviation:  [1. 1. 1. 1.]\n"
     ]
    }
   ],
   "metadata": {}
  },
  {
   "cell_type": "markdown",
   "source": [
    "Padronização com Múltiplas Rodadas de Validação Cruzada Estratificada"
   ],
   "metadata": {}
  },
  {
   "cell_type": "code",
   "execution_count": 11,
   "source": [
    "import numpy as np\r\n",
    "from sklearn import datasets\r\n",
    "from scipy import stats\r\n",
    "from sklearn.model_selection import cross_val_score, RepeatedStratifiedKFold\r\n",
    "from sklearn.neighbors import KNeighborsClassifier\r\n",
    "from sklearn.preprocessing import StandardScaler\r\n",
    "from sklearn.pipeline import Pipeline\r\n",
    "\r\n",
    "iris = datasets.load_iris()\r\n",
    "iris_X = iris.data\r\n",
    "iris_y = iris.target\r\n",
    "\r\n",
    "scalar = StandardScaler()\r\n",
    "\r\n",
    "kNN = KNeighborsClassifier()\r\n",
    "\r\n",
    "pipeline = Pipeline([('transformer', scalar), ('estimator', kNN)])\r\n",
    "\r\n",
    "rkf = RepeatedStratifiedKFold(n_splits=5, n_repeats=6)\r\n",
    "\r\n",
    "scores = cross_val_score(pipeline, iris_X, iris_y, scoring='accuracy', \r\n",
    "                         cv = rkf)\r\n",
    "print(scores)\r\n",
    "\r\n",
    "mean = scores.mean()\r\n",
    "std = scores.std()\r\n",
    "inf, sup = stats.norm.interval(0.95, loc=mean, \r\n",
    "                               scale=std/np.sqrt(len(scores)))\r\n",
    "\r\n",
    "print(\"\\nMean Accuracy: %0.2f Standard Deviation: %0.2f\" % (mean, std))\r\n",
    "print (\"Accuracy Confidence Interval (95%%): (%0.2f, %0.2f)\\n\" % \r\n",
    "       (inf, sup)) "
   ],
   "outputs": [
    {
     "output_type": "stream",
     "name": "stdout",
     "text": [
      "[0.9        0.96666667 0.96666667 1.         0.96666667 0.83333333\n",
      " 0.93333333 0.96666667 1.         1.         0.9        1.\n",
      " 1.         1.         0.96666667 1.         0.96666667 0.96666667\n",
      " 0.86666667 0.96666667 1.         1.         0.83333333 0.93333333\n",
      " 0.86666667 0.93333333 0.96666667 0.93333333 0.93333333 0.96666667]\n",
      "\n",
      "Mean Accuracy: 0.95 Standard Deviation: 0.05\n",
      "Accuracy Confidence Interval (95%): (0.93, 0.97)\n",
      "\n"
     ]
    }
   ],
   "metadata": {}
  },
  {
   "cell_type": "markdown",
   "source": [
    "Padronização com Múltiplas Rodadas de Validação Cruzada Aninhada Estratificada"
   ],
   "metadata": {}
  },
  {
   "cell_type": "code",
   "execution_count": 12,
   "source": [
    "from sklearn.model_selection import GridSearchCV\r\n",
    "\r\n",
    "grade={'estimator__n_neighbors': [1,3,5]}\r\n",
    "\r\n",
    "rkf = RepeatedStratifiedKFold(n_splits=10, n_repeats=3)\r\n",
    "\r\n",
    "gs = GridSearchCV(estimator=pipeline, param_grid = grade, \r\n",
    "                  scoring='accuracy', cv = 4)\r\n",
    "\r\n",
    "scores = cross_val_score(gs, iris_X, iris_y, scoring='accuracy', \r\n",
    "                         cv = rkf)\r\n",
    "print(scores)\r\n",
    "\r\n",
    "mean = scores.mean()\r\n",
    "std = scores.std()\r\n",
    "inf, sup = stats.norm.interval(0.95, loc=mean, \r\n",
    "                               scale=std/np.sqrt(len(scores)))\r\n",
    "\r\n",
    "print(\"\\nMean Accuracy: %0.2f Standard Deviation: %0.2f\" % (mean, std))\r\n",
    "print (\"Accuracy Confidence Interval (95%%): (%0.2f, %0.2f)\\n\" % \r\n",
    "       (inf, sup)) "
   ],
   "outputs": [
    {
     "output_type": "stream",
     "name": "stdout",
     "text": [
      "[1.         0.93333333 0.86666667 0.93333333 1.         0.93333333\n",
      " 1.         0.8        1.         0.93333333 0.93333333 1.\n",
      " 1.         1.         1.         0.93333333 0.93333333 0.8\n",
      " 1.         0.93333333 0.8        0.86666667 1.         1.\n",
      " 1.         1.         1.         0.93333333 0.86666667 1.        ]\n",
      "\n",
      "Mean Accuracy: 0.95 Standard Deviation: 0.07\n",
      "Accuracy Confidence Interval (95%): (0.92, 0.97)\n",
      "\n"
     ]
    }
   ],
   "metadata": {}
  },
  {
   "cell_type": "markdown",
   "source": [
    "Transformação - Discretização em Intervalos de Igual Frequência"
   ],
   "metadata": {}
  },
  {
   "cell_type": "code",
   "execution_count": 13,
   "source": [
    "est = preprocessing.KBinsDiscretizer(n_bins=[3, 2, 2, 4], \r\n",
    "                                     encode='ordinal').fit(X_train)\r\n",
    "X_bin = est.transform(X_train)\r\n",
    "print(X_bin)"
   ],
   "outputs": [
    {
     "output_type": "stream",
     "name": "stdout",
     "text": [
      "[[2. 1. 1. 3.]\n",
      " [0. 1. 0. 0.]\n",
      " [1. 0. 1. 3.]\n",
      " [1. 0. 1. 2.]\n",
      " [1. 0. 0. 2.]\n",
      " [1. 0. 0. 2.]\n",
      " [2. 1. 1. 2.]\n",
      " [2. 1. 1. 3.]\n",
      " [0. 1. 0. 0.]\n",
      " [0. 1. 0. 0.]\n",
      " [2. 0. 1. 3.]\n",
      " [1. 1. 1. 1.]\n",
      " [0. 1. 0. 0.]\n",
      " [1. 1. 0. 1.]\n",
      " [2. 1. 1. 2.]\n",
      " [0. 1. 0. 0.]\n",
      " [2. 1. 1. 3.]\n",
      " [0. 0. 0. 1.]]\n"
     ]
    }
   ],
   "metadata": {}
  },
  {
   "cell_type": "markdown",
   "source": [
    "Transformação - Discretização em Intervalos de Igual Tamanho"
   ],
   "metadata": {}
  },
  {
   "cell_type": "code",
   "execution_count": 14,
   "source": [
    "est = preprocessing.KBinsDiscretizer(n_bins=[3, 2, 2, 4], \r\n",
    "                    encode='ordinal', strategy='uniform').fit(X_train)\r\n",
    "X_bin = est.transform(X_train)\r\n",
    "print(X_bin)"
   ],
   "outputs": [
    {
     "output_type": "stream",
     "name": "stdout",
     "text": [
      "[[1. 0. 1. 3.]\n",
      " [0. 0. 0. 0.]\n",
      " [1. 0. 1. 3.]\n",
      " [1. 0. 1. 2.]\n",
      " [1. 0. 1. 2.]\n",
      " [1. 0. 1. 2.]\n",
      " [1. 0. 1. 2.]\n",
      " [2. 0. 1. 3.]\n",
      " [1. 1. 0. 0.]\n",
      " [0. 0. 0. 0.]\n",
      " [2. 0. 1. 3.]\n",
      " [1. 0. 1. 2.]\n",
      " [1. 0. 0. 0.]\n",
      " [1. 1. 0. 0.]\n",
      " [2. 0. 1. 3.]\n",
      " [0. 0. 0. 0.]\n",
      " [1. 0. 1. 3.]\n",
      " [0. 0. 0. 2.]]\n"
     ]
    }
   ],
   "metadata": {}
  },
  {
   "cell_type": "markdown",
   "source": [
    "Transformação - Discretização em Intervalos com Agrupamento Kmeans sobre as Características"
   ],
   "metadata": {}
  },
  {
   "cell_type": "code",
   "execution_count": 15,
   "source": [
    "est = preprocessing.KBinsDiscretizer(n_bins=[3, 2, 2, 4], \r\n",
    "                    encode='ordinal', strategy='kmeans').fit(X_train)\r\n",
    "X_bin = est.transform(X_train)\r\n",
    "print(X_bin)"
   ],
   "outputs": [
    {
     "output_type": "stream",
     "name": "stdout",
     "text": [
      "[[1. 0. 1. 2.]\n",
      " [0. 0. 0. 0.]\n",
      " [1. 0. 1. 3.]\n",
      " [1. 0. 1. 1.]\n",
      " [1. 0. 1. 1.]\n",
      " [1. 0. 1. 1.]\n",
      " [1. 0. 1. 1.]\n",
      " [2. 0. 1. 3.]\n",
      " [1. 1. 0. 0.]\n",
      " [0. 0. 0. 0.]\n",
      " [2. 0. 1. 3.]\n",
      " [1. 0. 1. 1.]\n",
      " [1. 0. 0. 0.]\n",
      " [1. 1. 0. 0.]\n",
      " [2. 0. 1. 2.]\n",
      " [0. 0. 0. 0.]\n",
      " [1. 0. 1. 3.]\n",
      " [0. 0. 0. 1.]]\n"
     ]
    }
   ],
   "metadata": {}
  },
  {
   "cell_type": "markdown",
   "source": [
    "Discretização com Múltiplas Rodadas de Validação Cruzada Aninhada Estratificada"
   ],
   "metadata": {}
  },
  {
   "cell_type": "code",
   "execution_count": 16,
   "source": [
    "from sklearn.preprocessing import KBinsDiscretizer, StandardScaler\r\n",
    "from numpy import unique\r\n",
    "\r\n",
    "ncl = len(unique (iris_y))\r\n",
    "(_, ncr) = iris_X.shape\r\n",
    "nb = [2*ncl]*ncr\r\n",
    "\r\n",
    "discret = KBinsDiscretizer(n_bins=nb, encode='ordinal', \r\n",
    "                           strategy='kmeans')\r\n",
    "scalar = StandardScaler()\r\n",
    "\r\n",
    "pipeline = Pipeline([('transformer', scalar), ('discretizer', discret),\r\n",
    "                     ('estimator', kNN)])\r\n",
    "\r\n",
    "\r\n",
    "grade={'estimator__n_neighbors': [1,3,5]}\r\n",
    "\r\n",
    "rkf = RepeatedStratifiedKFold(n_splits=5, n_repeats=6)\r\n",
    "\r\n",
    "gs = GridSearchCV(estimator=pipeline, param_grid = grade, \r\n",
    "                  scoring='accuracy', cv = 4)\r\n",
    "\r\n",
    "scores = cross_val_score(gs, iris_X, iris_y, scoring='accuracy', \r\n",
    "                         cv = rkf)\r\n",
    "print(scores)\r\n",
    "\r\n",
    "mean = scores.mean()\r\n",
    "std = scores.std()\r\n",
    "inf, sup = stats.norm.interval(0.95, loc=mean, \r\n",
    "                               scale=std/np.sqrt(len(scores)))\r\n",
    "\r\n",
    "print(\"\\nMean Accuracy: %0.2f Standard Deviation: %0.2f\" % (mean, std))\r\n",
    "print (\"Accuracy Confidence Interval (95%%): (%0.2f, %0.2f)\\n\" % \r\n",
    "       (inf, sup)) "
   ],
   "outputs": [
    {
     "output_type": "stream",
     "name": "stdout",
     "text": [
      "[0.9        0.96666667 0.93333333 0.93333333 1.         0.96666667\n",
      " 0.93333333 0.96666667 1.         0.96666667 0.86666667 0.93333333\n",
      " 0.96666667 0.9        1.         0.96666667 1.         1.\n",
      " 0.93333333 0.93333333 1.         0.93333333 0.93333333 0.93333333\n",
      " 0.96666667 1.         0.9        0.93333333 0.96666667 0.96666667]\n",
      "\n",
      "Mean Accuracy: 0.95 Standard Deviation: 0.04\n",
      "Accuracy Confidence Interval (95%): (0.94, 0.97)\n",
      "\n"
     ]
    }
   ],
   "metadata": {}
  },
  {
   "cell_type": "markdown",
   "source": [
    "Adaptação - Nominais para Binários"
   ],
   "metadata": {}
  },
  {
   "cell_type": "code",
   "execution_count": 11,
   "source": [
    "import pandas as pd\r\n",
    "import numpy as np\r\n",
    "\r\n",
    "df = pd.DataFrame([['green', 'M', 10.1, 'class1'], \r\n",
    "                   ['red', 'L', 13.5, 'class2'],\r\n",
    "                   ['blue', 'XL', 15.3, 'class1']])\r\n",
    "df.columns = ['color', 'size', 'price', 'classlabel']\r\n",
    "print(df)\r\n",
    "\r\n",
    "size_mapping = {'XL': 3.0, 'L': 2.0, 'M': 1.0}\r\n",
    "df['size'] = df['size'].map(size_mapping)\r\n",
    "print('\\n', df)\r\n",
    "\r\n",
    "enc = preprocessing.OrdinalEncoder()\r\n",
    "enc.fit(df[[\"classlabel\"]]) \r\n",
    "df[[\"classlabel\"]] = enc.transform(df[[\"classlabel\"]])\r\n",
    "print('\\n', df)\r\n",
    "\r\n",
    "data = np.asarray(df[[\"color\"]])\r\n",
    "print('\\n', data)\r\n",
    "encoder = preprocessing.OneHotEncoder(sparse=False)\r\n",
    "onehot = encoder.fit_transform(data)\r\n",
    "print('\\nOnehot\\n', onehot)\r\n",
    "\r\n",
    "df = pd.get_dummies(df[['color', 'size', 'price', 'classlabel']])\r\n",
    "print('\\n', df)"
   ],
   "outputs": [
    {
     "output_type": "stream",
     "name": "stdout",
     "text": [
      "   color size  price classlabel\n",
      "0  green    M   10.1     class1\n",
      "1    red    L   13.5     class2\n",
      "2   blue   XL   15.3     class1\n",
      "\n",
      "    price  color_blue  color_green  color_red  size_L  size_M  size_XL  \\\n",
      "0   10.1           0            1          0       0       1        0   \n",
      "1   13.5           0            0          1       1       0        0   \n",
      "2   15.3           1            0          0       0       0        1   \n",
      "\n",
      "   classlabel_class1  classlabel_class2  \n",
      "0                  1                  0  \n",
      "1                  0                  1  \n",
      "2                  1                  0  \n"
     ]
    }
   ],
   "metadata": {}
  },
  {
   "cell_type": "markdown",
   "source": [
    "Extração de Características - Análise de Componentes Principais"
   ],
   "metadata": {}
  },
  {
   "cell_type": "code",
   "execution_count": 18,
   "source": [
    "from sklearn.decomposition import PCA\r\n",
    "\r\n",
    "pca = PCA(n_components=2)\r\n",
    "X_tr = pca.fit(X_train)\r\n",
    "X_ts = X_tr.transform(X_test)\r\n",
    "print(X_test)\r\n",
    "print(X_ts)"
   ],
   "outputs": [
    {
     "output_type": "stream",
     "name": "stdout",
     "text": [
      "[[5.8 2.8 5.1 2.4]\n",
      " [6.  2.2 4.  1. ]\n",
      " [5.5 4.2 1.4 0.2]\n",
      " [7.3 2.9 6.3 1.8]\n",
      " [5.  3.4 1.5 0.2]\n",
      " [6.3 3.3 6.  2.5]\n",
      " [5.  3.5 1.3 0.3]\n",
      " [6.7 3.1 4.7 1.5]\n",
      " [6.8 2.8 4.8 1.4]\n",
      " [6.1 2.8 4.  1.3]\n",
      " [6.1 2.6 5.6 1.4]\n",
      " [6.4 3.2 4.5 1.5]]\n",
      "[[ 1.9092014  -0.47261928]\n",
      " [ 0.58944788 -0.4505904 ]\n",
      " [-2.31943369  1.07126506]\n",
      " [ 3.2325202   0.54168984]\n",
      " [-2.31862203  0.14836061]\n",
      " [ 2.84325098  0.10063826]\n",
      " [-2.4676125   0.23108654]\n",
      " [ 1.51598835  0.51547008]\n",
      " [ 1.63143132  0.368244  ]\n",
      " [ 0.66745378  0.00793265]\n",
      " [ 2.11408186 -0.34228403]\n",
      " [ 1.23204601  0.40997779]]\n"
     ]
    }
   ],
   "metadata": {}
  },
  {
   "cell_type": "markdown",
   "source": [
    "Seleção de Características - Remoção de Características com Baixa Variância"
   ],
   "metadata": {}
  },
  {
   "cell_type": "code",
   "execution_count": 19,
   "source": [
    "from sklearn.feature_selection import VarianceThreshold\r\n",
    "\r\n",
    "X = [[0, 1, 1], [0, 1, 0], [1, 1, 0], [0, 1, 1], [0, 1, 0], [0, 1, 1]]\r\n",
    "\r\n",
    "sel = VarianceThreshold()\r\n",
    "X_t = sel.fit_transform(X)\r\n",
    "print(X_t)\r\n",
    "\r\n",
    "X = [[0, 0, 1], [0, 1, 0], [1, 0, 0], [0, 1, 1], [0, 1, 0], [0, 1, 1]]\r\n",
    "\r\n",
    "sel = VarianceThreshold(threshold=(.8 * (1 - .8)))\r\n",
    "X_t = sel.fit_transform(X)\r\n",
    "print('\\n', X_t)"
   ],
   "outputs": [
    {
     "output_type": "stream",
     "name": "stdout",
     "text": [
      "[[0 1]\n",
      " [0 0]\n",
      " [1 0]\n",
      " [0 1]\n",
      " [0 0]\n",
      " [0 1]]\n",
      "\n",
      " [[0 1]\n",
      " [1 0]\n",
      " [0 0]\n",
      " [1 1]\n",
      " [1 0]\n",
      " [1 1]]\n"
     ]
    }
   ],
   "metadata": {}
  },
  {
   "cell_type": "markdown",
   "source": [
    "Seleção de Características - Por Ranqueamento Univariado"
   ],
   "metadata": {}
  },
  {
   "cell_type": "code",
   "execution_count": 20,
   "source": [
    "from sklearn.feature_selection import SelectKBest\r\n",
    "from sklearn.feature_selection import chi2\r\n",
    "\r\n",
    "X_train, X_test, y_train, y_test = train_test_split(\r\n",
    "    iris.data, iris.target, test_size=0.4, random_state=0)\r\n",
    "X_b = SelectKBest(chi2, k=2).fit_transform(X_train, y_train)\r\n",
    "print (X_train)\r\n",
    "print (X_b)"
   ],
   "outputs": [
    {
     "output_type": "stream",
     "name": "stdout",
     "text": [
      "[[6.  3.4 4.5 1.6]\n",
      " [4.8 3.1 1.6 0.2]\n",
      " [5.8 2.7 5.1 1.9]\n",
      " [5.6 2.7 4.2 1.3]\n",
      " [5.6 2.9 3.6 1.3]\n",
      " [5.5 2.5 4.  1.3]\n",
      " [6.1 3.  4.6 1.4]\n",
      " [7.2 3.2 6.  1.8]\n",
      " [5.3 3.7 1.5 0.2]\n",
      " [4.3 3.  1.1 0.1]\n",
      " [6.4 2.7 5.3 1.9]\n",
      " [5.7 3.  4.2 1.2]\n",
      " [5.4 3.4 1.7 0.2]\n",
      " [5.7 4.4 1.5 0.4]\n",
      " [6.9 3.1 4.9 1.5]\n",
      " [4.6 3.1 1.5 0.2]\n",
      " [5.9 3.  5.1 1.8]\n",
      " [5.1 2.5 3.  1.1]\n",
      " [4.6 3.4 1.4 0.3]\n",
      " [6.2 2.2 4.5 1.5]\n",
      " [7.2 3.6 6.1 2.5]\n",
      " [5.7 2.9 4.2 1.3]\n",
      " [4.8 3.  1.4 0.1]\n",
      " [7.1 3.  5.9 2.1]\n",
      " [6.9 3.2 5.7 2.3]\n",
      " [6.5 3.  5.8 2.2]\n",
      " [6.4 2.8 5.6 2.1]\n",
      " [5.1 3.8 1.6 0.2]\n",
      " [4.8 3.4 1.6 0.2]\n",
      " [6.5 3.2 5.1 2. ]\n",
      " [6.7 3.3 5.7 2.1]\n",
      " [4.5 2.3 1.3 0.3]\n",
      " [6.2 3.4 5.4 2.3]\n",
      " [4.9 3.  1.4 0.2]\n",
      " [5.7 2.5 5.  2. ]\n",
      " [6.9 3.1 5.4 2.1]\n",
      " [4.4 3.2 1.3 0.2]\n",
      " [5.  3.6 1.4 0.2]\n",
      " [7.2 3.  5.8 1.6]\n",
      " [5.1 3.5 1.4 0.3]\n",
      " [4.4 3.  1.3 0.2]\n",
      " [5.4 3.9 1.7 0.4]\n",
      " [5.5 2.3 4.  1.3]\n",
      " [6.8 3.2 5.9 2.3]\n",
      " [7.6 3.  6.6 2.1]\n",
      " [5.1 3.5 1.4 0.2]\n",
      " [4.9 3.1 1.5 0.2]\n",
      " [5.2 3.4 1.4 0.2]\n",
      " [5.7 2.8 4.5 1.3]\n",
      " [6.6 3.  4.4 1.4]\n",
      " [5.  3.2 1.2 0.2]\n",
      " [5.1 3.3 1.7 0.5]\n",
      " [6.4 2.9 4.3 1.3]\n",
      " [5.4 3.4 1.5 0.4]\n",
      " [7.7 2.6 6.9 2.3]\n",
      " [4.9 2.4 3.3 1. ]\n",
      " [7.9 3.8 6.4 2. ]\n",
      " [6.7 3.1 4.4 1.4]\n",
      " [5.2 4.1 1.5 0.1]\n",
      " [6.  3.  4.8 1.8]\n",
      " [5.8 4.  1.2 0.2]\n",
      " [7.7 2.8 6.7 2. ]\n",
      " [5.1 3.8 1.5 0.3]\n",
      " [4.7 3.2 1.6 0.2]\n",
      " [7.4 2.8 6.1 1.9]\n",
      " [5.  3.3 1.4 0.2]\n",
      " [6.3 3.4 5.6 2.4]\n",
      " [5.7 2.8 4.1 1.3]\n",
      " [5.8 2.7 3.9 1.2]\n",
      " [5.7 2.6 3.5 1. ]\n",
      " [6.4 3.2 5.3 2.3]\n",
      " [6.7 3.  5.2 2.3]\n",
      " [6.3 2.5 4.9 1.5]\n",
      " [6.7 3.  5.  1.7]\n",
      " [5.  3.  1.6 0.2]\n",
      " [5.5 2.4 3.7 1. ]\n",
      " [6.7 3.1 5.6 2.4]\n",
      " [5.8 2.7 5.1 1.9]\n",
      " [5.1 3.4 1.5 0.2]\n",
      " [6.6 2.9 4.6 1.3]\n",
      " [5.6 3.  4.1 1.3]\n",
      " [5.9 3.2 4.8 1.8]\n",
      " [6.3 2.3 4.4 1.3]\n",
      " [5.5 3.5 1.3 0.2]\n",
      " [5.1 3.7 1.5 0.4]\n",
      " [4.9 3.1 1.5 0.1]\n",
      " [6.3 2.9 5.6 1.8]\n",
      " [5.8 2.7 4.1 1. ]\n",
      " [7.7 3.8 6.7 2.2]\n",
      " [4.6 3.2 1.4 0.2]]\n",
      "[[4.5 1.6]\n",
      " [1.6 0.2]\n",
      " [5.1 1.9]\n",
      " [4.2 1.3]\n",
      " [3.6 1.3]\n",
      " [4.  1.3]\n",
      " [4.6 1.4]\n",
      " [6.  1.8]\n",
      " [1.5 0.2]\n",
      " [1.1 0.1]\n",
      " [5.3 1.9]\n",
      " [4.2 1.2]\n",
      " [1.7 0.2]\n",
      " [1.5 0.4]\n",
      " [4.9 1.5]\n",
      " [1.5 0.2]\n",
      " [5.1 1.8]\n",
      " [3.  1.1]\n",
      " [1.4 0.3]\n",
      " [4.5 1.5]\n",
      " [6.1 2.5]\n",
      " [4.2 1.3]\n",
      " [1.4 0.1]\n",
      " [5.9 2.1]\n",
      " [5.7 2.3]\n",
      " [5.8 2.2]\n",
      " [5.6 2.1]\n",
      " [1.6 0.2]\n",
      " [1.6 0.2]\n",
      " [5.1 2. ]\n",
      " [5.7 2.1]\n",
      " [1.3 0.3]\n",
      " [5.4 2.3]\n",
      " [1.4 0.2]\n",
      " [5.  2. ]\n",
      " [5.4 2.1]\n",
      " [1.3 0.2]\n",
      " [1.4 0.2]\n",
      " [5.8 1.6]\n",
      " [1.4 0.3]\n",
      " [1.3 0.2]\n",
      " [1.7 0.4]\n",
      " [4.  1.3]\n",
      " [5.9 2.3]\n",
      " [6.6 2.1]\n",
      " [1.4 0.2]\n",
      " [1.5 0.2]\n",
      " [1.4 0.2]\n",
      " [4.5 1.3]\n",
      " [4.4 1.4]\n",
      " [1.2 0.2]\n",
      " [1.7 0.5]\n",
      " [4.3 1.3]\n",
      " [1.5 0.4]\n",
      " [6.9 2.3]\n",
      " [3.3 1. ]\n",
      " [6.4 2. ]\n",
      " [4.4 1.4]\n",
      " [1.5 0.1]\n",
      " [4.8 1.8]\n",
      " [1.2 0.2]\n",
      " [6.7 2. ]\n",
      " [1.5 0.3]\n",
      " [1.6 0.2]\n",
      " [6.1 1.9]\n",
      " [1.4 0.2]\n",
      " [5.6 2.4]\n",
      " [4.1 1.3]\n",
      " [3.9 1.2]\n",
      " [3.5 1. ]\n",
      " [5.3 2.3]\n",
      " [5.2 2.3]\n",
      " [4.9 1.5]\n",
      " [5.  1.7]\n",
      " [1.6 0.2]\n",
      " [3.7 1. ]\n",
      " [5.6 2.4]\n",
      " [5.1 1.9]\n",
      " [1.5 0.2]\n",
      " [4.6 1.3]\n",
      " [4.1 1.3]\n",
      " [4.8 1.8]\n",
      " [4.4 1.3]\n",
      " [1.3 0.2]\n",
      " [1.5 0.4]\n",
      " [1.5 0.1]\n",
      " [5.6 1.8]\n",
      " [4.1 1. ]\n",
      " [6.7 2.2]\n",
      " [1.4 0.2]]\n"
     ]
    }
   ],
   "metadata": {
    "scrolled": false
   }
  },
  {
   "cell_type": "markdown",
   "source": [
    "Seleção de Características - Seleção Sequencial para Frente"
   ],
   "metadata": {}
  },
  {
   "cell_type": "code",
   "execution_count": 21,
   "source": [
    "from sklearn.neighbors import KNeighborsClassifier\r\n",
    "\r\n",
    "oneNN = KNeighborsClassifier(n_neighbors=1)\r\n",
    "\r\n",
    "from sklearn.feature_selection import SequentialFeatureSelector\r\n",
    "\r\n",
    "sfs_forward = SequentialFeatureSelector(oneNN, n_features_to_select=2,\r\n",
    "                direction='forward').fit(X_train, y_train)\r\n",
    "\r\n",
    "feature_names = np.array(iris.feature_names)\r\n",
    "\r\n",
    "print(\"Features selected by forward sequential selection: \")\r\n",
    "print(feature_names[sfs_forward.get_support()])"
   ],
   "outputs": [
    {
     "output_type": "stream",
     "name": "stdout",
     "text": [
      "Features selected by forward sequential selection: \n",
      "['sepal length (cm)' 'petal width (cm)']\n"
     ]
    }
   ],
   "metadata": {}
  },
  {
   "cell_type": "markdown",
   "source": [
    "Seleção de Características - Seleção Sequencial para Trás"
   ],
   "metadata": {}
  },
  {
   "cell_type": "code",
   "execution_count": 22,
   "source": [
    "sfs_backward = SequentialFeatureSelector(oneNN, n_features_to_select=1,\r\n",
    "                direction='backward').fit(X_train, y_train)\r\n",
    "\r\n",
    "\r\n",
    "print(\"Features selected by backward sequential selection: \")\r\n",
    "print(feature_names[sfs_backward.get_support()])"
   ],
   "outputs": [
    {
     "output_type": "stream",
     "name": "stdout",
     "text": [
      "Features selected by backward sequential selection: \n",
      "['petal width (cm)']\n"
     ]
    }
   ],
   "metadata": {}
  },
  {
   "cell_type": "markdown",
   "source": [
    "### Exercícios de Fixação"
   ],
   "metadata": {}
  },
  {
   "cell_type": "markdown",
   "source": [
    "1. Porque substituir um elemento ausente pelo mais frequente pode introduzir viés na base de dados? Defina bases Z_Train e Z_Test exatamente como X_Train e X_Test no exemplo de Mudança de Escala - Máximo neste notebook. Considere que o valor 1.5 representa um elemento ausente. Substitua as ocorrências de valores ausentes pelo valor mais frequente nas bases de treino Z_Train e na base de teste Z_Test. "
   ],
   "metadata": {}
  },
  {
   "cell_type": "markdown",
   "source": [
    "O que pode acontecer ao colocar um elemento mais frequente, é a maior chance de classificar as linhas erroneamente, pois tendo maior número de dados com essa nova informação, acaba compromentendo que tem a menor quantidade. Por exemplo, suponha que o valor mais frequente seja o valor mais alto do banco de dados, caso os dados sejam preenchidos com esse valor, os novos dados de teste terão maior chance de serem classificados como o maior dado erroneamente, já que não houve paramentro para o preenchimento dos elementos ausentes."
   ],
   "metadata": {}
  },
  {
   "cell_type": "code",
   "execution_count": 8,
   "source": [
    "from sklearn import datasets\r\n",
    "from sklearn.model_selection import train_test_split\r\n",
    "from sklearn.impute import SimpleImputer\r\n",
    "\r\n",
    "iris = datasets.load_iris()\r\n",
    "\r\n",
    "Z_train, Z_test, y_train, y_test = train_test_split(\r\n",
    "    iris.data, iris.target, test_size=0.4, random_state=0)\r\n",
    "\r\n",
    "Z_train = Z_train [:18]\r\n",
    "Z_test = Z_test [:12]\r\n",
    "\r\n",
    "imputer = SimpleImputer(strategy=\"most_frequent\", missing_values=1.5)\r\n",
    "\r\n",
    "print(imputer.fit_transform(Z_train))\r\n",
    "print(imputer.fit_transform(Z_test))\r\n",
    "\r\n"
   ],
   "outputs": [
    {
     "output_type": "stream",
     "name": "stdout",
     "text": [
      "[[6.  3.4 4.5 1.6]\n",
      " [4.8 3.1 1.6 0.2]\n",
      " [5.8 2.7 5.1 1.9]\n",
      " [5.6 2.7 4.2 1.3]\n",
      " [5.6 2.9 3.6 1.3]\n",
      " [5.5 2.5 4.  1.3]\n",
      " [6.1 3.  4.6 1.4]\n",
      " [7.2 3.2 6.  1.8]\n",
      " [5.3 3.7 4.2 0.2]\n",
      " [4.3 3.  1.1 0.1]\n",
      " [6.4 2.7 5.3 1.9]\n",
      " [5.7 3.  4.2 1.2]\n",
      " [5.4 3.4 1.7 0.2]\n",
      " [5.7 4.4 4.2 0.4]\n",
      " [6.9 3.1 4.9 0.2]\n",
      " [4.6 3.1 4.2 0.2]\n",
      " [5.9 3.  5.1 1.8]\n",
      " [5.1 2.5 3.  1.1]]\n",
      "[[5.8 2.8 5.1 2.4]\n",
      " [6.  2.2 4.  1. ]\n",
      " [5.5 4.2 1.4 0.2]\n",
      " [7.3 2.9 6.3 1.8]\n",
      " [5.  3.4 4.  0.2]\n",
      " [6.3 3.3 6.  2.5]\n",
      " [5.  3.5 1.3 0.3]\n",
      " [6.7 3.1 4.7 0.2]\n",
      " [6.8 2.8 4.8 1.4]\n",
      " [6.1 2.8 4.  1.3]\n",
      " [6.1 2.6 5.6 1.4]\n",
      " [6.4 3.2 4.5 0.2]]\n"
     ]
    }
   ],
   "metadata": {}
  },
  {
   "cell_type": "markdown",
   "source": [
    "2. Ruídos são dados muito diferentes que os usuais na base dados que normalmente necessitam ser removidos. Cite uma situação na qual a remoção de ruídos pode ser desinteressante."
   ],
   "metadata": {}
  },
  {
   "cell_type": "markdown",
   "source": [
    "A remoção de um ruído pode ser desinteressante caso você queira trabalhar com casos similares a clonagem de cartões, dividas fraudulentas, etc. Pois nesses casos são necessários a identificação outlier para verificar se aquela operação foi fraudulenta ou não. Geralmente essas operações fraudulentas, são outliers nessas bases."
   ],
   "metadata": {}
  },
  {
   "cell_type": "markdown",
   "source": [
    "3. Justifique porque a obtenção dos fatores de normalização não deve ser realizada na base de dados completa, apenas na base de treinamento. Padronize a base Z_Train e utilize os mesmos fatores de normalização para padronizar a base Z_Test. Atenção: crie novas bases para não alterar a definição original de Z_Train e Z_Test."
   ],
   "metadata": {}
  },
  {
   "cell_type": "markdown",
   "source": [
    "A normalização não pode ser feita na base de testes, porque caimos no problema de enchergar dados que não temos, fazendo com que o treinamento seja inválido. O correto é utilizar na base de treinamento, guardar os dados e após isso normalizar a base de testes."
   ],
   "metadata": {}
  },
  {
   "cell_type": "code",
   "execution_count": 13,
   "source": [
    "from sklearn import datasets\r\n",
    "from sklearn.model_selection import train_test_split\r\n",
    "from sklearn.impute import SimpleImputer\r\n",
    "from sklearn import preprocessing\r\n",
    "\r\n",
    "iris = datasets.load_iris()\r\n",
    "\r\n",
    "train, test, trainY, testY = train_test_split(\r\n",
    "    iris.data, iris.target, test_size=0.4, random_state=0)\r\n",
    "\r\n",
    "train = train [:18]\r\n",
    "test = test [:12]\r\n",
    "\r\n",
    "imputer = SimpleImputer(strategy=\"most_frequent\", missing_values=1.5)\r\n",
    "\r\n",
    "train = imputer.fit_transform(train)\r\n",
    "test = imputer.fit_transform(test)\r\n",
    "\r\n",
    "minMaxScaler =  preprocessing.MinMaxScaler()\r\n",
    "\r\n",
    "normalizedTrain =minMaxScaler.fit_transform(train)\r\n",
    "normalizedTest = minMaxScaler.transform(test)\r\n",
    "\r\n",
    "print(normalizedTrain)\r\n",
    "print(normalizedTest)\r\n"
   ],
   "outputs": [
    {
     "output_type": "stream",
     "name": "stdout",
     "text": [
      "[[0.5862069  0.47368421 0.69387755 0.83333333]\n",
      " [0.17241379 0.31578947 0.10204082 0.05555556]\n",
      " [0.51724138 0.10526316 0.81632653 1.        ]\n",
      " [0.44827586 0.10526316 0.63265306 0.66666667]\n",
      " [0.44827586 0.21052632 0.51020408 0.66666667]\n",
      " [0.4137931  0.         0.59183673 0.66666667]\n",
      " [0.62068966 0.26315789 0.71428571 0.72222222]\n",
      " [1.         0.36842105 1.         0.94444444]\n",
      " [0.34482759 0.63157895 0.63265306 0.05555556]\n",
      " [0.         0.26315789 0.         0.        ]\n",
      " [0.72413793 0.10526316 0.85714286 1.        ]\n",
      " [0.48275862 0.26315789 0.63265306 0.61111111]\n",
      " [0.37931034 0.47368421 0.12244898 0.05555556]\n",
      " [0.48275862 1.         0.63265306 0.16666667]\n",
      " [0.89655172 0.31578947 0.7755102  0.05555556]\n",
      " [0.10344828 0.31578947 0.63265306 0.05555556]\n",
      " [0.55172414 0.26315789 0.81632653 0.94444444]\n",
      " [0.27586207 0.         0.3877551  0.55555556]]\n",
      "[[ 0.51724138  0.15789474  0.81632653  1.27777778]\n",
      " [ 0.5862069  -0.15789474  0.59183673  0.5       ]\n",
      " [ 0.4137931   0.89473684  0.06122449  0.05555556]\n",
      " [ 1.03448276  0.21052632  1.06122449  0.94444444]\n",
      " [ 0.24137931  0.47368421  0.59183673  0.05555556]\n",
      " [ 0.68965517  0.42105263  1.          1.33333333]\n",
      " [ 0.24137931  0.52631579  0.04081633  0.11111111]\n",
      " [ 0.82758621  0.31578947  0.73469388  0.05555556]\n",
      " [ 0.86206897  0.15789474  0.75510204  0.72222222]\n",
      " [ 0.62068966  0.15789474  0.59183673  0.66666667]\n",
      " [ 0.62068966  0.05263158  0.91836735  0.72222222]\n",
      " [ 0.72413793  0.36842105  0.69387755  0.05555556]]\n"
     ]
    }
   ],
   "metadata": {}
  },
  {
   "cell_type": "markdown",
   "source": [
    "4. Se toda discretização implica em perda de informação, enumere razões para se realizar esse tipo de transformação. Discretize a base Z_Train usando a estratégia de igual frequência nos intervalos e utilize os mesmos intervalos para discretizar a base Z_Test. Repita depois usando a estratégia de igual tamanho dos intervalos. Atenção: crie novas bases para não alterar a definição original de Z_Train e Z_Test."
   ],
   "metadata": {}
  },
  {
   "cell_type": "markdown",
   "source": [],
   "metadata": {}
  },
  {
   "cell_type": "code",
   "execution_count": 4,
   "source": [
    "from sklearn import datasets\r\n",
    "from sklearn.model_selection import train_test_split\r\n",
    "from sklearn.impute import SimpleImputer\r\n",
    "from sklearn import preprocessing\r\n",
    "\r\n",
    "iris = datasets.load_iris()\r\n",
    "\r\n",
    "train, test, trainY, testY = train_test_split(\r\n",
    "    iris.data, iris.target, test_size=0.4, random_state=0)\r\n",
    "\r\n",
    "train = train [:18]\r\n",
    "test = test [:12]\r\n",
    "\r\n",
    "imputer = SimpleImputer(strategy=\"most_frequent\", missing_values=1.5)\r\n",
    "\r\n",
    "train = imputer.fit_transform(train)\r\n",
    "test = imputer.fit_transform(test)\r\n",
    "\r\n",
    "discretizer = preprocessing.KBinsDiscretizer(encode='ordinal').fit(train)\r\n",
    "train = discretizer.transform(train)\r\n",
    "test = discretizer.transform(test)\r\n",
    "\r\n",
    "print(train)\r\n",
    "print(test)"
   ],
   "outputs": [
    {
     "output_type": "stream",
     "name": "stdout",
     "text": [
      "[[3. 4. 3. 3.]\n",
      " [0. 3. 0. 1.]\n",
      " [3. 1. 4. 4.]\n",
      " [2. 1. 2. 3.]\n",
      " [2. 1. 1. 3.]\n",
      " [1. 0. 1. 3.]\n",
      " [4. 2. 3. 3.]\n",
      " [4. 3. 4. 4.]\n",
      " [1. 4. 2. 1.]\n",
      " [0. 2. 0. 0.]\n",
      " [4. 1. 4. 4.]\n",
      " [2. 2. 2. 2.]\n",
      " [1. 4. 0. 1.]\n",
      " [2. 4. 2. 1.]\n",
      " [4. 3. 3. 1.]\n",
      " [0. 3. 2. 1.]\n",
      " [3. 2. 4. 4.]\n",
      " [0. 0. 0. 2.]]\n",
      "[[3. 1. 4. 4.]\n",
      " [3. 0. 1. 2.]\n",
      " [1. 4. 0. 1.]\n",
      " [4. 1. 4. 4.]\n",
      " [0. 4. 1. 1.]\n",
      " [4. 3. 4. 4.]\n",
      " [0. 4. 0. 1.]\n",
      " [4. 3. 3. 1.]\n",
      " [4. 1. 3. 3.]\n",
      " [4. 1. 1. 3.]\n",
      " [4. 0. 4. 3.]\n",
      " [4. 3. 3. 1.]]\n"
     ]
    }
   ],
   "metadata": {}
  },
  {
   "cell_type": "markdown",
   "source": [
    "5. Uma alternativa para lidar com dados nominais é transformá-los em dados binários ou ordinais. Quando se deve transformar para binários e quando deve se transformar para ordinais? Qual a desvantagem em usar a abordagem de transformar dados nominais para binários? Crie um dataset com 5 exemplos com dados nominais para condições do dia com temperatura (baixa, média e alta), aparência (ensolarado, nublado, chuvoso) e vento (pouco, muito). Transforme os dados de temperatura e vento para o formato ordinal e o de aparência para o formato binário."
   ],
   "metadata": {}
  },
  {
   "cell_type": "markdown",
   "source": [
    "A transformação em dados binários é quando os dados não tem ordem e não podem ter distancia entre eles. Já na transformação de ordinalidade, é quando os dados tem uma ordem como tamanho de camisa, etc. A desvantagem de transformar os dados para binários, é por causa que nessa abordagem você está aumentando o número de caracteristicas e nesse caso será necessário mais processamento."
   ],
   "metadata": {}
  },
  {
   "cell_type": "code",
   "execution_count": 17,
   "source": [
    "import numpy as np\r\n",
    "import pandas as pd\r\n",
    "from sklearn import preprocessing \r\n",
    "\r\n",
    "dataFrame = pd.DataFrame([\r\n",
    "    ['baixa', 'ensolarado', 'pouco'],\r\n",
    "    ['alta', 'nublado', 'muito'],\r\n",
    "    ['media', 'ensolarado', 'pouco'],\r\n",
    "    ['alta', 'chuvoso', 'muito'],\r\n",
    "    ['baixa', 'ensolarado', 'pouco'],\r\n",
    "])\r\n",
    "\r\n",
    "dataFrame.columns = ['condicoes', 'aparencia', 'vento']\r\n",
    "\r\n",
    "encoder = preprocessing.OrdinalEncoder()\r\n",
    "\r\n",
    "encoder.fit(dataFrame[['condicoes']])\r\n",
    "dataFrame[['condicoes']] = encoder.transform(dataFrame[['condicoes']])\r\n",
    "\r\n",
    "encoder.fit(dataFrame[['vento']])\r\n",
    "dataFrame[['vento']] = encoder.transform(dataFrame[['vento']])\r\n",
    "\r\n",
    "dataFrame = pd.concat([dataFrame, pd.get_dummies(dataFrame[['aparencia']])], axis = 1)\r\n",
    "print(dataFrame)\r\n",
    "\r\n"
   ],
   "outputs": [
    {
     "output_type": "stream",
     "name": "stdout",
     "text": [
      "  condicoes   aparencia vento  aparencia_chuvoso  aparencia_ensolarado  \\\n",
      "0       1.0  ensolarado   1.0                  0                     1   \n",
      "1       0.0     nublado   0.0                  0                     0   \n",
      "2       2.0  ensolarado   1.0                  0                     1   \n",
      "3       0.0     chuvoso   0.0                  1                     0   \n",
      "4       1.0  ensolarado   1.0                  0                     1   \n",
      "\n",
      "   aparencia_nublado  \n",
      "0                  0  \n",
      "1                  1  \n",
      "2                  0  \n",
      "3                  0  \n",
      "4                  0  \n"
     ]
    }
   ],
   "metadata": {}
  },
  {
   "cell_type": "markdown",
   "source": [
    "6. Explique o significado da chamada maldição da dimensionalidade?"
   ],
   "metadata": {}
  },
  {
   "cell_type": "markdown",
   "source": [
    "A maldição da dimensionalidade nada mais é do que o custo de processamento para ter um classificador eficaz quando há um grande número de caracteristicas."
   ],
   "metadata": {}
  },
  {
   "cell_type": "markdown",
   "source": [
    "7. Qual a diferença entre extração e seleção de características? Compare o desempenho (acurácia média, desvio padrão e intervalo de confiança a 95%) do método PCA com três componentes com o método de seleção univariada de características usando quiquadrado e selecionando 3 características no dataset wine. Use o classificador Vizinho Mais Próximo (k = 1) e o método de validação cruzada com 10 folds. "
   ],
   "metadata": {}
  },
  {
   "cell_type": "markdown",
   "source": [
    "A extração é apenas a parte onde você remove dados para a diminuição do número de caracteristicas, além de dados repetidos. Já a seleção, é a retirada de caracteristicas com baixa variancia e tambem dados redundantes."
   ],
   "metadata": {}
  },
  {
   "cell_type": "code",
   "execution_count": null,
   "source": [],
   "outputs": [],
   "metadata": {}
  },
  {
   "cell_type": "markdown",
   "source": [
    "8. Explique porque a seleção univariada de características, isto é, baseada no poder de diferenciação individual das características, pode não ser a melhor estratégia de seleção?"
   ],
   "metadata": {}
  },
  {
   "cell_type": "markdown",
   "source": [],
   "metadata": {}
  },
  {
   "cell_type": "markdown",
   "source": [
    "9. Qual a diferença entre o uso da abordagem filtro e wrapper no processo de busca pelo melhor subconjunto de características? Apresente vantagens e desvantagens de cada uma. Obtenha o desempenho (acurácia média, desvio padrão e intervalo de confiança a 95%) do  método de seleção multivariada de características com seleção sequencial para frente e selecionando 3 características no dataset wine. Use o classificador Vizinho Mais Próximo (k = 1) e o método de validação cruzada com 10 folds. "
   ],
   "metadata": {}
  },
  {
   "cell_type": "markdown",
   "source": [
    "A abordagem de filtro é utilizado o valor para avaliar os subconjuntos de caracteristicas, além de ter a avaliação mais rapida e independente do método de aprendizado. Já o wrapper, utiliza o proprio classificadora para avaliar, sendo que é necessário a customização para cada classificador."
   ],
   "metadata": {}
  },
  {
   "cell_type": "code",
   "execution_count": null,
   "source": [],
   "outputs": [],
   "metadata": {}
  },
  {
   "cell_type": "markdown",
   "source": [
    "10. De que se trata o artigo \"Fast Feature Selection Using Hybrid Ranking and Wrapper Approach for Automatic Fault Diagnosis of Motorpumps Based on Vibration Signals\"? Porque a abordagem proposta se intitula híbrida?"
   ],
   "metadata": {}
  },
  {
   "cell_type": "markdown",
   "source": [
    "11. Explique a estratégia de redução de dados utilizada no artigo \"Sampling approaches for applying DBSCAN to large datasets\"."
   ],
   "metadata": {}
  }
 ],
 "metadata": {
  "kernelspec": {
   "display_name": "Python 3",
   "language": "python",
   "name": "python3"
  },
  "language_info": {
   "codemirror_mode": {
    "name": "ipython",
    "version": 3
   },
   "file_extension": ".py",
   "mimetype": "text/x-python",
   "name": "python",
   "nbconvert_exporter": "python",
   "pygments_lexer": "ipython3",
   "version": "3.6.7"
  }
 },
 "nbformat": 4,
 "nbformat_minor": 5
}