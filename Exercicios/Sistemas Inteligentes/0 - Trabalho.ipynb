{
 "cells": [
  {
   "cell_type": "code",
   "execution_count": 12,
   "source": [
    "from sklearn import datasets\r\n",
    "from scipy import stats\r\n",
    "from sklearn.ensemble import BaggingClassifier\r\n",
    "from sklearn.model_selection import RepeatedStratifiedKFold, GridSearchCV, cross_val_score\r\n",
    "from sklearn.preprocessing import StandardScaler\r\n",
    "import numpy as np\r\n",
    "\r\n",
    "digits = datasets.load_digits()\r\n",
    "target = digits.target\r\n",
    "data = digits.data\r\n",
    "\r\n",
    "scaler = StandardScaler()\r\n",
    "data = scaler.fit_transform(data)\r\n",
    "\r\n",
    "classifier = BaggingClassifier()\r\n",
    "\r\n",
    "grade = {'n_estimators': [10, 25, 50, 100]}\r\n",
    "\r\n",
    "cv = RepeatedStratifiedKFold(n_splits=10, n_repeats=4, random_state=36851234)\r\n",
    "\r\n",
    "gridSearch = GridSearchCV(classifier, param_grid=grade,\r\n",
    "                          scoring='accuracy', cv=3)\r\n",
    "\r\n",
    "scoresBagging = cross_val_score(\r\n",
    "    gridSearch, data, target, scoring='accuracy', cv=cv, n_jobs=-1, error_score='raise')\r\n",
    "\r\n",
    "mean = scoresBagging.mean()\r\n",
    "std = scoresBagging.std()\r\n",
    "lower, upper = stats.norm.interval(0.95, loc=mean, scale=std /\r\n",
    "                          np.sqrt(len(scoresBagging)))\r\n",
    "\r\n",
    "print('Mean :', mean)\r\n",
    "print('Std: ', std)\r\n",
    "print('Accuracy Confidence Interval (95%%): (%0.2f, %0.2f)' % (lower, upper))\r\n"
   ],
   "outputs": [
    {
     "output_type": "stream",
     "name": "stdout",
     "text": [
      "Mean : 0.902615470228158\n",
      "Std:  0.02658335205897871\n",
      "Accuracy Confidence Interval (95%): (0.87, 0.93)\n"
     ]
    }
   ],
   "metadata": {}
  }
 ],
 "metadata": {
  "orig_nbformat": 4,
  "language_info": {
   "name": "python",
   "version": "3.9.6",
   "mimetype": "text/x-python",
   "codemirror_mode": {
    "name": "ipython",
    "version": 3
   },
   "pygments_lexer": "ipython3",
   "nbconvert_exporter": "python",
   "file_extension": ".py"
  },
  "kernelspec": {
   "name": "python3",
   "display_name": "Python 3.9.6 64-bit"
  },
  "interpreter": {
   "hash": "ac59ebe37160ed0dfa835113d9b8498d9f09ceb179beaac4002f036b9467c963"
  }
 },
 "nbformat": 4,
 "nbformat_minor": 2
}