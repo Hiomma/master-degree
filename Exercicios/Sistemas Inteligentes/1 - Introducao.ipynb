{
 "cells": [
  {
   "cell_type": "markdown",
   "metadata": {},
   "source": [
    "# Jupyter IDE\n",
    "### Células Code\n",
    "### Células Markdown\n",
    "oi\n",
    "**bold**\n",
    "*italic*\n",
    "# Titulo 1\n",
    "## Titulo 2\n",
    "### Titulo 3"
   ]
  },
  {
   "cell_type": "markdown",
   "metadata": {},
   "source": [
    "Instalar IPython and Jupyter:\n",
    "\n",
    "https://jupyter.readthedocs.io/en/latest/install/notebook-classic.html\n",
    "\n",
    "https://medium.com/horadecodar/como-instalar-o-jupyter-notebook-windows-e-linux-20701fc583c\n",
    "\n",
    "Com conda:\n",
    "\n",
    "conda install ipython jupyter\n",
    "\n",
    "Com pip:\n",
    "\n",
    "pip install --upgrade pip\n",
    "pip install --upgrade ipython jupyter\n",
    "\n",
    "Inicie jupyther no terminal \n",
    "\n",
    "jupyter notebook\n",
    "\n",
    "https://jupyter.readthedocs.io/en/latest/running.html\n",
    "\n",
    "Aprendendo programação em python\n",
    "\n",
    "https://pt.coursera.org/learn/ciencia-computacao-python-conceitos\n",
    "\n",
    "https://pt.coursera.org/learn/ciencia-computacao-python-conceitos-2?"
   ]
  },
  {
   "cell_type": "markdown",
   "metadata": {},
   "source": [
    "Funciona como Interpretador Python - Shift Enter Executa"
   ]
  },
  {
   "cell_type": "code",
   "execution_count": 80,
   "metadata": {},
   "outputs": [
    {
     "name": "stdout",
     "output_type": "stream",
     "text": [
      "15\n"
     ]
    }
   ],
   "source": [
    "a = 15\n",
    "print (a)"
   ]
  },
  {
   "cell_type": "markdown",
   "metadata": {},
   "source": [
    "Memória é mantida"
   ]
  },
  {
   "cell_type": "code",
   "execution_count": 81,
   "metadata": {},
   "outputs": [
    {
     "name": "stdout",
     "output_type": "stream",
     "text": [
      "18\n"
     ]
    }
   ],
   "source": [
    "print(a+3)"
   ]
  },
  {
   "cell_type": "markdown",
   "metadata": {},
   "source": [
    "## Busca\n",
    "Mochila 0/1"
   ]
  },
  {
   "cell_type": "markdown",
   "metadata": {},
   "source": [
    "### Satisfação de Restrições"
   ]
  },
  {
   "cell_type": "markdown",
   "metadata": {},
   "source": [
    "Avanço de Estados"
   ]
  },
  {
   "cell_type": "code",
   "execution_count": 9,
   "metadata": {},
   "outputs": [],
   "source": [
    "def step (l):\n",
    "    return [l+[0], l+[1]]\n"
   ]
  },
  {
   "cell_type": "code",
   "execution_count": 8,
   "metadata": {},
   "outputs": [
    {
     "ename": "NameError",
     "evalue": "name 'step' is not defined",
     "output_type": "error",
     "traceback": [
      "\u001b[1;31m---------------------------------------------------------------------------\u001b[0m",
      "\u001b[1;31mNameError\u001b[0m                                 Traceback (most recent call last)",
      "\u001b[1;32m<ipython-input-8-2c5a0e5242d1>\u001b[0m in \u001b[0;36m<module>\u001b[1;34m\u001b[0m\n\u001b[1;32m----> 1\u001b[1;33m \u001b[0mstep\u001b[0m \u001b[1;33m(\u001b[0m\u001b[1;33m[\u001b[0m\u001b[1;33m]\u001b[0m\u001b[1;33m)\u001b[0m\u001b[1;33m\u001b[0m\u001b[1;33m\u001b[0m\u001b[0m\n\u001b[0m",
      "\u001b[1;31mNameError\u001b[0m: name 'step' is not defined"
     ]
    }
   ],
   "source": [
    "step ([])"
   ]
  },
  {
   "cell_type": "markdown",
   "metadata": {},
   "source": [
    "Expansão de Estados"
   ]
  },
  {
   "cell_type": "code",
   "execution_count": 10,
   "metadata": {},
   "outputs": [],
   "source": [
    "def expand(l):\n",
    "    s = []\n",
    "    for i in l:\n",
    "        s += step(i)\n",
    "    return s"
   ]
  },
  {
   "cell_type": "code",
   "execution_count": 25,
   "metadata": {},
   "outputs": [
    {
     "data": {
      "text/plain": [
       "[[0, 0], [0, 1], [1, 0], [1, 1]]"
      ]
     },
     "execution_count": 25,
     "metadata": {},
     "output_type": "execute_result"
    }
   ],
   "source": [
    "expand (step ([]))"
   ]
  },
  {
   "cell_type": "markdown",
   "metadata": {},
   "source": [
    "Possíveis Estados"
   ]
  },
  {
   "cell_type": "code",
   "execution_count": 11,
   "metadata": {},
   "outputs": [],
   "source": [
    "def combine (v):\n",
    "    n = len(v)\n",
    "    l = step ([])\n",
    "    for i in range (n-1):\n",
    "        l = expand(l)\n",
    "    return l"
   ]
  },
  {
   "cell_type": "code",
   "execution_count": 28,
   "metadata": {},
   "outputs": [
    {
     "data": {
      "text/plain": [
       "[[0, 0, 0],\n",
       " [0, 0, 1],\n",
       " [0, 1, 0],\n",
       " [0, 1, 1],\n",
       " [1, 0, 0],\n",
       " [1, 0, 1],\n",
       " [1, 1, 0],\n",
       " [1, 1, 1]]"
      ]
     },
     "execution_count": 28,
     "metadata": {},
     "output_type": "execute_result"
    }
   ],
   "source": [
    "combine ([1, 7, 4])"
   ]
  },
  {
   "cell_type": "markdown",
   "metadata": {},
   "source": [
    "Tamanho de um Estado"
   ]
  },
  {
   "cell_type": "code",
   "execution_count": 12,
   "metadata": {},
   "outputs": [],
   "source": [
    "def tamanho(estado, itens):\n",
    "  return sum([estado[i]*itens[i] for i in range(len(estado))])"
   ]
  },
  {
   "cell_type": "code",
   "execution_count": 53,
   "metadata": {},
   "outputs": [
    {
     "data": {
      "text/plain": [
       "5"
      ]
     },
     "execution_count": 53,
     "metadata": {},
     "output_type": "execute_result"
    }
   ],
   "source": [
    "tamanho ([1, 0, 1], [1, 7, 4])"
   ]
  },
  {
   "cell_type": "markdown",
   "metadata": {},
   "source": [
    "Estado Válido"
   ]
  },
  {
   "cell_type": "code",
   "execution_count": 13,
   "metadata": {},
   "outputs": [],
   "source": [
    "def valido(estado, itens, tMochila):\n",
    "    return tamanho (estado, itens) <= tMochila"
   ]
  },
  {
   "cell_type": "code",
   "execution_count": 62,
   "metadata": {},
   "outputs": [
    {
     "data": {
      "text/plain": [
       "True"
      ]
     },
     "execution_count": 62,
     "metadata": {},
     "output_type": "execute_result"
    }
   ],
   "source": [
    "valido ([1, 0, 1], [1, 7, 4], 8)"
   ]
  },
  {
   "cell_type": "markdown",
   "metadata": {},
   "source": [
    "Converte Estado em Solução"
   ]
  },
  {
   "cell_type": "code",
   "execution_count": 14,
   "metadata": {},
   "outputs": [],
   "source": [
    "def solucao(estado, itens):\n",
    "  s = []\n",
    "  for i in range(len(estado)):\n",
    "        if estado[i]:\n",
    "            s.append (itens[i])\n",
    "  return s "
   ]
  },
  {
   "cell_type": "code",
   "execution_count": 55,
   "metadata": {},
   "outputs": [
    {
     "data": {
      "text/plain": [
       "[1, 4]"
      ]
     },
     "execution_count": 55,
     "metadata": {},
     "output_type": "execute_result"
    }
   ],
   "source": [
    "solucao ([1, 0, 1], [1, 7, 4])"
   ]
  },
  {
   "cell_type": "markdown",
   "metadata": {},
   "source": [
    "Soluções Mochila 0/1"
   ]
  },
  {
   "cell_type": "code",
   "execution_count": 67,
   "metadata": {},
   "outputs": [],
   "source": [
    "def buscaCegaMochila01SR (tMochila, itens):\n",
    "    solucoes = []\n",
    "    for s in combine (itens):\n",
    "        if valido (s, itens, tMochila):\n",
    "            solucoes.append ((solucao(s, itens), tamanho (s, itens)))\n",
    "    return solucoes"
   ]
  },
  {
   "cell_type": "code",
   "execution_count": 82,
   "metadata": {},
   "outputs": [
    {
     "data": {
      "text/plain": [
       "[([], 0), ([8], 8), ([7], 7), ([1], 1), ([1, 7], 8)]"
      ]
     },
     "execution_count": 82,
     "metadata": {},
     "output_type": "execute_result"
    }
   ],
   "source": [
    "buscaCegaMochila01SR (8, [1, 7, 8])"
   ]
  },
  {
   "cell_type": "markdown",
   "metadata": {},
   "source": [
    "### Otimização Combinatória\n",
    "Maximizar tamanho ocupado"
   ]
  },
  {
   "cell_type": "code",
   "execution_count": 69,
   "metadata": {},
   "outputs": [],
   "source": [
    "def buscaCegaMochila01Max (tMochila, itens):\n",
    "    solucoes = []\n",
    "    melhor = -1\n",
    "    for s in combine (itens):\n",
    "        if valido (s, itens, tMochila):\n",
    "            t = tamanho (s, itens)\n",
    "            if t == melhor:\n",
    "                solucoes.append ((solucao(s, itens), t))\n",
    "            if t > melhor:\n",
    "                melhor = t\n",
    "                solucoes = [(solucao(s, itens), t)]\n",
    "    return solucoes"
   ]
  },
  {
   "cell_type": "code",
   "execution_count": 70,
   "metadata": {},
   "outputs": [
    {
     "data": {
      "text/plain": [
       "[([1, 7], 8)]"
      ]
     },
     "execution_count": 70,
     "metadata": {},
     "output_type": "execute_result"
    }
   ],
   "source": [
    "buscaCegaMochila01Max (8, [1, 7, 4])"
   ]
  },
  {
   "cell_type": "code",
   "execution_count": 71,
   "metadata": {},
   "outputs": [
    {
     "data": {
      "text/plain": [
       "[([8], 8), ([1, 7], 8)]"
      ]
     },
     "execution_count": 71,
     "metadata": {},
     "output_type": "execute_result"
    }
   ],
   "source": [
    "buscaCegaMochila01Max (8, [1, 7, 8])"
   ]
  },
  {
   "cell_type": "markdown",
   "metadata": {},
   "source": [
    "### Classificação\n",
    "Decisão sobre Viagem"
   ]
  },
  {
   "cell_type": "code",
   "execution_count": 73,
   "metadata": {},
   "outputs": [],
   "source": [
    "def irAPraia (aparencia, ventando, umidade):\n",
    "    if aparencia == \"Sol\" and (ventando == \"Nao\"):\n",
    "        return \"Ir\"\n",
    "    elif aparencia == \"Nublado\" and (umidade > 60):\n",
    "        return \"Ir\"\n",
    "    else:\n",
    "        return \"Não Ir\""
   ]
  },
  {
   "cell_type": "code",
   "execution_count": 75,
   "metadata": {},
   "outputs": [
    {
     "data": {
      "text/plain": [
       "'Ir'"
      ]
     },
     "execution_count": 75,
     "metadata": {},
     "output_type": "execute_result"
    }
   ],
   "source": [
    "irAPraia (\"Sol\", \"Nao\", 50)"
   ]
  },
  {
   "cell_type": "code",
   "execution_count": 76,
   "metadata": {},
   "outputs": [
    {
     "data": {
      "text/plain": [
       "'Ir'"
      ]
     },
     "execution_count": 76,
     "metadata": {},
     "output_type": "execute_result"
    }
   ],
   "source": [
    "irAPraia (\"Nublado\", \"Nao\", 70)"
   ]
  },
  {
   "cell_type": "code",
   "execution_count": 77,
   "metadata": {},
   "outputs": [
    {
     "data": {
      "text/plain": [
       "'Não Ir'"
      ]
     },
     "execution_count": 77,
     "metadata": {},
     "output_type": "execute_result"
    }
   ],
   "source": [
    "irAPraia (\"Chuva\", \"Nao\", 70)"
   ]
  },
  {
   "cell_type": "markdown",
   "metadata": {},
   "source": [
    "### Regressão\n",
    "Regressão linear de distribuição perfeita\n",
    "y = a.x + b\n",
    "dx = x1 - x0\n",
    "dy = y1 - y0\n",
    "a = dy / dx\n",
    "b = y - a.x"
   ]
  },
  {
   "cell_type": "code",
   "execution_count": 33,
   "metadata": {},
   "outputs": [
    {
     "name": "stdout",
     "output_type": "stream",
     "text": [
      "5.0\n",
      "8.0\n",
      "11.0\n",
      "26.0\n"
     ]
    }
   ],
   "source": [
    "x = [1.0, 2.0, 3.0]\n",
    "y = [5.0, 8.0, 11.0]\n",
    "dx = 2.0 - 1.0\n",
    "dy = 8.0 - 5.0\n",
    "a = dy / dx\n",
    "b = 8.0 - a*2.0\n",
    "print (a*1 + b)\n",
    "print (a*2 + b)\n",
    "print (a*3 + b)\n",
    "print (a*8 + b)"
   ]
  },
  {
   "cell_type": "markdown",
   "metadata": {},
   "source": [
    "### Agrupamento\n",
    "Hierárquico divisivo"
   ]
  },
  {
   "cell_type": "code",
   "execution_count": null,
   "metadata": {},
   "outputs": [],
   "source": [
    "k = 3\n",
    "x = [7.3, 3.8, 9.4, 8.7, 9.9, 8.8, 1.0, 2.1, 7.2]"
   ]
  },
  {
   "cell_type": "markdown",
   "metadata": {},
   "source": [
    "### Associação\n",
    "Itens frequentes em transações"
   ]
  },
  {
   "cell_type": "markdown",
   "metadata": {},
   "source": [
    "### Exercícios de Fixação"
   ]
  },
  {
   "cell_type": "markdown",
   "metadata": {},
   "source": [
    "1. Ler artigo de Turing."
   ]
  },
  {
   "cell_type": "markdown",
   "metadata": {},
   "source": [
    "2. Citar todas objeções a visão de que máquinas podem ser inteligentes relatadas por Turing."
   ]
  },
  {
   "cell_type": "markdown",
   "metadata": {},
   "source": [
    "3. Escolher uma das objeções, explicá-la e o contra-argumento apresentado por Turing."
   ]
  },
  {
   "cell_type": "markdown",
   "metadata": {},
   "source": [
    "4. Como Turing propõe resolver o problema de determinar se uma máquina é inteligente?"
   ]
  },
  {
   "cell_type": "markdown",
   "metadata": {},
   "source": [
    "No momento em que a máquina for capaz de resolver o jogo da imitação perfeitamente"
   ]
  },
  {
   "cell_type": "markdown",
   "metadata": {},
   "source": [
    "5. Na visão de Turing, como as máquinas poderão se tornar inteligentes?"
   ]
  },
  {
   "cell_type": "markdown",
   "metadata": {},
   "source": [
    "6. Como você se posiciona em relação a questão das abordagens simbólica e estatística na Inteligência Artificial?"
   ]
  },
  {
   "cell_type": "markdown",
   "metadata": {},
   "source": [
    "7. Qual a sua opinião sobre a IA fraca e a IA forte?"
   ]
  },
  {
   "cell_type": "markdown",
   "metadata": {},
   "source": [
    "8. O que acontecerá na execução dos algoritmos apresentados para a solução do problema da Mochila 0/1 se o número de itens crescer de forma demasiada? Por que isso ocorre? Tente aumentar gradualmente o número de itens e verifique o que ocorre. Relate."
   ]
  },
  {
   "cell_type": "markdown",
   "metadata": {},
   "source": [
    "O problema da mochila nada mais é do que a demora no processamento pelo processo de busca cega, cada vez maior o array, maiaor será o tempo para processar e encontrar uma solução ideal"
   ]
  },
  {
   "cell_type": "markdown",
   "metadata": {},
   "source": [
    "9. Considere que no problema da mochila 0/1 cada um dos itens disponíveis tem um valor e que o objetivo é encher a mochila para maximizar o valor agregado dos ítens colocados na mochila. Refaça a solução em python apresentada anteriormente para resolver este problema."
   ]
  },
  {
   "cell_type": "code",
   "execution_count": 28,
   "metadata": {},
   "outputs": [
    {
     "name": "stdout",
     "output_type": "stream",
     "text": [
      "0\n",
      "0 -1\n",
      "75\n",
      "8 0\n",
      "50\n",
      "7 8\n",
      "35\n",
      "1 8\n",
      "85\n",
      "8 8\n"
     ]
    },
    {
     "data": {
      "text/plain": [
       "[([1, 7], 8)]"
      ]
     },
     "execution_count": 28,
     "metadata": {},
     "output_type": "execute_result"
    }
   ],
   "source": [
    "def Somar_Produtos(precos, produtos):\r\n",
    "    nr_Total = 0\r\n",
    "    for i in range(len(produtos)):\r\n",
    "        if produtos[i] == 1:\r\n",
    "            nr_Total += precos[i]\r\n",
    "\r\n",
    "    return nr_Total\r\n",
    "\r\n",
    "\r\n",
    "\r\n",
    "def buscaCegaMochila01Preco (tMochila, itens, precos):\r\n",
    "    solucoes = []\r\n",
    "    melhor = -1\r\n",
    "    nr_Melhor_Preco = -1\r\n",
    "    for s in combine (itens):\r\n",
    "        if valido (s, itens, tMochila):\r\n",
    "            t = tamanho (s, itens)\r\n",
    "            nr_Preco_Total = Somar_Produtos(precos, s)\r\n",
    "\r\n",
    "            print(nr_Preco_Total)\r\n",
    "            print(t, melhor)\r\n",
    "\r\n",
    "            if t == melhor and nr_Melhor_Preco == nr_Preco_Total:\r\n",
    "                solucoes.append ((solucao(s, itens), t))\r\n",
    "            if t >= melhor and nr_Preco_Total >= nr_Melhor_Preco:\r\n",
    "                melhor = t\r\n",
    "                nr_Melhor_Preco = nr_Preco_Total\r\n",
    "                solucoes = [(solucao(s, itens), t)]\r\n",
    "    return solucoes\r\n",
    "\r\n",
    "buscaCegaMochila01Preco(8, [1,7,8], [35, 50, 75])"
   ]
  },
  {
   "cell_type": "markdown",
   "metadata": {},
   "source": [
    "10. Implemente o algoritmo de agrupamento hierárquico divisivo para dados unidimensionais."
   ]
  },
  {
   "cell_type": "code",
   "execution_count": 34,
   "metadata": {},
   "outputs": [
    {
     "name": "stdout",
     "output_type": "stream",
     "text": [
      "10\n",
      "[2, 3, 3.2, 3.2, 4.4, 4.5, 5.5, 8.5, 8.8, 9.8]\n",
      "[1, 0.20000000000000018, 0.0, 1.2000000000000002, 0.09999999999999964, 1.0, 3.0, 0.3000000000000007, 1.0]\n",
      "[3, 6, 10]\n",
      "[[2, 3, 3.2, 3.2], [4.4, 4.5, 5.5], [8.5, 8.8, 9.8]]\n"
     ]
    }
   ],
   "source": [
    "nr_Quantity = 3\r\n",
    "numbers = [2, 3, 4.4, 8.5, 3.2, 5.5, 8.8, 9.8, 3.2, 4.5]\r\n",
    "indexes = []\r\n",
    "distancies = []\r\n",
    "results = []\r\n",
    "\r\n",
    "numbers.sort()\r\n",
    "\r\n",
    "for i in range(len(numbers) - 1):\r\n",
    "    distancies.append(numbers[i+1] - numbers[i])\r\n",
    "\r\n",
    "print(len(numbers))\r\n",
    "print(numbers)\r\n",
    "print(distancies)\r\n",
    "\r\n",
    "for j in range(nr_Quantity - 1):\r\n",
    "    nr_Max = max(distancies)\r\n",
    "    nr_Index = distancies.index(nr_Max)\r\n",
    "    indexes.append(nr_Index)\r\n",
    "    distancies[nr_Index] = -1\r\n",
    "\r\n",
    "indexes.append(len(numbers) - 1)\r\n",
    "\r\n",
    "indexes.sort()\r\n",
    "print(indexes)\r\n",
    "\r\n",
    "l = 0\r\n",
    "\r\n",
    "for k in range(nr_Quantity):\r\n",
    "    if indexes[k] == l:\r\n",
    "        results.append([numbers[l]])\r\n",
    "        l += 1\r\n",
    "    else:\r\n",
    "        results.append(numbers[l:indexes[k] + 1])\r\n",
    "        l = indexes[k] + 1\r\n",
    "\r\n",
    "print(results)\r\n"
   ]
  },
  {
   "cell_type": "markdown",
   "metadata": {},
   "source": [
    "11. Altere o algoritmo de agrupamento hierárquico divisivo para considerar dados multidimensionais numéricos."
   ]
  },
  {
   "cell_type": "code",
   "execution_count": 5,
   "metadata": {},
   "outputs": [
    {
     "name": "stdout",
     "output_type": "stream",
     "text": [
      "5\n",
      "[[2, 3], [3.2, 4.5], [3.2, 5.5], [4.4, 8.5], [8.8, 9.8]]\n",
      "[1.9209372712298547, 1.0, 3.2310988842807027, 4.588027898781785]\n",
      "[2, 3, 4]\n",
      "[[[2, 3], [3.2, 4.5], [3.2, 5.5]], [[4.4, 8.5]], [[8.8, 9.8]]]\n"
     ]
    }
   ],
   "source": [
    "from math import sqrt\r\n",
    "\r\n",
    "nr_Quantity = 3\r\n",
    "numbers = [ [3.2, 5.5],[2, 3], [4.4, 8.5],  [8.8, 9.8],[3.2, 4.5]]\r\n",
    "indexes = []\r\n",
    "distancies = []\r\n",
    "results = []\r\n",
    "\r\n",
    "numbers.sort()\r\n",
    "\r\n",
    "for i in range(len(numbers) - 1):\r\n",
    "    distancies.append(\r\n",
    "        sqrt((numbers[i][0]-numbers[i + 1][0])**2+(numbers[i][1]-numbers[i + 1][1])**2))\r\n",
    "\r\n",
    "print(len(numbers))\r\n",
    "print(numbers)\r\n",
    "print(distancies)\r\n",
    "\r\n",
    "for j in range(nr_Quantity - 1):\r\n",
    "    nr_Max = max(distancies)\r\n",
    "    nr_Index = distancies.index(nr_Max)\r\n",
    "    indexes.append(nr_Index)\r\n",
    "    distancies[nr_Index] = -1\r\n",
    "\r\n",
    "indexes.append(len(numbers) - 1)\r\n",
    "\r\n",
    "indexes.sort()\r\n",
    "print(indexes)\r\n",
    "\r\n",
    "l = 0\r\n",
    "\r\n",
    "for k in range(nr_Quantity):\r\n",
    "    if indexes[k] == l:\r\n",
    "        results.append([numbers[l]])\r\n",
    "        l += 1\r\n",
    "    else:\r\n",
    "        results.append(numbers[l:indexes[k] + 1])\r\n",
    "        l = indexes[k] + 1\r\n",
    "\r\n",
    "print(results)\r\n"
   ]
  }
 ],
 "metadata": {
  "interpreter": {
   "hash": "a97cea9040a71f963f6525d18201786996e5c5add084f4c8fbf988376b1b48ba"
  },
  "kernelspec": {
   "display_name": "Python 3.8.5 32-bit",
   "name": "python3"
  },
  "language_info": {
   "codemirror_mode": {
    "name": "ipython",
    "version": 3
   },
   "file_extension": ".py",
   "mimetype": "text/x-python",
   "name": "python",
   "nbconvert_exporter": "python",
   "pygments_lexer": "ipython3",
   "version": "3.8.5"
  }
 },
 "nbformat": 4,
 "nbformat_minor": 5
}