{
 "cells": [
  {
   "cell_type": "markdown",
   "source": [
    "# Busca (Parte I)"
   ],
   "metadata": {}
  },
  {
   "cell_type": "markdown",
   "source": [
    "## Mochila com Número Irrestrito de Itens com Valor"
   ],
   "metadata": {}
  },
  {
   "cell_type": "code",
   "execution_count": 1,
   "source": [
    "max_size = 19\r\n",
    "items = [(1,3),(4,6),(5,7)]"
   ],
   "outputs": [],
   "metadata": {}
  },
  {
   "cell_type": "markdown",
   "source": [
    "Tamanho de Estados"
   ],
   "metadata": {}
  },
  {
   "cell_type": "code",
   "execution_count": 2,
   "source": [
    "def state_size(state, items):\r\n",
    "    size = 0\r\n",
    "    for i in range(len(state)):\r\n",
    "        size += state[i] * items[i][1]\r\n",
    "    return size"
   ],
   "outputs": [],
   "metadata": {}
  },
  {
   "cell_type": "code",
   "execution_count": 3,
   "source": [
    "state_size([1,1,1], items)"
   ],
   "outputs": [
    {
     "output_type": "execute_result",
     "data": {
      "text/plain": [
       "16"
      ]
     },
     "metadata": {},
     "execution_count": 3
    }
   ],
   "metadata": {}
  },
  {
   "cell_type": "markdown",
   "source": [
    "Avaliação de Estados"
   ],
   "metadata": {}
  },
  {
   "cell_type": "code",
   "execution_count": 4,
   "source": [
    "def evaluate_state(state, items):\r\n",
    "    value = 0\r\n",
    "    for i in range(len(state)):\r\n",
    "        value += state[i] * items[i][0]\r\n",
    "    return value"
   ],
   "outputs": [],
   "metadata": {}
  },
  {
   "cell_type": "code",
   "execution_count": 5,
   "source": [
    "evaluate_state([1,2,0], items)"
   ],
   "outputs": [
    {
     "output_type": "execute_result",
     "data": {
      "text/plain": [
       "9"
      ]
     },
     "metadata": {},
     "execution_count": 5
    }
   ],
   "metadata": {}
  },
  {
   "cell_type": "markdown",
   "source": [
    "Geração de Estados"
   ],
   "metadata": {}
  },
  {
   "cell_type": "code",
   "execution_count": 6,
   "source": [
    "def generate_states(initial_state):\r\n",
    "    states = []\r\n",
    "    for i in range (len(initial_state)):\r\n",
    "        aux = initial_state.copy()\r\n",
    "        aux[i] = initial_state[i] + 1\r\n",
    "        states.append(aux)\r\n",
    "    return states"
   ],
   "outputs": [],
   "metadata": {}
  },
  {
   "cell_type": "code",
   "execution_count": 7,
   "source": [
    "generate_states([0,0,0])"
   ],
   "outputs": [
    {
     "output_type": "execute_result",
     "data": {
      "text/plain": [
       "[[1, 0, 0], [0, 1, 0], [0, 0, 1]]"
      ]
     },
     "metadata": {},
     "execution_count": 7
    }
   ],
   "metadata": {}
  },
  {
   "cell_type": "markdown",
   "source": [
    "Métodos Heurísticos - Construtivos"
   ],
   "metadata": {}
  },
  {
   "cell_type": "markdown",
   "source": [
    "Hill Climbing Determinístico"
   ],
   "metadata": {}
  },
  {
   "cell_type": "code",
   "execution_count": 8,
   "source": [
    "import time\r\n",
    "\r\n",
    "def hill_climbing(max_size, items, max_time):\r\n",
    "    start = time.process_time()\r\n",
    "    current_state = [0]*len(items)\r\n",
    "    optimal_value = 0\r\n",
    "    optimal_size = 0\r\n",
    "    optimal_state = current_state\r\n",
    "    valid_states = len(items)\r\n",
    "    end = 0\r\n",
    "\r\n",
    "    while valid_states != 0 and end-start <= max_time:\r\n",
    "        valid_states = len(items)\r\n",
    "        possible_states = generate_states(current_state)\r\n",
    "\r\n",
    "        for state in possible_states:\r\n",
    "            aux_val = evaluate_state(state, items)\r\n",
    "            aux_size = state_size(state, items)\r\n",
    "            if aux_size <= max_size:\r\n",
    "                if aux_val > optimal_value:\r\n",
    "                    optimal_value = aux_val\r\n",
    "                    optimal_size = aux_size\r\n",
    "                    optimal_state = state\r\n",
    "                    current_state = state\r\n",
    "            else:\r\n",
    "                valid_states = valid_states - 1\r\n",
    "\r\n",
    "        end = time.process_time()\r\n",
    "\r\n",
    "    return optimal_state, optimal_size, optimal_value"
   ],
   "outputs": [],
   "metadata": {}
  },
  {
   "cell_type": "code",
   "execution_count": 9,
   "source": [
    "hill_climbing(max_size, items, 120)"
   ],
   "outputs": [
    {
     "output_type": "execute_result",
     "data": {
      "text/plain": [
       "([1, 0, 2], 17, 11)"
      ]
     },
     "metadata": {},
     "execution_count": 9
    }
   ],
   "metadata": {}
  },
  {
   "cell_type": "markdown",
   "source": [
    "Roleta"
   ],
   "metadata": {}
  },
  {
   "cell_type": "markdown",
   "source": [
    "Soma de valores de todos os estados"
   ],
   "metadata": {}
  },
  {
   "cell_type": "code",
   "execution_count": 10,
   "source": [
    "def states_total_value(states):\r\n",
    "    total_sum = 0\r\n",
    "    for state in states:\r\n",
    "        total_sum = total_sum + state[0]\r\n",
    "    return total_sum"
   ],
   "outputs": [],
   "metadata": {}
  },
  {
   "cell_type": "code",
   "execution_count": 11,
   "source": [
    "states_total_value([(1, [1,0,0]), (4, [0, 1, 0]), (5, [0, 0, 1])])"
   ],
   "outputs": [
    {
     "output_type": "execute_result",
     "data": {
      "text/plain": [
       "10"
      ]
     },
     "metadata": {},
     "execution_count": 11
    }
   ],
   "metadata": {}
  },
  {
   "cell_type": "markdown",
   "source": [
    "Construção da roleta"
   ],
   "metadata": {}
  },
  {
   "cell_type": "code",
   "execution_count": 12,
   "source": [
    "def roulette_construction(states):\r\n",
    "    aux_states = []\r\n",
    "    roulette = []\r\n",
    "    total_value = states_total_value(states)\r\n",
    "\r\n",
    "    for state in states:\r\n",
    "        value = state[0]\r\n",
    "        if total_value != 0:\r\n",
    "            ratio = value/total_value\r\n",
    "        else:\r\n",
    "            ratio = 1\r\n",
    "        aux_states.append((ratio,state[1]))\r\n",
    " \r\n",
    "    acc_value = 0\r\n",
    "    for state in aux_states:\r\n",
    "        acc_value = acc_value + state[0]\r\n",
    "        s = (acc_value,state[1])\r\n",
    "        roulette.append(s)\r\n",
    "    return roulette"
   ],
   "outputs": [],
   "metadata": {}
  },
  {
   "cell_type": "code",
   "execution_count": 13,
   "source": [
    "roulette_construction([(1, [1,0,0]), (4, [0, 1, 0]), (5, [0, 0, 1])])"
   ],
   "outputs": [
    {
     "output_type": "execute_result",
     "data": {
      "text/plain": [
       "[(0.1, [1, 0, 0]), (0.5, [0, 1, 0]), (1.0, [0, 0, 1])]"
      ]
     },
     "metadata": {},
     "execution_count": 13
    }
   ],
   "metadata": {}
  },
  {
   "cell_type": "markdown",
   "source": [
    "Rodar a roleta"
   ],
   "metadata": {}
  },
  {
   "cell_type": "code",
   "execution_count": 14,
   "source": [
    "import random\r\n",
    "\r\n",
    "def roulette_run (rounds, roulette):\r\n",
    "    if roulette == []:\r\n",
    "        return []\r\n",
    "    selected = []\r\n",
    "    while len(selected) < rounds:\r\n",
    "        r = random.uniform(0,1)\r\n",
    "        for state in roulette:\r\n",
    "            if r <= state[0]:\r\n",
    "                selected.append(state[1])\r\n",
    "                break\r\n",
    "    return selected"
   ],
   "outputs": [],
   "metadata": {}
  },
  {
   "cell_type": "code",
   "execution_count": 15,
   "source": [
    "roulette_run (1, [(0.1, [1, 0, 0]), (0.5, [0, 1, 0]), (1.0, [0, 0, 1])])"
   ],
   "outputs": [
    {
     "output_type": "execute_result",
     "data": {
      "text/plain": [
       "[[0, 1, 0]]"
      ]
     },
     "metadata": {},
     "execution_count": 15
    }
   ],
   "metadata": {}
  },
  {
   "cell_type": "markdown",
   "source": [
    "Hill Climbing Não Determinístico"
   ],
   "metadata": {}
  },
  {
   "cell_type": "code",
   "execution_count": 16,
   "source": [
    "import time\r\n",
    "\r\n",
    "def hill_climbing_nd(max_size, items, max_time):\r\n",
    "    start = time.process_time()\r\n",
    "    current_state = [0]*len(items)\r\n",
    "    optimal_value = 0\r\n",
    "    optimal_size = 0\r\n",
    "    optimal_state = current_state\r\n",
    "    valid_states = len(items)\r\n",
    "    end = 0\r\n",
    "\r\n",
    "    while valid_states != 0 and end-start <= max_time:\r\n",
    "        valid_states = len(items)\r\n",
    "        possible_states = generate_states(current_state)\r\n",
    "        \r\n",
    "        states = []\r\n",
    "        for state in possible_states:\r\n",
    "            aux_val = evaluate_state(state, items)\r\n",
    "            aux_size = state_size(state, items)\r\n",
    "            if aux_size <= max_size:\r\n",
    "                states.append((aux_val, state))\r\n",
    "                if aux_val > optimal_value:\r\n",
    "                    optimal_value = aux_val\r\n",
    "                    optimal_size = aux_size\r\n",
    "                    optimal_state = state\r\n",
    "            else:\r\n",
    "                valid_states = valid_states - 1                \r\n",
    "        print (states)\r\n",
    "        \r\n",
    "        if valid_states > 0:\r\n",
    "            current_state = roulette_run (1, roulette_construction(states))[0]\r\n",
    "            print (current_state)\r\n",
    "\r\n",
    "        end = time.process_time()\r\n",
    "\r\n",
    "    return optimal_state, optimal_size, optimal_value"
   ],
   "outputs": [],
   "metadata": {}
  },
  {
   "cell_type": "code",
   "execution_count": 17,
   "source": [
    "hill_climbing_nd(max_size, items, 120)"
   ],
   "outputs": [
    {
     "output_type": "stream",
     "name": "stdout",
     "text": [
      "[(1, [1, 0, 0]), (4, [0, 1, 0]), (5, [0, 0, 1])]\n",
      "[0, 0, 1]\n",
      "[(6, [1, 0, 1]), (9, [0, 1, 1]), (10, [0, 0, 2])]\n",
      "[0, 1, 1]\n",
      "[(10, [1, 1, 1]), (13, [0, 2, 1])]\n",
      "[0, 2, 1]\n",
      "[]\n"
     ]
    },
    {
     "output_type": "execute_result",
     "data": {
      "text/plain": [
       "([0, 2, 1], 19, 13)"
      ]
     },
     "metadata": {},
     "execution_count": 17
    }
   ],
   "metadata": {}
  },
  {
   "cell_type": "markdown",
   "source": [
    "Beam Search Determinístico"
   ],
   "metadata": {}
  },
  {
   "cell_type": "code",
   "execution_count": 18,
   "source": [
    "import time\r\n",
    "\r\n",
    "def return_value(state_tuple):\r\n",
    "    return state_tuple[0]\r\n",
    "\r\n",
    "def beam_search(max_size, items, tam_viga, max_time):\r\n",
    "    start = time.process_time()\r\n",
    "    current_state = [0]*len(items)\r\n",
    "    queue = [(evaluate_state(current_state,items),current_state)]\r\n",
    "    end = 0\r\n",
    "    \r\n",
    "    while queue and end-start <= max_time:\r\n",
    "        states = []\r\n",
    "        for state in queue:\r\n",
    "            possible_states = generate_states(state[1])\r\n",
    "            for state in possible_states:\r\n",
    "                if state_size(state, items) <= max_size:\r\n",
    "                    states.append((evaluate_state(state,items),state))\r\n",
    "        if states == []:\r\n",
    "            break\r\n",
    "        else:\r\n",
    "            states.sort(key = return_value,reverse = True)\r\n",
    "            queue = states[:tam_viga]\r\n",
    "\r\n",
    "        if len(states) > 0:\r\n",
    "            current_state = roulette_run (1, roulette_construction(states))[0]\r\n",
    "            print (current_state)\r\n",
    "\r\n",
    "        end = time.process_time()    \r\n",
    "\r\n",
    "    return queue[0][1], state_size(queue[0][1], items), queue[0][0]"
   ],
   "outputs": [],
   "metadata": {}
  },
  {
   "cell_type": "code",
   "execution_count": 19,
   "source": [
    "beam_search(max_size, items, 2, 120)"
   ],
   "outputs": [
    {
     "output_type": "stream",
     "name": "stdout",
     "text": [
      "[1, 0, 0]\n",
      "[0, 0, 2]\n",
      "[1, 1, 1]\n"
     ]
    },
    {
     "output_type": "execute_result",
     "data": {
      "text/plain": [
       "([0, 2, 1], 19, 13)"
      ]
     },
     "metadata": {},
     "execution_count": 19
    }
   ],
   "metadata": {}
  },
  {
   "cell_type": "markdown",
   "source": [
    "### Exercícios de Fixação"
   ],
   "metadata": {}
  },
  {
   "cell_type": "markdown",
   "source": [
    "1. Caracterize os tipos de problemas de busca nos quais é interessante usar métodos heurísticos."
   ],
   "metadata": {}
  },
  {
   "cell_type": "markdown",
   "source": [
    "É interessante o uso da heuristica quando é necessário a busca de algum resultado de forma rápida e eficiente, não necessitando de ser perfeito, mas no minimo ótimo. Nisso, alguns problemas são mais relevantes, como organização de uma mochila, caxeiro viajante, ordenação de peças de marmore, etc."
   ],
   "metadata": {}
  },
  {
   "cell_type": "markdown",
   "source": [
    "2.  Era uma vez um fazendeiro que foi ao mercado e comprou um lobo, um carneiro e uma alface. No caminho para casa, o fazendeiro chegou à margem de um rio e arrendou um barco. Mas, na travessia do rio por barco, o agricultor poderia levar apenas a si mesmo e uma única de suas compras - o lobo, o carneiro, ou a alface. Se fossem deixados sozinhos em uma mesma margem, o lobo comeria o carneiro e o carneiro comeria a alface. O desafio do fazendeiro é atravessar a si mesmo e as suas compras para a margem oposta do rio, deixando cada compra intacta. Crie uma representação para descrever os estados desse problema. Partindo de um estado inicial no qual fazendeiro, lobo, carneiro e alface se encontram na mesma margem do rio, desenhe uma árvore com o espaço dos possíveis estados que podem ser gerados a partir daí. Descarte continuar ramos da árvores a partir de estados inválidos e não possibilite em uma mesma ramificação o retorno a um estado previamente visitado. Apresente as soluções encontradas.  "
   ],
   "metadata": {}
  },
  {
   "cell_type": "code",
   "execution_count": null,
   "source": [],
   "outputs": [],
   "metadata": {}
  },
  {
   "cell_type": "markdown",
   "source": [
    "2. Diferencie heurísticas de metaheurísticas. Contraste vantagens de cada uma."
   ],
   "metadata": {}
  },
  {
   "cell_type": "markdown",
   "source": [
    "A principal diferencia da heuristica para a metaheuristica é que a metaheuristica é para solucionar um problema generico, já a heuristica não. \r\n",
    "\r\n",
    "Metaheuristica: Foge de ótimos locais, não é deterministico e normalmente fácil para adaptar a novos problemas. \r\n",
    "Heuristica: Espeficio a um problema, normalmente baseados na experiencia e pode ser desenvolvido qualquer artificio para melhorar a qualidade da execução do código e da resposta. O problema é que pode ser extremamente trabalhoso"
   ],
   "metadata": {}
  },
  {
   "cell_type": "markdown",
   "source": [
    "2. Porque métodos determinísticos de busca heurística tendem a não alcançar bons resultados em resolução de problemas não lineares?"
   ],
   "metadata": {}
  },
  {
   "cell_type": "markdown",
   "source": [
    "Como são aproximados a uma busca cega, necessitam de muito tempo para produzir alguma solução, ou até nenhuma pois necessitam de muito poder de processamento."
   ],
   "metadata": {}
  },
  {
   "cell_type": "markdown",
   "source": [
    "3. Implementar o método beam search não determinístico."
   ],
   "metadata": {}
  },
  {
   "cell_type": "code",
   "execution_count": 20,
   "source": [
    "import time\r\n",
    "\r\n",
    "def return_value(state_tuple):\r\n",
    "    return state_tuple[0]\r\n",
    "\r\n",
    "def beam_search(max_size, items, tam_viga, max_time):\r\n",
    "    start = time.process_time()\r\n",
    "    current_state = [0]*len(items)\r\n",
    "    queue = [(evaluate_state(current_state,items),current_state)]\r\n",
    "    end = 0\r\n",
    "    \r\n",
    "    while queue and end-start <= max_time:\r\n",
    "        states = []\r\n",
    "        for state in queue:\r\n",
    "            possible_states = generate_states(state[1])\r\n",
    "            for state in possible_states:\r\n",
    "                if state_size(state, items) <= max_size:\r\n",
    "                    states.append((evaluate_state(state,items),state))\r\n",
    "        if states == []:\r\n",
    "            break\r\n",
    "        else:\r\n",
    "            states.sort(key = return_value,reverse = True)\r\n",
    "            queue = states[:tam_viga]\r\n",
    "\r\n",
    "        end = time.process_time()    \r\n",
    "\r\n",
    "    return queue[0][1], state_size(queue[0][1], items), queue[0][0]"
   ],
   "outputs": [],
   "metadata": {}
  },
  {
   "cell_type": "markdown",
   "source": [
    "4. Alterar o algoritmo de hill climbing determinístico para levar em consideração a existência de um número finito de elementos de cada item. Cada item tem um número finito e possivelmente diferente de elementos disponíveis."
   ],
   "metadata": {}
  },
  {
   "cell_type": "code",
   "execution_count": 21,
   "source": [
    "import time\r\n",
    "\r\n",
    "def hill_climbing(max_size, items, max_time):\r\n",
    "    start = time.process_time()\r\n",
    "    current_state = [0]*len(items)\r\n",
    "    optimal_value = 0\r\n",
    "    optimal_size = 0\r\n",
    "    optimal_state = current_state\r\n",
    "    valid_states = len(items)\r\n",
    "    end = 0\r\n",
    "\r\n",
    "    while valid_states != 0 and end-start <= max_time:\r\n",
    "        valid_states = len(items)\r\n",
    "        possible_states = generate_states(current_state)\r\n",
    "\r\n",
    "        for state in possible_states:\r\n",
    "            aux_val = evaluate_state(state, items)\r\n",
    "            aux_size = state_size(state, items)\r\n",
    "            if aux_size <= max_size:\r\n",
    "                if aux_val > optimal_value:\r\n",
    "                    optimal_value = aux_val\r\n",
    "                    optimal_size = aux_size\r\n",
    "                    optimal_state = state\r\n",
    "                    current_state = state\r\n",
    "            else:\r\n",
    "                valid_states = valid_states - 1\r\n",
    "\r\n",
    "        end = time.process_time()\r\n",
    "\r\n",
    "    return optimal_state, optimal_size, optimal_value"
   ],
   "outputs": [],
   "metadata": {}
  }
 ],
 "metadata": {
  "kernelspec": {
   "name": "python3",
   "display_name": "Python 3.9.6 64-bit"
  },
  "language_info": {
   "codemirror_mode": {
    "name": "ipython",
    "version": 3
   },
   "file_extension": ".py",
   "mimetype": "text/x-python",
   "name": "python",
   "nbconvert_exporter": "python",
   "pygments_lexer": "ipython3",
   "version": "3.9.6"
  },
  "interpreter": {
   "hash": "ac59ebe37160ed0dfa835113d9b8498d9f09ceb179beaac4002f036b9467c963"
  }
 },
 "nbformat": 4,
 "nbformat_minor": 5
}