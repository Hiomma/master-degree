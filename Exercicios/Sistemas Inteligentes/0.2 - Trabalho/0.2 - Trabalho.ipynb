{
 "cells": [
  {
   "cell_type": "code",
   "execution_count": 2,
   "source": [
    "from experta import *\r\n",
    "\r\n",
    "class States(Fact):\r\n",
    "    nm_State = Field(str, mandatory=True)\r\n",
    "    nm_Biome = Field(str, mandatory=True)\r\n",
    "    nm_Climate = Field(str, mandatory=True)\r\n",
    "    sn_Coast = Field(str, mandatory=True)\r\n",
    "    sn_Border = Field(str, mandatory=True)\r\n",
    "    vl_Population = Field(float, mandatory=True)\r\n",
    "    vl_COVID = Field(float, mandatory=True)\r\n",
    "    vl_PIB = Field(float, mandatory=True)\r\n",
    "\r\n",
    "class Classificator(Fact):\r\n",
    "\r\n",
    "    @DefFacts()\r\n",
    "    def Init_Facts():\r\n",
    "        yield States(nm_State='Acre', nm_Biome='Amazonia' ,nm_Climate='Equatorial' , sn_Coast='N', sn_Border='S' , vl_Population=906876 , vl_COVID=1816, vl_PIB=15331)\r\n",
    "        yield States(nm_State='Alagoas', nm_Biome='Caatinga' ,nm_Climate='Semiárido' , sn_Coast='S', sn_Border='N' , vl_Population=3365351 , vl_COVID=6141, vl_PIB=54413)\r\n",
    "        yield States(nm_State='Amapá', nm_Biome='Amazonia' ,nm_Climate='Equatorial' , sn_Coast='S', sn_Border='S' , vl_Population=877613 , vl_COVID=1962, vl_PIB=16795)\r\n",
    "        yield States(nm_State='Amazonas', nm_Biome='Amazonia' ,nm_Climate='Equatorial' , sn_Coast='N', sn_Border='S' , vl_Population=4269995 , vl_COVID=13705, vl_PIB=100109)\r\n",
    "        yield States(nm_State='Bahia', nm_Biome='Mata Atlântica' ,nm_Climate='Tropical' , sn_Coast='S', sn_Border='N' , vl_Population=14985284 , vl_COVID=26650, vl_PIB=286240)\r\n",
    "        yield States(nm_State='Ceará', nm_Biome='Caatinga' ,nm_Climate='Semiárido' , sn_Coast='S', sn_Border='N' , vl_Population=9240580 , vl_COVID=24127, vl_PIB=155904)\r\n",
    "        yield States(nm_State='Distrito Federal', nm_Biome='Cerrado' ,nm_Climate='Tropical' , sn_Coast='N', sn_Border='N' , vl_Population=3094325 , vl_COVID=10222, vl_PIB=254817)\r\n",
    "        yield States(nm_State='Espiríto Santo', nm_Biome='Mata Atlântica' ,nm_Climate='Tropical' , sn_Coast='S', sn_Border='N' , vl_Population=4108508 , vl_COVID=12369, vl_PIB=137020)\r\n",
    "        yield States(nm_State='Goiás', nm_Biome='Cerrado' ,nm_Climate='Tropical' , sn_Coast='N', sn_Border='N' , vl_Population=7206589 , vl_COVID=22974, vl_PIB=195682)\r\n",
    "        yield States(nm_State='Maranhão', nm_Biome='Amazonia' ,nm_Climate='Equatorial' , sn_Coast='S', sn_Border='N' , vl_Population=7153262 , vl_COVID=10106, vl_PIB=98179)\r\n",
    "        yield States(nm_State='Mato Grosso', nm_Biome='Pantanal' ,nm_Climate='Equatorial' , sn_Coast='N', sn_Border='S' , vl_Population=3567234 , vl_COVID=13655, vl_PIB=137443)\r\n",
    "        yield States(nm_State='Mato Grosso do Sul', nm_Biome='Pantanal' ,nm_Climate='Tropical' , sn_Coast='N', sn_Border='S' , vl_Population=2839188 , vl_COVID=9468, vl_PIB=106969)\r\n",
    "        yield States(nm_State='Minas Gerais', nm_Biome='Cerrado' ,nm_Climate='Tropical' , sn_Coast='N', sn_Border='N' , vl_Population=21411923 , vl_COVID=53698, vl_PIB=614876)\r\n",
    "        yield States(nm_State='Pará', nm_Biome='Amazonia' ,nm_Climate='Equatorial' , sn_Coast='S', sn_Border='S' , vl_Population=8777124 , vl_COVID=38116, vl_PIB=440029)\r\n",
    "        yield States(nm_State='Paraíba', nm_Biome='Caatinga' ,nm_Climate='Semiárido' , sn_Coast='S', sn_Border='N' , vl_Population=4059905 , vl_COVID=9246, vl_PIB=64374)\r\n",
    "        yield States(nm_State='Paraná', nm_Biome='Mata Atlântica' ,nm_Climate='Subtropical' , sn_Coast='S', sn_Border='S' , vl_Population=11597484 , vl_COVID=16544, vl_PIB=161350)\r\n",
    "        yield States(nm_State='Pernambuco', nm_Biome='Caatinga' ,nm_Climate='Semiárido' , sn_Coast='S', sn_Border='N' , vl_Population=9674793 , vl_COVID=19552, vl_PIB=186352)\r\n",
    "        yield States(nm_State='Piauí', nm_Biome='Caatinga' ,nm_Climate='Semiárido' , sn_Coast='S', sn_Border='N' , vl_Population=3289290 , vl_COVID=6980, vl_PIB=50378)\r\n",
    "        yield States(nm_State='Rio de Janeiro', nm_Biome='Mata Atlântica' ,nm_Climate='Tropical' , sn_Coast='S', sn_Border='N' , vl_Population=17463349 , vl_COVID=63880, vl_PIB=758859)\r\n",
    "        yield States(nm_State='Rio Grande do Norte', nm_Biome='Caatinga' ,nm_Climate='Semiárido' , sn_Coast='S', sn_Border='N' , vl_Population=3560903 , vl_COVID=7302, vl_PIB=66970)\r\n",
    "        yield States(nm_State='Rio Grande do Sul', nm_Biome='Pampa' ,nm_Climate='Subtropical' , sn_Coast='S', sn_Border='S' , vl_Population=11466630 , vl_COVID=34462, vl_PIB=457294)\r\n",
    "        yield States(nm_State='Rondônia', nm_Biome='Amazonia' ,nm_Climate='Equatorial' , sn_Coast='N', sn_Border='S' , vl_Population=1815278 , vl_COVID=6506, vl_PIB=44914)\r\n",
    "        yield States(nm_State='Roraima', nm_Biome='Amazonia' ,nm_Climate='Equatorial' , sn_Coast='N', sn_Border='S' , vl_Population=652713 , vl_COVID=1968, vl_PIB=13370)\r\n",
    "        yield States(nm_State='Santa Catarina', nm_Biome='Mata Atlântica' ,nm_Climate='Subtropical' , sn_Coast='S', sn_Border='S' , vl_Population=7338473 , vl_COVID=18953, vl_PIB=298227)\r\n",
    "        yield States(nm_State='São Paulo', nm_Biome='Mata Atlântica' ,nm_Climate='Tropical' , sn_Coast='S', sn_Border='N' , vl_Population=46649132 , vl_COVID=147258, vl_PIB=2210562)\r\n",
    "        yield States(nm_State='Sergipe', nm_Biome='Caatinga' ,nm_Climate='Semiárido' , sn_Coast='S', sn_Border='N' , vl_Population=2338474 , vl_COVID=6003, vl_PIB=42018)\r\n",
    "        yield States(nm_State='Tocantins', nm_Biome='Cerrado' ,nm_Climate='Tropical' , sn_Coast='N', sn_Border='N' , vl_Population=1607363 , vl_COVID=3716, vl_PIB=35666)\r\n",
    "\r\n",
    "    @Rule()\r\n",
    "    def Ask_Vegetation():\r\n",
    "        self.declare(Fact())\r\n",
    "\r\n",
    "\r\n",
    "engine = States()\r\n",
    "engine.reset()\r\n",
    "engine.run()"
   ],
   "outputs": [
    {
     "output_type": "error",
     "ename": "AttributeError",
     "evalue": "'States' object has no attribute 'reset'",
     "traceback": [
      "\u001b[1;31m---------------------------------------------------------------------------\u001b[0m",
      "\u001b[1;31mAttributeError\u001b[0m                            Traceback (most recent call last)",
      "\u001b[1;32m<ipython-input-2-741d3b27e73b>\u001b[0m in \u001b[0;36m<module>\u001b[1;34m\u001b[0m\n\u001b[0;32m      8\u001b[0m \u001b[1;33m\u001b[0m\u001b[0m\n\u001b[0;32m      9\u001b[0m \u001b[0mengine\u001b[0m \u001b[1;33m=\u001b[0m \u001b[0mStates\u001b[0m\u001b[1;33m(\u001b[0m\u001b[1;33m)\u001b[0m\u001b[1;33m\u001b[0m\u001b[1;33m\u001b[0m\u001b[0m\n\u001b[1;32m---> 10\u001b[1;33m \u001b[0mengine\u001b[0m\u001b[1;33m.\u001b[0m\u001b[0mreset\u001b[0m\u001b[1;33m(\u001b[0m\u001b[1;33m)\u001b[0m\u001b[1;33m\u001b[0m\u001b[1;33m\u001b[0m\u001b[0m\n\u001b[0m\u001b[0;32m     11\u001b[0m \u001b[0mengine\u001b[0m\u001b[1;33m.\u001b[0m\u001b[0mrun\u001b[0m\u001b[1;33m(\u001b[0m\u001b[1;33m)\u001b[0m\u001b[1;33m\u001b[0m\u001b[1;33m\u001b[0m\u001b[0m\n",
      "\u001b[1;31mAttributeError\u001b[0m: 'States' object has no attribute 'reset'"
     ]
    }
   ],
   "metadata": {}
  }
 ],
 "metadata": {
  "orig_nbformat": 4,
  "language_info": {
   "name": "python",
   "version": "3.8.5",
   "mimetype": "text/x-python",
   "codemirror_mode": {
    "name": "ipython",
    "version": 3
   },
   "pygments_lexer": "ipython3",
   "nbconvert_exporter": "python",
   "file_extension": ".py"
  },
  "kernelspec": {
   "name": "python3",
   "display_name": "Python 3.8.5 32-bit"
  },
  "interpreter": {
   "hash": "a97cea9040a71f963f6525d18201786996e5c5add084f4c8fbf988376b1b48ba"
  }
 },
 "nbformat": 4,
 "nbformat_minor": 2
}