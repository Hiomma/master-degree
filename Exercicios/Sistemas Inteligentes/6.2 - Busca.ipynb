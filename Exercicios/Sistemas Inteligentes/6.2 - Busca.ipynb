{
 "cells": [
  {
   "cell_type": "markdown",
   "source": [
    "# Busca (Parte III)"
   ],
   "metadata": {}
  },
  {
   "cell_type": "markdown",
   "source": [
    "## Mochila com Número Irrestrito de Itens com Valor"
   ],
   "metadata": {}
  },
  {
   "cell_type": "code",
   "execution_count": 1,
   "source": [
    "max_size = 19\r\n",
    "items = [(1,3),(4,6),(5,7)]"
   ],
   "outputs": [],
   "metadata": {}
  },
  {
   "cell_type": "markdown",
   "source": [
    "Tamanho de Estados"
   ],
   "metadata": {}
  },
  {
   "cell_type": "code",
   "execution_count": 2,
   "source": [
    "def state_size(state, items):\r\n",
    "    size = 0\r\n",
    "    for i in range(len(state)):\r\n",
    "        size += state[i] * items[i][1]\r\n",
    "    return size"
   ],
   "outputs": [],
   "metadata": {}
  },
  {
   "cell_type": "code",
   "execution_count": 3,
   "source": [
    "state_size([1,1,1], items)"
   ],
   "outputs": [
    {
     "output_type": "execute_result",
     "data": {
      "text/plain": [
       "16"
      ]
     },
     "metadata": {},
     "execution_count": 3
    }
   ],
   "metadata": {}
  },
  {
   "cell_type": "markdown",
   "source": [
    "Avaliação de Estados"
   ],
   "metadata": {}
  },
  {
   "cell_type": "code",
   "execution_count": 4,
   "source": [
    "def evaluate_state(state, items):\r\n",
    "    value = 0\r\n",
    "    for i in range(len(state)):\r\n",
    "        value += state[i] * items[i][0]\r\n",
    "    return value"
   ],
   "outputs": [],
   "metadata": {}
  },
  {
   "cell_type": "code",
   "execution_count": 5,
   "source": [
    "evaluate_state([1,2,0], items)"
   ],
   "outputs": [
    {
     "output_type": "execute_result",
     "data": {
      "text/plain": [
       "9"
      ]
     },
     "metadata": {},
     "execution_count": 5
    }
   ],
   "metadata": {}
  },
  {
   "cell_type": "markdown",
   "source": [
    "Geração de Estados"
   ],
   "metadata": {}
  },
  {
   "cell_type": "code",
   "execution_count": 6,
   "source": [
    "def generate_states(initial_state):\r\n",
    "    states = []\r\n",
    "    for i in range (len(initial_state)):\r\n",
    "        aux = initial_state.copy()\r\n",
    "        aux[i] = initial_state[i] + 1\r\n",
    "        states.append(aux)\r\n",
    "    return states"
   ],
   "outputs": [],
   "metadata": {}
  },
  {
   "cell_type": "code",
   "execution_count": 7,
   "source": [
    "generate_states([0,0,0])"
   ],
   "outputs": [
    {
     "output_type": "execute_result",
     "data": {
      "text/plain": [
       "[[1, 0, 0], [0, 1, 0], [0, 0, 1]]"
      ]
     },
     "metadata": {},
     "execution_count": 7
    }
   ],
   "metadata": {}
  },
  {
   "cell_type": "markdown",
   "source": [
    "Roleta"
   ],
   "metadata": {}
  },
  {
   "cell_type": "markdown",
   "source": [
    "Soma de valores de todos os estados"
   ],
   "metadata": {}
  },
  {
   "cell_type": "code",
   "execution_count": 8,
   "source": [
    "def states_total_value(states):\r\n",
    "    total_sum = 0\r\n",
    "    for state in states:\r\n",
    "        total_sum = total_sum + state[0]\r\n",
    "    return total_sum"
   ],
   "outputs": [],
   "metadata": {}
  },
  {
   "cell_type": "code",
   "execution_count": 9,
   "source": [
    "states_total_value([(1, [1,0,0]), (4, [0, 1, 0]), (5, [0, 0, 1])])"
   ],
   "outputs": [
    {
     "output_type": "execute_result",
     "data": {
      "text/plain": [
       "10"
      ]
     },
     "metadata": {},
     "execution_count": 9
    }
   ],
   "metadata": {}
  },
  {
   "cell_type": "markdown",
   "source": [
    "Construção da roleta"
   ],
   "metadata": {}
  },
  {
   "cell_type": "code",
   "execution_count": 10,
   "source": [
    "def roulette_construction(states):\r\n",
    "    aux_states = []\r\n",
    "    roulette = []\r\n",
    "    total_value = states_total_value(states)\r\n",
    "\r\n",
    "    for state in states:\r\n",
    "        value = state[0]\r\n",
    "        if total_value != 0:\r\n",
    "            ratio = value/total_value\r\n",
    "        else:\r\n",
    "            ratio = 1\r\n",
    "        aux_states.append((ratio,state[1]))\r\n",
    " \r\n",
    "    acc_value = 0\r\n",
    "    for state in aux_states:\r\n",
    "        acc_value = acc_value + state[0]\r\n",
    "        s = (acc_value,state[1])\r\n",
    "        roulette.append(s)\r\n",
    "    return roulette"
   ],
   "outputs": [],
   "metadata": {}
  },
  {
   "cell_type": "code",
   "execution_count": 11,
   "source": [
    "roulette_construction([(1, [1,0,0]), (4, [0, 1, 0]), (5, [0, 0, 1])])"
   ],
   "outputs": [
    {
     "output_type": "execute_result",
     "data": {
      "text/plain": [
       "[(0.1, [1, 0, 0]), (0.5, [0, 1, 0]), (1.0, [0, 0, 1])]"
      ]
     },
     "metadata": {},
     "execution_count": 11
    }
   ],
   "metadata": {}
  },
  {
   "cell_type": "markdown",
   "source": [
    "Rodar a roleta"
   ],
   "metadata": {}
  },
  {
   "cell_type": "code",
   "execution_count": 12,
   "source": [
    "import random\r\n",
    "\r\n",
    "def roulette_run (rounds, roulette):\r\n",
    "    if roulette == []:\r\n",
    "        return []\r\n",
    "    selected = []\r\n",
    "    while len(selected) < rounds:\r\n",
    "        r = random.uniform(0,1)\r\n",
    "        for state in roulette:\r\n",
    "            if r <= state[0]:\r\n",
    "                selected.append(state[1])\r\n",
    "                break\r\n",
    "    return selected"
   ],
   "outputs": [],
   "metadata": {}
  },
  {
   "cell_type": "code",
   "execution_count": 13,
   "source": [
    "roulette_run (1, [(0.1, [1, 0, 0]), (0.5, [0, 1, 0]), (1.0, [0, 0, 1])])"
   ],
   "outputs": [
    {
     "output_type": "execute_result",
     "data": {
      "text/plain": [
       "[[0, 1, 0]]"
      ]
     },
     "metadata": {},
     "execution_count": 13
    }
   ],
   "metadata": {}
  },
  {
   "cell_type": "markdown",
   "source": [
    "Estado Inicial Aleatório"
   ],
   "metadata": {}
  },
  {
   "cell_type": "code",
   "execution_count": 14,
   "source": [
    "import random\r\n",
    "\r\n",
    "def generate_initial_state(max_size, items):\r\n",
    "    initial_state = []\r\n",
    "    for i in range(len(items)):\r\n",
    "        initial_state.append(random.randint(0,max_size//items[i][1]))\r\n",
    "    if state_size(initial_state,items) > max_size:\r\n",
    "        while True:\r\n",
    "            for i in range(len(items)):\r\n",
    "                if initial_state[i] > 0:\r\n",
    "                    initial_state[i] = initial_state[i] - 1\r\n",
    "                    if state_size(initial_state,items) <= max_size:\r\n",
    "                        return initial_state\r\n",
    "    return initial_state"
   ],
   "outputs": [],
   "metadata": {}
  },
  {
   "cell_type": "code",
   "execution_count": 15,
   "source": [
    "generate_initial_state(max_size, items)"
   ],
   "outputs": [
    {
     "output_type": "execute_result",
     "data": {
      "text/plain": [
       "[0, 1, 1]"
      ]
     },
     "metadata": {},
     "execution_count": 15
    }
   ],
   "metadata": {}
  },
  {
   "cell_type": "markdown",
   "source": [
    "Primeiro elemento de uma lista ou tupla"
   ],
   "metadata": {}
  },
  {
   "cell_type": "code",
   "execution_count": 16,
   "source": [
    "def first(x):\r\n",
    "    return x[0]"
   ],
   "outputs": [],
   "metadata": {}
  },
  {
   "cell_type": "markdown",
   "source": [
    "Operador de Seleção"
   ],
   "metadata": {}
  },
  {
   "cell_type": "code",
   "execution_count": 17,
   "source": [
    "def selection(value_population,n):\r\n",
    "    aux_population = roulette_construction(value_population)\r\n",
    "    new_population = roulette_run(n, aux_population)\r\n",
    "    return new_population"
   ],
   "outputs": [],
   "metadata": {}
  },
  {
   "cell_type": "code",
   "execution_count": 18,
   "source": [
    "pop = [(1, [1, 0, 0]), (4, [0, 1, 0]), (5, [0, 0, 1]), (5, [1, 1, 0]), (6, [1, 0, 1]), (10, [1, 1, 1])]\r\n",
    "selection (pop, 3)"
   ],
   "outputs": [
    {
     "output_type": "execute_result",
     "data": {
      "text/plain": [
       "[[1, 1, 1], [1, 1, 0], [0, 1, 0]]"
      ]
     },
     "metadata": {},
     "execution_count": 18
    }
   ],
   "metadata": {}
  },
  {
   "cell_type": "markdown",
   "source": [
    "Operador de Recombinação"
   ],
   "metadata": {}
  },
  {
   "cell_type": "code",
   "execution_count": 19,
   "source": [
    "def crossover(dad,mom):\r\n",
    "    r = random.randint(0, len(dad) - 1)\r\n",
    "    son = dad[:r]+mom[r:]\r\n",
    "    daug = mom[:r]+dad[r:]\r\n",
    "    return son, daug"
   ],
   "outputs": [],
   "metadata": {}
  },
  {
   "cell_type": "code",
   "execution_count": 20,
   "source": [
    "crossover([0,0,0,0,0,0],[1,1,1,1,1,1])"
   ],
   "outputs": [
    {
     "output_type": "execute_result",
     "data": {
      "text/plain": [
       "([0, 0, 0, 0, 1, 1], [1, 1, 1, 1, 0, 0])"
      ]
     },
     "metadata": {},
     "execution_count": 20
    }
   ],
   "metadata": {}
  },
  {
   "cell_type": "markdown",
   "source": [
    "Operador de Mutação"
   ],
   "metadata": {}
  },
  {
   "cell_type": "code",
   "execution_count": 21,
   "source": [
    "def mutation (indiv):\r\n",
    "    individual = indiv.copy()\r\n",
    "    rand = random.randint(0, len(individual) - 1)\r\n",
    "    if individual[rand] > 0:\r\n",
    "        r = random.uniform(0,1)\r\n",
    "        if r > 0.5:\r\n",
    "            individual[rand] = individual[rand] + 1\r\n",
    "        else:\r\n",
    "            individual[rand] = individual[rand] - 1\r\n",
    "    else:\r\n",
    "        individual[rand] = individual[rand] + 1\r\n",
    "        \r\n",
    "    return individual"
   ],
   "outputs": [],
   "metadata": {}
  },
  {
   "cell_type": "code",
   "execution_count": 22,
   "source": [
    "mutation ([1,2,1,0,1,3])"
   ],
   "outputs": [
    {
     "output_type": "execute_result",
     "data": {
      "text/plain": [
       "[1, 2, 1, 0, 1, 2]"
      ]
     },
     "metadata": {},
     "execution_count": 22
    }
   ],
   "metadata": {}
  },
  {
   "cell_type": "markdown",
   "source": [
    "População Inicial"
   ],
   "metadata": {}
  },
  {
   "cell_type": "code",
   "execution_count": 23,
   "source": [
    "def initial_population(n, max_size, items):\r\n",
    "    pop = []\r\n",
    "    count = 0\r\n",
    "    while count < n:\r\n",
    "        individual = generate_initial_state(max_size, items)\r\n",
    "        pop = pop + [individual]\r\n",
    "        count += 1\r\n",
    "    return pop"
   ],
   "outputs": [],
   "metadata": {}
  },
  {
   "cell_type": "code",
   "execution_count": 24,
   "source": [
    "initial_population(5, max_size, items)"
   ],
   "outputs": [
    {
     "output_type": "execute_result",
     "data": {
      "text/plain": [
       "[[4, 0, 1], [0, 2, 1], [0, 0, 2], [0, 2, 1], [0, 1, 1]]"
      ]
     },
     "metadata": {},
     "execution_count": 24
    }
   ],
   "metadata": {}
  },
  {
   "cell_type": "markdown",
   "source": [
    "Convergência"
   ],
   "metadata": {}
  },
  {
   "cell_type": "code",
   "execution_count": 25,
   "source": [
    "def convergent(population):\n",
    "    conv = False\n",
    "    if population != []:\n",
    "        base = population[0]\n",
    "        i = 0\n",
    "        while i < len(population):\n",
    "            if base != population[i]:\n",
    "                return False\n",
    "            i += 1\n",
    "        return True"
   ],
   "outputs": [],
   "metadata": {}
  },
  {
   "cell_type": "code",
   "execution_count": 26,
   "source": [
    "convergent([[0, 0, 1], [0, 0, 1], [0, 0, 1], [0, 0, 1], [0, 0, 1]])"
   ],
   "outputs": [
    {
     "output_type": "execute_result",
     "data": {
      "text/plain": [
       "True"
      ]
     },
     "metadata": {},
     "execution_count": 26
    }
   ],
   "metadata": {}
  },
  {
   "cell_type": "markdown",
   "source": [
    "Avaliação"
   ],
   "metadata": {}
  },
  {
   "cell_type": "code",
   "execution_count": 27,
   "source": [
    "def evaluate_population (pop, items):\n",
    "    eval = []\n",
    "    for s in pop:\n",
    "        eval = eval + [(evaluate_state(s, items), s)]\n",
    "    return eval        "
   ],
   "outputs": [],
   "metadata": {}
  },
  {
   "cell_type": "code",
   "execution_count": 28,
   "source": [
    "evaluate_population ([[1, 0, 1], [0, 1, 1], [0, 0, 1]], items)"
   ],
   "outputs": [
    {
     "output_type": "execute_result",
     "data": {
      "text/plain": [
       "[(6, [1, 0, 1]), (9, [0, 1, 1]), (5, [0, 0, 1])]"
      ]
     },
     "metadata": {},
     "execution_count": 28
    }
   ],
   "metadata": {}
  },
  {
   "cell_type": "markdown",
   "source": [
    "Elitismo"
   ],
   "metadata": {}
  },
  {
   "cell_type": "code",
   "execution_count": 29,
   "source": [
    "import math\n",
    "\n",
    "def elitism (val_pop, pct):\n",
    "    n = math.floor((pct/100)*len(val_pop))\n",
    "    if n < 1:\n",
    "        n = 1\n",
    "    val_elite = sorted (val_pop, key = first, reverse = True)[:n]\n",
    "    elite = [s for v,s in val_elite]\n",
    "    return elite"
   ],
   "outputs": [],
   "metadata": {}
  },
  {
   "cell_type": "code",
   "execution_count": 30,
   "source": [
    "elitism ([(6, [1, 0, 1]), (9, [0, 1, 1]), (5, [0, 0, 1])], 70)"
   ],
   "outputs": [
    {
     "output_type": "execute_result",
     "data": {
      "text/plain": [
       "[[0, 1, 1], [1, 0, 1]]"
      ]
     },
     "metadata": {},
     "execution_count": 30
    }
   ],
   "metadata": {}
  },
  {
   "cell_type": "markdown",
   "source": [
    "Etapa de Recombinação"
   ],
   "metadata": {}
  },
  {
   "cell_type": "code",
   "execution_count": 31,
   "source": [
    "def crossover_step (population, crossover_ratio, max_size, items):\n",
    "    new_pop = []\n",
    "    \n",
    "    for _ in range (round(len(population)/2)):\n",
    "        rand = random.uniform(0, 1)\n",
    "        fst_ind = random.randint(0, len(population) - 1)\n",
    "        scd_ind = random.randint(0, len(population) - 1)\n",
    "        parent1 = population[fst_ind] \n",
    "        parent2 = population[scd_ind]\n",
    "\n",
    "        if rand <= crossover_ratio:\n",
    "            offspring1, offspring2 = crossover(parent1, parent2)            \n",
    "            if state_size(offspring1, items) > max_size:\n",
    "                offspring1 = parent1\n",
    "            if state_size(offspring2, items) > max_size:\n",
    "                offspring2 = parent2\n",
    "        else:\n",
    "            offspring1, offspring2 = parent1, parent2\n",
    "                \n",
    "        new_pop = new_pop + [offspring1, offspring2]\n",
    "        \n",
    "    return new_pop"
   ],
   "outputs": [],
   "metadata": {}
  },
  {
   "cell_type": "code",
   "execution_count": 32,
   "source": [
    "crossover_step ([[0, 2, 1], [1, 1, 1], [1, 2, 0], [3, 0, 1]], 0.8, max_size, items)"
   ],
   "outputs": [
    {
     "output_type": "execute_result",
     "data": {
      "text/plain": [
       "[[1, 1, 1], [1, 1, 1], [1, 2, 0], [0, 2, 0]]"
      ]
     },
     "metadata": {},
     "execution_count": 32
    }
   ],
   "metadata": {}
  },
  {
   "cell_type": "markdown",
   "source": [
    "Etapa de Mutação"
   ],
   "metadata": {}
  },
  {
   "cell_type": "code",
   "execution_count": 33,
   "source": [
    "def mutation_step (population, mutation_ratio, max_size, items):\n",
    "    ind = 0\n",
    "    for individual in population:\n",
    "        rand = random.uniform(0, 1)\n",
    "\n",
    "        if rand <= mutation_ratio:\n",
    "            mutated = mutation(individual)\n",
    "            if state_size(mutated, items) <= max_size:\n",
    "                population[ind] = mutated\n",
    "                \n",
    "        ind+=1\n",
    "        \n",
    "    return population   "
   ],
   "outputs": [],
   "metadata": {}
  },
  {
   "cell_type": "code",
   "execution_count": 34,
   "source": [
    "mutation_step ([[0, 2, 1], [1, 1, 1], [1, 2, 0], [3, 0, 1]], 0.8, max_size, items)"
   ],
   "outputs": [
    {
     "output_type": "execute_result",
     "data": {
      "text/plain": [
       "[[0, 1, 1], [2, 1, 1], [1, 2, 0], [2, 0, 1]]"
      ]
     },
     "metadata": {},
     "execution_count": 34
    }
   ],
   "metadata": {}
  },
  {
   "cell_type": "markdown",
   "source": [
    "Algoritmo Genético"
   ],
   "metadata": {}
  },
  {
   "cell_type": "code",
   "execution_count": 35,
   "source": [
    "import time\n",
    "\n",
    "def genetic (max_size, items, pop_size, max_iter, cross_ratio, mut_ratio, max_time, elite_pct):\n",
    "# mut_ratio, max_time, elite_pct\n",
    "\n",
    "    start = time.process_time()\n",
    "    opt_state = [0] * len(items)\n",
    "    opt_value = 0\n",
    "    pop = initial_population(pop_size, max_size, items)\n",
    "    conv = convergent(pop)\n",
    "    iter = 0    \n",
    "    end = 0\n",
    "\n",
    "    while not conv and iter < max_iter and end-start <= max_time:\n",
    "        \n",
    "        val_pop = evaluate_population (pop, items)\n",
    "        new_pop = elitism (val_pop, elite_pct)\n",
    "        best = new_pop[0]\n",
    "        val_best = evaluate_state(best, items)\n",
    "\n",
    "        if (val_best > opt_value):\n",
    "            opt_state = best\n",
    "            opt_value = val_best\n",
    "\n",
    "        selected = selection(val_pop, pop_size - len(new_pop)) \n",
    "        crossed = crossover_step(selected, cross_ratio, max_size, items)\n",
    "        mutated = mutation_step(crossed, mut_ratio, max_size, items)\n",
    "        pop = new_pop + mutated\n",
    "        conv = convergent(pop)\n",
    "        iter+=1\n",
    "        end = time.process_time()\n",
    "        \n",
    "  \n",
    "    return opt_state, state_size(opt_state, items), opt_value, iter, conv\n"
   ],
   "outputs": [],
   "metadata": {}
  },
  {
   "cell_type": "code",
   "execution_count": 36,
   "source": [
    "genetic (max_size, items, 100, 200, 0.9, 0.1, 120, 20)"
   ],
   "outputs": [
    {
     "output_type": "execute_result",
     "data": {
      "text/plain": [
       "([0, 2, 1], 19, 13, 34, True)"
      ]
     },
     "metadata": {},
     "execution_count": 36
    }
   ],
   "metadata": {}
  },
  {
   "cell_type": "markdown",
   "source": [
    "### Exercícios de Fixação"
   ],
   "metadata": {}
  },
  {
   "cell_type": "markdown",
   "source": [
    "1. Considere o problema da mochila irrestrita com tamanho de mochila igual a 1381 e com a seguinte lista de pares (valor, tamanho) de itens {(1,3),(4,6),(5,7),(3,4),(2,6),(2,3),(6,8),(1,2),(3,5),(7,10),(10,15),(13,20),(24,25),(29,37)}. Execute várias vezes o algoritmo genético e o método grasp feito na aula anterior. Reporte o melhor resultado encontrado e o resultado médio obtido eplos dois algoritmos nas várias execuções. Qual o método que obteve os melhores resultados? Tente ajustar os hiperparâmetros do genético para ver se consegue melhorar seus resultados."
   ],
   "metadata": {}
  },
  {
   "cell_type": "markdown",
   "source": [
    "2. Explique o que é elitismo e porque ele deve ser usado de forma cautelosa? Rode várias vezes o algoritmo genético no problema da questão 1 com percentual de elitismo igual a 50%. Observe se o resultado final obteve convergência. Repita com o percentual igual a 1%. Compare em termos de convergência e resultados obtidos."
   ],
   "metadata": {}
  },
  {
   "cell_type": "markdown",
   "source": [
    "3. Altere a implementação do operador de crossover do algoritmo genético para transformá-lo em um operador de segregação, isto é, para decidir aleatoriamente qual filho receberá o gene de cada pai."
   ],
   "metadata": {}
  },
  {
   "cell_type": "markdown",
   "source": [
    "4. Liste as diferenças entre o algoritmo genético apresentado nesta aula e o constante no artigo \"A Survey of Metaheuristics Methods for Bioinformatics Applications\""
   ],
   "metadata": {}
  },
  {
   "cell_type": "markdown",
   "source": [
    "5. O artigo \"Soft Computing Classifier Ensemble for Fault Diagnosis\" usa várias metaheurísticas para a construção de combinados de classificadores aplicados ao diagnóstico de falhas em motobombas. Indique quais metaheurísticas foram usadas e para quê cada uma  delas foi aplicada no trabalho."
   ],
   "metadata": {}
  }
 ],
 "metadata": {
  "kernelspec": {
   "name": "python3",
   "display_name": "Python 3.9.6 64-bit"
  },
  "language_info": {
   "codemirror_mode": {
    "name": "ipython",
    "version": 3
   },
   "file_extension": ".py",
   "mimetype": "text/x-python",
   "name": "python",
   "nbconvert_exporter": "python",
   "pygments_lexer": "ipython3",
   "version": "3.9.6"
  },
  "interpreter": {
   "hash": "ac59ebe37160ed0dfa835113d9b8498d9f09ceb179beaac4002f036b9467c963"
  }
 },
 "nbformat": 4,
 "nbformat_minor": 5
}