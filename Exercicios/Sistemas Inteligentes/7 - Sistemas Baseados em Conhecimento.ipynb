{
 "cells": [
  {
   "cell_type": "markdown",
   "id": "attempted-saudi",
   "metadata": {},
   "source": [
    "# Sistemas Baseados em Conhecimento\n",
    "## Sistemas Baseados em Regras\n",
    "### Pyknow"
   ]
  },
  {
   "cell_type": "markdown",
   "id": "operational-lease",
   "metadata": {},
   "source": [
    "Fatos\n",
    "\n",
    " São uma unidade básica de informação de Pyknow\n",
    " \n",
    " A classe Fact é uma subclasse de dict (dicionário)\n",
    " \n",
    " Portanto, Fact não mantém uma ordem interna dos seus itens"
   ]
  },
  {
   "cell_type": "code",
   "execution_count": 1,
   "id": "needed-improvement",
   "metadata": {},
   "outputs": [
    {
     "name": "stdout",
     "output_type": "stream",
     "text": [
      "1\n"
     ]
    }
   ],
   "source": [
    "from pyknow import *\n",
    "\n",
    "f = Fact(a=1, b=2)\n",
    "print(f['a'])"
   ]
  },
  {
   "cell_type": "markdown",
   "id": "bigger-andrews",
   "metadata": {},
   "source": [
    "É possível criar fatos sem palavras chaves"
   ]
  },
  {
   "cell_type": "code",
   "execution_count": 2,
   "id": "juvenile-lindsay",
   "metadata": {},
   "outputs": [
    {
     "name": "stdout",
     "output_type": "stream",
     "text": [
      "x\n",
      "1\n"
     ]
    }
   ],
   "source": [
    "f = Fact ('x', 'y', 'z', a = 1, b = 2)\n",
    "print (f[0])\n",
    "print(f['a'])"
   ]
  },
  {
   "cell_type": "markdown",
   "id": "specific-lindsay",
   "metadata": {},
   "source": [
    "É possível criar subclasses de Fact para expressar tipos diferentes de dados e/ou criar funcionalidades específicas"
   ]
  },
  {
   "cell_type": "code",
   "execution_count": 3,
   "id": "integrated-prize",
   "metadata": {},
   "outputs": [
    {
     "name": "stdout",
     "output_type": "stream",
     "text": [
      "red\n",
      "critical\n"
     ]
    }
   ],
   "source": [
    "class Alert(Fact):\n",
    "    pass\n",
    "\n",
    "class Status(Fact):\n",
    "    pass\n",
    "\n",
    "f1 = Alert(color = 'red')\n",
    "f2 = Status (state = 'critical')\n",
    "print (f1['color'])\n",
    "print (f2['state'])"
   ]
  },
  {
   "cell_type": "markdown",
   "id": "packed-tomorrow",
   "metadata": {},
   "source": [
    "Inicialização de fatos"
   ]
  },
  {
   "cell_type": "markdown",
   "id": "overall-bleeding",
   "metadata": {},
   "source": [
    " Sistema necessita para começar a funcionar de um conjunto de fatos iniciais.\n",
    " \n",
    " Todos os fatos iniciais definidos nos decoradores DefFacts são criados toda vez que o método reset é chamado."
   ]
  },
  {
   "cell_type": "code",
   "execution_count": 4,
   "id": "parallel-image",
   "metadata": {},
   "outputs": [],
   "source": [
    "@DefFacts()\n",
    "def needed_data():\n",
    "    yield Fact(best_color = 'red')\n",
    "    yield Fact(best_body = 'medium')\n",
    "    yield Fact(best_sweetness = 'dry')     "
   ]
  },
  {
   "cell_type": "markdown",
   "id": "expired-acceptance",
   "metadata": {},
   "source": [
    "Regras"
   ]
  },
  {
   "cell_type": "markdown",
   "id": "shaped-mason",
   "metadata": {},
   "source": [
    " Tem dois componentes (LHS e RHS). \n",
    " \n",
    " LHS descrevem as condições para a regra ser disparada. \n",
    " \n",
    " RHS é um conjunto de ações realizadas quando a regra é disparada"
   ]
  },
  {
   "cell_type": "code",
   "execution_count": 5,
   "id": "second-elephant",
   "metadata": {},
   "outputs": [],
   "source": [
    "@Rule(AND(Fact(feature='voa'), \n",
    "          Fact(tipo='ave')))\n",
    "def e_passaro(self):\n",
    "    print(\"Passaro\")\n",
    "\n",
    "@Rule(AND(NOT(Fact(feature='voa')),\n",
    "          Fact(tipo='ave')))\n",
    "def e_pinguim(self):\n",
    "    print(\"Pinguim\")"
   ]
  },
  {
   "cell_type": "markdown",
   "id": "macro-rough",
   "metadata": {},
   "source": [
    "Máquina de Inferência"
   ]
  },
  {
   "cell_type": "markdown",
   "id": "attempted-nutrition",
   "metadata": {},
   "source": [
    " Responsável pela execução do sistema. \n",
    " \n",
    " Primeiro passo é fazer uma subclasse. \n",
    " \n",
    " Depois instanciá-la e rodar o sistema."
   ]
  },
  {
   "cell_type": "code",
   "execution_count": 15,
   "id": "raising-attendance",
   "metadata": {},
   "outputs": [
    {
     "name": "stdout",
     "output_type": "stream",
     "text": [
      "Passaro\n"
     ]
    }
   ],
   "source": [
    "class ClassifyAnimals(KnowledgeEngine):\n",
    "\n",
    "    @DefFacts()\n",
    "    def _initial_features(self):\n",
    "        yield Fact(feature=\"penas\")\n",
    "        yield Fact(feature=\"voa\")\n",
    "\n",
    "    @Rule(Fact(feature='penas'))\n",
    "    def e_ave(self):\n",
    "        self.declare(Fact(tipo='ave'))\n",
    "\n",
    "    @Rule(AND(Fact(feature='voa'),\n",
    "              Fact(tipo='ave')))\n",
    "    def e_passaro(self):\n",
    "        print(\"Passaro\")\n",
    "\n",
    "    @Rule(AND(NOT(Fact(feature='voa')),\n",
    "              Fact(tipo='ave')))\n",
    "    def e_pinguim(self):\n",
    "        print(\"Pinguim\")\n",
    "\n",
    "engine = ClassifyAnimals()\n",
    "engine.reset()\n",
    "engine.run() "
   ]
  },
  {
   "cell_type": "markdown",
   "id": "southwest-explorer",
   "metadata": {},
   "source": [
    "Operador existencial EXIST "
   ]
  },
  {
   "cell_type": "code",
   "execution_count": 7,
   "id": "eleven-edward",
   "metadata": {},
   "outputs": [
    {
     "name": "stdout",
     "output_type": "stream",
     "text": [
      "The day is saved\n"
     ]
    }
   ],
   "source": [
    "class Goal(Fact):\n",
    "    pass\n",
    "\n",
    "class Hero(Fact):\n",
    "    name = Field(str)\n",
    "    status = Field(str, default=\"unoccupied\")\n",
    "\n",
    "class Heroes(KnowledgeEngine):\n",
    "    \n",
    "        @DefFacts()\n",
    "        def goal_and_heroes(self):\n",
    "            yield Goal('save-the-day')\n",
    "            yield Hero(name=\"Death Defying Man\", status = 'busy')\n",
    "            yield Hero(name=\"Stupendous Man\")\n",
    "            yield Hero(name=\"Incredible Man\", status = 'busy')\n",
    "            \n",
    "        @Rule(Goal('save-the-day'),\n",
    "              EXISTS(Hero(status=\"unoccupied\")))\n",
    "        def save_the_day(self):\n",
    "            print(\"The day is saved\")\n",
    "            \n",
    "engineH = Heroes()\n",
    "engineH.reset()\n",
    "engineH.run()\n"
   ]
  },
  {
   "cell_type": "markdown",
   "id": "latin-indie",
   "metadata": {},
   "source": [
    "Wildcards: Associam com quaisquer valores.\n",
    "\n",
    "MATCH: Retorna valor associado com nome."
   ]
  },
  {
   "cell_type": "code",
   "execution_count": 16,
   "id": "metric-brother",
   "metadata": {},
   "outputs": [
    {
     "name": "stdout",
     "output_type": "stream",
     "text": [
      "What's your name? João\n",
      "Where are you? São Paulo\n",
      "Hi João! How is the weather in São Paulo?\n"
     ]
    }
   ],
   "source": [
    "class Greetings(KnowledgeEngine):\n",
    "    @DefFacts()\n",
    "    def _initial_action(self):\n",
    "        yield Fact(action=\"greet\")\n",
    "\n",
    "    @Rule(Fact(action='greet'),\n",
    "          NOT(Fact(name=W())))\n",
    "    def ask_name(self):\n",
    "        self.declare(Fact(name=input(\"What's your name? \")))\n",
    "\n",
    "    @Rule(Fact(action='greet'),\n",
    "          NOT(Fact(location=W())))\n",
    "    def ask_location(self):\n",
    "        self.declare(Fact(location=input(\"Where are you? \")))\n",
    "\n",
    "    @Rule(Fact(action='greet'),\n",
    "          Fact(name=MATCH.name),\n",
    "          Fact(location=MATCH.location))\n",
    "    def greet(self, name, location):\n",
    "        print(\"Hi %s! How is the weather in %s?\" % (name, location))\n",
    "\n",
    "engine = Greetings()\n",
    "engine.reset()  # Prepare the engine for the execution.\n",
    "engine.run()  # Run it!"
   ]
  },
  {
   "cell_type": "markdown",
   "id": "heavy-surprise",
   "metadata": {},
   "source": [
    "L: Só associa exatamente com o valor literal usado. \n",
    "\n",
    "&: Associa se todos os valores casam.\n",
    "\n",
    "|: Associa se um dos valores casam.\n",
    "\n",
    "~: Associa se o valor não casa. \n",
    "\n",
    "<<: Associa valor de fato a variável. \n",
    "\n",
    "AS: Associa fato a variável."
   ]
  },
  {
   "cell_type": "code",
   "execution_count": 23,
   "id": "opened-royal",
   "metadata": {},
   "outputs": [
    {
     "name": "stdout",
     "output_type": "stream",
     "text": [
      "Be cautious because light is blinking-yellow\n"
     ]
    }
   ],
   "source": [
    "from random import choice\n",
    "\n",
    "class Light(Fact):\n",
    "    \"\"\"Info about the traffic light.\"\"\"\n",
    "    pass\n",
    "\n",
    "class RobotCrossStreet(KnowledgeEngine):\n",
    "    @Rule(Light(color='green'))\n",
    "    def green_light(self):\n",
    "        print(\"Walk\")\n",
    "\n",
    "    @Rule(Light(color='red'))\n",
    "    def red_light(self):\n",
    "        print(\"Don't walk\")\n",
    "\n",
    "    @Rule(AS.light << Light(color=L('yellow') | L('blinking-yellow')))\n",
    "    def cautious(self, light):\n",
    "        print(\"Be cautious because light is\", light[\"color\"])\n",
    "\n",
    "engine = RobotCrossStreet()\n",
    "engine.reset()\n",
    "engine.declare(Light(color=choice(['green', 'yellow', 'blinking-yellow', 'red'])))\n",
    "engine.run() "
   ]
  },
  {
   "cell_type": "markdown",
   "id": "thirty-scout",
   "metadata": {},
   "source": [
    "Exercícios de Fixação"
   ]
  },
  {
   "cell_type": "markdown",
   "id": "valued-volume",
   "metadata": {},
   "source": [
    "1. Qual a diferença entre um sistema baseado em conhecimento e um sistema convencional que executa o mesmo tipo de tarefa? Porque sistemas baseados em conhecimento foram chamados inicialmente de sistemas especialistas?"
   ]
  },
  {
   "cell_type": "markdown",
   "id": "legendary-survey",
   "metadata": {},
   "source": [
    "2. Qual a forma mais comum de representação de conhecimento em sistemas baseados em conhecimento? Qual a principal vantagem desse tipo de representação?"
   ]
  },
  {
   "cell_type": "markdown",
   "id": "homeless-radical",
   "metadata": {},
   "source": [
    "3. Explique o que são os modos de inferência com encadeamento para frente e para trás? Apresente exemplos."
   ]
  },
  {
   "cell_type": "markdown",
   "id": "inappropriate-commissioner",
   "metadata": {},
   "source": [
    "4. Quais são consideradas as maiores dificuldades para a criação e uso de Sistemas Baseados em Conhecimento? Explique porque essas dificuldades ocorrem? "
   ]
  },
  {
   "cell_type": "markdown",
   "id": "black-flooring",
   "metadata": {},
   "source": [
    "5. Uma das alegadas vantagens de Sistemas Baseados em Conhecimento é possuírem capacidade de explicar seu raciocínio. Porque esses sistemas tem essa capacidade? Contraste isso com sistemas de aprendizado baseados em redes neurais, que não possuem essa capacidade. Porque explicar o raciocínio é importante e o que se perde quando não se tem essa capacidade? "
   ]
  },
  {
   "cell_type": "markdown",
   "id": "compound-murder",
   "metadata": {},
   "source": [
    "6. Explique em que tipo de situação é indicado o uso de Sistemas Baseados em Conhecimento?"
   ]
  },
  {
   "cell_type": "markdown",
   "id": "unavailable-hamilton",
   "metadata": {},
   "source": [
    "7. Altere a implementação da classe ClassifyAnimals para que a inferência conclua Penguim em vez de Pássaro? Altere a implementação novamente para que seja perguntado ao usuário se o animal voa. Altere mais uma vez a implementação para que seja perguntado se o animal tem penas. Em caso negativo, o sistema deve responder que o animal é um morcego."
   ]
  }
 ],
 "metadata": {
  "kernelspec": {
   "display_name": "Python 3",
   "language": "python",
   "name": "python3"
  },
  "language_info": {
   "codemirror_mode": {
    "name": "ipython",
    "version": 3
   },
   "file_extension": ".py",
   "mimetype": "text/x-python",
   "name": "python",
   "nbconvert_exporter": "python",
   "pygments_lexer": "ipython3",
   "version": "3.6.7"
  }
 },
 "nbformat": 4,
 "nbformat_minor": 5
}
