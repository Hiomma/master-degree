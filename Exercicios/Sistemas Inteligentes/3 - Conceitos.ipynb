{
 "cells": [
  {
   "cell_type": "markdown",
   "metadata": {},
   "source": [
    "# Conceitos Básicos\n",
    "\n",
    "Scikit-learn: \n",
    "\n",
    "https://scikit-learn.org/stable/user_guide.html#user-guide\n",
    "\n",
    "http://scikit-learn.org/stable/tutorial/statistical_inference/supervised_learning.html\n",
    "\n",
    "http://scikit-learn.org/stable/modules/cross_validation.html\n",
    "\n",
    "teste t de Student: https://machinelearningmastery.com/how-to-code-the-students-t-test-from-scratch-in-python/\n",
    "\n",
    "teste não paramétrico de Wilcoxon: https://machinelearningmastery.com/nonparametric-statistical-significance-tests-in-python/\n"
   ]
  },
  {
   "cell_type": "markdown",
   "metadata": {},
   "source": [
    "Datasets "
   ]
  },
  {
   "cell_type": "code",
   "execution_count": 3,
   "metadata": {},
   "outputs": [
    {
     "name": "stdout",
     "output_type": "stream",
     "text": [
      "<class 'sklearn.utils.Bunch'>\n",
      "<class 'numpy.ndarray'>\n",
      "<class 'numpy.ndarray'>\n",
      "[0 1 2]\n",
      "(150, 4) (150,)\n",
      "[[5.1 3.5 1.4 0.2]\n",
      " [4.9 3.  1.4 0.2]\n",
      " [4.7 3.2 1.3 0.2]\n",
      " [4.6 3.1 1.5 0.2]\n",
      " [5.  3.6 1.4 0.2]\n",
      " [5.4 3.9 1.7 0.4]\n",
      " [4.6 3.4 1.4 0.3]\n",
      " [5.  3.4 1.5 0.2]\n",
      " [4.4 2.9 1.4 0.2]\n",
      " [4.9 3.1 1.5 0.1]\n",
      " [5.4 3.7 1.5 0.2]\n",
      " [4.8 3.4 1.6 0.2]\n",
      " [4.8 3.  1.4 0.1]\n",
      " [4.3 3.  1.1 0.1]\n",
      " [5.8 4.  1.2 0.2]\n",
      " [5.7 4.4 1.5 0.4]\n",
      " [5.4 3.9 1.3 0.4]\n",
      " [5.1 3.5 1.4 0.3]\n",
      " [5.7 3.8 1.7 0.3]\n",
      " [5.1 3.8 1.5 0.3]\n",
      " [5.4 3.4 1.7 0.2]\n",
      " [5.1 3.7 1.5 0.4]\n",
      " [4.6 3.6 1.  0.2]\n",
      " [5.1 3.3 1.7 0.5]\n",
      " [4.8 3.4 1.9 0.2]\n",
      " [5.  3.  1.6 0.2]\n",
      " [5.  3.4 1.6 0.4]\n",
      " [5.2 3.5 1.5 0.2]\n",
      " [5.2 3.4 1.4 0.2]\n",
      " [4.7 3.2 1.6 0.2]\n",
      " [4.8 3.1 1.6 0.2]\n",
      " [5.4 3.4 1.5 0.4]\n",
      " [5.2 4.1 1.5 0.1]\n",
      " [5.5 4.2 1.4 0.2]\n",
      " [4.9 3.1 1.5 0.2]\n",
      " [5.  3.2 1.2 0.2]\n",
      " [5.5 3.5 1.3 0.2]\n",
      " [4.9 3.6 1.4 0.1]\n",
      " [4.4 3.  1.3 0.2]\n",
      " [5.1 3.4 1.5 0.2]\n",
      " [5.  3.5 1.3 0.3]\n",
      " [4.5 2.3 1.3 0.3]\n",
      " [4.4 3.2 1.3 0.2]\n",
      " [5.  3.5 1.6 0.6]\n",
      " [5.1 3.8 1.9 0.4]\n",
      " [4.8 3.  1.4 0.3]\n",
      " [5.1 3.8 1.6 0.2]\n",
      " [4.6 3.2 1.4 0.2]\n",
      " [5.3 3.7 1.5 0.2]\n",
      " [5.  3.3 1.4 0.2]\n",
      " [7.  3.2 4.7 1.4]\n",
      " [6.4 3.2 4.5 1.5]\n",
      " [6.9 3.1 4.9 1.5]\n",
      " [5.5 2.3 4.  1.3]\n",
      " [6.5 2.8 4.6 1.5]\n",
      " [5.7 2.8 4.5 1.3]\n",
      " [6.3 3.3 4.7 1.6]\n",
      " [4.9 2.4 3.3 1. ]\n",
      " [6.6 2.9 4.6 1.3]\n",
      " [5.2 2.7 3.9 1.4]\n",
      " [5.  2.  3.5 1. ]\n",
      " [5.9 3.  4.2 1.5]\n",
      " [6.  2.2 4.  1. ]\n",
      " [6.1 2.9 4.7 1.4]\n",
      " [5.6 2.9 3.6 1.3]\n",
      " [6.7 3.1 4.4 1.4]\n",
      " [5.6 3.  4.5 1.5]\n",
      " [5.8 2.7 4.1 1. ]\n",
      " [6.2 2.2 4.5 1.5]\n",
      " [5.6 2.5 3.9 1.1]\n",
      " [5.9 3.2 4.8 1.8]\n",
      " [6.1 2.8 4.  1.3]\n",
      " [6.3 2.5 4.9 1.5]\n",
      " [6.1 2.8 4.7 1.2]\n",
      " [6.4 2.9 4.3 1.3]\n",
      " [6.6 3.  4.4 1.4]\n",
      " [6.8 2.8 4.8 1.4]\n",
      " [6.7 3.  5.  1.7]\n",
      " [6.  2.9 4.5 1.5]\n",
      " [5.7 2.6 3.5 1. ]\n",
      " [5.5 2.4 3.8 1.1]\n",
      " [5.5 2.4 3.7 1. ]\n",
      " [5.8 2.7 3.9 1.2]\n",
      " [6.  2.7 5.1 1.6]\n",
      " [5.4 3.  4.5 1.5]\n",
      " [6.  3.4 4.5 1.6]\n",
      " [6.7 3.1 4.7 1.5]\n",
      " [6.3 2.3 4.4 1.3]\n",
      " [5.6 3.  4.1 1.3]\n",
      " [5.5 2.5 4.  1.3]\n",
      " [5.5 2.6 4.4 1.2]\n",
      " [6.1 3.  4.6 1.4]\n",
      " [5.8 2.6 4.  1.2]\n",
      " [5.  2.3 3.3 1. ]\n",
      " [5.6 2.7 4.2 1.3]\n",
      " [5.7 3.  4.2 1.2]\n",
      " [5.7 2.9 4.2 1.3]\n",
      " [6.2 2.9 4.3 1.3]\n",
      " [5.1 2.5 3.  1.1]\n",
      " [5.7 2.8 4.1 1.3]\n",
      " [6.3 3.3 6.  2.5]\n",
      " [5.8 2.7 5.1 1.9]\n",
      " [7.1 3.  5.9 2.1]\n",
      " [6.3 2.9 5.6 1.8]\n",
      " [6.5 3.  5.8 2.2]\n",
      " [7.6 3.  6.6 2.1]\n",
      " [4.9 2.5 4.5 1.7]\n",
      " [7.3 2.9 6.3 1.8]\n",
      " [6.7 2.5 5.8 1.8]\n",
      " [7.2 3.6 6.1 2.5]\n",
      " [6.5 3.2 5.1 2. ]\n",
      " [6.4 2.7 5.3 1.9]\n",
      " [6.8 3.  5.5 2.1]\n",
      " [5.7 2.5 5.  2. ]\n",
      " [5.8 2.8 5.1 2.4]\n",
      " [6.4 3.2 5.3 2.3]\n",
      " [6.5 3.  5.5 1.8]\n",
      " [7.7 3.8 6.7 2.2]\n",
      " [7.7 2.6 6.9 2.3]\n",
      " [6.  2.2 5.  1.5]\n",
      " [6.9 3.2 5.7 2.3]\n",
      " [5.6 2.8 4.9 2. ]\n",
      " [7.7 2.8 6.7 2. ]\n",
      " [6.3 2.7 4.9 1.8]\n",
      " [6.7 3.3 5.7 2.1]\n",
      " [7.2 3.2 6.  1.8]\n",
      " [6.2 2.8 4.8 1.8]\n",
      " [6.1 3.  4.9 1.8]\n",
      " [6.4 2.8 5.6 2.1]\n",
      " [7.2 3.  5.8 1.6]\n",
      " [7.4 2.8 6.1 1.9]\n",
      " [7.9 3.8 6.4 2. ]\n",
      " [6.4 2.8 5.6 2.2]\n",
      " [6.3 2.8 5.1 1.5]\n",
      " [6.1 2.6 5.6 1.4]\n",
      " [7.7 3.  6.1 2.3]\n",
      " [6.3 3.4 5.6 2.4]\n",
      " [6.4 3.1 5.5 1.8]\n",
      " [6.  3.  4.8 1.8]\n",
      " [6.9 3.1 5.4 2.1]\n",
      " [6.7 3.1 5.6 2.4]\n",
      " [6.9 3.1 5.1 2.3]\n",
      " [5.8 2.7 5.1 1.9]\n",
      " [6.8 3.2 5.9 2.3]\n",
      " [6.7 3.3 5.7 2.5]\n",
      " [6.7 3.  5.2 2.3]\n",
      " [6.3 2.5 5.  1.9]\n",
      " [6.5 3.  5.2 2. ]\n",
      " [6.2 3.4 5.4 2.3]\n",
      " [5.9 3.  5.1 1.8]]\n",
      "[0 0 0 0 0 0 0 0 0 0 0 0 0 0 0 0 0 0 0 0 0 0 0 0 0 0 0 0 0 0 0 0 0 0 0 0 0\n",
      " 0 0 0 0 0 0 0 0 0 0 0 0 0 1 1 1 1 1 1 1 1 1 1 1 1 1 1 1 1 1 1 1 1 1 1 1 1\n",
      " 1 1 1 1 1 1 1 1 1 1 1 1 1 1 1 1 1 1 1 1 1 1 1 1 1 1 2 2 2 2 2 2 2 2 2 2 2\n",
      " 2 2 2 2 2 2 2 2 2 2 2 2 2 2 2 2 2 2 2 2 2 2 2 2 2 2 2 2 2 2 2 2 2 2 2 2 2\n",
      " 2 2]\n"
     ]
    }
   ],
   "source": [
    "import numpy as np\n",
    "from sklearn import datasets\n",
    "\n",
    "iris = datasets.load_iris()\n",
    "iris_X = iris.data\n",
    "iris_y = iris.target\n",
    "\n",
    "print(type(iris))\n",
    "print(type(iris_X))\n",
    "print(type(iris_y))\n",
    "\n",
    "labels = np.unique(iris_y)\n",
    "print (labels)\n",
    "print (iris.data.shape, iris.target.shape)\n",
    "\n",
    "print(iris_X)\n",
    "print(iris_y)\n",
    "\n"
   ]
  },
  {
   "cell_type": "markdown",
   "metadata": {},
   "source": [
    "Distribuição de classes"
   ]
  },
  {
   "cell_type": "code",
   "execution_count": 4,
   "metadata": {},
   "outputs": [
    {
     "name": "stdout",
     "output_type": "stream",
     "text": [
      "[(0, 0.3333333333333333), (1, 0.3333333333333333), (2, 0.3333333333333333)]\n"
     ]
    }
   ],
   "source": [
    "def classDistribution (classData):\n",
    "\n",
    "    tam = len(classData)\n",
    "    labels = np.unique(classData)\n",
    "    \n",
    "    classDistr = []\n",
    "    for class_value in labels:   \n",
    "        cvc = len([1 for i in iris_y if i == class_value])\n",
    "        classDistr += [(class_value, cvc/tam)]\n",
    "\n",
    "    return classDistr\n",
    "\n",
    "print(classDistribution(iris_y))"
   ]
  },
  {
   "cell_type": "markdown",
   "metadata": {},
   "source": [
    "Treino e Teste Vizinho Mais Próximo"
   ]
  },
  {
   "cell_type": "code",
   "execution_count": 5,
   "metadata": {},
   "outputs": [
    {
     "name": "stdout",
     "output_type": "stream",
     "text": [
      "[1 1 1 0 0 0 2 1 2 0]\n",
      "[1 2 1 0 0 0 2 1 2 0]\n"
     ]
    }
   ],
   "source": [
    "np.random.seed(0)\n",
    "indices = np.random.permutation(len(iris_X))\n",
    "iris_X_train = iris_X[indices[:-10]]\n",
    "iris_y_train = iris_y[indices[:-10]]\n",
    "iris_X_test = iris_X[indices[-10:]]\n",
    "iris_y_test = iris_y[indices[-10:]]\n",
    "\n",
    "from sklearn.neighbors import KNeighborsClassifier\n",
    "oneNN = KNeighborsClassifier(n_neighbors=1)\n",
    "oneNN.fit(iris_X_train, iris_y_train) \n",
    "print(iris_y_test)\n",
    "print(oneNN.predict(iris_X_test))"
   ]
  },
  {
   "cell_type": "markdown",
   "metadata": {},
   "source": [
    "Treino e Teste Vizinho Mais Próximo"
   ]
  },
  {
   "cell_type": "code",
   "execution_count": 6,
   "metadata": {},
   "outputs": [
    {
     "name": "stdout",
     "output_type": "stream",
     "text": [
      "(90, 4) (90,)\n",
      "(60, 4) (60,)\n",
      "[2 1 0 2 0 2 0 1 1 1 2 1 1 1 1 0 1 1 0 0 2 1 0 0 2 0 0 1 1 0 2 1 0 2 2 1 0\n",
      " 1 1 1 2 0 2 0 0 1 2 2 2 2 1 2 1 1 2 2 2 2 1 2]\n",
      "[2 1 0 2 0 2 0 1 1 1 2 1 1 1 1 0 1 1 0 0 2 1 0 0 2 0 0 1 1 0 2 1 0 2 2 1 0\n",
      " 2 1 1 2 0 2 0 0 1 2 2 1 2 1 2 1 1 1 1 1 2 1 2]\n",
      "accuracy =  0.9166666666666666\n"
     ]
    }
   ],
   "source": [
    "from sklearn.model_selection import train_test_split\n",
    "\n",
    "X_train, X_test, y_train, y_test = train_test_split(iris.data, \n",
    "                    iris.target, test_size=0.4, random_state=0)\n",
    "print(X_train.shape, y_train.shape)\n",
    "print(X_test.shape, y_test.shape)\n",
    "\n",
    "oneNN.fit(X_train, y_train) \n",
    "print(y_test)\n",
    "y_pred = oneNN.predict(X_test)\n",
    "print(y_pred)\n",
    "\n",
    "print ('accuracy = ', oneNN.score(X_test, y_test))"
   ]
  },
  {
   "cell_type": "markdown",
   "metadata": {},
   "source": [
    "Matriz de Confusão"
   ]
  },
  {
   "cell_type": "code",
   "execution_count": 7,
   "metadata": {},
   "outputs": [
    {
     "name": "stdout",
     "output_type": "stream",
     "text": [
      "[[16  0  0]\n",
      " [ 0 22  1]\n",
      " [ 0  4 17]]\n"
     ]
    },
    {
     "data": {
      "image/png": "[encoded data removed]",
      "text/plain": [
       "<Figure size 432x288 with 2 Axes>"
      ]
     },
     "metadata": {
      "needs_background": "light"
     },
     "output_type": "display_data"
    }
   ],
   "source": [
    "from sklearn.metrics import confusion_matrix, plot_confusion_matrix\n",
    "import matplotlib.pyplot as plt\n",
    "\n",
    "print (confusion_matrix(y_test, y_pred))\n",
    "plot_confusion_matrix(oneNN, X_test, y_test, cmap=plt.cm.Blues)\n",
    "plt.show() "
   ]
  },
  {
   "cell_type": "markdown",
   "metadata": {},
   "source": [
    "Outras Métricas - Micro, Macro, Weighted "
   ]
  },
  {
   "cell_type": "code",
   "execution_count": 8,
   "metadata": {},
   "outputs": [
    {
     "name": "stdout",
     "output_type": "stream",
     "text": [
      "accuracy score: 0.92\n",
      "\n",
      "balanced accuracy score: 0.93\n",
      "\n",
      "precision score\n",
      "macro: 0.92\n",
      "micro: 0.92\n",
      "weighted: 0.92\n",
      "\n",
      "recall score\n",
      "macro: 0.93\n",
      "micro: 0.92\n",
      "weighted: 0.92\n",
      "\n",
      "fmeasure score\n",
      "macro: 0.92\n",
      "micro: 0.92\n",
      "weighted: 0.92\n",
      "\n"
     ]
    }
   ],
   "source": [
    "from sklearn.metrics import accuracy_score, balanced_accuracy_score, precision_score, recall_score, f1_score\n",
    "\n",
    "print(\"accuracy score: %.2f\\n\" % accuracy_score(y_pred, y_test))\n",
    "print(\"balanced accuracy score: %.2f\\n\" % balanced_accuracy_score(y_pred, y_test))\n",
    "\n",
    "print(\"precision score\")\n",
    "print(\"macro: %.2f\" % precision_score(y_pred, y_test, average='macro'))\n",
    "print(\"micro: %.2f\" % precision_score(y_pred, y_test, average='micro'))\n",
    "print(\"weighted: %.2f\\n\" % precision_score(y_pred, y_test, average='weighted'))\n",
    "\n",
    "print(\"recall score\")\n",
    "print(\"macro: %.2f\" % recall_score(y_pred, y_test, average='macro'))\n",
    "print(\"micro: %.2f\" % recall_score(y_pred, y_test, average='micro'))\n",
    "print(\"weighted: %.2f\\n\" % recall_score(y_pred, y_test, average='weighted'))\n",
    "\n",
    "print(\"fmeasure score\")\n",
    "print(\"macro: %.2f\" % f1_score(y_pred, y_test, average='macro'))\n",
    "print(\"micro: %.2f\" % f1_score(y_pred, y_test, average='micro'))\n",
    "print(\"weighted: %.2f\\n\" % f1_score(y_pred, y_test, average='weighted'))"
   ]
  },
  {
   "cell_type": "markdown",
   "metadata": {},
   "source": [
    "Medidas de Avaliação"
   ]
  },
  {
   "cell_type": "code",
   "execution_count": 9,
   "metadata": {},
   "outputs": [
    {
     "name": "stdout",
     "output_type": "stream",
     "text": [
      "[[16  0  0]\n",
      " [19  3  1]\n",
      " [15  2  4]] \n",
      "\n",
      "accuracy score: 0.38\n",
      "\n",
      "balanced accuracy score: 0.57\n",
      "\n",
      "precision score\n",
      "macro: 0.44\n",
      "micro: 0.38\n",
      "weighted: 0.86\n",
      "\n",
      "recall score\n",
      "macro: 0.57\n",
      "micro: 0.38\n",
      "weighted: 0.38\n",
      "\n",
      "fmeasure score\n",
      "macro: 0.34\n",
      "micro: 0.38\n",
      "weighted: 0.45\n",
      "\n"
     ]
    }
   ],
   "source": [
    "y_pred = [0]*50 + [1, 2]*5\n",
    "\n",
    "print (confusion_matrix(y_test, y_pred), '\\n')\n",
    "\n",
    "print(\"accuracy score: %.2f\\n\" % accuracy_score(y_pred, y_test))\n",
    "print(\"balanced accuracy score: %.2f\\n\" % balanced_accuracy_score(y_pred, y_test))\n",
    "\n",
    "print(\"precision score\")\n",
    "print(\"macro: %.2f\" % precision_score(y_pred, y_test, average='macro'))\n",
    "print(\"micro: %.2f\" % precision_score(y_pred, y_test, average='micro'))\n",
    "print(\"weighted: %.2f\\n\" % precision_score(y_pred, y_test, average='weighted'))\n",
    "\n",
    "print(\"recall score\")\n",
    "print(\"macro: %.2f\" % recall_score(y_pred, y_test, average='macro'))\n",
    "print(\"micro: %.2f\" % recall_score(y_pred, y_test, average='micro'))\n",
    "print(\"weighted: %.2f\\n\" % recall_score(y_pred, y_test, average='weighted'))\n",
    "\n",
    "print(\"fmeasure score\")\n",
    "print(\"macro: %.2f\" % f1_score(y_pred, y_test, average='macro'))\n",
    "print(\"micro: %.2f\" % f1_score(y_pred, y_test, average='micro'))\n",
    "print(\"weighted: %.2f\\n\" % f1_score(y_pred, y_test, average='weighted'))"
   ]
  },
  {
   "cell_type": "markdown",
   "metadata": {},
   "source": [
    "Métodos de Amostragem"
   ]
  },
  {
   "cell_type": "markdown",
   "metadata": {},
   "source": [
    "Resubstituição"
   ]
  },
  {
   "cell_type": "code",
   "execution_count": 10,
   "metadata": {},
   "outputs": [
    {
     "data": {
      "image/png": "[encoded data removed]",
      "text/plain": [
       "<Figure size 432x288 with 2 Axes>"
      ]
     },
     "metadata": {
      "needs_background": "light"
     },
     "output_type": "display_data"
    }
   ],
   "source": [
    "oneNN = KNeighborsClassifier(n_neighbors=1)\n",
    "oneNN.fit(iris_X, iris_y) \n",
    "plot_confusion_matrix(oneNN, iris_X, iris_y, cmap=plt.cm.Blues)\n",
    "plt.show()"
   ]
  },
  {
   "cell_type": "markdown",
   "metadata": {},
   "source": [
    "Divisão Percentual"
   ]
  },
  {
   "cell_type": "code",
   "execution_count": 11,
   "metadata": {},
   "outputs": [
    {
     "data": {
      "image/png": "[encoded data removed]",
      "text/plain": [
       "<Figure size 432x288 with 2 Axes>"
      ]
     },
     "metadata": {
      "needs_background": "light"
     },
     "output_type": "display_data"
    }
   ],
   "source": [
    "X_train, X_test, y_train, y_test = train_test_split(iris.data, \n",
    "                    iris.target, test_size=0.5, random_state=0)\n",
    "oneNN.fit(X_train, y_train) \n",
    "plot_confusion_matrix(oneNN, X_test, y_test, cmap=plt.cm.Blues)\n",
    "plt.show()"
   ]
  },
  {
   "cell_type": "markdown",
   "metadata": {},
   "source": [
    "Validação Cruzada"
   ]
  },
  {
   "cell_type": "code",
   "execution_count": 12,
   "metadata": {},
   "outputs": [
    {
     "name": "stdout",
     "output_type": "stream",
     "text": [
      "fold accuracy: [0.96666667 0.96666667 0.93333333 0.93333333 1.        ]\n",
      "\n",
      "Mean Accuracy: 0.96 Standard Deviation: 0.02\n",
      "Accuracy Confidence Interval (95%): (0.94, 0.98)\n",
      "\n",
      "[[50  0  0]\n",
      " [ 0 47  3]\n",
      " [ 0  3 47]]\n"
     ]
    },
    {
     "data": {
      "image/png": "[encoded data removed]",
      "text/plain": [
       "<Figure size 288x288 with 1 Axes>"
      ]
     },
     "metadata": {
      "needs_background": "light"
     },
     "output_type": "display_data"
    }
   ],
   "source": [
    "from sklearn.model_selection import cross_val_score\n",
    "from scipy import stats\n",
    "\n",
    "oneNN = KNeighborsClassifier(n_neighbors=1)\n",
    "scores = cross_val_score(oneNN, iris_X, iris_y, cv=5)\n",
    "\n",
    "print('fold accuracy:', scores)\n",
    "\n",
    "mean = scores.mean()\n",
    "std = scores.std()\n",
    "inf, sup = stats.norm.interval(0.95, loc=mean, \n",
    "                               scale=std/np.sqrt(len(scores)))\n",
    "\n",
    "print(\"\\nMean Accuracy: %0.2f Standard Deviation: %0.2f\" % (mean, std))\n",
    "print (\"Accuracy Confidence Interval (95%%): (%0.2f, %0.2f)\\n\" % \n",
    "       (inf, sup))    \n",
    "\n",
    "from sklearn.model_selection import cross_val_predict\n",
    "\n",
    "y_pred = cross_val_predict(oneNN, iris_X, iris_y, cv=5)\n",
    "conf_mat = confusion_matrix(iris_y, y_pred)\n",
    "\n",
    "print(conf_mat)\n",
    "\n",
    "plt.matshow(conf_mat)\n",
    "for i in range(len(conf_mat)):\n",
    "    for j in range(len(conf_mat)):\n",
    "        plt.text(i, j, conf_mat[i][j], va=\"center\", ha=\"center\")\n",
    "\n",
    "plt.show()\n"
   ]
  },
  {
   "cell_type": "markdown",
   "metadata": {},
   "source": [
    "Validação Cruzada com Várias Métricas"
   ]
  },
  {
   "cell_type": "code",
   "execution_count": 13,
   "metadata": {},
   "outputs": [
    {
     "name": "stdout",
     "output_type": "stream",
     "text": [
      "Mean Accuracy: 0.96 Standard Deviation: 0.02\n",
      "Mean Macro Precision: 0.96 Standard Deviation: 0.02\n",
      "Mean Macro Recall: 0.96 Standard Deviation: 0.02\n",
      "Mean Macro F1: 0.96 Standard Deviation: 0.03\n"
     ]
    }
   ],
   "source": [
    "from sklearn.model_selection import cross_validate\n",
    "scorings = ['accuracy', 'precision_macro', 'recall_macro', 'f1_macro']\n",
    "scores = cross_validate(oneNN, iris_X, iris_y, \n",
    "                        scoring=scorings, cv=5)\n",
    "\n",
    "scores_acc = scores['test_accuracy']\n",
    "print(\"Mean Accuracy: %0.2f Standard Deviation: %0.2f\" % \n",
    "      (scores_acc.mean(),scores_acc.std()))\n",
    "\n",
    "scores_prec = scores['test_precision_macro']\n",
    "print(\"Mean Macro Precision: %0.2f Standard Deviation: %0.2f\" % \n",
    "      (scores_prec.mean(),scores_prec.std()))\n",
    "\n",
    "scores_rec = scores['test_recall_macro']\n",
    "print(\"Mean Macro Recall: %0.2f Standard Deviation: %0.2f\" % \n",
    "      (scores_rec.mean(),scores_rec.std()))\n",
    "\n",
    "scores_f1 = scores['test_f1_macro']\n",
    "print(\"Mean Macro F1: %0.2f Standard Deviation: %0.2f\" % \n",
    "      (scores_f1.mean(),scores_f1.std()))"
   ]
  },
  {
   "cell_type": "markdown",
   "metadata": {},
   "source": [
    "Um Excluído"
   ]
  },
  {
   "cell_type": "code",
   "execution_count": 14,
   "metadata": {},
   "outputs": [
    {
     "name": "stdout",
     "output_type": "stream",
     "text": [
      "[1. 1. 1. 1. 1. 1. 1. 1. 1. 1. 1. 1. 1. 1. 1. 1. 1. 1. 1. 1. 1. 1. 1. 1.\n",
      " 1. 1. 1. 1. 1. 1. 1. 1. 1. 1. 1. 1. 1. 1. 1. 1. 1. 1. 1. 1. 1. 1. 1. 1.\n",
      " 1. 1. 1. 1. 1. 1. 1. 1. 1. 1. 1. 1. 1. 1. 1. 1. 1. 1. 1. 1. 1. 1. 0. 1.\n",
      " 0. 1. 1. 1. 1. 1. 1. 1. 1. 1. 1. 0. 1. 1. 1. 1. 1. 1. 1. 1. 1. 1. 1. 1.\n",
      " 1. 1. 1. 1. 1. 1. 1. 1. 1. 1. 0. 1. 1. 1. 1. 1. 1. 1. 1. 1. 1. 1. 1. 0.\n",
      " 1. 1. 1. 1. 1. 1. 1. 1. 1. 1. 1. 1. 1. 0. 1. 1. 1. 1. 1. 1. 1. 1. 1. 1.\n",
      " 1. 1. 1. 1. 1. 1.]\n",
      "\n",
      "Mean Accuracy: 0.96 Standard Deviation: 0.20\n",
      "Accuracy Confidence Interval (95%): (0.93, 0.99)\n",
      "\n"
     ]
    }
   ],
   "source": [
    "from sklearn.model_selection import LeaveOneOut\n",
    "\n",
    "loo = LeaveOneOut()\n",
    "scores = cross_val_score(oneNN, iris_X, iris_y, cv=loo)\n",
    "\n",
    "print(scores)\n",
    "\n",
    "mean = scores.mean()\n",
    "std = scores.std()\n",
    "inf, sup = stats.norm.interval(0.95, loc=mean, \n",
    "                               scale=std/np.sqrt(len(scores)))\n",
    "\n",
    "print(\"\\nMean Accuracy: %0.2f Standard Deviation: %0.2f\" % (mean, std))\n",
    "print (\"Accuracy Confidence Interval (95%%): (%0.2f, %0.2f)\\n\" % \n",
    "       (inf, sup))    \n"
   ]
  },
  {
   "cell_type": "markdown",
   "metadata": {},
   "source": [
    "Busca em Grade"
   ]
  },
  {
   "cell_type": "code",
   "execution_count": 15,
   "metadata": {},
   "outputs": [
    {
     "name": "stdout",
     "output_type": "stream",
     "text": [
      "Best Mean Accuracy: 0.97\n",
      "Best Parameter Values:  {'n_neighbors': 5}\n",
      "Grid Search Result Infos:  dict_keys(['mean_fit_time', 'std_fit_time', 'mean_score_time', 'std_score_time', 'param_n_neighbors', 'params', 'split0_test_score', 'split1_test_score', 'split2_test_score', 'split3_test_score', 'split4_test_score', 'split5_test_score', 'split6_test_score', 'split7_test_score', 'split8_test_score', 'split9_test_score', 'mean_test_score', 'std_test_score', 'rank_test_score'])\n",
      "0.9333333333333333\n",
      "[1. 1. 1.]\n",
      "[1.         0.93333333 1.         0.93333333 0.86666667 1.\n",
      " 0.86666667 1.         1.         1.        ]\n",
      "[1.         0.93333333 1.         0.93333333 0.86666667 1.\n",
      " 0.93333333 1.         1.         1.        ]\n",
      "[1.         0.93333333 1.         1.         0.86666667 0.93333333\n",
      " 0.93333333 1.         1.         1.        ]\n",
      "0.96\n",
      "0.9666666666666666\n",
      "0.9666666666666668\n"
     ]
    }
   ],
   "source": [
    "from sklearn.model_selection import GridSearchCV\n",
    "\n",
    "kNN = KNeighborsClassifier()\n",
    "\n",
    "grade = {'n_neighbors': [1, 3, 5]}\n",
    "\n",
    "gs = GridSearchCV(estimator=kNN, param_grid = grade, \n",
    "                  scoring='accuracy', cv = 10)\n",
    "\n",
    "gs = gs.fit(iris_X, iris_y)\n",
    "\n",
    "print(\"Best Mean Accuracy: %0.2f\" % gs.best_score_)\n",
    "print(\"Best Parameter Values: \", gs.best_params_)\n",
    "print(\"Grid Search Result Infos: \", gs.cv_results_.keys())\n",
    "\n",
    "print(gs.cv_results_['split1_test_score'][0])\n",
    "print(gs.cv_results_['split7_test_score'])\n",
    "\n",
    "parciais1 = np.array ([gs.cv_results_['split0_test_score'][0], \n",
    "                       gs.cv_results_['split1_test_score'][0], \n",
    "                       gs.cv_results_['split2_test_score'][0], \n",
    "                       gs.cv_results_['split3_test_score'][0], \n",
    "                       gs.cv_results_['split4_test_score'][0], \n",
    "                       gs.cv_results_['split5_test_score'][0], \n",
    "                       gs.cv_results_['split6_test_score'][0], \n",
    "                       gs.cv_results_['split7_test_score'][0], \n",
    "                       gs.cv_results_['split8_test_score'][0], \n",
    "                       gs.cv_results_['split9_test_score'][0]])\n",
    "\n",
    "parciais2 = np.array ([gs.cv_results_['split0_test_score'][1], \n",
    "                       gs.cv_results_['split1_test_score'][1], \n",
    "                       gs.cv_results_['split2_test_score'][1], \n",
    "                       gs.cv_results_['split3_test_score'][1], \n",
    "                       gs.cv_results_['split4_test_score'][1], \n",
    "                       gs.cv_results_['split5_test_score'][1], \n",
    "                       gs.cv_results_['split6_test_score'][1], \n",
    "                       gs.cv_results_['split7_test_score'][1], \n",
    "                       gs.cv_results_['split8_test_score'][1], \n",
    "                       gs.cv_results_['split9_test_score'][1]])\n",
    "\n",
    "parciais3 = np.array ([gs.cv_results_['split0_test_score'][2], \n",
    "                       gs.cv_results_['split1_test_score'][2], \n",
    "                       gs.cv_results_['split2_test_score'][2], \n",
    "                       gs.cv_results_['split3_test_score'][2], \n",
    "                       gs.cv_results_['split4_test_score'][2], \n",
    "                       gs.cv_results_['split5_test_score'][2], \n",
    "                       gs.cv_results_['split6_test_score'][2], \n",
    "                       gs.cv_results_['split7_test_score'][2], \n",
    "                       gs.cv_results_['split8_test_score'][2], \n",
    "                       gs.cv_results_['split9_test_score'][2]]) \n",
    "\n",
    "print (parciais1)\n",
    "print (parciais2)\n",
    "print (parciais3)\n",
    "\n",
    "print (parciais1.mean())\n",
    "print (parciais2.mean())\n",
    "print (parciais3.mean())"
   ]
  },
  {
   "cell_type": "markdown",
   "metadata": {},
   "source": [
    "Validação Cruzada Aninhada Repetida"
   ]
  },
  {
   "cell_type": "code",
   "execution_count": 16,
   "metadata": {},
   "outputs": [
    {
     "name": "stdout",
     "output_type": "stream",
     "text": [
      "[0.96666667 0.96666667 0.9        0.96666667 0.96666667 0.93333333\n",
      " 0.93333333 0.96666667 1.         0.96666667 1.         0.9\n",
      " 1.         0.86666667 1.         1.         0.96666667 0.93333333\n",
      " 0.96666667 0.86666667 0.96666667 0.96666667 1.         0.96666667\n",
      " 0.96666667 0.96666667 0.93333333 1.         0.96666667 0.96666667]\n",
      "\n",
      "Mean Accuracy: 0.96 Standard Deviation: 0.04\n",
      "Accuracy Confidence Interval (95%): (0.95, 0.97)\n",
      "\n"
     ]
    }
   ],
   "source": [
    "from sklearn.model_selection import RepeatedStratifiedKFold\n",
    "\n",
    "grade = {'n_neighbors': [1, 3, 5]}\n",
    "\n",
    "gs = GridSearchCV(estimator=kNN, param_grid = grade, \n",
    "                  scoring='accuracy', cv = 4)\n",
    "\n",
    "rkf = RepeatedStratifiedKFold(n_splits=5, n_repeats=6)\n",
    "scores = cross_val_score(gs, iris_X, iris_y, scoring='accuracy', \n",
    "                         cv = rkf)\n",
    "\n",
    "print (scores)\n",
    "\n",
    "mean = scores.mean()\n",
    "std = scores.std()\n",
    "inf, sup = stats.norm.interval(0.95, loc=mean, \n",
    "                               scale=std/np.sqrt(len(scores)))\n",
    "\n",
    "print(\"\\nMean Accuracy: %0.2f Standard Deviation: %0.2f\" % (mean, std))\n",
    "print (\"Accuracy Confidence Interval (95%%): (%0.2f, %0.2f)\\n\" % \n",
    "       (inf, sup)) "
   ]
  },
  {
   "cell_type": "code",
   "execution_count": 17,
   "metadata": {},
   "outputs": [
    {
     "name": "stdout",
     "output_type": "stream",
     "text": [
      "[1.         0.96666667 0.86666667 0.96666667 0.96666667 0.96666667\n",
      " 0.9        0.96666667 0.93333333 0.96666667 0.96666667 0.96666667\n",
      " 0.9        0.93333333 0.9        0.93333333 0.9        0.96666667\n",
      " 0.93333333 0.96666667 0.93333333 1.         0.96666667 0.93333333\n",
      " 0.86666667 1.         0.9        0.93333333 1.         0.96666667]\n",
      "\n",
      "Mean Accuracy: 0.95 Standard Deviation: 0.04\n",
      "Accuracy Confidence Interval (95%): (0.95, 0.97)\n",
      "\n"
     ]
    }
   ],
   "source": [
    "from sklearn.tree import DecisionTreeClassifier\n",
    "\n",
    "dT = DecisionTreeClassifier()\n",
    "\n",
    "dTGrade = {'max_depth': [2, 3], 'min_samples_split': [2, 4]}\n",
    "\n",
    "dTGS = GridSearchCV(estimator=dT, param_grid = dTGrade, \n",
    "                  scoring='accuracy', cv = 4)\n",
    "\n",
    "dTScores = cross_val_score(dTGS, iris_X, iris_y, scoring='accuracy', \n",
    "                           cv = rkf)\n",
    "\n",
    "print (dTScores)\n",
    "\n",
    "dTMean = dTScores.mean()\n",
    "dTStd = dTScores.std()\n",
    "dTInf, dTSup = stats.norm.interval(0.95, loc=mean, \n",
    "                                   scale=std/np.sqrt(len(scores)))\n",
    "\n",
    "print(\"\\nMean Accuracy: %0.2f Standard Deviation: %0.2f\" % (dTMean, \n",
    "                                                            dTStd))\n",
    "print (\"Accuracy Confidence Interval (95%%): (%0.2f, %0.2f)\\n\" % \n",
    "       (dTInf, dTSup))"
   ]
  },
  {
   "cell_type": "markdown",
   "metadata": {},
   "source": [
    "Testes de Hipóteses"
   ]
  },
  {
   "cell_type": "code",
   "execution_count": 18,
   "metadata": {},
   "outputs": [
    {
     "name": "stdout",
     "output_type": "stream",
     "text": [
      "Paired T Test\n",
      "t: 1.42 p-value: 0.17\n",
      "\n",
      "Wilcoxon Test\n",
      "w: 102.50 p-value: 0.16\n",
      "\n"
     ]
    }
   ],
   "source": [
    "from scipy.stats import ttest_rel, wilcoxon\n",
    "\n",
    "print('Paired T Test')\n",
    "s,p = ttest_rel(scores,dTScores)\n",
    "print(\"t: %0.2f p-value: %0.2f\\n\" % (s,p))\n",
    "\n",
    "\n",
    "print ('Wilcoxon Test')\n",
    "s,p = wilcoxon (scores,dTScores)\n",
    "print(\"w: %0.2f p-value: %0.2f\\n\" % (s,p))"
   ]
  },
  {
   "cell_type": "markdown",
   "metadata": {},
   "source": [
    "### Exercícios de Fixação"
   ]
  },
  {
   "cell_type": "markdown",
   "metadata": {},
   "source": [
    "1. O que é uma base de dados desbalanceada? Carregue o dataset breast cancer disponível no sklearn e obtenha a distribuição de classes deste dataset."
   ]
  },
  {
   "cell_type": "markdown",
   "metadata": {},
   "source": [
    "A base de dados desbalanceada acontece quando uma classe possui números diferentes das demais, podendo causar problemas na classificação. Suponha que tenha 190 registros na classe A e 10 registros na classe B, a classe A por ter o maior número de dados, as informações que serão avaliadas serão extremamente enviesadas pela classe A."
   ]
  },
  {
   "cell_type": "code",
   "execution_count": 24,
   "metadata": {},
   "outputs": [
    {
     "name": "stdout",
     "output_type": "stream",
     "text": [
      "[(0, 0.37258347978910367), (1, 0.6274165202108963)]\n"
     ]
    }
   ],
   "source": [
    "from sklearn import datasets\r\n",
    "\r\n",
    "def Distribute_Classes(target):\r\n",
    "    nr_Length = len(target)\r\n",
    "    labels = np.unique(target)\r\n",
    "\r\n",
    "    classes = []\r\n",
    "\r\n",
    "    for label in labels:\r\n",
    "        nr_Labels = len([1 for i in target if i == label])\r\n",
    "        classes += [(label, nr_Labels/nr_Length)]\r\n",
    "    \r\n",
    "    return classes\r\n",
    "\r\n",
    "breast = datasets.load_breast_cancer()\r\n",
    "data = breast.data\r\n",
    "target = breast.target\r\n",
    "\r\n",
    "print(Distribute_Classes(target))"
   ]
  },
  {
   "cell_type": "markdown",
   "metadata": {},
   "source": [
    "2. Compare as métricas accuracy e f1 em bases de dados binárias indicando as suas vantagens em relação a outra. Use o classificador Vizinho Mais Próximo e uma divisão percentual com 30% dos exemplos do dataset breast cancer usados para teste para obter o valor da acurácia e f1 deste classificador neste dataset. "
   ]
  },
  {
   "cell_type": "markdown",
   "metadata": {},
   "source": [
    "Accuracy - É utilizado com apenas os resultados verdadeiros são importantes. F1 - Utilizado quando os falsos negativos e os falsos positivos são de grande valia. Por exemplo: caso o ML descubra 90% das pessoas que tem cancer no hospital, podemos perceber que 10% das pessoas não serão acusadas de cancer e isso é muito importante para salvar as vidas, então o método F1 verifica a eficacia do método a partir também dos falsos positivos/falsos negativos."
   ]
  },
  {
   "cell_type": "code",
   "execution_count": 29,
   "metadata": {},
   "outputs": [
    {
     "name": "stdout",
     "output_type": "stream",
     "text": [
      "[1 1 1 0 1 1 1 1 1 1 0 1 1 1 0 0 1 0 0 0 0 1 1 1 0 1 1 1 1 0 1 0 1 0 1 0 1\n",
      " 0 1 0 0 1 0 1 0 0 1 1 1 0 0 1 0 1 1 1 1 1 1 0 0 0 1 1 0 1 0 0 0 1 1 0 1 1\n",
      " 0 1 1 1 1 1 0 0 0 1 0 1 1 1 0 0 1 0 1 0 1 1 0 1 1 1 1 1 1 1 0 1 0 1 0 1 1\n",
      " 0 0 1 1 1 0 1 1 1 1 1 1 1 0 1 1 1 1 1 0 1 1 1 1 1 1 0 0 1 1 1 0 1 1 0 1 0\n",
      " 1 1 1 0 1 1 1 1 1 0 1 0 0 1 1 0 1 0 0 0 1 1 1]\n",
      "Accuracy =  0.9181286549707602\n",
      "Macro: 0.91\n",
      "Micro: 0.92\n",
      "Weighted: 0.92\n"
     ]
    }
   ],
   "source": [
    "from sklearn.neighbors import KNeighborsClassifier\r\n",
    "from sklearn.model_selection import train_test_split\r\n",
    "from sklearn import datasets\r\n",
    "from sklearn.metrics import f1_score\r\n",
    "\r\n",
    "breast = datasets.load_breast_cancer()\r\n",
    "target = breast.target\r\n",
    "data = breast.data\r\n",
    "\r\n",
    "train_X, test_X, train_Y, test_Y = train_test_split(data, target, test_size=0.3, random_state=0)\r\n",
    "\r\n",
    "classifier = KNeighborsClassifier(n_neighbors=1)\r\n",
    "classifier.fit(train_X, train_Y)\r\n",
    "\r\n",
    "prediction = classifier.predict(test_X)\r\n",
    "print(prediction)\r\n",
    "print('Accuracy = ', classifier.score(test_X, test_Y))\r\n",
    "print('Macro: %.2f' % f1_score(prediction, test_Y, average='macro'))\r\n",
    "print('Micro: %.2f' % f1_score(prediction, test_Y, average='micro'))\r\n",
    "print('Weighted: %.2f' % f1_score(prediction, test_Y, average='weighted'))"
   ]
  },
  {
   "cell_type": "markdown",
   "metadata": {},
   "source": [
    "3. Explique porque há necessidade de usar os conceitos micro, macro e weighted em conjunto com as métricas precision, recall e f1? Porque esses conceitos não se aplicam a accuracy?"
   ]
  },
  {
   "cell_type": "markdown",
   "metadata": {},
   "source": [
    "Há necessidade utilizar essa abordagem para avaliar corretamente se o algoritmo utilizado está suprindo corretamente a necessidade. Pois o Micro é bom para bases que são desbalanceadas, verificando a contribuição de cada classe para o resultado, sendo utilizados em multi-label. Já o macro é mais utilizado onde a base é balanceada e o problema é de multi-classificação, dando a mesma importancia para todas as classes. Weighted é a classificação Macro, mas utilizando o número de vezes repetidos de uma determinada classe. \r\n",
    "\r\n",
    "O accuracy não utiliza nenhum desses conceitos, pois nesse método não é de grande importancia os falsos positivos e os falsos negativos, então não faz sentido o uso desses métodos. \r\n",
    "\r\n",
    "Precision - Calcula a precisão de uma escolha\r\n",
    "Recall - Calcula a quantidade errada de uma classe\r\n",
    "F1 - É o hibrido"
   ]
  },
  {
   "cell_type": "markdown",
   "metadata": {},
   "source": [
    "4. Qual a relação entre micro precision, micro recall, micro f1 e accuracy quando o conjunto de teste é perfeitamente balanceado? Essa relação se aplica a macro f1?"
   ]
  },
  {
   "cell_type": "markdown",
   "metadata": {},
   "source": [
    "Quando o conjunto é perfeitamente balanceado, o número de Falsos positivos/falsos negativos serão o mesmo para todos os casos, gerando o mesmo número para todos"
   ]
  },
  {
   "cell_type": "markdown",
   "metadata": {},
   "source": [
    "5. Porque o método de amostragem resubstituição não é indicado para avaliação de métodos de classificação? Apresente uma utilidade para este método de amostragem."
   ]
  },
  {
   "cell_type": "markdown",
   "metadata": {},
   "source": [
    "Essa amostragem não é indicada pois apresenta vicio em sua utilização, pois utiliza os mesmos dados para treinar e predicar, ou seja, sempre o resultado será 100%. Esse método é bastante utilizado para verificar se o classificador está funcionando corretamente"
   ]
  },
  {
   "cell_type": "markdown",
   "metadata": {},
   "source": [
    "6. Apresente as vantagens do método de validação cruzada estratificada em comparação ao método de divisão percentual. Use o classificador Vizinho Mais Próximo e uma validação cruzada estratificada com 10 folds no dataset breast cancer para obter a matriz de confusão, a acurácia, o desvio padrão, o intervalo de confiança a 95%, a f1 macro, a precision micro e o recall micro deste classificador neste dataset."
   ]
  },
  {
   "cell_type": "markdown",
   "metadata": {},
   "source": [
    "A principal vantagem do método de validação cruzada estratificada em comparação a divisão percentual, é o uso de toda a base para avaliar o algoritmo, ao invés da divisão percentual que utiliza apenas uma parte para o treino e para os testes. Uma vantagem também é que o cross validation tem um resultado mais robusto em comparação a divisão percentual, pois avalia melhor se o algoritmo irá rodar em problemas genéricos, fora da base de treino."
   ]
  },
  {
   "cell_type": "code",
   "execution_count": 32,
   "metadata": {},
   "outputs": [
    {
     "name": "stdout",
     "output_type": "stream",
     "text": [
      "Scores:  [0.92982456 0.84210526 0.92982456 0.92982456 0.9122807  0.89473684\n",
      " 0.92982456 0.94736842 0.89473684 0.94642857]\n",
      "Std:  0.030086428167942682\n",
      "Confidence Interval (95%): (0.90, 0.93)\n",
      "Accuracy:  [0.92982456 0.84210526 0.92982456 0.92982456 0.9122807  0.89473684\n",
      " 0.92982456 0.94736842 0.89473684 0.94642857]\n",
      "F1 Macro:  [0.94444444 0.87323944 0.94594595 0.94594595 0.93333333 0.91666667\n",
      " 0.94594595 0.95890411 0.91428571 0.95774648]\n",
      "Precision Micro:  [0.91891892 0.86111111 0.92105263 0.92105263 0.8974359  0.91666667\n",
      " 0.92105263 0.94594595 0.94117647 0.94444444]\n",
      "Recall Micro:  [0.97142857 0.88571429 0.97222222 0.97222222 0.97222222 0.91666667\n",
      " 0.97222222 0.97222222 0.88888889 0.97142857]\n"
     ]
    }
   ],
   "source": [
    "from sklearn import datasets\r\n",
    "from sklearn.metrics import f1_score, precision_score, recall_score, make_scorer, accuracy_score\r\n",
    "from sklearn.neighbors import KNeighborsClassifier\r\n",
    "from sklearn.model_selection import cross_validate, cross_val_score, cross_val_predict\r\n",
    "from scipy import stats\r\n",
    "import numpy as np\r\n",
    "\r\n",
    "breast = datasets.load_breast_cancer()\r\n",
    "target = breast.target\r\n",
    "data = breast.data\r\n",
    "\r\n",
    "classifier = KNeighborsClassifier(n_neighbors=1)\r\n",
    "\r\n",
    "makeScores = {'Accuracy': make_scorer(accuracy_score),\r\n",
    "           'Precision': make_scorer(precision_score),\r\n",
    "           'Recall': make_scorer(recall_score),\r\n",
    "           'F1_score': make_scorer(f1_score)}\r\n",
    "\r\n",
    "scores = cross_val_score(classifier, data, target, cv=10)\r\n",
    "validators = cross_validate(classifier, data, target, cv=10, scoring=makeScores)\r\n",
    "\r\n",
    "mean = scores.mean()\r\n",
    "std = scores.std()\r\n",
    "lower, upper = stats.norm.interval(\r\n",
    "    0.95, loc=mean, scale=std/np.sqrt(len(scores)))\r\n",
    "\r\n",
    "print('Scores: ', scores)\r\n",
    "print('Std: ', std)\r\n",
    "print('Confidence Interval (95%%): (%0.2f, %0.2f)' % (lower, upper))\r\n",
    "print('Accuracy: ', validators['test_Accuracy'])\r\n",
    "print('F1 Macro: ', validators['test_F1_score'])\r\n",
    "print('Precision Micro: ', validators['test_Precision'])\r\n",
    "print('Recall Micro: ',validators['test_Recall'])\r\n"
   ]
  },
  {
   "cell_type": "markdown",
   "metadata": {},
   "source": [
    "7. Quando o método de exclusão de 1 deve ser preferido em relação ao método de validação cruzada? Qual a maior dificuldade para aplicação desse método?"
   ]
  },
  {
   "cell_type": "markdown",
   "metadata": {},
   "source": [
    "O método de exclusão de 1 é mais recomendado quando o número de linhas é menor do que 100. Pois, com o número de dados reduzidos, é possível testar praticamente toda a base para predicar os valores, já na validação cruzada, teria muita perda de dados caso o método fosse utilizado. A principal dificuldade para a aplicação, seria quando os dados são muito maiores do que 100, pois o método precisaria rodar N vezes para testar todas as possibilidades, gerando uma espera demasiada e com provavel confiabilidade baixa"
   ]
  },
  {
   "cell_type": "markdown",
   "metadata": {},
   "source": [
    "8. Os métodos mais robustos de classificação supervisionada contém vários parâmetros. De que forma pode ser determinado os valores desses hiperparâmetros? Qual é o método mais usado e porque ele é o preferido? Use o classificador K Vizinhos Mais Próximos com o método indicado (use 10 partições) no dataset breast cancer para realizar a busca pelo melhor valor de K. Apresente a melhor acurácia obtida, o desvio padrão,o intervalo de confiança a 95% e o valor de K correspondente. "
   ]
  },
  {
   "cell_type": "markdown",
   "metadata": {},
   "source": [
    "Para determinar os valores desses hiperparametros, podemos utilizar a busca em grade que irá rodar o código diversas vezes e avaliar qual hiperparametro foi melhor. Esse método é o mais utilizado por ser considerado mais rápido que as outras soluções."
   ]
  },
  {
   "cell_type": "code",
   "execution_count": 8,
   "metadata": {},
   "outputs": [
    {
     "ename": "KeyError",
     "evalue": "'split9_test_score'",
     "output_type": "error",
     "traceback": [
      "\u001b[1;31m---------------------------------------------------------------------------\u001b[0m",
      "\u001b[1;31mKeyError\u001b[0m                                  Traceback (most recent call last)",
      "\u001b[1;32m<ipython-input-8-be7e4df737ad>\u001b[0m in \u001b[0;36m<module>\u001b[1;34m\u001b[0m\n\u001b[0;32m     23\u001b[0m \u001b[1;33m\u001b[0m\u001b[0m\n\u001b[0;32m     24\u001b[0m \u001b[1;31m# scores = cross_val_score(gridSearch, data, target, cv=10)\u001b[0m\u001b[1;33m\u001b[0m\u001b[1;33m\u001b[0m\u001b[1;33m\u001b[0m\u001b[0m\n\u001b[1;32m---> 25\u001b[1;33m \u001b[0mvalidators\u001b[0m \u001b[1;33m=\u001b[0m \u001b[0mcross_validate\u001b[0m\u001b[1;33m(\u001b[0m\u001b[0mgridSearch\u001b[0m\u001b[1;33m.\u001b[0m\u001b[0mcv_results_\u001b[0m\u001b[1;33m[\u001b[0m\u001b[1;34m'split9_test_score'\u001b[0m\u001b[1;33m]\u001b[0m\u001b[1;33m[\u001b[0m\u001b[1;36m2\u001b[0m\u001b[1;33m]\u001b[0m\u001b[1;33m,\u001b[0m \u001b[0mdata\u001b[0m\u001b[1;33m,\u001b[0m \u001b[0mtarget\u001b[0m\u001b[1;33m,\u001b[0m \u001b[0mcv\u001b[0m\u001b[1;33m=\u001b[0m\u001b[1;36m10\u001b[0m\u001b[1;33m,\u001b[0m \u001b[0mscoring\u001b[0m\u001b[1;33m=\u001b[0m\u001b[0mmakeScores\u001b[0m\u001b[1;33m)\u001b[0m\u001b[1;33m\u001b[0m\u001b[1;33m\u001b[0m\u001b[0m\n\u001b[0m\u001b[0;32m     26\u001b[0m \u001b[1;33m\u001b[0m\u001b[0m\n\u001b[0;32m     27\u001b[0m \u001b[1;31m# mean = scores.mean()\u001b[0m\u001b[1;33m\u001b[0m\u001b[1;33m\u001b[0m\u001b[1;33m\u001b[0m\u001b[0m\n",
      "\u001b[1;31mKeyError\u001b[0m: 'split9_test_score'"
     ]
    }
   ],
   "source": [
    "from sklearn import datasets\r\n",
    "from sklearn.metrics import f1_score, precision_score, recall_score, make_scorer, accuracy_score\r\n",
    "from sklearn.neighbors import KNeighborsClassifier\r\n",
    "from sklearn.model_selection import cross_validate, cross_val_score, cross_val_predict,GridSearchCV\r\n",
    "from scipy import stats\r\n",
    "import numpy as np\r\n",
    "\r\n",
    "breast = datasets.load_breast_cancer()\r\n",
    "target = breast.target\r\n",
    "data = breast.data\r\n",
    "\r\n",
    "classifier = KNeighborsClassifier(n_neighbors=1)\r\n",
    "\r\n",
    "makeScores = {'Accuracy': make_scorer(accuracy_score),\r\n",
    "           'Precision': make_scorer(precision_score),\r\n",
    "           'Recall': make_scorer(recall_score),\r\n",
    "           'F1_score': make_scorer(f1_score)}\r\n",
    "\r\n",
    "grade={'n_neighbors': [1,3,5]}\r\n",
    "gridSearch = GridSearchCV(estimator=classifier, param_grid=grade,refit=False, scoring=makeScores, cv=10)\r\n",
    "\r\n",
    "gridSearch.fit(data, target)\r\n",
    "\r\n",
    "# scores = cross_val_score(gridSearch, data, target, cv=10)\r\n",
    "# validators = cross_validate(gridSearch, data, target, cv=10, scoring=makeScores)\r\n",
    "\r\n",
    "# mean = scores.mean()\r\n",
    "# std = scores.std()\r\n",
    "# lower, upper = stats.norm.interval(\r\n",
    "#     0.95, loc=mean, scale=std/np.sqrt(len(scores)))\r\n",
    "\r\n",
    "# print('Scores: ', scores)\r\n",
    "# print('Std: ', std)\r\n",
    "# print('Confidence Interval (95%%): (%0.2f, %0.2f)' % (lower, upper))\r\n",
    "# print('Accuracy: ', validators['test_Accuracy'])\r\n",
    "# print('F1 Macro: ', validators['test_F1_score'])\r\n",
    "# print('Precision Micro: ', validators['test_Precision'])\r\n",
    "# print('Recall Micro: ',validators['test_Recall'])"
   ]
  },
  {
   "cell_type": "markdown",
   "metadata": {},
   "source": [
    "9. Qual a forma mais indicada de se evitar superajuste dos métodos. Explique como ela funciona. Use o classificador K Vizinhos Mais Próximos com o método indicado no dataset breast cancer para realizar a busca pelo melhor valor de K sem possibilidade de superajuste. Apresente a melhor acurácia obtida, o desvio padrão e o intervalo de confiança a 95%. Explique porque nesse caso não é possível indicar o valor de K encontrado."
   ]
  },
  {
   "cell_type": "markdown",
   "metadata": {},
   "source": [
    "10. Porque é importante usar testes estatísticos na comparação de desempenho entre métodos de classificação? Qual a diferença entre usar um método paramétrico e não paramétrico de testes de hipóteses? Repita o procedimento proposto no exercício 9 somente trocando o classificador para uma Árvore de Decisão. Compara o desempenho obtido pelo K Vizinhos Mais Próximos com a Árvore de Decisão utilizando o teste T e o de Wilcoxon. Explique porque é necessário ter 30 valores para aplicar o teste T. Compare os dois resultados e indique em qual dos testes é mais fácil mostrar a diferença entre os métodos. Explique porque isso ocorre."
   ]
  },
  {
   "cell_type": "markdown",
   "metadata": {},
   "source": [
    "11. Explique o que é o problema do bias de similaridade apresentado no artigo \"An Experimental Methodology to Evaluate Machine Learning Methods for Fault Diagnosis based on Vibration Signals\" e apresente o contexto em que ele pode ocorrer."
   ]
  }
 ],
 "metadata": {
  "interpreter": {
   "hash": "a97cea9040a71f963f6525d18201786996e5c5add084f4c8fbf988376b1b48ba"
  },
  "kernelspec": {
   "display_name": "Python 3.8.5 32-bit",
   "name": "python3"
  },
  "language_info": {
   "codemirror_mode": {
    "name": "ipython",
    "version": 3
   },
   "file_extension": ".py",
   "mimetype": "text/x-python",
   "name": "python",
   "nbconvert_exporter": "python",
   "pygments_lexer": "ipython3",
   "version": "3.8.5"
  }
 },
 "nbformat": 4,
 "nbformat_minor": 5
}