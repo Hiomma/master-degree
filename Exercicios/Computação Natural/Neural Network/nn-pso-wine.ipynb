{
 "cells": [
  {
   "cell_type": "code",
   "execution_count": 57,
   "outputs": [
    {
     "name": "stdout",
     "output_type": "stream",
     "text": [
      "The autoreload extension is already loaded. To reload it, use:\n",
      "  %reload_ext autoreload\n"
     ]
    }
   ],
   "source": [
    "# Import modules\n",
    "import numpy as np\n",
    "import matplotlib.pyplot as plt\n",
    "from sklearn.datasets import load_iris\n",
    "\n",
    "\n",
    "# Import PySwarms\n",
    "import pyswarms as ps\n",
    "\n",
    "%load_ext autoreload\n",
    "%autoreload 2"
   ],
   "metadata": {
    "collapsed": false,
    "pycharm": {
     "name": "#%%\n"
    }
   }
  },
  {
   "cell_type": "code",
   "execution_count": 58,
   "outputs": [],
   "source": [
    "n_inputs = 13\n",
    "n_hidden = 20\n",
    "n_classes = 3\n",
    "\n",
    "num_samples = 133"
   ],
   "metadata": {
    "collapsed": false,
    "pycharm": {
     "name": "#%%\n"
    }
   }
  },
  {
   "cell_type": "code",
   "execution_count": 59,
   "outputs": [],
   "source": [
    "def logits_function(p, X):\n",
    "    # Roll-back the weights and biases\n",
    "    W1 = p[0:260].reshape((n_inputs,n_hidden))\n",
    "    b1 = p[260:280].reshape((n_hidden,))\n",
    "    W2 = p[280:340].reshape((n_hidden,n_classes))\n",
    "    b2 = p[340:343].reshape((n_classes,))\n",
    "\n",
    "    # Perform forward propagation\n",
    "    z1 = X.dot(W1) + b1  # Pre-activation in Layer 1\n",
    "    a1 = np.tanh(z1)     # Activation in Layer 1\n",
    "    logits = a1.dot(W2) + b2 # Pre-activation in Layer 2\n",
    "    return logits          # Logits for Layer 2"
   ],
   "metadata": {
    "collapsed": false,
    "pycharm": {
     "name": "#%%\n"
    }
   }
  },
  {
   "cell_type": "code",
   "execution_count": 60,
   "outputs": [],
   "source": [
    "# Forward propagation\n",
    "def forward_prop(params, X,y):\n",
    "    logits = logits_function(params, X)\n",
    "\n",
    "    # Compute for the softmax of the logits\n",
    "    exp_scores = np.exp(logits)\n",
    "    probs = exp_scores / np.sum(exp_scores, axis=1, keepdims=True)\n",
    "\n",
    "    # Compute for the negative log likelihood\n",
    "    corect_logprobs = -np.log(probs[range(num_samples), y])\n",
    "    loss = np.sum(corect_logprobs) / num_samples\n",
    "\n",
    "    return loss"
   ],
   "metadata": {
    "collapsed": false,
    "pycharm": {
     "name": "#%%\n"
    }
   }
  },
  {
   "cell_type": "code",
   "execution_count": 61,
   "outputs": [],
   "source": [
    "def Get_PSO(f):\n",
    "    # Initialize swarm\n",
    "    options = {'c1': 2.05, 'c2': 2.05, 'w':0.3}\n",
    "\n",
    "    # Call instance of PSO\n",
    "    dimensions = (n_inputs * n_hidden) + (n_hidden * n_classes) + n_hidden + n_classes\n",
    "    optimizer = ps.single.GlobalBestPSO(n_particles=20, dimensions=dimensions, options=options)\n",
    "\n",
    "    # Perform optimization\n",
    "    cost, pos = optimizer.optimize(f, iters=1000)\n",
    "    return pos"
   ],
   "metadata": {
    "collapsed": false,
    "pycharm": {
     "name": "#%%\n"
    }
   }
  },
  {
   "cell_type": "code",
   "execution_count": 62,
   "outputs": [],
   "source": [
    "def predict(pos, X):\n",
    "    logits = logits_function(pos, X)\n",
    "    y_pred = np.argmax(logits, axis=1)\n",
    "    return y_pred"
   ],
   "metadata": {
    "collapsed": false,
    "pycharm": {
     "name": "#%%\n"
    }
   }
  },
  {
   "cell_type": "code",
   "execution_count": 63,
   "outputs": [],
   "source": [
    "import pandas as pd\n",
    "from sklearn.preprocessing import LabelEncoder\n",
    "from sklearn.preprocessing import StandardScaler\n",
    "import warnings\n",
    "from sklearn.model_selection import train_test_split\n",
    "warnings.filterwarnings(\"ignore\")\n",
    "\n",
    "labelencoder = LabelEncoder()\n",
    "\n",
    "def Start_Wine():\n",
    "    data = pd.read_csv('databases/wine.data', names = ['class', 'alcohol', 'malic acid', 'ash', 'alcalinity of ash', 'magnesium', 'total phenols', 'flavanoids', 'nonflavanoid phenols', 'proanthocyanins', 'color intensity', 'hue', 'diluted', 'proline'])\n",
    "\n",
    "    target = labelencoder.fit_transform(data['class'].values)\n",
    "    data_drop = data.drop('class',axis=1)\n",
    "    data = data_drop.values\n",
    "\n",
    "    sc = StandardScaler()\n",
    "    data = sc.fit_transform(data)\n",
    "\n",
    "    x_train, x_test, y_train, y_test = train_test_split(data, target)\n",
    "\n",
    "    def f(x):\n",
    "        n_particles = x.shape[0]\n",
    "        j = [forward_prop(x[i], x_train, y_train) for i in range(n_particles)]\n",
    "        return np.array(j)\n",
    "\n",
    "    pos = Get_PSO(f)\n",
    "    scores = (predict(pos, x_test) == y_test)\n",
    "\n",
    "    print(\"\\n Wine \\n\")\n",
    "    print(\"Mean: \", scores.mean())\n",
    "    print(\"Standard Deviation: \", scores.std())"
   ],
   "metadata": {
    "collapsed": false,
    "pycharm": {
     "name": "#%%\n"
    }
   }
  },
  {
   "cell_type": "code",
   "execution_count": 64,
   "outputs": [
    {
     "name": "stderr",
     "output_type": "stream",
     "text": [
      "2022-03-25 13:29:29,311 - pyswarms.single.global_best - INFO - Optimize for 1000 iters with {'c1': 2.05, 'c2': 2.05, 'w': 0.3}\n",
      "pyswarms.single.global_best: 100%|██████████|1000/1000, best_cost=5.49e-6\n",
      "2022-03-25 13:29:35,194 - pyswarms.single.global_best - INFO - Optimization finished | best cost: 5.4891494961118885e-06, best pos: [ 3.17113146e+00  2.77229320e-01 -1.25017031e+00 -2.83363077e-01\n",
      "  9.04721661e+00 -3.10692389e+00  3.90403370e-01 -1.24053368e+00\n",
      " -7.04837339e-01  6.59607940e-01  2.78961460e+00  3.88512915e+00\n",
      "  1.68498364e+00  1.83108430e+00  1.08622001e-01 -1.38514529e-01\n",
      " -1.78191750e+00  1.61932393e+00  2.66773274e-01  1.27133196e+00\n",
      "  1.30668397e+00  4.00892165e+00  1.67457515e+00  3.62165833e-01\n",
      "  1.26449250e+00  4.43122718e-01  5.13441772e-01  8.96254074e-01\n",
      "  1.49697241e+00  1.47409921e+00  9.84605646e-01  7.31863989e-01\n",
      "  2.02467178e+00  7.23164734e-01  2.59959436e+00  7.35725016e-01\n",
      "  7.07091658e-01 -4.53346157e-01 -4.99786439e-01  9.75455834e-01\n",
      " -4.50173624e-01  1.36770660e+00 -2.87375845e+00  2.95341359e-01\n",
      " -1.20347916e+00  1.22160584e-01 -6.27285114e+00 -1.98613639e+00\n",
      " -1.32413980e-01  3.50443276e-01 -2.00244168e-01  9.32834658e+00\n",
      "  2.17014422e-01  1.60811052e+00  1.05352842e+00  1.24600774e+00\n",
      " -7.92599705e+00 -6.27556891e-02  7.98324298e-01  8.38722692e-01\n",
      "  3.71574128e-01 -1.25785349e+00  7.23220831e-01  2.20743111e-01\n",
      "  3.26374598e+00  1.51748064e+00  9.83559046e-01  1.20380882e+00\n",
      "  5.96566271e-01  2.45734301e-01  6.33387862e-01  3.87581007e-01\n",
      " -1.81050823e+00  3.55994231e-01  3.65649845e+00  6.51976920e-01\n",
      "  2.08787256e-01  1.21975312e+00  4.78499753e-02 -2.42730845e+00\n",
      "  2.87005028e+00  2.03022859e+00  1.24894872e+00 -1.51051700e-01\n",
      "  3.06011174e+00  1.11216714e+00  5.36907719e+00 -4.90959432e-01\n",
      "  1.78927442e-02  4.80123753e-02  8.55026198e-01  4.79091412e+02\n",
      " -4.88757989e-01  9.83325256e-01  1.20954818e+00  8.00401354e-01\n",
      "  1.14942258e-01  8.63148194e-01  8.22247054e-01  6.37450905e-01\n",
      "  2.15666910e+00  1.32783358e+00  4.95032890e-01  3.82403167e+00\n",
      "  8.60838908e-02 -8.94563283e-01  2.03192945e+00  4.31797414e-01\n",
      "  1.81598888e+00  7.07736520e+00  7.41088250e-01 -1.55334023e-01\n",
      " -5.82062733e-02  6.60831234e-01  8.87133775e-01 -3.99082441e+00\n",
      "  1.81097911e+00  2.97080353e-01  3.88375259e+00  1.31019007e+00\n",
      " -1.30100880e-01  4.43604753e-02  1.03881765e+00  1.78158494e+00\n",
      "  1.47430514e+00 -1.78383828e-01 -9.00208255e-02  6.27578316e-01\n",
      "  7.23539019e-01  1.16211710e+00 -6.78148152e-01 -1.54923491e-01\n",
      "  1.61091060e+00  4.23952602e-01 -3.60040144e-01  5.42379244e-01\n",
      "  2.00437596e+00  1.15114874e+00  2.24099096e+00  5.97492847e-01\n",
      "  1.37828270e-01  5.51402549e-02  1.35525591e+00  9.22658843e-01\n",
      "  2.79831720e-01  1.06851093e+00  3.47775916e+00  6.32997977e-01\n",
      " -4.82731844e-01 -3.34534011e+00 -1.55590916e+01  1.13489489e-01\n",
      "  5.93232284e-01  1.14903025e+00  8.39474742e-01  1.45792868e+00\n",
      "  6.88402438e-01  7.58148773e-01  3.09091027e-01  3.50410849e-01\n",
      " -1.70629323e+00 -1.25936960e-01  1.22524897e+00  9.55546199e-01\n",
      "  3.92202604e-01  4.19238885e-01  1.78719142e-01 -4.95950390e-02\n",
      "  8.47105884e-01  2.32919609e+00  1.34146539e+00  4.70434782e-01\n",
      "  1.40126386e+00  1.57040464e+00  2.44989117e+00  1.32584221e+00\n",
      "  3.25171490e-01 -2.15779393e+00  7.92119940e-01 -1.16782757e+00\n",
      "  3.91076596e-01  9.42636422e-01 -7.87109426e+00  6.46326145e-01\n",
      "  7.69466336e+00  5.52760424e-01  8.78832873e-01 -1.29692218e+00\n",
      "  2.86585026e-01  9.51920825e-01  1.94744008e+00 -2.01145530e+01\n",
      "  1.16615098e-01  6.64763879e-01  3.65535219e+00  4.33783548e-01\n",
      " -4.41760443e-01 -1.93402765e+00  2.98606781e+00  4.07967999e-01\n",
      " -3.06667698e-01  7.85170134e-01  1.04131897e+00  5.10694337e-01\n",
      " -2.07470036e+01 -9.40691634e-01  6.48704782e-01  3.71020594e+00\n",
      "  1.34495687e+00  6.89516645e+00  9.26706194e-01  8.58033914e-01\n",
      "  8.67194616e-01  5.70977447e-01 -3.34178957e+00  2.44488773e-01\n",
      "  2.32184715e+00  1.22897685e+00  2.15997660e+00  4.17192152e-01\n",
      "  5.33865488e-01  2.56996056e+00  3.06924200e+00  1.46995647e+00\n",
      " -2.08512904e+00  5.53714239e-01 -1.68868304e+00 -1.22221957e+00\n",
      "  1.93563039e+00  3.35944729e+00  1.27176846e+00 -5.02766701e-01\n",
      "  1.62866640e+00 -4.27854770e+00  1.94420578e+00 -8.79442517e-01\n",
      "  7.90606103e-01  1.16556591e+00  9.08899738e-01  8.58784325e-01\n",
      "  1.89352480e+00  8.07384421e-01 -1.65413808e-01 -3.02064129e+00\n",
      "  4.67132981e-01  4.91328692e-01 -5.32459830e-01 -1.57089911e+00\n",
      "  9.01912452e+00  5.24802595e-01  1.05160553e+00  4.46959772e-01\n",
      " -6.91269019e-01  6.52315770e-01  1.18170963e+01  1.40991962e+00\n",
      "  3.40048530e-02  7.52481667e-01  1.68868695e+00  8.80600576e-01\n",
      "  6.88936139e-01  1.17104451e+00  3.93596226e-01  4.10757208e+00\n",
      "  7.92258580e-01  6.75882521e-01  8.25301658e-01  6.49811642e-01\n",
      " -1.20220257e+00  9.24733029e-01 -2.58384604e+00  3.48057196e+00\n",
      "  1.29313791e+00 -5.48599921e-01  1.53054556e+00  5.32939900e-01\n",
      "  1.46232469e+00  1.70234956e+00  1.18947459e+00  4.68851171e-01\n",
      "  9.70952402e-01 -1.05658462e+00  9.51503228e-01  1.79271207e+00\n",
      "  4.52948327e-02  2.39154926e+00  2.29454570e-01  6.03721986e+00\n",
      "  4.40792544e-01  2.07442095e+00  3.61953774e+00  5.67799008e-01\n",
      "  3.43075398e-01 -4.45576256e-01  3.61740084e+00  1.04604638e-02\n",
      "  2.30844453e+00  2.16414737e+00 -8.75808975e-01  1.53345471e+00\n",
      "  1.37505203e+00 -8.11098689e-02  1.97681685e+00  1.16438084e+00\n",
      "  1.70421197e+00  8.95511760e-01  6.48900388e-01  1.40839664e+00\n",
      "  6.57359514e-01 -9.82463247e-02  9.80355258e-01  1.10387319e+00\n",
      "  7.40164515e-01  9.48607369e-01  3.93537993e-01  1.20153155e-02\n",
      "  3.26082141e+00  1.48408776e+00  2.08918573e-01 -5.65311725e-01\n",
      "  3.35776909e-01  1.21371589e+00  3.49946888e+00 -4.96846824e-02\n",
      "  1.79479470e+00  3.79005028e-01  4.24594556e-02  2.39298506e+00\n",
      "  4.76572857e-01  1.48597803e+00  4.61230196e-01  4.05784252e-01\n",
      "  1.98296708e-01 -8.94468372e-01  7.93810057e-01 -1.39894098e-01\n",
      " -3.60831823e-01  3.71386764e+00 -1.80222943e+00  1.71739309e-02\n",
      "  3.79292333e-01  7.67722320e-01  1.98800915e-01]\n"
     ]
    },
    {
     "name": "stdout",
     "output_type": "stream",
     "text": [
      "\n",
      " Wine \n",
      "\n",
      "Mean:  0.9777777777777777\n",
      "Standard Deviation:  0.14740554623801777\n"
     ]
    }
   ],
   "source": [
    "Start_Wine()"
   ],
   "metadata": {
    "collapsed": false,
    "pycharm": {
     "name": "#%%\n"
    }
   }
  }
 ],
 "metadata": {
  "kernelspec": {
   "display_name": "Python 3",
   "language": "python",
   "name": "python3"
  },
  "language_info": {
   "codemirror_mode": {
    "name": "ipython",
    "version": 2
   },
   "file_extension": ".py",
   "mimetype": "text/x-python",
   "name": "python",
   "nbconvert_exporter": "python",
   "pygments_lexer": "ipython2",
   "version": "2.7.6"
  }
 },
 "nbformat": 4,
 "nbformat_minor": 0
}