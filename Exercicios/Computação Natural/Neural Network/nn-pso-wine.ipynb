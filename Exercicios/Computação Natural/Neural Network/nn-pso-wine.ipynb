{
 "cells": [
  {
   "cell_type": "code",
   "execution_count": 127,
   "outputs": [
    {
     "name": "stdout",
     "output_type": "stream",
     "text": [
      "The autoreload extension is already loaded. To reload it, use:\n",
      "  %reload_ext autoreload\n"
     ]
    }
   ],
   "source": [
    "# Import modules\n",
    "import numpy as np\n",
    "import matplotlib.pyplot as plt\n",
    "from sklearn.datasets import load_iris\n",
    "\n",
    "\n",
    "# Import PySwarms\n",
    "import pyswarms as ps\n",
    "\n",
    "%load_ext autoreload\n",
    "%autoreload 2"
   ],
   "metadata": {
    "collapsed": false,
    "pycharm": {
     "name": "#%%\n"
    }
   }
  },
  {
   "cell_type": "code",
   "execution_count": 128,
   "outputs": [],
   "source": [
    "n_inputs = 13\n",
    "n_hidden = 20\n",
    "n_classes = 3\n",
    "\n",
    "num_samples = 133\n",
    "\n",
    "index = 0\n",
    "fitness = []\n",
    "indexes = []"
   ],
   "metadata": {
    "collapsed": false,
    "pycharm": {
     "name": "#%%\n"
    }
   }
  },
  {
   "cell_type": "code",
   "execution_count": 129,
   "outputs": [],
   "source": [
    "def logits_function(p, X, y):\n",
    "    # Roll-back the weights and biases\n",
    "    W1 = p[0:260].reshape((n_inputs,n_hidden))\n",
    "    b1 = p[260:280].reshape((n_hidden,))\n",
    "    W2 = p[280:340].reshape((n_hidden,n_classes))\n",
    "    b2 = p[340:343].reshape((n_classes,))\n",
    "\n",
    "    # Perform forward propagation\n",
    "    z1 = X.dot(W1) + b1  # Pre-activation in Layer 1\n",
    "    a1 = np.tanh(z1)     # Activation in Layer 1\n",
    "    logits = a1.dot(W2) + b2 # Pre-activation in Layer 2\n",
    "\n",
    "    if y is not None and (len(indexes) == 0 or index != indexes[len(fitness)-1]):\n",
    "        y_pred = np.argmax(logits, axis=1)\n",
    "        score = (y_pred == y).sum() / y.shape[0]\n",
    "\n",
    "        if  len(fitness) == 0 or score > fitness[len(fitness)-1] :\n",
    "            fitness.append(score)\n",
    "            indexes.append(index)\n",
    "\n",
    "    return logits          # Logits for Layer 2"
   ],
   "metadata": {
    "collapsed": false,
    "pycharm": {
     "name": "#%%\n"
    }
   }
  },
  {
   "cell_type": "code",
   "execution_count": 130,
   "outputs": [],
   "source": [
    "# Forward propagation\n",
    "def forward_prop(params, X,y):\n",
    "    logits = logits_function(params, X, y)\n",
    "\n",
    "    # Compute for the softmax of the logits\n",
    "    exp_scores = np.exp(logits)\n",
    "    probs = exp_scores / np.sum(exp_scores, axis=1, keepdims=True)\n",
    "\n",
    "    # Compute for the negative log likelihood\n",
    "    corect_logprobs = -np.log(probs[range(num_samples), y])\n",
    "    loss = np.sum(corect_logprobs) / num_samples\n",
    "\n",
    "    return loss"
   ],
   "metadata": {
    "collapsed": false,
    "pycharm": {
     "name": "#%%\n"
    }
   }
  },
  {
   "cell_type": "code",
   "execution_count": 131,
   "outputs": [],
   "source": [
    "def Get_PSO(f):\n",
    "    # Initialize swarm\n",
    "    options = {'c1': 2.05, 'c2': 2.05, 'w': 0.729}\n",
    "\n",
    "    # Call instance of PSO\n",
    "    dimensions = (n_inputs * n_hidden) + (n_hidden * n_classes) + n_hidden + n_classes\n",
    "    optimizer = ps.single.GlobalBestPSO(n_particles=50, dimensions=dimensions, options=options)\n",
    "\n",
    "    # Perform optimization\n",
    "    cost, pos = optimizer.optimize(f, iters=1000)\n",
    "    return pos"
   ],
   "metadata": {
    "collapsed": false,
    "pycharm": {
     "name": "#%%\n"
    }
   }
  },
  {
   "cell_type": "code",
   "execution_count": 132,
   "outputs": [],
   "source": [
    "def predict(pos, X):\n",
    "    logits = logits_function(pos, X, None)\n",
    "    y_pred = np.argmax(logits, axis=1)\n",
    "    return y_pred"
   ],
   "metadata": {
    "collapsed": false,
    "pycharm": {
     "name": "#%%\n"
    }
   }
  },
  {
   "cell_type": "code",
   "execution_count": 133,
   "outputs": [],
   "source": [
    "import pandas as pd\n",
    "from sklearn.preprocessing import LabelEncoder\n",
    "from sklearn.preprocessing import StandardScaler\n",
    "import warnings\n",
    "from sklearn.model_selection import train_test_split\n",
    "warnings.filterwarnings(\"ignore\")\n",
    "\n",
    "labelencoder = LabelEncoder()\n",
    "\n",
    "def Start_Wine():\n",
    "    data = pd.read_csv('databases/wine.data', names = ['class', 'alcohol', 'malic acid', 'ash', 'alcalinity of ash', 'magnesium', 'total phenols', 'flavanoids', 'nonflavanoid phenols', 'proanthocyanins', 'color intensity', 'hue', 'diluted', 'proline'])\n",
    "\n",
    "    target = labelencoder.fit_transform(data['class'].values)\n",
    "    data_drop = data.drop('class',axis=1)\n",
    "    data = data_drop.values\n",
    "\n",
    "    sc = StandardScaler()\n",
    "    data = sc.fit_transform(data)\n",
    "\n",
    "    x_train, x_test, y_train, y_test = train_test_split(data, target)\n",
    "\n",
    "    def f(x):\n",
    "        global index\n",
    "        n_particles = x.shape[0]\n",
    "        j = [forward_prop(x[i], x_train, y_train) for i in range(n_particles)]\n",
    "        index += 1\n",
    "        return np.array(j)\n",
    "\n",
    "    pos = Get_PSO(f)\n",
    "    scores = (predict(pos, x_test) == y_test)\n",
    "\n",
    "    print(\"\\n Wine \\n\")\n",
    "    print(\"Accuracy: %.2f%%\" % (100 * np.mean(scores)))"
   ],
   "metadata": {
    "collapsed": false,
    "pycharm": {
     "name": "#%%\n"
    }
   }
  },
  {
   "cell_type": "code",
   "execution_count": 134,
   "outputs": [
    {
     "name": "stderr",
     "output_type": "stream",
     "text": [
      "2022-03-27 02:41:25,091 - pyswarms.single.global_best - INFO - Optimize for 1000 iters with {'c1': 2.05, 'c2': 2.05, 'w': 0.3}\n",
      "pyswarms.single.global_best: 100%|██████████|1000/1000, best_cost=6.36e-10\n",
      "2022-03-27 02:41:34,342 - pyswarms.single.global_best - INFO - Optimization finished | best cost: 6.359134739472175e-10, best pos: [ 8.39430003e-01  9.38206631e-01  5.67855152e+00  1.54968700e+00\n",
      " -1.27638099e+00  3.88628715e-01  2.83980706e+00  7.71046980e+00\n",
      " -1.41787272e+00 -1.02420313e+01  2.25719750e+00  2.02708445e+00\n",
      "  4.83006655e+00 -3.08813277e-01  1.95868922e+00 -5.80887553e-01\n",
      "  7.63486358e-01  2.01755245e-02  3.13076811e+00  1.46614351e+00\n",
      "  3.59622481e+00  2.71801565e+00  1.61155999e-01  1.28665220e+00\n",
      "  9.73061932e-01  9.18857705e-01  2.15099450e+00  1.07341820e+00\n",
      "  2.22665582e-01 -2.94519722e+00  4.00585769e+00  2.43417860e+00\n",
      " -4.34984434e-01  1.39830793e+00 -7.25162452e-02 -7.54414853e-01\n",
      "  2.08245573e+00 -3.18245821e-01  6.46920157e-01  6.21707741e-01\n",
      "  5.49525862e+00  8.50649757e-01  3.24139999e+00  1.52427024e+00\n",
      "  3.51303874e+00 -5.71982738e-02  7.41693213e-01  1.29467787e+00\n",
      "  2.16199797e+00 -8.52258808e-01  1.84067434e-01  1.45049868e+00\n",
      "  1.54050372e+00  4.69369069e-01  8.72210713e-01 -4.07538475e+00\n",
      "  1.69722380e-01  9.57792932e-01  1.18980523e+00 -3.23730614e-02\n",
      "  2.83166485e+00  3.78920620e+00  1.00859506e+00  1.06885237e+00\n",
      "  7.60328422e-01  1.90074858e+00  8.69041716e-01 -6.95273310e-01\n",
      " -3.77322154e-01  2.29276959e+00  1.06998912e+00 -1.64858065e+00\n",
      "  1.60385323e+00 -5.54696999e-01  7.62067440e-01  5.97830714e-01\n",
      " -1.36769014e+00 -1.02255703e+00  7.82054746e+00 -8.31432770e-01\n",
      "  2.03143458e+01 -7.70888157e-01 -7.53736665e+00 -4.59478279e-01\n",
      "  1.24008478e-01  8.94736879e-01  1.07641940e+00  9.81347010e-01\n",
      "  1.03979066e+00  1.18495989e+00  1.20220182e+00  1.33596894e-01\n",
      "  7.31779172e-01  8.68081834e-01 -9.53238889e-02  9.47279417e-01\n",
      "  1.06822334e+00  7.64723228e-01 -2.66556131e+00 -9.74110423e-02\n",
      " -5.03101433e-01  1.45568289e-01  5.42902386e-01  1.52220647e+00\n",
      " -9.66374776e-02  2.67547716e-01 -1.32338665e+00  4.61489122e+00\n",
      "  5.65623224e-01  4.44053912e-01  2.62363612e+00  8.15052145e-01\n",
      " -7.97336462e-02  8.12636221e-01  1.23124376e-01  1.12446034e+00\n",
      "  1.62583006e-01 -2.43724506e-02  1.34005219e+00  5.07156926e-01\n",
      "  2.07669496e+00 -4.77546934e-01  6.69163141e-01  1.06403823e+00\n",
      " -8.26509463e-01  1.46046321e+00 -2.62149294e+00  1.34808437e-01\n",
      "  1.17785936e+00 -8.93240189e+00  6.31915792e-02 -2.65284136e+00\n",
      "  9.77689732e-01  2.39308120e-01  1.46528053e+00  1.22496900e+00\n",
      "  3.80833869e-01 -7.07695203e+00 -1.25900007e+00  3.23106729e-02\n",
      "  3.92679235e-01  1.17638729e+00 -2.37104136e+00 -1.81882409e+00\n",
      "  1.67811056e+00  1.12357139e+00  1.63191313e+00 -1.30173083e+00\n",
      " -1.76562750e+00  1.07465206e+00  1.56531596e+00  1.16227763e+00\n",
      "  2.19115546e-02  3.96628364e-01  1.05462805e+00  1.23182113e+00\n",
      " -1.02077535e+00  2.69875784e-01  1.95809184e+00  1.07495719e+00\n",
      "  2.65845596e-01  1.91639505e+00  8.39950380e-01 -4.98796617e+00\n",
      "  7.47769691e-01  1.36985497e+00  1.61163642e+00  7.21713386e-01\n",
      "  6.28018211e-01  5.48078044e-01  8.90546508e-01  4.83844622e-01\n",
      " -3.07909415e+00  9.66507386e-01  2.03558343e+00  6.58268176e-01\n",
      "  4.27954682e-01  8.45118105e-01  1.34188652e-01  4.47031720e-01\n",
      " -3.51271887e+00  4.62105157e+00 -3.71323821e+00  5.99412216e+00\n",
      "  2.25223149e+00 -7.51784440e-01  1.60517891e-01  6.31851122e-01\n",
      "  1.27891911e-01  9.24905732e-01  1.10415960e+00  6.01348366e+00\n",
      "  3.61089920e+00 -4.82109221e+00 -4.37663617e+00  7.54048645e-01\n",
      "  1.36415304e+00 -1.92522163e-01  2.11832075e+00  1.28763950e+00\n",
      "  4.87151720e-01  2.99163292e-01  1.82254843e+00  7.10909293e-01\n",
      "  1.66253222e+00  3.41933342e+00 -9.16162508e-01  2.38833853e+00\n",
      "  1.06523517e+00 -2.72942257e+00  5.27233059e+00  1.77668032e+00\n",
      " -1.03462509e+00  5.57000594e+00  9.64308814e-01  2.05249895e+00\n",
      " -2.41819193e+00  1.84584781e-01 -2.99178201e+00 -1.97771862e-01\n",
      " -1.23418161e-01  1.81350152e+01  1.48801170e+00  2.70403691e+00\n",
      "  1.34741478e+00 -3.51802491e-02  2.43964938e-01  1.49301307e+00\n",
      "  1.20950366e+00 -1.52340025e-01  1.39246205e+00  1.88026351e+00\n",
      "  1.33353716e+00  3.18006381e-01  4.68674080e+00  1.32697110e+00\n",
      " -4.82970362e-01 -1.04983774e+01 -6.46504170e-01  7.09452644e-01\n",
      " -2.93796331e+00  1.02699488e+00  6.41767294e-01  1.74298461e+00\n",
      " -9.53476846e-01 -1.80879953e+00 -8.13236971e-01 -8.51294592e-02\n",
      "  1.71932530e+01 -1.17483256e+00  1.34416027e+00  8.93041649e-01\n",
      "  9.46430571e-01  1.07346731e+00 -5.97409006e+00 -2.58740451e+00\n",
      "  3.93057839e+00  1.70806110e+00  1.25750246e+00  2.36298417e+00\n",
      "  1.15467355e+00  1.61517662e+00  1.47051748e-01  1.16846894e+00\n",
      " -5.67266719e+00 -8.24124297e-01 -8.81557900e-01 -1.21507951e+00\n",
      " -1.14039182e-01  9.12419221e-01  1.78932084e+00  1.93582163e+00\n",
      "  8.42664266e-01  9.65956826e-01  7.01553491e-01  2.90929330e+00\n",
      "  1.09683653e+00  2.40406754e-01  5.54717831e-01  3.51434256e-01\n",
      "  1.10660581e+00  2.38528715e-01  6.36453802e-01  1.18663903e+00\n",
      "  5.15809043e-01  5.96763991e-01  2.93031436e+00  4.20536882e-01\n",
      " -4.44569101e+00  1.40089694e+00 -1.71185017e-01  2.41553501e-01\n",
      "  1.52422935e+00 -9.77722606e-01  1.33236659e+00  3.96911146e-01\n",
      "  2.47026971e+00  7.07805318e-01 -1.32149437e+00 -4.18746166e-02\n",
      "  5.19041429e+00  9.61111823e-01 -2.07570654e+00  7.25544198e-01\n",
      "  1.10063709e+00 -1.25117191e+00 -1.99235484e+00  3.95906318e-01\n",
      "  8.96157280e-01  1.32758259e+00  4.01786665e+00  9.65201375e-01\n",
      " -1.55306085e-01  1.70133076e+00 -4.27574749e+00  2.93314928e-01\n",
      "  2.40041228e-01 -7.89569007e-01  3.08594474e+00  1.37477042e+00\n",
      " -4.26198013e-01 -4.97468633e+00 -1.71748747e+00  1.23794464e+00\n",
      " -4.40180762e+00  1.05591141e+00  1.89911746e+00 -1.23975302e+00\n",
      "  7.25005942e-01 -2.12589274e+00  3.67180295e+00 -4.18352919e-01\n",
      "  1.46782442e+00  1.30836250e+00 -1.02153692e+00 -4.38074412e-01\n",
      "  3.43554851e+00  1.02098137e+01 -1.54017030e+00  6.71141520e-01\n",
      "  1.42284211e+00  6.57783166e+00  2.73900943e-01]\n"
     ]
    },
    {
     "name": "stdout",
     "output_type": "stream",
     "text": [
      "\n",
      " Wine \n",
      "\n",
      "Accuracy: 97.78%\n",
      "[0, 1, 2, 3, 4, 5, 6, 7, 9, 10, 18, 27, 48]\n",
      "[0.21052631578947367, 0.556390977443609, 0.7518796992481203, 0.7894736842105263, 0.8421052631578947, 0.8721804511278195, 0.9022556390977443, 0.9473684210526315, 0.9624060150375939, 0.9774436090225563, 0.9849624060150376, 0.9924812030075187, 1.0]\n"
     ]
    }
   ],
   "source": [
    "Start_Wine()\n",
    "\n",
    "print(indexes)\n",
    "print(fitness)"
   ],
   "metadata": {
    "collapsed": false,
    "pycharm": {
     "name": "#%%\n"
    }
   }
  },
  {
   "cell_type": "code",
   "execution_count": 135,
   "outputs": [
    {
     "data": {
      "text/plain": "[<matplotlib.lines.Line2D at 0x22e5881c610>]"
     },
     "execution_count": 135,
     "metadata": {},
     "output_type": "execute_result"
    },
    {
     "data": {
      "text/plain": "<Figure size 432x288 with 1 Axes>",
      "image/png": "[encoded data removed]"
     },
     "metadata": {
      "needs_background": "light"
     },
     "output_type": "display_data"
    }
   ],
   "source": [
    "#plot indexes and fitness\n",
    "plt.plot(indexes, fitness)"
   ],
   "metadata": {
    "collapsed": false,
    "pycharm": {
     "name": "#%%\n"
    }
   }
  }
 ],
 "metadata": {
  "kernelspec": {
   "display_name": "Python 3",
   "language": "python",
   "name": "python3"
  },
  "language_info": {
   "codemirror_mode": {
    "name": "ipython",
    "version": 2
   },
   "file_extension": ".py",
   "mimetype": "text/x-python",
   "name": "python",
   "nbconvert_exporter": "python",
   "pygments_lexer": "ipython2",
   "version": "2.7.6"
  }
 },
 "nbformat": 4,
 "nbformat_minor": 0
}