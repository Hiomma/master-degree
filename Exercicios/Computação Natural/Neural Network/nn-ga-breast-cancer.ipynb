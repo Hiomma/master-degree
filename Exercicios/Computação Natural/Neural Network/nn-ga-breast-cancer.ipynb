{
 "cells": [
  {
   "cell_type": "code",
   "execution_count": 1,
   "outputs": [],
   "source": [
    "import numpy\n",
    "import pygad\n",
    "import warnings\n",
    "warnings.filterwarnings(\"ignore\")\n",
    "import pygad.nn\n",
    "import pygad.gann\n",
    "import pandas as pd\n",
    "from sklearn.preprocessing import LabelEncoder\n",
    "from sklearn import preprocessing\n",
    "from sklearn.preprocessing import StandardScaler\n",
    "\n",
    "labelencoder = LabelEncoder()\n"
   ],
   "metadata": {
    "collapsed": false,
    "pycharm": {
     "name": "#%%\n"
    }
   }
  },
  {
   "cell_type": "code",
   "execution_count": 2,
   "outputs": [],
   "source": [
    "data = pd.read_csv('databases/breast-cancer.data', names = ['id', 'diagnosis', 'radius_mean', 'texture_mean', 'perimeter_mean',\n",
    "                                                                'area_mean', 'smoothness_mean', 'compactness_mean', 'concavity_mean',\n",
    "                                                                'concave points_mean', 'symmetry_mean', 'fractal_dimension_mean',\n",
    "                                                                'radius_se', 'texture_se', 'perimeter_se', 'area_se', 'smoothness_se',\n",
    "                                                                'compactness_se', 'concavity_se', 'concave points_se', 'symmetry_se',\n",
    "                                                                'fractal_dimension_se', 'radius_worst', 'texture_worst',\n",
    "                                                                'perimeter_worst', 'area_worst', 'smoothness_worst',\n",
    "                                                                'compactness_worst', 'concavity_worst', 'concave points_worst',\n",
    "                                                                'symmetry_worst', 'fractal_dimension_worst'])\n",
    "\n",
    "data = data.drop('id',axis=1)\n",
    "\n",
    "data['diagnosis'] = data['diagnosis'].map({'M':1,'B':0})\n",
    "\n",
    "datas = pd.DataFrame(preprocessing.scale(data.iloc[:,1:31]))\n",
    "datas.columns = list(data.iloc[:,1:31].columns)\n",
    "target = labelencoder.fit_transform(data['diagnosis'])\n",
    "data = datas.values"
   ],
   "metadata": {
    "collapsed": false,
    "pycharm": {
     "name": "#%%\n"
    }
   }
  },
  {
   "cell_type": "code",
   "source": [
    "def fitness_func(solution, sol_idx):\n",
    "    global GANN_instance, data_inputs, data_outputs\n",
    "\n",
    "    predictions = pygad.nn.predict(last_layer=GANN_instance.population_networks[sol_idx],\n",
    "                                   data_inputs=data_inputs)\n",
    "    correct_predictions = numpy.where(predictions == data_outputs)[0].size\n",
    "    solution_fitness = (correct_predictions/data_outputs.size)*100\n",
    "\n",
    "    return solution_fitness\n",
    "\n",
    "def callback_generation(ga_instance):\n",
    "    global GANN_instance, last_fitness\n",
    "\n",
    "    population_matrices = pygad.gann.population_as_matrices(population_networks=GANN_instance.population_networks,\n",
    "                                                            population_vectors=ga_instance.population)\n",
    "\n",
    "    GANN_instance.update_population_trained_weights(population_trained_weights=population_matrices)\n",
    "\n",
    "    last_fitness = ga_instance.best_solution()[1].copy()"
   ],
   "metadata": {
    "collapsed": false,
    "pycharm": {
     "name": "#%%\n"
    }
   },
   "execution_count": 3,
   "outputs": []
  },
  {
   "cell_type": "code",
   "execution_count": 4,
   "outputs": [
    {
     "data": {
      "text/plain": "<Figure size 432x288 with 1 Axes>",
      "image/png": "[encoded data removed]"
     },
     "metadata": {
      "needs_background": "light"
     },
     "output_type": "display_data"
    },
    {
     "name": "stdout",
     "output_type": "stream",
     "text": [
      "Parameters of the best solution : [-0.08869014 -0.02734984  0.02540975 ... -0.01091062 -0.07929055\n",
      " -0.00644257]\n",
      "Fitness value of the best solution = 97.88732394366197\n",
      "Index of the best solution : 0\n",
      "Best fitness value reached after 474 generations.\n",
      "Predictions of the trained network : [0, 1, 0, 1, 0, 0, 0, 0, 0, 1, 0, 1, 0, 0, 0, 0, 0, 0, 1, 0, 0, 1, 0, 1, 1, 1, 0, 0, 1, 1, 0, 1, 0, 0, 0, 1, 0, 0, 1, 0, 1, 0, 0, 0, 0, 0, 0, 1, 1, 1, 1, 0, 0, 0, 1, 1, 1, 0, 0, 0, 0, 0, 0, 0, 1, 0, 0, 1, 0, 0, 1, 0, 0, 0, 0, 1, 0, 0, 0, 0, 1, 1, 1, 0, 1, 0, 1, 0, 0, 0, 0, 0, 0, 0, 0, 1, 0, 0, 0, 0, 1, 0, 1, 0, 1, 0, 0, 0, 0, 1, 1, 1, 1, 0, 0, 0, 1, 0, 0, 0, 1, 0, 1, 0, 0, 0, 1, 1, 1, 0, 0, 1, 0, 0, 0, 0, 0, 1, 0, 0, 0, 1, 0]\n",
      "Number of correct classifications : 139.\n",
      "Number of wrong classifications : 4.\n",
      "Classification accuracy : 97.2027972027972.\n"
     ]
    }
   ],
   "source": [
    "from sklearn.model_selection import train_test_split\n",
    "x_train, x_test, y_train, y_test = train_test_split(data, target)\n",
    "\n",
    "data_inputs = x_train\n",
    "data_outputs = y_train\n",
    "\n",
    "last_fitness = 0\n",
    "# The length of the input vector for each sample (i.e. number of neurons in the input layer).\n",
    "num_inputs = data_inputs.shape[1]\n",
    "# The number of neurons in the output layer (i.e. number of classes).\n",
    "num_classes = 3\n",
    "\n",
    "num_solutions = 50 # A solution or a network can be used interchangeably.\n",
    "GANN_instance = pygad.gann.GANN(num_solutions=num_solutions,\n",
    "                                num_neurons_input=num_inputs,\n",
    "                                num_neurons_hidden_layers=[100, 30],\n",
    "                                num_neurons_output=num_classes,\n",
    "                                hidden_activations=[\"relu\", \"relu\"],\n",
    "                                output_activation=\"softmax\")\n",
    "\n",
    "\n",
    "population_vectors = pygad.gann.population_as_vectors(population_networks=GANN_instance.population_networks)\n",
    "\n",
    "# Initial population\n",
    "initial_population = population_vectors.copy()\n",
    "\n",
    "num_parents_mating = 4 # Number of solutions to be selected as parents in the mating pool.\n",
    "\n",
    "num_generations = 500 # Number of generations.\n",
    "\n",
    "mutation_percent_genes = 10 # Percentage of genes to mutate. This parameter has no action if the parameter mutation_num_genes exists.\n",
    "\n",
    "parent_selection_type = \"sss\" # Type of parent selection. steady-state selection - Melhores individuos sempre selecionados\n",
    "\n",
    "crossover_type = \"scattered\" # Type of the crossover operator.\n",
    "\n",
    "mutation_type = \"swap\" # Type of the mutation operator.\n",
    "\n",
    "keep_parents = -1 # Number of parents to keep in the next population. -1 means keep all parents and 0 means keep nothing.\n",
    "\n",
    "ga_instance = pygad.GA(num_generations=num_generations,\n",
    "                       num_parents_mating=num_parents_mating,\n",
    "                       initial_population=initial_population,\n",
    "                       fitness_func=fitness_func,\n",
    "                       mutation_percent_genes=mutation_percent_genes,\n",
    "                       parent_selection_type=parent_selection_type,\n",
    "                       crossover_type=crossover_type,\n",
    "                       mutation_type=mutation_type,\n",
    "                       keep_parents=keep_parents,\n",
    "                       on_generation=callback_generation)\n",
    "\n",
    "ga_instance.run()\n",
    "\n",
    "    # After the generations complete, some plots are showed that summarize how the outputs/fitness values evolve over generations.\n",
    "ga_instance.plot_fitness()\n",
    "\n",
    "# Returning the details of the best solution.\n",
    "solution, solution_fitness, solution_idx = ga_instance.best_solution()\n",
    "print(\"Parameters of the best solution : {solution}\".format(solution=solution))\n",
    "print(\"Fitness value of the best solution = {solution_fitness}\".format(solution_fitness=solution_fitness))\n",
    "print(\"Index of the best solution : {solution_idx}\".format(solution_idx=solution_idx))\n",
    "\n",
    "if ga_instance.best_solution_generation != -1:\n",
    "    print(\"Best fitness value reached after {best_solution_generation} generations.\".format(best_solution_generation=ga_instance.best_solution_generation))\n",
    "\n",
    "# Predicting the outputs of the data using the best solution.\n",
    "predictions = pygad.nn.predict(last_layer=GANN_instance.population_networks[solution_idx],\n",
    "                                   data_inputs=x_test)\n",
    "print(\"Predictions of the trained network : {predictions}\".format(predictions=predictions))\n",
    "\n",
    "    # Calculating some statistics\n",
    "num_wrong = numpy.where(predictions != y_test)[0]\n",
    "num_correct = y_test.size - num_wrong.size\n",
    "accuracy = 100 * (num_correct/y_test.size)\n",
    "print(\"Number of correct classifications : {num_correct}.\".format(num_correct=num_correct))\n",
    "print(\"Number of wrong classifications : {num_wrong}.\".format(num_wrong=num_wrong.size))\n",
    "print(\"Classification accuracy : {accuracy}.\".format(accuracy=accuracy))"
   ],
   "metadata": {
    "collapsed": false,
    "pycharm": {
     "name": "#%%\n"
    }
   }
  }
 ],
 "metadata": {
  "kernelspec": {
   "display_name": "Python 3",
   "language": "python",
   "name": "python3"
  },
  "language_info": {
   "codemirror_mode": {
    "name": "ipython",
    "version": 2
   },
   "file_extension": ".py",
   "mimetype": "text/x-python",
   "name": "python",
   "nbconvert_exporter": "python",
   "pygments_lexer": "ipython2",
   "version": "2.7.6"
  }
 },
 "nbformat": 4,
 "nbformat_minor": 0
}