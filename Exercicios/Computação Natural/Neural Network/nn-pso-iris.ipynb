{
 "cells": [
  {
   "cell_type": "code",
   "execution_count": 19,
   "outputs": [
    {
     "name": "stdout",
     "output_type": "stream",
     "text": [
      "The autoreload extension is already loaded. To reload it, use:\n",
      "  %reload_ext autoreload\n"
     ]
    }
   ],
   "source": [
    "# Import modules\n",
    "import numpy as np\n",
    "import matplotlib.pyplot as plt\n",
    "from sklearn.datasets import load_iris\n",
    "\n",
    "\n",
    "# Import PySwarms\n",
    "import pyswarms as ps\n",
    "\n",
    "%load_ext autoreload\n",
    "%autoreload 2"
   ],
   "metadata": {
    "collapsed": false,
    "pycharm": {
     "name": "#%%\n"
    }
   }
  },
  {
   "cell_type": "code",
   "execution_count": 20,
   "outputs": [],
   "source": [
    "n_inputs = 4\n",
    "n_hidden = 20\n",
    "n_classes = 3\n",
    "\n",
    "num_samples = 150"
   ],
   "metadata": {
    "collapsed": false,
    "pycharm": {
     "name": "#%%\n"
    }
   }
  },
  {
   "cell_type": "code",
   "execution_count": 21,
   "outputs": [],
   "source": [
    "def logits_function(p, X):\n",
    "    # Roll-back the weights and biases\n",
    "    W1 = p[0:80].reshape((n_inputs,n_hidden))\n",
    "    b1 = p[80:100].reshape((n_hidden,))\n",
    "    W2 = p[100:160].reshape((n_hidden,n_classes))\n",
    "    b2 = p[160:163].reshape((n_classes,))\n",
    "\n",
    "    # Perform forward propagation\n",
    "    z1 = X.dot(W1) + b1  # Pre-activation in Layer 1\n",
    "    a1 = np.tanh(z1)     # Activation in Layer 1\n",
    "    logits = a1.dot(W2) + b2 # Pre-activation in Layer 2\n",
    "    return logits          # Logits for Layer 2"
   ],
   "metadata": {
    "collapsed": false,
    "pycharm": {
     "name": "#%%\n"
    }
   }
  },
  {
   "cell_type": "code",
   "execution_count": 22,
   "outputs": [],
   "source": [
    "# Forward propagation\n",
    "def forward_prop(params, X,y):\n",
    "    logits = logits_function(params, X)\n",
    "\n",
    "    # Compute for the softmax of the logits\n",
    "    exp_scores = np.exp(logits)\n",
    "    probs = exp_scores / np.sum(exp_scores, axis=1, keepdims=True)\n",
    "\n",
    "    # Compute for the negative log likelihood\n",
    "\n",
    "    corect_logprobs = -np.log(probs[range(num_samples), y])\n",
    "    loss = np.sum(corect_logprobs) / num_samples\n",
    "\n",
    "    return loss"
   ],
   "metadata": {
    "collapsed": false,
    "pycharm": {
     "name": "#%%\n"
    }
   }
  },
  {
   "cell_type": "code",
   "execution_count": 23,
   "outputs": [],
   "source": [
    "def Get_PSO(f):\n",
    "    # Initialize swarm\n",
    "    options = {'c1': 0.5, 'c2': 0.3, 'w':0.9}\n",
    "\n",
    "    # Call instance of PSO\n",
    "    dimensions = (n_inputs * n_hidden) + (n_hidden * n_classes) + n_hidden + n_classes\n",
    "    optimizer = ps.single.GlobalBestPSO(n_particles=100, dimensions=dimensions, options=options)\n",
    "\n",
    "    # Perform optimization\n",
    "    cost, pos = optimizer.optimize(f, iters=1000)\n",
    "    return pos"
   ],
   "metadata": {
    "collapsed": false,
    "pycharm": {
     "name": "#%%\n"
    }
   }
  },
  {
   "cell_type": "code",
   "execution_count": 24,
   "outputs": [],
   "source": [
    "def predict(pos, X):\n",
    "    logits = logits_function(pos, X)\n",
    "    y_pred = np.argmax(logits, axis=1)\n",
    "    return y_pred"
   ],
   "metadata": {
    "collapsed": false,
    "pycharm": {
     "name": "#%%\n"
    }
   }
  },
  {
   "cell_type": "code",
   "execution_count": 25,
   "outputs": [],
   "source": [
    "import pandas as pd\n",
    "from sklearn.preprocessing import LabelEncoder\n",
    "from sklearn import preprocessing\n",
    "from sklearn.preprocessing import StandardScaler\n",
    "import warnings\n",
    "warnings.filterwarnings(\"ignore\")\n",
    "\n",
    "labelencoder = LabelEncoder()\n",
    "\n",
    "def Start_Iris():\n",
    "    data = pd.read_csv('databases/iris.data', names = ['sepal length', 'sepal width', 'petal length', 'petal width', 'class'])\n",
    "    target = labelencoder.fit_transform(data['class'].values)\n",
    "    data = data.drop('class', axis = 1).values\n",
    "\n",
    "    def f(x):\n",
    "        n_particles = x.shape[0]\n",
    "        j = [forward_prop(x[i], data, target) for i in range(n_particles)]\n",
    "        return np.array(j)\n",
    "\n",
    "    pos = Get_PSO(f)\n",
    "    scores = (predict(pos, data) == target)\n",
    "\n",
    "    print(\"\\n Iris \\n\")\n",
    "    print(\"Mean: \", scores.mean())\n",
    "    print(\"Standard Deviation: \", scores.std())\n"
   ],
   "metadata": {
    "collapsed": false,
    "pycharm": {
     "name": "#%%\n"
    }
   }
  },
  {
   "cell_type": "code",
   "execution_count": 26,
   "outputs": [
    {
     "name": "stderr",
     "output_type": "stream",
     "text": [
      "2022-03-07 19:47:19,004 - pyswarms.single.global_best - INFO - Optimize for 1000 iters with {'c1': 0.5, 'c2': 0.3, 'w': 0.9}\n",
      "pyswarms.single.global_best: 100%|██████████|1000/1000, best_cost=0.00953\n",
      "2022-03-07 19:47:54,203 - pyswarms.single.global_best - INFO - Optimization finished | best cost: 0.009534524901048214, best pos: [ 1.61878380e+00 -1.01484291e+00  5.29846847e-01 -3.50938255e-01\n",
      "  1.58073248e+00 -2.73379126e+00 -2.43602188e-01  2.55859315e-01\n",
      "  1.94896117e-01 -4.67694273e-02  1.79796632e+00  4.94371143e+00\n",
      "  6.20332720e-01  6.41653520e-01  1.54553581e-01  2.34701326e+00\n",
      "  1.07295015e+00  4.88103177e-01  6.40680890e-01  7.12845771e-02\n",
      "  3.75353796e-01 -3.38938558e-02 -4.74836644e-01 -5.75055111e-01\n",
      " -3.30262737e+00  6.11839508e-01  1.62900904e-01  5.66227096e-01\n",
      " -3.20582513e-01 -8.01336920e-01 -3.31170041e-01  7.38761983e-01\n",
      " -6.03059507e-01  1.92764793e+00  3.98837082e-01  1.25446464e+01\n",
      "  1.64453380e+00  4.76702208e-01  5.56667564e-01 -5.34050902e-01\n",
      "  5.44219521e-01 -1.16487415e+00 -6.81094281e-01  7.11851768e-01\n",
      "  5.28239879e-01  5.31382932e-02  1.42180508e+00 -2.05693455e+00\n",
      "  7.12929832e-01  4.05953323e-02 -1.48980055e+00  1.12492666e+00\n",
      " -4.93481943e-01 -5.19031792e-01  1.09632309e+00 -1.07239784e+00\n",
      " -6.23919946e-01 -1.18044526e+00 -1.95771779e+00 -8.29600280e-01\n",
      "  6.87184435e+00  1.13356933e+00  7.97219845e-01  1.14089404e+00\n",
      " -6.48282059e-01 -1.27680408e+00 -4.60260248e-01  1.48788447e+00\n",
      " -3.88205586e-01 -1.56115726e+00  3.29561236e-01  8.05342751e-01\n",
      " -3.12030155e+00 -8.17556317e-01  4.75512434e-02 -3.42627403e+01\n",
      "  3.21822279e+00 -2.07729891e+00  3.20566377e-01  4.04437934e-01\n",
      "  7.80749751e-01 -3.11597169e+00  3.41144618e-01 -5.91071320e-01\n",
      " -4.17967331e-01  4.88409098e-01 -5.39436489e+00 -7.16184637e-01\n",
      "  1.63792578e+00  3.35174401e+00 -1.66831081e+00  6.19428289e-01\n",
      "  1.04236718e+00 -5.20376751e+00  1.01567841e+00  1.45536212e+01\n",
      " -9.39654623e-01  5.78439924e-01  2.08564488e+00  1.72191881e+00\n",
      "  1.74402954e+00 -5.52358893e-01 -1.89032358e+00  5.94206773e-01\n",
      " -7.50286333e-01  5.72532298e-01  1.68162751e+00  1.08057045e+00\n",
      "  7.63789892e-02 -8.89229339e-02 -2.04256052e+00  2.01450965e+00\n",
      " -1.73761968e+00 -6.34687094e-02  1.43992549e+00 -2.89487395e-01\n",
      "  4.87380182e-01 -5.76606879e-01 -1.26853867e+00 -7.99185866e+00\n",
      "  8.87479599e-01  3.34941715e+00 -3.89862087e+00 -8.78548720e-02\n",
      " -5.40411530e+00 -1.49527135e+00 -1.96542079e-01 -4.25574128e-01\n",
      " -6.25574287e+00 -6.19614766e-01 -3.25075493e-01  2.83796949e-01\n",
      "  9.35721947e-02  4.07373216e-01 -1.39616711e+00  1.53325497e+00\n",
      "  1.62476710e-02 -1.68774536e+00  1.53039050e+00  1.31117553e+00\n",
      " -6.62158011e-02  2.66755371e+00 -1.18516989e+00  7.91567607e-01\n",
      "  2.39379546e+00  2.44619871e+00  4.48636657e-01 -5.50913665e+00\n",
      "  2.47345634e+00 -2.46317231e-01  2.08122353e-01  2.06026881e+00\n",
      "  1.23530083e+00 -9.03920631e-01  1.06510273e+01  2.05398283e+00\n",
      "  1.57922509e+00  1.60634326e-01 -1.55615292e+00 -3.31336367e-01\n",
      "  6.28209554e-01 -6.51933473e+00 -5.47215481e-01]\n"
     ]
    },
    {
     "name": "stdout",
     "output_type": "stream",
     "text": [
      "\n",
      " Iris \n",
      "\n",
      "Mean:  1.0\n",
      "Standard Deviation:  0.0\n",
      "Min:  True\n",
      "Max:  True\n"
     ]
    }
   ],
   "source": [
    "Start_Iris()"
   ],
   "metadata": {
    "collapsed": false,
    "pycharm": {
     "name": "#%%\n"
    }
   }
  }
 ],
 "metadata": {
  "kernelspec": {
   "display_name": "Python 3",
   "language": "python",
   "name": "python3"
  },
  "language_info": {
   "codemirror_mode": {
    "name": "ipython",
    "version": 2
   },
   "file_extension": ".py",
   "mimetype": "text/x-python",
   "name": "python",
   "nbconvert_exporter": "python",
   "pygments_lexer": "ipython2",
   "version": "2.7.6"
  }
 },
 "nbformat": 4,
 "nbformat_minor": 0
}