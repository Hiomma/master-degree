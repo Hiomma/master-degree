{
 "cells": [
  {
   "cell_type": "code",
   "execution_count": 409,
   "outputs": [
    {
     "name": "stdout",
     "output_type": "stream",
     "text": [
      "The autoreload extension is already loaded. To reload it, use:\n",
      "  %reload_ext autoreload\n"
     ]
    }
   ],
   "source": [
    "# Import modules\n",
    "import numpy as np\n",
    "import matplotlib.pyplot as plt\n",
    "from sklearn.datasets import load_iris\n",
    "\n",
    "\n",
    "# Import PySwarms\n",
    "import pyswarms as ps\n",
    "\n",
    "%load_ext autoreload\n",
    "%autoreload 2"
   ],
   "metadata": {
    "collapsed": false,
    "pycharm": {
     "name": "#%%\n"
    }
   }
  },
  {
   "cell_type": "code",
   "execution_count": 410,
   "outputs": [],
   "source": [
    "n_inputs = 4\n",
    "n_hidden = 20\n",
    "n_classes = 3\n",
    "\n",
    "num_samples = 112\n",
    "\n",
    "index = 0\n",
    "fitness = []\n",
    "indexes = []"
   ],
   "metadata": {
    "collapsed": false,
    "pycharm": {
     "name": "#%%\n"
    }
   }
  },
  {
   "cell_type": "code",
   "execution_count": 411,
   "outputs": [],
   "source": [
    "def logits_function(p, X, y):\n",
    "    # Roll-back the weights and biases\n",
    "    W1 = p[0:80].reshape((n_inputs,n_hidden))\n",
    "    b1 = p[80:100].reshape((n_hidden,))\n",
    "    W2 = p[100:160].reshape((n_hidden,n_classes))\n",
    "    b2 = p[160:163].reshape((n_classes,))\n",
    "\n",
    "    # Perform forward propagation\n",
    "    z1 = X.dot(W1) + b1  # Pre-activation in Layer 1\n",
    "    a1 = np.tanh(z1)     # Activation in Layer 1\n",
    "    logits = a1.dot(W2) + b2 # Pre-activation in Layer 2\n",
    "\n",
    "    if y is not None and (len(indexes) == 0 or index != indexes[len(fitness)-1]):\n",
    "        y_pred = np.argmax(logits, axis=1)\n",
    "        score = (y_pred == y).sum() / y.shape[0]\n",
    "\n",
    "        if  len(fitness) == 0 or score > fitness[len(fitness)-1] :\n",
    "            fitness.append(score)\n",
    "            indexes.append(index)\n",
    "\n",
    "    return logits          # Logits for Layer 2"
   ],
   "metadata": {
    "collapsed": false,
    "pycharm": {
     "name": "#%%\n"
    }
   }
  },
  {
   "cell_type": "code",
   "execution_count": 412,
   "outputs": [],
   "source": [
    "# Forward propagation\n",
    "def forward_prop(params, X,y):\n",
    "    logits = logits_function(params, X, y)\n",
    "\n",
    "    # Compute for the softmax of the logits\n",
    "    exp_scores = np.exp(logits)\n",
    "    probs = exp_scores / np.sum(exp_scores, axis=1, keepdims=True)\n",
    "\n",
    "    # Compute for the negative log likelihood\n",
    "\n",
    "    corect_logprobs = -np.log(probs[range(num_samples), y])\n",
    "    loss = np.sum(corect_logprobs) / num_samples\n",
    "\n",
    "    return loss"
   ],
   "metadata": {
    "collapsed": false,
    "pycharm": {
     "name": "#%%\n"
    }
   }
  },
  {
   "cell_type": "code",
   "execution_count": 413,
   "outputs": [],
   "source": [
    "def Get_PSO(f):\n",
    "    # Initialize swarm\n",
    "    options = {'c1': 2.05, 'c2': 2.05, 'w': 0.729}\n",
    "\n",
    "    # Call instance of PSO\n",
    "    dimensions = (n_inputs * n_hidden) + (n_hidden * n_classes) + n_hidden + n_classes\n",
    "    optimizer = ps.single.GlobalBestPSO(n_particles=50, dimensions=dimensions, options=options)\n",
    "\n",
    "    # Perform optimization\n",
    "    cost, pos = optimizer.optimize(f, iters=1000)\n",
    "    return pos"
   ],
   "metadata": {
    "collapsed": false,
    "pycharm": {
     "name": "#%%\n"
    }
   }
  },
  {
   "cell_type": "code",
   "execution_count": 414,
   "outputs": [],
   "source": [
    "def predict(pos, X):\n",
    "    logits = logits_function(pos, X, None)\n",
    "    y_pred = np.argmax(logits, axis=1)\n",
    "    return y_pred"
   ],
   "metadata": {
    "collapsed": false,
    "pycharm": {
     "name": "#%%\n"
    }
   }
  },
  {
   "cell_type": "code",
   "execution_count": 415,
   "outputs": [],
   "source": [
    "import pandas as pd\n",
    "from sklearn.preprocessing import LabelEncoder\n",
    "from sklearn import preprocessing\n",
    "from sklearn.preprocessing import StandardScaler\n",
    "import warnings\n",
    "from sklearn.model_selection import train_test_split\n",
    "warnings.filterwarnings(\"ignore\")\n",
    "\n",
    "\n",
    "labelencoder = LabelEncoder()\n",
    "\n",
    "def Start_Iris():\n",
    "    data = pd.read_csv('databases/iris.data', names = ['sepal length', 'sepal width', 'petal length', 'petal width', 'class'])\n",
    "    target = labelencoder.fit_transform(data['class'].values)\n",
    "    data = data.drop('class', axis = 1).values\n",
    "\n",
    "    sc = StandardScaler()\n",
    "    data = sc.fit_transform(data)\n",
    "\n",
    "    x_train, x_test, y_train, y_test = train_test_split(data, target)\n",
    "\n",
    "    def f(x):\n",
    "        global index\n",
    "        n_particles = x.shape[0]\n",
    "        j = [forward_prop(x[i], x_train, y_train) for i in range(n_particles)]\n",
    "        index += 1\n",
    "        return np.array(j)\n",
    "\n",
    "    pos = Get_PSO(f)\n",
    "    scores = (predict(pos, x_test) == y_test)\n",
    "\n",
    "    print(\"\\n Iris \\n\")\n",
    "    print(\"Accuracy: %.2f%%\" % (100 * np.mean(scores)))"
   ],
   "metadata": {
    "collapsed": false,
    "pycharm": {
     "name": "#%%\n"
    }
   }
  },
  {
   "cell_type": "code",
   "execution_count": 416,
   "outputs": [
    {
     "name": "stderr",
     "output_type": "stream",
     "text": [
      "2022-03-27 02:29:04,621 - pyswarms.single.global_best - INFO - Optimize for 1000 iters with {'c1': 2.05, 'c2': 2.05, 'w': 0.3}\n",
      "pyswarms.single.global_best: 100%|██████████|1000/1000, best_cost=0.00662\n",
      "2022-03-27 02:29:10,053 - pyswarms.single.global_best - INFO - Optimization finished | best cost: 0.006622107569159532, best pos: [ 7.18826519e-01  4.00505304e-01  2.95385806e+00  9.68607858e-01\n",
      " -1.49694958e-01  9.19510521e-02  6.29418443e-01 -3.54822264e-01\n",
      " -1.79457675e+02  1.91629227e-01  4.37303917e-01  1.06963554e+00\n",
      " -8.64849096e+00 -3.82161305e-01  9.96531130e-02  2.82198272e+01\n",
      "  5.22589014e-01  1.04674147e+00  2.08821955e+00 -3.13392080e+00\n",
      "  3.56968047e+01  2.39747511e-01  2.75525192e+00  1.66253693e+00\n",
      "  3.55284245e-01  7.36837985e-02  2.56019047e+01  2.03436383e+00\n",
      "  3.25306924e-01  4.43162036e-01  1.85113278e+02 -4.78120462e-01\n",
      "  4.57604531e+00  4.69388364e-01  6.68383886e-01  3.13832970e-01\n",
      "  1.28470047e+00 -6.66436173e-01  1.33870072e+00 -3.68634244e+00\n",
      "  3.36099274e+00 -1.56635295e+00 -1.29658255e+00  9.93127534e-02\n",
      "  1.07807156e+00 -3.79517117e+00 -2.16250165e-01  4.30715015e+00\n",
      "  4.33640908e+00  2.47385621e+00 -1.71897693e-01  1.70533997e+00\n",
      "  1.17926297e+00  1.76402754e+00 -2.19725215e+00  7.72867764e-01\n",
      " -3.11784403e-01  5.07729198e-01 -2.50294718e-01  2.83202420e-01\n",
      "  1.92531365e+01  2.50887390e+00 -2.56434282e+00  1.16396673e+00\n",
      "  3.27452602e+00  4.44280495e-01  7.05447008e+00  1.90341641e+00\n",
      "  1.25962551e+00 -4.91982276e-01  2.96386259e-01  6.53217000e-01\n",
      "  5.72829245e-01  9.73884127e-01  1.92672618e-01  2.00263010e+00\n",
      " -2.88554106e-01 -2.55996303e+00  9.24034900e-01  6.61416094e-01\n",
      "  2.57139915e+00 -6.94683012e-01  4.17233651e-01  2.00490928e+00\n",
      "  2.10132610e+00  1.75905875e+00  2.08056590e+00 -1.21443014e+00\n",
      "  8.85227019e+00 -1.87356262e+00  1.14104063e+02 -2.30117030e+00\n",
      "  1.10955014e+01  1.37983446e-01  1.08390325e+00 -1.05571084e+00\n",
      "  3.35468077e-01  1.09207314e+00  1.66207534e+00  4.37206172e-01\n",
      "  4.37498835e-02  1.07797051e+00  7.66347051e-01 -1.33788106e+00\n",
      " -3.40341581e-01  2.70792733e+00 -5.67973936e-01  1.17783958e+00\n",
      " -4.77317684e-01 -2.58668670e-01  4.48201400e-01 -2.11794332e+00\n",
      " -2.33568423e+01  2.39350886e-01  5.61875424e-02 -4.00910631e-01\n",
      "  1.21626090e+00  8.98539908e-01 -1.15343908e+00  8.69531747e-01\n",
      "  2.78469391e-01  5.22506851e-01  1.51814780e+00  1.28434168e+00\n",
      "  1.18389955e+00  1.32032243e-01  1.63233138e+00 -5.27132826e-01\n",
      " -7.98452489e-01  4.26217312e+00 -1.61797178e-03  5.43480650e-01\n",
      "  2.60131683e+00 -1.86812492e+00 -2.12958745e+00  4.31571592e+00\n",
      "  1.42335930e+00  3.65532757e-01  1.08668549e+00  6.14541634e-01\n",
      " -2.12260248e+00  1.03656180e+00  1.65281830e+00  2.35428330e+00\n",
      " -9.08920969e-01  1.15943388e+00  1.06913920e+00  1.03701519e+00\n",
      "  1.48097860e+00  7.15534612e-01 -4.51508134e-01 -7.43902207e-01\n",
      "  2.42542639e+00 -7.58133463e-01  1.86805457e+00  6.30139467e-01\n",
      " -7.37327615e-01 -6.32974669e+00  3.35215801e-01  3.09439735e+00\n",
      "  8.79251362e-01  5.60044609e-01  9.44857229e-01]\n"
     ]
    },
    {
     "name": "stdout",
     "output_type": "stream",
     "text": [
      "\n",
      " Iris \n",
      "\n",
      "Accuracy: 97.37%\n",
      "[0, 1, 2, 3, 4, 5, 6, 7, 8, 9, 10, 11, 48, 308]\n",
      "[0.26785714285714285, 0.44642857142857145, 0.6696428571428571, 0.7678571428571429, 0.7946428571428571, 0.8303571428571429, 0.8839285714285714, 0.8928571428571429, 0.9196428571428571, 0.9464285714285714, 0.9553571428571429, 0.9821428571428571, 0.9910714285714286, 1.0]\n"
     ]
    }
   ],
   "source": [
    "Start_Iris()\n",
    "\n",
    "print(indexes)\n",
    "print(fitness)"
   ],
   "metadata": {
    "collapsed": false,
    "pycharm": {
     "name": "#%%\n"
    }
   }
  },
  {
   "cell_type": "code",
   "execution_count": 417,
   "outputs": [
    {
     "data": {
      "text/plain": "[<matplotlib.lines.Line2D at 0x1f292b08fa0>]"
     },
     "execution_count": 417,
     "metadata": {},
     "output_type": "execute_result"
    },
    {
     "data": {
      "text/plain": "<Figure size 432x288 with 1 Axes>",
      "image/png": "[encoded data removed]"
     },
     "metadata": {
      "needs_background": "light"
     },
     "output_type": "display_data"
    }
   ],
   "source": [
    "#plot indexes and fitness\n",
    "plt.plot(indexes, fitness)"
   ],
   "metadata": {
    "collapsed": false,
    "pycharm": {
     "name": "#%%\n"
    }
   }
  }
 ],
 "metadata": {
  "kernelspec": {
   "display_name": "Python 3",
   "language": "python",
   "name": "python3"
  },
  "language_info": {
   "codemirror_mode": {
    "name": "ipython",
    "version": 2
   },
   "file_extension": ".py",
   "mimetype": "text/x-python",
   "name": "python",
   "nbconvert_exporter": "python",
   "pygments_lexer": "ipython2",
   "version": "2.7.6"
  }
 },
 "nbformat": 4,
 "nbformat_minor": 0
}