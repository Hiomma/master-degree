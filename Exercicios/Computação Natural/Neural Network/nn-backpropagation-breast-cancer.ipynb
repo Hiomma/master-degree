{
 "cells": [
  {
   "cell_type": "code",
   "execution_count": 69,
   "outputs": [],
   "source": [
    "from sklearn.neural_network import MLPClassifier\n",
    "import pandas as pd\n",
    "from sklearn.preprocessing import LabelEncoder\n",
    "from sklearn.model_selection import train_test_split\n",
    "from sklearn.metrics import accuracy_score\n",
    "from sklearn import preprocessing"
   ],
   "metadata": {
    "collapsed": false,
    "pycharm": {
     "name": "#%%\n"
    }
   }
  },
  {
   "cell_type": "code",
   "execution_count": 70,
   "outputs": [],
   "source": [
    "labelencoder = LabelEncoder()\n",
    "\n",
    "data = pd.read_csv('databases/breast-cancer.data', names = ['id', 'diagnosis', 'radius_mean', 'texture_mean', 'perimeter_mean',\n",
    "                                                            'area_mean', 'smoothness_mean', 'compactness_mean', 'concavity_mean',\n",
    "                                                            'concave points_mean', 'symmetry_mean', 'fractal_dimension_mean',\n",
    "                                                            'radius_se', 'texture_se', 'perimeter_se', 'area_se', 'smoothness_se',\n",
    "                                                            'compactness_se', 'concavity_se', 'concave points_se', 'symmetry_se',\n",
    "                                                            'fractal_dimension_se', 'radius_worst', 'texture_worst',\n",
    "                                                            'perimeter_worst', 'area_worst', 'smoothness_worst',\n",
    "                                                            'compactness_worst', 'concavity_worst', 'concave points_worst',\n",
    "                                                            'symmetry_worst', 'fractal_dimension_worst'])\n",
    "\n",
    "data = data.drop('id',axis=1)\n",
    "\n",
    "data['diagnosis'] = data['diagnosis'].map({'M':1,'B':0})\n",
    "\n",
    "datas = pd.DataFrame(preprocessing.scale(data.iloc[:,1:31]))\n",
    "datas.columns = list(data.iloc[:,1:31].columns)\n",
    "target = labelencoder.fit_transform(data['diagnosis'])\n",
    "data = datas.values\n",
    "\n",
    "x_train, x_test, y_train, y_test = train_test_split(data, target)"
   ],
   "metadata": {
    "collapsed": false,
    "pycharm": {
     "name": "#%%\n"
    }
   }
  },
  {
   "cell_type": "code",
   "execution_count": 71,
   "outputs": [],
   "source": [
    "clf = MLPClassifier(solver='lbfgs', alpha=1e-5, hidden_layer_sizes=(10, 10))"
   ],
   "metadata": {
    "collapsed": false,
    "pycharm": {
     "name": "#%%\n"
    }
   }
  },
  {
   "cell_type": "code",
   "execution_count": 72,
   "outputs": [
    {
     "name": "stdout",
     "output_type": "stream",
     "text": [
      "The accuracy of the Multi-layer Perceptron is: 0.958041958041958\n"
     ]
    }
   ],
   "source": [
    "clf.fit(x_train, y_train)\n",
    "prediction = clf.predict(x_test)\n",
    "\n",
    "print('The accuracy of the Multi-layer Perceptron is:', accuracy_score(prediction,y_test))"
   ],
   "metadata": {
    "collapsed": false,
    "pycharm": {
     "name": "#%%\n"
    }
   }
  }
 ],
 "metadata": {
  "kernelspec": {
   "display_name": "Python 3",
   "language": "python",
   "name": "python3"
  },
  "language_info": {
   "codemirror_mode": {
    "name": "ipython",
    "version": 2
   },
   "file_extension": ".py",
   "mimetype": "text/x-python",
   "name": "python",
   "nbconvert_exporter": "python",
   "pygments_lexer": "ipython2",
   "version": "2.7.6"
  }
 },
 "nbformat": 4,
 "nbformat_minor": 0
}