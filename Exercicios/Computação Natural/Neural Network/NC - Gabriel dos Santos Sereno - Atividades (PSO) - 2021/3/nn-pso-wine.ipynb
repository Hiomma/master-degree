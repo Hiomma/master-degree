{
 "cells": [
  {
   "cell_type": "code",
   "execution_count": 100,
   "outputs": [
    {
     "name": "stdout",
     "output_type": "stream",
     "text": [
      "The autoreload extension is already loaded. To reload it, use:\n",
      "  %reload_ext autoreload\n"
     ]
    }
   ],
   "source": [
    "# Import modules\n",
    "import numpy as np\n",
    "import matplotlib.pyplot as plt\n",
    "from sklearn.datasets import load_iris\n",
    "\n",
    "\n",
    "# Import PySwarms\n",
    "import pyswarms as ps\n",
    "\n",
    "%load_ext autoreload\n",
    "%autoreload 2"
   ],
   "metadata": {
    "collapsed": false,
    "pycharm": {
     "name": "#%%\n"
    }
   }
  },
  {
   "cell_type": "code",
   "execution_count": 101,
   "outputs": [],
   "source": [
    "n_inputs = 13\n",
    "n_hidden = 20\n",
    "n_classes = 3\n",
    "\n",
    "num_samples = 178"
   ],
   "metadata": {
    "collapsed": false,
    "pycharm": {
     "name": "#%%\n"
    }
   }
  },
  {
   "cell_type": "code",
   "execution_count": 102,
   "outputs": [],
   "source": [
    "def logits_function(p, X):\n",
    "    # Roll-back the weights and biases\n",
    "    W1 = p[0:260].reshape((n_inputs,n_hidden))\n",
    "    b1 = p[260:280].reshape((n_hidden,))\n",
    "    W2 = p[280:340].reshape((n_hidden,n_classes))\n",
    "    b2 = p[340:343].reshape((n_classes,))\n",
    "\n",
    "    # Perform forward propagation\n",
    "    z1 = X.dot(W1) + b1  # Pre-activation in Layer 1\n",
    "    a1 = np.tanh(z1)     # Activation in Layer 1\n",
    "    logits = a1.dot(W2) + b2 # Pre-activation in Layer 2\n",
    "    return logits          # Logits for Layer 2"
   ],
   "metadata": {
    "collapsed": false,
    "pycharm": {
     "name": "#%%\n"
    }
   }
  },
  {
   "cell_type": "code",
   "execution_count": 103,
   "outputs": [],
   "source": [
    "# Forward propagation\n",
    "def forward_prop(params, X,y):\n",
    "    logits = logits_function(params, X)\n",
    "\n",
    "    # Compute for the softmax of the logits\n",
    "    exp_scores = np.exp(logits)\n",
    "    probs = exp_scores / np.sum(exp_scores, axis=1, keepdims=True)\n",
    "\n",
    "    # Compute for the negative log likelihood\n",
    "    corect_logprobs = -np.log(probs[range(num_samples), y])\n",
    "    loss = np.sum(corect_logprobs) / num_samples\n",
    "\n",
    "    return loss"
   ],
   "metadata": {
    "collapsed": false,
    "pycharm": {
     "name": "#%%\n"
    }
   }
  },
  {
   "cell_type": "code",
   "execution_count": 104,
   "outputs": [],
   "source": [
    "def Get_PSO(f):\n",
    "    # Initialize swarm\n",
    "    options = {'c1': 0.5, 'c2': 0.3, 'w':0.9}\n",
    "\n",
    "    # Call instance of PSO\n",
    "    dimensions = (n_inputs * n_hidden) + (n_hidden * n_classes) + n_hidden + n_classes\n",
    "    optimizer = ps.single.GlobalBestPSO(n_particles=100, dimensions=dimensions, options=options)\n",
    "\n",
    "    # Perform optimization\n",
    "    cost, pos = optimizer.optimize(f, iters=1000)\n",
    "    return pos"
   ],
   "metadata": {
    "collapsed": false,
    "pycharm": {
     "name": "#%%\n"
    }
   }
  },
  {
   "cell_type": "code",
   "execution_count": 105,
   "outputs": [],
   "source": [
    "def predict(pos, X):\n",
    "    logits = logits_function(pos, X)\n",
    "    y_pred = np.argmax(logits, axis=1)\n",
    "    return y_pred"
   ],
   "metadata": {
    "collapsed": false,
    "pycharm": {
     "name": "#%%\n"
    }
   }
  },
  {
   "cell_type": "code",
   "execution_count": 106,
   "outputs": [],
   "source": [
    "import pandas as pd\n",
    "from sklearn.preprocessing import LabelEncoder\n",
    "from sklearn.preprocessing import StandardScaler\n",
    "import warnings\n",
    "warnings.filterwarnings(\"ignore\")\n",
    "\n",
    "labelencoder = LabelEncoder()\n",
    "\n",
    "def Start_Wine():\n",
    "    data = pd.read_csv('databases/wine.data', names = ['class', 'alcohol', 'malic acid', 'ash', 'alcalinity of ash', 'magnesium', 'total phenols', 'flavanoids', 'nonflavanoid phenols', 'proanthocyanins', 'color intensity', 'hue', 'diluted', 'proline'])\n",
    "\n",
    "    target = labelencoder.fit_transform(data['class'].values)\n",
    "    data_drop = data.drop('class',axis=1)\n",
    "    data = data_drop.values\n",
    "\n",
    "    sc = StandardScaler()\n",
    "    data = sc.fit_transform(data)\n",
    "\n",
    "    def f(x):\n",
    "        n_particles = x.shape[0]\n",
    "        j = [forward_prop(x[i], data, target) for i in range(n_particles)]\n",
    "        return np.array(j)\n",
    "\n",
    "    pos = Get_PSO(f)\n",
    "    scores = (predict(pos, data) == target)\n",
    "\n",
    "    print(\"\\n Wine \\n\")\n",
    "    print(\"Mean: \", scores.mean())\n",
    "    print(\"Standard Deviation: \", scores.std())"
   ],
   "metadata": {
    "collapsed": false,
    "pycharm": {
     "name": "#%%\n"
    }
   }
  },
  {
   "cell_type": "code",
   "execution_count": 107,
   "outputs": [
    {
     "name": "stderr",
     "output_type": "stream",
     "text": [
      "2022-03-07 20:18:04,988 - pyswarms.single.global_best - INFO - Optimize for 1000 iters with {'c1': 0.5, 'c2': 0.3, 'w': 0.9}\n",
      "pyswarms.single.global_best: 100%|██████████|1000/1000, best_cost=1.3e-6 \n",
      "2022-03-07 20:18:33,851 - pyswarms.single.global_best - INFO - Optimization finished | best cost: 1.301376175706591e-06, best pos: [ 2.76680165e+00 -3.43426133e-01 -1.62491927e+00 -1.00982217e-02\n",
      "  1.43465143e+00  2.61460629e-01 -2.67233506e-01 -2.80833040e-01\n",
      "  1.38502761e+00  2.15152571e-01  1.84412251e-01  5.81682215e-01\n",
      "  4.26704486e-01 -3.91892867e-02  2.35240617e-01  1.00814125e-01\n",
      " -1.78476400e+00  2.00460264e+00  1.27653205e+00 -3.11202732e-01\n",
      "  2.78169677e-01 -3.09333380e-01 -8.40032215e-02 -9.39736429e-01\n",
      " -9.43559267e-01  1.54789191e+00 -6.60405369e-02 -2.50104098e-01\n",
      "  1.00476577e+00 -3.72420101e-02  1.81440641e+00  7.38752663e-01\n",
      " -2.73437600e-01 -5.25076519e-01  3.40565732e-01 -5.91069263e+00\n",
      "  3.53478540e-01 -1.00949531e+00  1.05607023e+00  2.04863404e-01\n",
      " -9.00735554e-02 -6.07800019e-01 -1.29503935e+00  2.16238877e+00\n",
      "  3.37441556e-01  9.80679721e-01 -1.60141894e+00  1.54695758e+00\n",
      " -5.93016631e-03  1.68751973e+00 -1.78153913e-01  7.46024229e-01\n",
      "  1.98876363e+00  9.78314347e-01  8.46858588e-01  9.90709913e-01\n",
      "  1.92403222e-02  1.54042168e-02  2.72158438e-01  2.41181719e-01\n",
      "  1.64491118e+00  8.58310005e-01 -6.22390904e-01 -5.10725203e-01\n",
      " -1.63062722e+00  1.31056939e+00  1.17401825e+00 -1.00615252e+00\n",
      " -1.35416858e+00 -4.51326979e-02  6.84346970e-01 -9.33796857e-01\n",
      "  2.15156772e+00  5.98891368e-01 -1.02902678e+00  3.17730024e+00\n",
      " -1.12127136e-01  1.20378946e+00  2.66967156e-01  1.38172625e+00\n",
      " -2.04773616e-01  1.13729274e+00  1.60661968e+00  9.10988450e-01\n",
      " -4.62006064e-01 -2.54851109e+00  1.98674626e+00 -2.85225309e-01\n",
      "  5.53541931e-01  1.24432008e-01  2.07416310e+00  6.21414605e-01\n",
      "  1.98850412e-01 -1.55023411e-01  7.99555670e-01  1.35753745e+00\n",
      " -2.21891018e-01  5.72848017e-01 -1.40926701e-03 -1.18891656e+00\n",
      "  8.26089480e-01  9.15110942e-01 -1.46453470e-02 -6.77348268e-02\n",
      "  3.14632502e+00  9.78261803e-01 -6.76143887e-01 -5.99397995e-02\n",
      " -1.14028594e+00  1.71727702e-02  6.76641326e-01  4.50085217e-01\n",
      " -1.02859328e+00 -1.07463242e+00 -9.03699476e-01  5.64161844e-01\n",
      " -2.16275662e-01 -2.25221501e-01  1.97910771e+00 -1.32057779e-01\n",
      "  1.46221651e-01 -7.35638593e-01  9.87716671e-01  3.23149521e-01\n",
      "  6.73612797e-02  1.89420471e+00  6.42903368e-01  3.47340484e+00\n",
      "  5.72972205e-01  1.25494172e+00 -1.11686497e+00 -5.37910149e-01\n",
      "  1.50954770e-01 -7.41873670e-02  2.76152244e-01 -6.19492194e-01\n",
      "  2.66446494e-01 -9.66207409e-02  6.04107959e-01  3.11356861e+00\n",
      "  5.55769591e-02  4.28039512e-01  4.27250855e-01 -2.31524105e-01\n",
      " -2.44336599e-01  1.18309732e+00 -1.12001357e+00  1.23353842e-01\n",
      " -9.30675048e-01  7.24787014e-01  1.42344489e+00  7.23511367e-01\n",
      "  1.60299582e+00 -9.46198080e-01 -8.86026451e-01  1.26115733e+00\n",
      "  8.83879204e-01  9.37574559e-01  1.07452138e+00  2.23613199e-01\n",
      "  5.26043177e-01  4.64084716e-01 -7.98844418e-01  6.05216046e-01\n",
      "  1.70764742e-01  4.29879663e+00  1.92405689e+00  1.03091795e+00\n",
      "  3.07159901e-01  4.06885400e-01  7.66123751e-02 -1.37126187e+00\n",
      "  6.52738077e-01 -8.85600986e-01  6.07825541e-01  1.64906634e-02\n",
      "  9.99255005e-01  5.10313319e-01 -4.42436514e-02  9.36048787e-02\n",
      "  1.13111693e+00  1.38796678e-01 -1.77493806e+00  1.02243485e+00\n",
      "  3.15367652e-01  4.52991976e-01  2.53791751e-01 -5.16989804e-01\n",
      "  2.51887683e-01  1.45362650e+00 -8.44384834e-01  8.22413208e-02\n",
      "  1.64816791e+00 -1.27488147e+00  3.58266591e-01  4.12464334e-01\n",
      " -4.74977580e-01 -6.22969611e-01  8.39927707e-01  7.52470438e-02\n",
      " -2.95053636e+00 -8.53152572e-01  1.35862349e+00 -6.69855679e-01\n",
      "  1.80202109e+00  1.02529243e+00  1.83706678e+00 -2.09174997e-01\n",
      "  7.10250516e-01  1.38380678e+00  1.39123530e+00 -9.77362097e-01\n",
      " -3.12908297e-01  1.10277551e+00 -1.25556239e+00 -4.63277205e-02\n",
      "  1.48374163e+00  1.35436422e-01  1.85415161e+00  1.06315957e+00\n",
      " -6.43177566e-01 -2.63472281e-01 -6.27936165e-01 -1.71787795e+00\n",
      "  3.51650585e-01 -9.61205796e-01  2.00017259e+00  6.82135592e-01\n",
      " -2.93067078e-01 -1.47427628e-02  4.43393766e-01  5.83054221e-01\n",
      " -7.65404933e-02 -4.63536424e-01 -4.49316658e-01  3.19714903e+00\n",
      "  9.00108987e-02  9.55164045e-01  7.56975076e-01  1.53049123e-01\n",
      " -3.27400026e-01 -1.86935669e-01  4.83267652e-02  9.37120224e-01\n",
      "  5.12490363e-01 -5.98965089e-01 -8.58309602e-01 -1.01465578e+00\n",
      "  6.55598971e-01  2.54320881e+00 -1.99762656e+00  2.81956120e+00\n",
      " -6.77767756e-01  8.77198118e-01  1.47493991e+00 -2.70856952e-01\n",
      " -1.01369358e+00 -6.26408102e-02  1.12122690e+00  7.17450678e-01\n",
      "  6.79864982e-01 -1.19079182e+00 -8.44658314e-01  1.40880755e+00\n",
      " -8.38087424e-01 -3.45152709e-01  1.31625674e+00  1.26598803e+00\n",
      " -6.68282751e-01  8.38597196e-01  5.49382884e-01 -2.55495809e-01\n",
      " -6.98958780e-01  9.32995958e-01  1.16566894e+00 -9.84074825e-01\n",
      " -3.73755510e-01  3.70443889e-01 -1.25578989e+00  6.35595632e-01\n",
      "  7.52916830e-01 -2.29834348e-01  1.43794806e+00  3.05614793e-01\n",
      " -4.99699538e-01  1.41194624e+00  6.99582656e-01  3.10360323e+00\n",
      " -1.48176194e+00  6.46001105e-01 -6.47060252e-01  9.30145401e-01\n",
      "  1.25543555e+00  9.88145811e-01 -3.00449744e-01  6.06654798e-01\n",
      "  2.64787866e-01  1.08802219e-01  1.59540566e+00  5.28444868e-01\n",
      " -1.40219021e+00  1.96816199e+00  6.96654595e-01  3.82156387e-01\n",
      "  1.23289780e+00 -3.77065077e+00  5.49990660e-01  1.04242171e+00\n",
      "  1.34744767e-01  5.99077572e-01 -9.38641626e-01  1.87698096e+00\n",
      "  1.53410828e-01  5.15995812e+00 -7.92263734e+00  9.54723244e-01\n",
      " -2.37587113e+00 -5.01915513e+00  7.66381046e-01  2.16704748e-01\n",
      "  4.37796811e-01  6.24349851e-01  6.60558536e-01 -6.93520610e+00\n",
      "  1.07673601e-01 -1.01361875e+00  1.28215397e+00 -5.88114761e-01\n",
      "  8.24470633e-01  2.73685469e+00 -2.22286800e+00  1.06202136e+00\n",
      "  7.50009131e-01 -1.12517942e+00  3.53378394e+00  3.49241129e-01\n",
      "  8.28680740e-01  2.23165664e+00  1.31277507e+00 -2.11282180e-01\n",
      "  4.79677873e-01  6.85394001e-01 -8.23046927e-02]\n"
     ]
    },
    {
     "name": "stdout",
     "output_type": "stream",
     "text": [
      "\n",
      " Wine \n",
      "\n",
      "Mean:  1.0\n",
      "Standard Deviation:  0.0\n"
     ]
    }
   ],
   "source": [
    "Start_Wine()"
   ],
   "metadata": {
    "collapsed": false,
    "pycharm": {
     "name": "#%%\n"
    }
   }
  }
 ],
 "metadata": {
  "kernelspec": {
   "display_name": "Python 3",
   "language": "python",
   "name": "python3"
  },
  "language_info": {
   "codemirror_mode": {
    "name": "ipython",
    "version": 2
   },
   "file_extension": ".py",
   "mimetype": "text/x-python",
   "name": "python",
   "nbconvert_exporter": "python",
   "pygments_lexer": "ipython2",
   "version": "2.7.6"
  }
 },
 "nbformat": 4,
 "nbformat_minor": 0
}