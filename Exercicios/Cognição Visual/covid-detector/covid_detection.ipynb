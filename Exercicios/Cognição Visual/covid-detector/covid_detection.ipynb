{
 "cells": [
  {
   "cell_type": "code",
   "execution_count": 19,
   "source": [
    "import pandas as pd\r\n",
    "import numpy as np\r\n",
    "import os\r\n",
    "import shutil\r\n",
    "import glob\r\n",
    "\r\n",
    "from keras.callbacks import EarlyStopping\r\n",
    "from keras.callbacks import ModelCheckpoint\r\n",
    "from keras.preprocessing.image import ImageDataGenerator\r\n",
    "from keras.applications.resnet50 import preprocess_input, ResNet50\r\n",
    "from keras.models import Model\r\n",
    "from keras.layers import Dense, MaxPool2D, Conv2D\r\n",
    "import keras\r\n",
    "from keras.layers import Flatten , Dense, Dropout , MaxPool2D\r\n",
    "from keras.models import load_model\r\n",
    "import matplotlib.pyplot as plt "
   ],
   "outputs": [
    {
     "output_type": "error",
     "ename": "ModuleNotFoundError",
     "evalue": "No module named 'tensorflow'",
     "traceback": [
      "\u001b[1;31m---------------------------------------------------------------------------\u001b[0m",
      "\u001b[1;31mModuleNotFoundError\u001b[0m                       Traceback (most recent call last)",
      "\u001b[1;32m~\\AppData\\Local\\Temp/ipykernel_1612/1744516528.py\u001b[0m in \u001b[0;36m<module>\u001b[1;34m\u001b[0m\n\u001b[0;32m      5\u001b[0m \u001b[1;32mimport\u001b[0m \u001b[0mglob\u001b[0m\u001b[1;33m\u001b[0m\u001b[1;33m\u001b[0m\u001b[0m\n\u001b[0;32m      6\u001b[0m \u001b[1;33m\u001b[0m\u001b[0m\n\u001b[1;32m----> 7\u001b[1;33m \u001b[1;32mfrom\u001b[0m \u001b[0mkeras\u001b[0m\u001b[1;33m.\u001b[0m\u001b[0mpreprocessing\u001b[0m\u001b[1;33m.\u001b[0m\u001b[0mimage\u001b[0m \u001b[1;32mimport\u001b[0m \u001b[0mImageDataGenerator\u001b[0m\u001b[1;33m\u001b[0m\u001b[1;33m\u001b[0m\u001b[0m\n\u001b[0m\u001b[0;32m      8\u001b[0m \u001b[1;32mfrom\u001b[0m \u001b[0mkeras\u001b[0m\u001b[1;33m.\u001b[0m\u001b[0mapplications\u001b[0m\u001b[1;33m.\u001b[0m\u001b[0mresnet50\u001b[0m \u001b[1;32mimport\u001b[0m \u001b[0mpreprocess_input\u001b[0m\u001b[1;33m,\u001b[0m \u001b[0mResNet50\u001b[0m\u001b[1;33m\u001b[0m\u001b[1;33m\u001b[0m\u001b[0m\n\u001b[0;32m      9\u001b[0m \u001b[1;32mfrom\u001b[0m \u001b[0mkeras\u001b[0m\u001b[1;33m.\u001b[0m\u001b[0mmodels\u001b[0m \u001b[1;32mimport\u001b[0m \u001b[0mModel\u001b[0m\u001b[1;33m\u001b[0m\u001b[1;33m\u001b[0m\u001b[0m\n",
      "\u001b[1;32m~\\AppData\\Local\\Programs\\Python\\Python39\\lib\\site-packages\\keras\\__init__.py\u001b[0m in \u001b[0;36m<module>\u001b[1;34m\u001b[0m\n\u001b[0;32m     19\u001b[0m \"\"\"\n\u001b[0;32m     20\u001b[0m \u001b[1;31m# pylint: disable=unused-import\u001b[0m\u001b[1;33m\u001b[0m\u001b[1;33m\u001b[0m\u001b[1;33m\u001b[0m\u001b[0m\n\u001b[1;32m---> 21\u001b[1;33m \u001b[1;32mfrom\u001b[0m \u001b[0mtensorflow\u001b[0m\u001b[1;33m.\u001b[0m\u001b[0mpython\u001b[0m \u001b[1;32mimport\u001b[0m \u001b[0mtf2\u001b[0m\u001b[1;33m\u001b[0m\u001b[1;33m\u001b[0m\u001b[0m\n\u001b[0m\u001b[0;32m     22\u001b[0m \u001b[1;32mfrom\u001b[0m \u001b[0mkeras\u001b[0m \u001b[1;32mimport\u001b[0m \u001b[0mdistribute\u001b[0m\u001b[1;33m\u001b[0m\u001b[1;33m\u001b[0m\u001b[0m\n\u001b[0;32m     23\u001b[0m \u001b[1;33m\u001b[0m\u001b[0m\n",
      "\u001b[1;31mModuleNotFoundError\u001b[0m: No module named 'tensorflow'"
     ]
    }
   ],
   "metadata": {}
  },
  {
   "cell_type": "code",
   "execution_count": null,
   "source": [
    "NEW_DIR = \"/database/\"\r\n",
    "ROOT_DIR = \"/images/\"\r\n",
    "\r\n",
    "TRAIN_PATH  = \"/content/all_images/train_test_split/train\"\r\n",
    "VALID_PATH  = \"/content/all_images/train_test_split/validation\"\r\n",
    "TEST_PATH   = \"/content/all_images/train_test_split/test\"\r\n",
    "\r\n",
    "objArrayDiseases = [\"Normal\", \"COVID\"]"
   ],
   "outputs": [],
   "metadata": {}
  },
  {
   "cell_type": "code",
   "execution_count": null,
   "source": [
    "objArrayCovid = pd.read_excel(\"./metadatas/covid.metadata.xlsx\")\r\n",
    "objArrayNormal = pd.read_excel(\"./COVID-19_Radiography_Dataset/normal.metadata.xlsx\")"
   ],
   "outputs": [
    {
     "output_type": "execute_result",
     "data": {
      "text/html": [
       "<div>\n",
       "<style scoped>\n",
       "    .dataframe tbody tr th:only-of-type {\n",
       "        vertical-align: middle;\n",
       "    }\n",
       "\n",
       "    .dataframe tbody tr th {\n",
       "        vertical-align: top;\n",
       "    }\n",
       "\n",
       "    .dataframe thead th {\n",
       "        text-align: right;\n",
       "    }\n",
       "</style>\n",
       "<table border=\"1\" class=\"dataframe\">\n",
       "  <thead>\n",
       "    <tr style=\"text-align: right;\">\n",
       "      <th></th>\n",
       "      <th>FILE NAME</th>\n",
       "      <th>FORMAT</th>\n",
       "      <th>SIZE</th>\n",
       "      <th>URL</th>\n",
       "    </tr>\n",
       "  </thead>\n",
       "  <tbody>\n",
       "    <tr>\n",
       "      <th>0</th>\n",
       "      <td>COVID-1</td>\n",
       "      <td>PNG</td>\n",
       "      <td>256*256</td>\n",
       "      <td>https://sirm.org/category/senza-categoria/covi...</td>\n",
       "    </tr>\n",
       "    <tr>\n",
       "      <th>1</th>\n",
       "      <td>COVID-2</td>\n",
       "      <td>PNG</td>\n",
       "      <td>256*256</td>\n",
       "      <td>https://sirm.org/category/senza-categoria/covi...</td>\n",
       "    </tr>\n",
       "  </tbody>\n",
       "</table>\n",
       "</div>"
      ],
      "text/plain": [
       "  FILE NAME FORMAT     SIZE                                                URL\n",
       "0   COVID-1    PNG  256*256  https://sirm.org/category/senza-categoria/covi...\n",
       "1   COVID-2    PNG  256*256  https://sirm.org/category/senza-categoria/covi..."
      ]
     },
     "metadata": {},
     "execution_count": 9
    }
   ],
   "metadata": {}
  },
  {
   "cell_type": "code",
   "execution_count": null,
   "source": [
    "if not os.path.exists(NEW_DIR):\r\n",
    "  os.mkdir(NEW_DIR)\r\n",
    "\r\n",
    "  for i in objArrayDiseases:\r\n",
    "    org_dir = os.path.join(ROOT_DIR, i+\"/\")\r\n",
    "    \r\n",
    "    for imgfile in glob.iglob(os.path.join(org_dir, \"*.png\")):\r\n",
    "      shutil.copy(imgfile, NEW_DIR)\r\n",
    "      \r\n",
    "else:\r\n",
    "  print(\"Already Exist\")"
   ],
   "outputs": [
    {
     "output_type": "stream",
     "name": "stdout",
     "text": [
      "Already Exist\n"
     ]
    }
   ],
   "metadata": {}
  },
  {
   "cell_type": "code",
   "execution_count": null,
   "source": [
    "if not os.path.exists(NEW_DIR+\"train_test_split/\"):\r\n",
    "\r\n",
    "  os.makedirs(NEW_DIR+\"train_test_split/\")\r\n",
    "\r\n",
    "  os.makedirs(NEW_DIR+\"train_test_split/train/Normal\")\r\n",
    "  os.makedirs(NEW_DIR+\"train_test_split/train/Covid\")\r\n",
    "\r\n",
    "  os.makedirs(NEW_DIR+\"train_test_split/test/Normal\")\r\n",
    "  os.makedirs(NEW_DIR+\"train_test_split/test/Covid\")\r\n",
    "\r\n",
    "  os.makedirs(NEW_DIR+\"train_test_split/validation/Normal\")\r\n",
    "  os.makedirs(NEW_DIR+\"train_test_split/validation/Covid\")\r\n",
    "\r\n",
    "\r\n",
    "  # Train Data\r\n",
    "  for i in np.random.choice(replace= False , size= 3000 , a = glob.glob(NEW_DIR+objArrayDiseases[0]+\"*\") ):\r\n",
    "    shutil.copy(i , NEW_DIR+\"train_test_split/train/Covid\" )\r\n",
    "    os.remove(i)\r\n",
    "\r\n",
    "  for i in np.random.choice(replace= False , size= 3900 , a = glob.glob(NEW_DIR+objArrayDiseases[2]+\"*\") ):\r\n",
    "    shutil.copy(i , NEW_DIR+\"train_test_split/train/Normal\" )\r\n",
    "    os.remove(i)\r\n",
    "\r\n",
    "  # Validation Data\r\n",
    "  for i in np.random.choice(replace= False , size= 308 , a = glob.glob(NEW_DIR+objArrayDiseases[0]+\"*\") ):\r\n",
    "    shutil.copy(i , NEW_DIR+\"train_test_split/validation/Covid\" )\r\n",
    "    os.remove(i)\r\n",
    "\r\n",
    "  for i in np.random.choice(replace= False , size= 500 , a = glob.glob(NEW_DIR+objArrayDiseases[2]+\"*\") ):\r\n",
    "    shutil.copy(i , NEW_DIR+\"train_test_split/validation/Normal\" )\r\n",
    "    os.remove(i)\r\n",
    "\r\n",
    "  # Test Data\r\n",
    "  for i in np.random.choice(replace= False , size= 300 , a = glob.glob(NEW_DIR+objArrayDiseases[0]+\"*\") ):\r\n",
    "    shutil.copy(i , NEW_DIR+\"train_test_split/test/Covid\" )\r\n",
    "    os.remove(i)\r\n",
    "\r\n",
    "  for i in np.random.choice(replace= False , size= 300 , a = glob.glob(NEW_DIR+objArrayDiseases[2]+\"*\") ):\r\n",
    "    shutil.copy(i , NEW_DIR+\"train_test_split/test/Normal\" )\r\n",
    "    os.remove(i)"
   ],
   "outputs": [],
   "metadata": {}
  },
  {
   "cell_type": "code",
   "execution_count": null,
   "source": [
    "objTrainGenerator = ImageDataGenerator(preprocessing_function= preprocess_input, \r\n",
    "                                    zoom_range= 0.2, \r\n",
    "                                    horizontal_flip= True, \r\n",
    "                                    shear_range= 0.2,\r\n",
    "                                    \r\n",
    "                                    )\r\n",
    "\r\n",
    "objTrain = objTrainGenerator.flow_from_directory(directory= TRAIN_PATH, \r\n",
    "                                           target_size=(224,224))"
   ],
   "outputs": [],
   "metadata": {}
  },
  {
   "cell_type": "code",
   "execution_count": null,
   "source": [
    "objValidGenerator = ImageDataGenerator(preprocessing_function= preprocess_input  )\r\n",
    "\r\n",
    "valid = objValidGenerator.flow_from_directory(directory= VALID_PATH, \r\n",
    "                                                target_size=(224,224))"
   ],
   "outputs": [],
   "metadata": {}
  },
  {
   "cell_type": "code",
   "execution_count": 17,
   "source": [
    "objTestGenerator = ImageDataGenerator(preprocessing_function= preprocess_input )\r\n",
    "\r\n",
    "test = objTestGenerator.flow_from_directory(directory= TEST_PATH , \r\n",
    "                                          target_size=(224,224), \r\n",
    "                                          shuffle= False)"
   ],
   "outputs": [
    {
     "output_type": "error",
     "ename": "NameError",
     "evalue": "name 'ImageDataGenerator' is not defined",
     "traceback": [
      "\u001b[1;31m---------------------------------------------------------------------------\u001b[0m",
      "\u001b[1;31mNameError\u001b[0m                                 Traceback (most recent call last)",
      "\u001b[1;32m~\\AppData\\Local\\Temp/ipykernel_1612/1083602725.py\u001b[0m in \u001b[0;36m<module>\u001b[1;34m\u001b[0m\n\u001b[1;32m----> 1\u001b[1;33m \u001b[0mobjTestGenerator\u001b[0m \u001b[1;33m=\u001b[0m \u001b[0mImageDataGenerator\u001b[0m\u001b[1;33m(\u001b[0m\u001b[0mpreprocessing_function\u001b[0m\u001b[1;33m=\u001b[0m \u001b[0mpreprocess_input\u001b[0m \u001b[1;33m)\u001b[0m\u001b[1;33m\u001b[0m\u001b[1;33m\u001b[0m\u001b[0m\n\u001b[0m\u001b[0;32m      2\u001b[0m \u001b[1;33m\u001b[0m\u001b[0m\n\u001b[0;32m      3\u001b[0m test = objTestGenerator.flow_from_directory(directory= TEST_PATH , \n\u001b[0;32m      4\u001b[0m                                           \u001b[0mtarget_size\u001b[0m\u001b[1;33m=\u001b[0m\u001b[1;33m(\u001b[0m\u001b[1;36m224\u001b[0m\u001b[1;33m,\u001b[0m\u001b[1;36m224\u001b[0m\u001b[1;33m)\u001b[0m\u001b[1;33m,\u001b[0m\u001b[1;33m\u001b[0m\u001b[1;33m\u001b[0m\u001b[0m\n\u001b[0;32m      5\u001b[0m                                           shuffle= False)\n",
      "\u001b[1;31mNameError\u001b[0m: name 'ImageDataGenerator' is not defined"
     ]
    }
   ],
   "metadata": {}
  },
  {
   "cell_type": "code",
   "execution_count": null,
   "source": [
    "classifier = ResNet50( input_shape=(224,224,3), include_top= False)\r\n",
    "\r\n",
    "for layer in classifier.layers:       \r\n",
    "  layer.trainable = False"
   ],
   "outputs": [],
   "metadata": {}
  },
  {
   "cell_type": "code",
   "execution_count": null,
   "source": [
    "objLayers = Flatten()(classifier.output)\r\n",
    "objLayers = Dense(units=2 , activation='sigmoid', name = 'predictions' )(classifier)\r\n",
    "\r\n",
    "objModel = Model(classifier.input, objLayers)\r\n",
    "objModel.compile( optimizer= 'adam' , loss = 'categorical_crossentropy', metrics=['accuracy'])\r\n",
    "objModel.summary()"
   ],
   "outputs": [],
   "metadata": {}
  },
  {
   "cell_type": "code",
   "execution_count": null,
   "source": [
    "earlyStopping = EarlyStopping(monitor= \"val_accuracy\" , min_delta= 0.01, patience= 3, verbose=1)\r\n",
    "modelCheckpoint = ModelCheckpoint(filepath=\"bestmodel.h5\", monitor=\"val_accuracy\", verbose=1, save_best_only= True)"
   ],
   "outputs": [],
   "metadata": {}
  },
  {
   "cell_type": "code",
   "execution_count": null,
   "source": [
    "objFit = objModel.fit_generator(objTrain, steps_per_epoch= 10, epochs= 30, validation_data= valid , validation_steps= 16, callbacks=[earlyStopping, modelCheckpoint])"
   ],
   "outputs": [],
   "metadata": {}
  },
  {
   "cell_type": "code",
   "execution_count": null,
   "source": [
    "objModel = load_model(\"bestmodel.h5\")\r\n",
    "\r\n",
    "nr_Acurracy = objModel.evaluate_generator(generator= test)[1] \r\n",
    "\r\n",
    "print(f\"A acurácia do modelo selecionado foi de = {nr_Acurracy}%\")"
   ],
   "outputs": [],
   "metadata": {}
  },
  {
   "cell_type": "code",
   "execution_count": null,
   "source": [
    "objHistory = objFit.history\r\n",
    "\r\n",
    "plt.plot(objHistory['accuracy'])\r\n",
    "plt.plot(objHistory['val_accuracy'] , c = \"red\")\r\n",
    "plt.title(\"acc vs v-acc\")\r\n",
    "plt.show()"
   ],
   "outputs": [],
   "metadata": {}
  },
  {
   "cell_type": "code",
   "execution_count": null,
   "source": [
    "objHistory = objFit.history\r\n",
    "\r\n",
    "plt.plot(objHistory['loss'])\r\n",
    "plt.plot(objHistory['val_loss'] , c = \"red\")\r\n",
    "plt.title(\"loss vs v-loss\")\r\n",
    "plt.show()"
   ],
   "outputs": [],
   "metadata": {}
  }
 ],
 "metadata": {
  "orig_nbformat": 4,
  "language_info": {
   "name": "python",
   "version": "3.9.6",
   "mimetype": "text/x-python",
   "codemirror_mode": {
    "name": "ipython",
    "version": 3
   },
   "pygments_lexer": "ipython3",
   "nbconvert_exporter": "python",
   "file_extension": ".py"
  },
  "kernelspec": {
   "name": "python3",
   "display_name": "Python 3.9.6 64-bit"
  },
  "interpreter": {
   "hash": "250b308242d36e83629721c7244075b381b1b678cf3b391cdc434a91845cedac"
  }
 },
 "nbformat": 4,
 "nbformat_minor": 2
}