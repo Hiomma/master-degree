{
 "cells": [
  {
   "cell_type": "code",
<<<<<<< HEAD
   "execution_count": 7,
   "metadata": {},
   "outputs": [],
   "source": [
    "import pandas as pd\n",
    "import numpy as np\n",
    "import os\n",
    "import shutil\n",
    "import glob\n",
    "\n",
    "from tensorflow.python.keras.callbacks import EarlyStopping\n",
    "from tensorflow.python.keras.callbacks import ModelCheckpoint\n",
    "from tensorflow.python.keras.preprocessing.image import ImageDataGenerator\n",
    "from tensorflow.python.keras.applications.resnet import preprocess_input, ResNet50\n",
    "from tensorflow.keras.preprocessing import image\n",
    "from tensorflow.python.keras.models import Model\n",
    "from tensorflow.python.keras.layers import Dense\n",
    "from tensorflow.python.keras.layers import Flatten , Dense\n",
    "from tensorflow.python.keras.models import load_model\n",
    "import matplotlib.pyplot as plt \n",
    "from sklearn.metrics import classification_report"
   ]
  },
  {
   "cell_type": "code",
   "execution_count": 8,
   "metadata": {},
   "outputs": [],
   "source": [
    "NEW_DIR = \"./database/\"\n",
    "ROOT_DIR = \"./images/\"\n",
    "\n",
    "TRAIN_PATH  = \"./database/train_test_split/train\"\n",
    "VALID_PATH  = \"./database/train_test_split/validation\"\n",
    "TEST_PATH   = \"./database/train_test_split/test\"\n",
    "\n",
    "objArrayDiseases = [\"COVID\", \"Normal\", \"Pneumonia\"]"
   ]
  },
  {
   "cell_type": "code",
   "execution_count": 9,
   "metadata": {},
   "outputs": [],
   "source": [
    "objArrayCovid = pd.read_excel(\"./metadatas/covid.metadata.xlsx\")\n",
    "objArrayNormal = pd.read_excel(\"./metadatas/normal.metadata.xlsx\")\n",
    "objArrayPneumonia = pd.read_excel(\"./metadatas/pneumonia.metadata.xlsx\")"
   ]
  },
  {
   "cell_type": "code",
   "execution_count": 10,
   "metadata": {},
   "outputs": [],
   "source": [
    "for imgfile in glob.iglob(os.path.join(os.path.join(ROOT_DIR, \"Pneumonia/\"), \"*.png\")):\n",
    "    os.rename(imgfile, imgfile.replace('Viral ', ''))"
   ]
  },
  {
   "cell_type": "code",
   "execution_count": 11,
   "metadata": {},
   "outputs": [],
   "source": [
    "if not os.path.exists(NEW_DIR):\n",
    "  os.mkdir(NEW_DIR)\n",
    "\n",
    "  for i in objArrayDiseases:\n",
    "    org_dir = os.path.join(ROOT_DIR, i+\"/\")\n",
    "    \n",
    "    for imgfile in glob.iglob(os.path.join(org_dir, \"*.png\")):\n",
    "      shutil.copy(imgfile, NEW_DIR)\n",
    "      \n",
    "else:\n",
    "  print(\"Already Exist\")"
   ]
  },
  {
   "cell_type": "code",
   "execution_count": 12,
   "metadata": {},
   "outputs": [],
   "source": [
    "if not os.path.exists(NEW_DIR+\"train_test_split/\"):\n",
    "\n",
    "  os.makedirs(NEW_DIR+\"train_test_split/\")\n",
    "\n",
    "  os.makedirs(NEW_DIR+\"train_test_split/train/Normal\")\n",
    "  os.makedirs(NEW_DIR+\"train_test_split/train/COVID\")\n",
    "  os.makedirs(NEW_DIR+\"train_test_split/train/Pneumonia\")\n",
    "\n",
    "  os.makedirs(NEW_DIR+\"train_test_split/test/Normal\")\n",
    "  os.makedirs(NEW_DIR+\"train_test_split/test/COVID\")\n",
    "  os.makedirs(NEW_DIR+\"train_test_split/test/Pneumonia\")\n",
    "\n",
    "  os.makedirs(NEW_DIR+\"train_test_split/validation/Normal\")\n",
    "  os.makedirs(NEW_DIR+\"train_test_split/validation/COVID\")\n",
    "  os.makedirs(NEW_DIR+\"train_test_split/validation/Pneumonia\")\n",
    "\n",
    "\n",
    "  # Train Data\n",
    "  for i in np.random.choice(replace= False , size= 3000 , a = glob.glob(NEW_DIR+objArrayDiseases[0]+\"*\") ):\n",
    "    shutil.copy(i , NEW_DIR+\"train_test_split/train/COVID\" )\n",
    "    os.remove(i)\n",
    "\n",
    "  for i in np.random.choice(replace= False , size= 3900 , a = glob.glob(NEW_DIR+objArrayDiseases[1]+\"*\") ):\n",
    "    shutil.copy(i , NEW_DIR+\"train_test_split/train/Normal\" )\n",
    "    os.remove(i)\n",
    "\n",
    "  for i in np.random.choice(replace= False , size= 900 , a = glob.glob(NEW_DIR+objArrayDiseases[2]+\"*\") ):\n",
    "    shutil.copy(i , NEW_DIR+\"train_test_split/train/Pneumonia\" )\n",
    "    os.remove(i)\n",
    "\n",
    "\n",
    "  # Validation Data\n",
    "  for i in np.random.choice(replace= False , size= 308 , a = glob.glob(NEW_DIR+objArrayDiseases[0]+\"*\") ):\n",
    "    shutil.copy(i , NEW_DIR+\"train_test_split/validation/COVID\" )\n",
    "    os.remove(i)\n",
    "\n",
    "  for i in np.random.choice(replace= False , size= 500 , a = glob.glob(NEW_DIR+objArrayDiseases[1]+\"*\") ):\n",
    "    shutil.copy(i , NEW_DIR+\"train_test_split/validation/Normal\" )\n",
    "    os.remove(i)\n",
    "\n",
    "  for i in np.random.choice(replace= False , size= 200 , a = glob.glob(NEW_DIR+objArrayDiseases[2]+\"*\") ):\n",
    "    shutil.copy(i , NEW_DIR+\"train_test_split/validation/Pneumonia\" )\n",
    "    os.remove(i)\n",
    "\n",
    "  # Test Data\n",
    "  for i in np.random.choice(replace= False , size= 300 , a = glob.glob(NEW_DIR+objArrayDiseases[0]+\"*\") ):\n",
    "    shutil.copy(i , NEW_DIR+\"train_test_split/test/COVID\" )\n",
    "    os.remove(i)\n",
    "\n",
    "  for i in np.random.choice(replace= False , size= 300 , a = glob.glob(NEW_DIR+objArrayDiseases[1]+\"*\") ):\n",
    "    shutil.copy(i , NEW_DIR+\"train_test_split/test/Normal\" )\n",
    "    os.remove(i)\n",
    "\n",
    "  for i in np.random.choice(replace= False , size= 200 , a = glob.glob(NEW_DIR+objArrayDiseases[2]+\"*\") ):\n",
    "    shutil.copy(i , NEW_DIR+\"train_test_split/test/Pneumonia\" )\n",
    "    os.remove(i)    "
   ]
  },
  {
   "cell_type": "code",
   "execution_count": 13,
   "metadata": {},
   "outputs": [
    {
     "name": "stdout",
     "output_type": "stream",
=======
   "execution_count": 16,
   "source": [
    "import pandas as pd\r\n",
    "import numpy as np\r\n",
    "import os\r\n",
    "import shutil\r\n",
    "import glob\r\n",
    "\r\n",
    "from tensorflow.python.keras.callbacks import EarlyStopping\r\n",
    "from tensorflow.python.keras.callbacks import ModelCheckpoint\r\n",
    "from tensorflow.python.keras.preprocessing.image import ImageDataGenerator\r\n",
    "from tensorflow.python.keras.applications.resnet import preprocess_input, ResNet50\r\n",
    "from tensorflow.keras.preprocessing import image\r\n",
    "from tensorflow.python.keras.models import Model\r\n",
    "from tensorflow.python.keras.layers import Dense\r\n",
    "from tensorflow.python.keras.layers import Flatten , Dense\r\n",
    "from tensorflow.python.keras.models import load_model\r\n",
    "import matplotlib.pyplot as plt "
   ],
   "outputs": [],
   "metadata": {}
  },
  {
   "cell_type": "code",
   "execution_count": 17,
   "source": [
    "NEW_DIR = \"./database/\"\r\n",
    "ROOT_DIR = \"./images/\"\r\n",
    "\r\n",
    "TRAIN_PATH  = \"./database/train_test_split/train\"\r\n",
    "VALID_PATH  = \"./database/train_test_split/validation\"\r\n",
    "TEST_PATH   = \"./database/train_test_split/test\"\r\n",
    "\r\n",
    "objArrayDiseases = [\"COVID\", \"Normal\", \"Pneumonia\"]"
   ],
   "outputs": [],
   "metadata": {}
  },
  {
   "cell_type": "code",
   "execution_count": 18,
   "source": [
    "objArrayCovid = pd.read_excel(\"./metadatas/covid.metadata.xlsx\")\r\n",
    "objArrayNormal = pd.read_excel(\"./metadatas/normal.metadata.xlsx\")\r\n",
    "objArrayPneumonia = pd.read_excel(\"./metadatas/pneumonia.metadata.xlsx\")"
   ],
   "outputs": [],
   "metadata": {}
  },
  {
   "cell_type": "code",
   "execution_count": 19,
   "source": [
    "for imgfile in glob.iglob(os.path.join(os.path.join(ROOT_DIR, \"Pneumonia/\"), \"*.png\")):\r\n",
    "    os.rename(imgfile, imgfile.replace('Viral ', ''))"
   ],
   "outputs": [],
   "metadata": {}
  },
  {
   "cell_type": "code",
   "execution_count": 20,
   "source": [
    "if not os.path.exists(NEW_DIR):\r\n",
    "  os.mkdir(NEW_DIR)\r\n",
    "\r\n",
    "  for i in objArrayDiseases:\r\n",
    "    org_dir = os.path.join(ROOT_DIR, i+\"/\")\r\n",
    "    \r\n",
    "    for imgfile in glob.iglob(os.path.join(org_dir, \"*.png\")):\r\n",
    "      shutil.copy(imgfile, NEW_DIR)\r\n",
    "      \r\n",
    "else:\r\n",
    "  print(\"Already Exist\")"
   ],
   "outputs": [
    {
     "output_type": "stream",
     "name": "stdout",
     "text": [
      "Already Exist\n"
     ]
    }
   ],
   "metadata": {}
  },
  {
   "cell_type": "code",
   "execution_count": 21,
   "source": [
    "if not os.path.exists(NEW_DIR+\"train_test_split/\"):\r\n",
    "\r\n",
    "  os.makedirs(NEW_DIR+\"train_test_split/\")\r\n",
    "\r\n",
    "  os.makedirs(NEW_DIR+\"train_test_split/train/Normal\")\r\n",
    "  os.makedirs(NEW_DIR+\"train_test_split/train/COVID\")\r\n",
    "  os.makedirs(NEW_DIR+\"train_test_split/train/Pneumonia\")\r\n",
    "\r\n",
    "  os.makedirs(NEW_DIR+\"train_test_split/test/Normal\")\r\n",
    "  os.makedirs(NEW_DIR+\"train_test_split/test/COVID\")\r\n",
    "  os.makedirs(NEW_DIR+\"train_test_split/test/Pneumonia\")\r\n",
    "\r\n",
    "  os.makedirs(NEW_DIR+\"train_test_split/validation/Normal\")\r\n",
    "  os.makedirs(NEW_DIR+\"train_test_split/validation/COVID\")\r\n",
    "  os.makedirs(NEW_DIR+\"train_test_split/validation/Pneumonia\")\r\n",
    "\r\n",
    "\r\n",
    "  # Train Data\r\n",
    "  for i in np.random.choice(replace= False , size= 3000 , a = glob.glob(NEW_DIR+objArrayDiseases[0]+\"*\") ):\r\n",
    "    shutil.copy(i , NEW_DIR+\"train_test_split/train/COVID\" )\r\n",
    "    os.remove(i)\r\n",
    "\r\n",
    "  for i in np.random.choice(replace= False , size= 3900 , a = glob.glob(NEW_DIR+objArrayDiseases[1]+\"*\") ):\r\n",
    "    shutil.copy(i , NEW_DIR+\"train_test_split/train/Normal\" )\r\n",
    "    os.remove(i)\r\n",
    "\r\n",
    "  for i in np.random.choice(replace= False , size= 900 , a = glob.glob(NEW_DIR+objArrayDiseases[2]+\"*\") ):\r\n",
    "    shutil.copy(i , NEW_DIR+\"train_test_split/train/Pneumonia\" )\r\n",
    "    os.remove(i)\r\n",
    "\r\n",
    "\r\n",
    "  # Validation Data\r\n",
    "  for i in np.random.choice(replace= False , size= 308 , a = glob.glob(NEW_DIR+objArrayDiseases[0]+\"*\") ):\r\n",
    "    shutil.copy(i , NEW_DIR+\"train_test_split/validation/COVID\" )\r\n",
    "    os.remove(i)\r\n",
    "\r\n",
    "  for i in np.random.choice(replace= False , size= 500 , a = glob.glob(NEW_DIR+objArrayDiseases[1]+\"*\") ):\r\n",
    "    shutil.copy(i , NEW_DIR+\"train_test_split/validation/Normal\" )\r\n",
    "    os.remove(i)\r\n",
    "\r\n",
    "  for i in np.random.choice(replace= False , size= 200 , a = glob.glob(NEW_DIR+objArrayDiseases[2]+\"*\") ):\r\n",
    "    shutil.copy(i , NEW_DIR+\"train_test_split/validation/Pneumonia\" )\r\n",
    "    os.remove(i)\r\n",
    "\r\n",
    "  # Test Data\r\n",
    "  for i in np.random.choice(replace= False , size= 300 , a = glob.glob(NEW_DIR+objArrayDiseases[0]+\"*\") ):\r\n",
    "    shutil.copy(i , NEW_DIR+\"train_test_split/test/COVID\" )\r\n",
    "    os.remove(i)\r\n",
    "\r\n",
    "  for i in np.random.choice(replace= False , size= 300 , a = glob.glob(NEW_DIR+objArrayDiseases[1]+\"*\") ):\r\n",
    "    shutil.copy(i , NEW_DIR+\"train_test_split/test/Normal\" )\r\n",
    "    os.remove(i)\r\n",
    "\r\n",
    "  for i in np.random.choice(replace= False , size= 200 , a = glob.glob(NEW_DIR+objArrayDiseases[2]+\"*\") ):\r\n",
    "    shutil.copy(i , NEW_DIR+\"train_test_split/test/Pneumonia\" )\r\n",
    "    os.remove(i)    "
   ],
   "outputs": [],
   "metadata": {}
  },
  {
   "cell_type": "code",
   "execution_count": 22,
   "source": [
    "objTrainGenerator = ImageDataGenerator(preprocessing_function= preprocess_input, \r\n",
    "                                    zoom_range= 0.2, \r\n",
    "                                    horizontal_flip= True, \r\n",
    "                                    shear_range= 0.2,\r\n",
    "                                    \r\n",
    "                                    )\r\n",
    "\r\n",
    "objTrain = objTrainGenerator.flow_from_directory(directory= TRAIN_PATH, \r\n",
    "                                           target_size=(224,224))"
   ],
   "outputs": [
    {
     "output_type": "stream",
     "name": "stdout",
>>>>>>> a623abfbce2ac17a317cb8f228d96e23103d9a34
     "text": [
      "Found 7800 images belonging to 3 classes.\n"
     ]
    }
   ],
<<<<<<< HEAD
   "source": [
    "objTrainGenerator = ImageDataGenerator(preprocessing_function= preprocess_input, \n",
    "                                    zoom_range= 0.2, \n",
    "                                    horizontal_flip= True, \n",
    "                                    shear_range= 0.2,\n",
    "                                    \n",
    "                                    )\n",
    "\n",
    "objTrain = objTrainGenerator.flow_from_directory(directory= TRAIN_PATH, \n",
    "                                           target_size=(224,224))"
   ]
  },
  {
   "cell_type": "code",
   "execution_count": 14,
   "metadata": {},
   "outputs": [
    {
     "name": "stdout",
     "output_type": "stream",
=======
   "metadata": {}
  },
  {
   "cell_type": "code",
   "execution_count": 23,
   "source": [
    "objValidGenerator = ImageDataGenerator(preprocessing_function= preprocess_input  )\r\n",
    "\r\n",
    "objValid = objValidGenerator.flow_from_directory(directory= VALID_PATH, \r\n",
    "                                                target_size=(224,224))"
   ],
   "outputs": [
    {
     "output_type": "stream",
     "name": "stdout",
>>>>>>> a623abfbce2ac17a317cb8f228d96e23103d9a34
     "text": [
      "Found 1008 images belonging to 3 classes.\n"
     ]
    }
   ],
<<<<<<< HEAD
   "source": [
    "objValidGenerator = ImageDataGenerator(preprocessing_function= preprocess_input  )\n",
    "\n",
    "objValid = objValidGenerator.flow_from_directory(directory= VALID_PATH, \n",
    "                                                target_size=(224,224))"
   ]
  },
  {
   "cell_type": "code",
   "execution_count": 15,
   "metadata": {},
   "outputs": [
    {
     "name": "stdout",
     "output_type": "stream",
=======
   "metadata": {}
  },
  {
   "cell_type": "code",
   "execution_count": 24,
   "source": [
    "objTestGenerator = ImageDataGenerator(preprocessing_function= preprocess_input )\r\n",
    "\r\n",
    "objTest = objTestGenerator.flow_from_directory(directory= TEST_PATH , \r\n",
    "                                          target_size=(224,224), \r\n",
    "                                          shuffle= False)"
   ],
   "outputs": [
    {
     "output_type": "stream",
     "name": "stdout",
>>>>>>> a623abfbce2ac17a317cb8f228d96e23103d9a34
     "text": [
      "Found 800 images belonging to 3 classes.\n"
     ]
    }
   ],
<<<<<<< HEAD
   "source": [
    "objTestGenerator = ImageDataGenerator(preprocessing_function= preprocess_input )\n",
    "\n",
    "objTest = objTestGenerator.flow_from_directory(directory= TEST_PATH , \n",
    "                                          target_size=(224,224), \n",
    "                                          shuffle= False)"
   ]
  },
  {
   "cell_type": "code",
   "execution_count": 16,
   "metadata": {},
   "outputs": [
    {
     "name": "stdout",
     "output_type": "stream",
     "text": [
      "Downloading data from https://storage.googleapis.com/tensorflow/keras-applications/resnet/resnet50_weights_tf_dim_ordering_tf_kernels_notop.h5\n",
      "94773248/94765736 [==============================] - 9s 0us/step\n"
     ]
    }
   ],
   "source": [
    "classifier = ResNet50( input_shape=(224,224,3), include_top= False)\n",
    "\n",
    "for layer in classifier.layers:       \n",
    "  layer.trainable = False"
   ]
  },
  {
   "cell_type": "code",
   "execution_count": 17,
   "metadata": {},
   "outputs": [
    {
     "name": "stdout",
     "output_type": "stream",
     "text": [
      "KerasTensor(type_spec=TensorSpec(shape=(None, 7, 7, 2048), dtype=tf.float32, name=None), name='conv5_block3_out/Relu:0', description=\"created by layer 'conv5_block3_out'\")\n",
      "Model: \"model\"\n",
      "__________________________________________________________________________________________________\n",
      "Layer (type)                    Output Shape         Param #     Connected to                     \n",
      "==================================================================================================\n",
      "input_1 (InputLayer)            [(None, 224, 224, 3) 0                                            \n",
      "__________________________________________________________________________________________________\n",
      "conv1_pad (ZeroPadding2D)       (None, 230, 230, 3)  0           input_1[0][0]                    \n",
=======
   "metadata": {}
  },
  {
   "cell_type": "code",
   "execution_count": 25,
   "source": [
    "classifier = ResNet50( input_shape=(224,224,3), include_top= False)\r\n",
    "\r\n",
    "for layer in classifier.layers:       \r\n",
    "  layer.trainable = False"
   ],
   "outputs": [],
   "metadata": {}
  },
  {
   "cell_type": "code",
   "execution_count": 29,
   "source": [
    "print (classifier.output)\r\n",
    "\r\n",
    "objLayers = Flatten()(classifier.output)\r\n",
    "objLayers = Dense(units=3 , activation='sigmoid', name = 'predictions' )(objLayers)\r\n",
    "\r\n",
    "objModel = Model(classifier.input, objLayers)\r\n",
    "objModel.compile( optimizer= 'adam' , loss = 'categorical_crossentropy', metrics=['accuracy'])\r\n",
    "objModel.summary()"
   ],
   "outputs": [
    {
     "output_type": "stream",
     "name": "stdout",
     "text": [
      "KerasTensor(type_spec=TensorSpec(shape=(None, 7, 7, 2048), dtype=tf.float32, name=None), name='conv5_block3_out/Relu:0', description=\"created by layer 'conv5_block3_out'\")\n",
      "Model: \"model_2\"\n",
      "__________________________________________________________________________________________________\n",
      "Layer (type)                    Output Shape         Param #     Connected to                     \n",
      "==================================================================================================\n",
      "input_2 (InputLayer)            [(None, 224, 224, 3) 0                                            \n",
      "__________________________________________________________________________________________________\n",
      "conv1_pad (ZeroPadding2D)       (None, 230, 230, 3)  0           input_2[0][0]                    \n",
>>>>>>> a623abfbce2ac17a317cb8f228d96e23103d9a34
      "__________________________________________________________________________________________________\n",
      "conv1_conv (Conv2D)             (None, 112, 112, 64) 9472        conv1_pad[0][0]                  \n",
      "__________________________________________________________________________________________________\n",
      "conv1_bn (BatchNormalization)   (None, 112, 112, 64) 256         conv1_conv[0][0]                 \n",
      "__________________________________________________________________________________________________\n",
      "conv1_relu (Activation)         (None, 112, 112, 64) 0           conv1_bn[0][0]                   \n",
      "__________________________________________________________________________________________________\n",
      "pool1_pad (ZeroPadding2D)       (None, 114, 114, 64) 0           conv1_relu[0][0]                 \n",
      "__________________________________________________________________________________________________\n",
      "pool1_pool (MaxPooling2D)       (None, 56, 56, 64)   0           pool1_pad[0][0]                  \n",
      "__________________________________________________________________________________________________\n",
      "conv2_block1_1_conv (Conv2D)    (None, 56, 56, 64)   4160        pool1_pool[0][0]                 \n",
      "__________________________________________________________________________________________________\n",
      "conv2_block1_1_bn (BatchNormali (None, 56, 56, 64)   256         conv2_block1_1_conv[0][0]        \n",
      "__________________________________________________________________________________________________\n",
      "conv2_block1_1_relu (Activation (None, 56, 56, 64)   0           conv2_block1_1_bn[0][0]          \n",
      "__________________________________________________________________________________________________\n",
      "conv2_block1_2_conv (Conv2D)    (None, 56, 56, 64)   36928       conv2_block1_1_relu[0][0]        \n",
      "__________________________________________________________________________________________________\n",
      "conv2_block1_2_bn (BatchNormali (None, 56, 56, 64)   256         conv2_block1_2_conv[0][0]        \n",
      "__________________________________________________________________________________________________\n",
      "conv2_block1_2_relu (Activation (None, 56, 56, 64)   0           conv2_block1_2_bn[0][0]          \n",
      "__________________________________________________________________________________________________\n",
      "conv2_block1_0_conv (Conv2D)    (None, 56, 56, 256)  16640       pool1_pool[0][0]                 \n",
      "__________________________________________________________________________________________________\n",
      "conv2_block1_3_conv (Conv2D)    (None, 56, 56, 256)  16640       conv2_block1_2_relu[0][0]        \n",
      "__________________________________________________________________________________________________\n",
      "conv2_block1_0_bn (BatchNormali (None, 56, 56, 256)  1024        conv2_block1_0_conv[0][0]        \n",
      "__________________________________________________________________________________________________\n",
      "conv2_block1_3_bn (BatchNormali (None, 56, 56, 256)  1024        conv2_block1_3_conv[0][0]        \n",
      "__________________________________________________________________________________________________\n",
      "conv2_block1_add (Add)          (None, 56, 56, 256)  0           conv2_block1_0_bn[0][0]          \n",
      "                                                                 conv2_block1_3_bn[0][0]          \n",
      "__________________________________________________________________________________________________\n",
      "conv2_block1_out (Activation)   (None, 56, 56, 256)  0           conv2_block1_add[0][0]           \n",
      "__________________________________________________________________________________________________\n",
      "conv2_block2_1_conv (Conv2D)    (None, 56, 56, 64)   16448       conv2_block1_out[0][0]           \n",
      "__________________________________________________________________________________________________\n",
      "conv2_block2_1_bn (BatchNormali (None, 56, 56, 64)   256         conv2_block2_1_conv[0][0]        \n",
      "__________________________________________________________________________________________________\n",
      "conv2_block2_1_relu (Activation (None, 56, 56, 64)   0           conv2_block2_1_bn[0][0]          \n",
      "__________________________________________________________________________________________________\n",
      "conv2_block2_2_conv (Conv2D)    (None, 56, 56, 64)   36928       conv2_block2_1_relu[0][0]        \n",
      "__________________________________________________________________________________________________\n",
      "conv2_block2_2_bn (BatchNormali (None, 56, 56, 64)   256         conv2_block2_2_conv[0][0]        \n",
      "__________________________________________________________________________________________________\n",
      "conv2_block2_2_relu (Activation (None, 56, 56, 64)   0           conv2_block2_2_bn[0][0]          \n",
      "__________________________________________________________________________________________________\n",
      "conv2_block2_3_conv (Conv2D)    (None, 56, 56, 256)  16640       conv2_block2_2_relu[0][0]        \n",
      "__________________________________________________________________________________________________\n",
      "conv2_block2_3_bn (BatchNormali (None, 56, 56, 256)  1024        conv2_block2_3_conv[0][0]        \n",
      "__________________________________________________________________________________________________\n",
      "conv2_block2_add (Add)          (None, 56, 56, 256)  0           conv2_block1_out[0][0]           \n",
      "                                                                 conv2_block2_3_bn[0][0]          \n",
      "__________________________________________________________________________________________________\n",
      "conv2_block2_out (Activation)   (None, 56, 56, 256)  0           conv2_block2_add[0][0]           \n",
      "__________________________________________________________________________________________________\n",
      "conv2_block3_1_conv (Conv2D)    (None, 56, 56, 64)   16448       conv2_block2_out[0][0]           \n",
      "__________________________________________________________________________________________________\n",
      "conv2_block3_1_bn (BatchNormali (None, 56, 56, 64)   256         conv2_block3_1_conv[0][0]        \n",
      "__________________________________________________________________________________________________\n",
      "conv2_block3_1_relu (Activation (None, 56, 56, 64)   0           conv2_block3_1_bn[0][0]          \n",
      "__________________________________________________________________________________________________\n",
      "conv2_block3_2_conv (Conv2D)    (None, 56, 56, 64)   36928       conv2_block3_1_relu[0][0]        \n",
      "__________________________________________________________________________________________________\n",
      "conv2_block3_2_bn (BatchNormali (None, 56, 56, 64)   256         conv2_block3_2_conv[0][0]        \n",
      "__________________________________________________________________________________________________\n",
      "conv2_block3_2_relu (Activation (None, 56, 56, 64)   0           conv2_block3_2_bn[0][0]          \n",
      "__________________________________________________________________________________________________\n",
      "conv2_block3_3_conv (Conv2D)    (None, 56, 56, 256)  16640       conv2_block3_2_relu[0][0]        \n",
      "__________________________________________________________________________________________________\n",
      "conv2_block3_3_bn (BatchNormali (None, 56, 56, 256)  1024        conv2_block3_3_conv[0][0]        \n",
      "__________________________________________________________________________________________________\n",
      "conv2_block3_add (Add)          (None, 56, 56, 256)  0           conv2_block2_out[0][0]           \n",
      "                                                                 conv2_block3_3_bn[0][0]          \n",
      "__________________________________________________________________________________________________\n",
      "conv2_block3_out (Activation)   (None, 56, 56, 256)  0           conv2_block3_add[0][0]           \n",
      "__________________________________________________________________________________________________\n",
      "conv3_block1_1_conv (Conv2D)    (None, 28, 28, 128)  32896       conv2_block3_out[0][0]           \n",
      "__________________________________________________________________________________________________\n",
      "conv3_block1_1_bn (BatchNormali (None, 28, 28, 128)  512         conv3_block1_1_conv[0][0]        \n",
      "__________________________________________________________________________________________________\n",
      "conv3_block1_1_relu (Activation (None, 28, 28, 128)  0           conv3_block1_1_bn[0][0]          \n",
      "__________________________________________________________________________________________________\n",
      "conv3_block1_2_conv (Conv2D)    (None, 28, 28, 128)  147584      conv3_block1_1_relu[0][0]        \n",
      "__________________________________________________________________________________________________\n",
      "conv3_block1_2_bn (BatchNormali (None, 28, 28, 128)  512         conv3_block1_2_conv[0][0]        \n",
      "__________________________________________________________________________________________________\n",
      "conv3_block1_2_relu (Activation (None, 28, 28, 128)  0           conv3_block1_2_bn[0][0]          \n",
      "__________________________________________________________________________________________________\n",
      "conv3_block1_0_conv (Conv2D)    (None, 28, 28, 512)  131584      conv2_block3_out[0][0]           \n",
      "__________________________________________________________________________________________________\n",
      "conv3_block1_3_conv (Conv2D)    (None, 28, 28, 512)  66048       conv3_block1_2_relu[0][0]        \n",
      "__________________________________________________________________________________________________\n",
      "conv3_block1_0_bn (BatchNormali (None, 28, 28, 512)  2048        conv3_block1_0_conv[0][0]        \n",
      "__________________________________________________________________________________________________\n",
      "conv3_block1_3_bn (BatchNormali (None, 28, 28, 512)  2048        conv3_block1_3_conv[0][0]        \n",
      "__________________________________________________________________________________________________\n",
      "conv3_block1_add (Add)          (None, 28, 28, 512)  0           conv3_block1_0_bn[0][0]          \n",
      "                                                                 conv3_block1_3_bn[0][0]          \n",
      "__________________________________________________________________________________________________\n",
      "conv3_block1_out (Activation)   (None, 28, 28, 512)  0           conv3_block1_add[0][0]           \n",
      "__________________________________________________________________________________________________\n",
      "conv3_block2_1_conv (Conv2D)    (None, 28, 28, 128)  65664       conv3_block1_out[0][0]           \n",
      "__________________________________________________________________________________________________\n",
      "conv3_block2_1_bn (BatchNormali (None, 28, 28, 128)  512         conv3_block2_1_conv[0][0]        \n",
      "__________________________________________________________________________________________________\n",
      "conv3_block2_1_relu (Activation (None, 28, 28, 128)  0           conv3_block2_1_bn[0][0]          \n",
      "__________________________________________________________________________________________________\n",
      "conv3_block2_2_conv (Conv2D)    (None, 28, 28, 128)  147584      conv3_block2_1_relu[0][0]        \n",
      "__________________________________________________________________________________________________\n",
      "conv3_block2_2_bn (BatchNormali (None, 28, 28, 128)  512         conv3_block2_2_conv[0][0]        \n",
      "__________________________________________________________________________________________________\n",
      "conv3_block2_2_relu (Activation (None, 28, 28, 128)  0           conv3_block2_2_bn[0][0]          \n",
      "__________________________________________________________________________________________________\n",
      "conv3_block2_3_conv (Conv2D)    (None, 28, 28, 512)  66048       conv3_block2_2_relu[0][0]        \n",
      "__________________________________________________________________________________________________\n",
      "conv3_block2_3_bn (BatchNormali (None, 28, 28, 512)  2048        conv3_block2_3_conv[0][0]        \n",
      "__________________________________________________________________________________________________\n",
      "conv3_block2_add (Add)          (None, 28, 28, 512)  0           conv3_block1_out[0][0]           \n",
      "                                                                 conv3_block2_3_bn[0][0]          \n",
      "__________________________________________________________________________________________________\n",
      "conv3_block2_out (Activation)   (None, 28, 28, 512)  0           conv3_block2_add[0][0]           \n",
      "__________________________________________________________________________________________________\n",
      "conv3_block3_1_conv (Conv2D)    (None, 28, 28, 128)  65664       conv3_block2_out[0][0]           \n",
      "__________________________________________________________________________________________________\n",
      "conv3_block3_1_bn (BatchNormali (None, 28, 28, 128)  512         conv3_block3_1_conv[0][0]        \n",
      "__________________________________________________________________________________________________\n",
      "conv3_block3_1_relu (Activation (None, 28, 28, 128)  0           conv3_block3_1_bn[0][0]          \n",
      "__________________________________________________________________________________________________\n",
      "conv3_block3_2_conv (Conv2D)    (None, 28, 28, 128)  147584      conv3_block3_1_relu[0][0]        \n",
      "__________________________________________________________________________________________________\n",
      "conv3_block3_2_bn (BatchNormali (None, 28, 28, 128)  512         conv3_block3_2_conv[0][0]        \n",
      "__________________________________________________________________________________________________\n",
      "conv3_block3_2_relu (Activation (None, 28, 28, 128)  0           conv3_block3_2_bn[0][0]          \n",
      "__________________________________________________________________________________________________\n",
      "conv3_block3_3_conv (Conv2D)    (None, 28, 28, 512)  66048       conv3_block3_2_relu[0][0]        \n",
      "__________________________________________________________________________________________________\n",
      "conv3_block3_3_bn (BatchNormali (None, 28, 28, 512)  2048        conv3_block3_3_conv[0][0]        \n",
      "__________________________________________________________________________________________________\n",
      "conv3_block3_add (Add)          (None, 28, 28, 512)  0           conv3_block2_out[0][0]           \n",
      "                                                                 conv3_block3_3_bn[0][0]          \n",
      "__________________________________________________________________________________________________\n",
      "conv3_block3_out (Activation)   (None, 28, 28, 512)  0           conv3_block3_add[0][0]           \n",
      "__________________________________________________________________________________________________\n",
      "conv3_block4_1_conv (Conv2D)    (None, 28, 28, 128)  65664       conv3_block3_out[0][0]           \n",
      "__________________________________________________________________________________________________\n",
      "conv3_block4_1_bn (BatchNormali (None, 28, 28, 128)  512         conv3_block4_1_conv[0][0]        \n",
      "__________________________________________________________________________________________________\n",
      "conv3_block4_1_relu (Activation (None, 28, 28, 128)  0           conv3_block4_1_bn[0][0]          \n",
      "__________________________________________________________________________________________________\n",
      "conv3_block4_2_conv (Conv2D)    (None, 28, 28, 128)  147584      conv3_block4_1_relu[0][0]        \n",
      "__________________________________________________________________________________________________\n",
      "conv3_block4_2_bn (BatchNormali (None, 28, 28, 128)  512         conv3_block4_2_conv[0][0]        \n",
      "__________________________________________________________________________________________________\n",
      "conv3_block4_2_relu (Activation (None, 28, 28, 128)  0           conv3_block4_2_bn[0][0]          \n",
      "__________________________________________________________________________________________________\n",
      "conv3_block4_3_conv (Conv2D)    (None, 28, 28, 512)  66048       conv3_block4_2_relu[0][0]        \n",
      "__________________________________________________________________________________________________\n",
      "conv3_block4_3_bn (BatchNormali (None, 28, 28, 512)  2048        conv3_block4_3_conv[0][0]        \n",
      "__________________________________________________________________________________________________\n",
      "conv3_block4_add (Add)          (None, 28, 28, 512)  0           conv3_block3_out[0][0]           \n",
      "                                                                 conv3_block4_3_bn[0][0]          \n",
      "__________________________________________________________________________________________________\n",
      "conv3_block4_out (Activation)   (None, 28, 28, 512)  0           conv3_block4_add[0][0]           \n",
      "__________________________________________________________________________________________________\n",
      "conv4_block1_1_conv (Conv2D)    (None, 14, 14, 256)  131328      conv3_block4_out[0][0]           \n",
      "__________________________________________________________________________________________________\n",
      "conv4_block1_1_bn (BatchNormali (None, 14, 14, 256)  1024        conv4_block1_1_conv[0][0]        \n",
      "__________________________________________________________________________________________________\n",
      "conv4_block1_1_relu (Activation (None, 14, 14, 256)  0           conv4_block1_1_bn[0][0]          \n",
      "__________________________________________________________________________________________________\n",
      "conv4_block1_2_conv (Conv2D)    (None, 14, 14, 256)  590080      conv4_block1_1_relu[0][0]        \n",
      "__________________________________________________________________________________________________\n",
      "conv4_block1_2_bn (BatchNormali (None, 14, 14, 256)  1024        conv4_block1_2_conv[0][0]        \n",
      "__________________________________________________________________________________________________\n",
      "conv4_block1_2_relu (Activation (None, 14, 14, 256)  0           conv4_block1_2_bn[0][0]          \n",
      "__________________________________________________________________________________________________\n",
      "conv4_block1_0_conv (Conv2D)    (None, 14, 14, 1024) 525312      conv3_block4_out[0][0]           \n",
      "__________________________________________________________________________________________________\n",
      "conv4_block1_3_conv (Conv2D)    (None, 14, 14, 1024) 263168      conv4_block1_2_relu[0][0]        \n",
      "__________________________________________________________________________________________________\n",
      "conv4_block1_0_bn (BatchNormali (None, 14, 14, 1024) 4096        conv4_block1_0_conv[0][0]        \n",
      "__________________________________________________________________________________________________\n",
      "conv4_block1_3_bn (BatchNormali (None, 14, 14, 1024) 4096        conv4_block1_3_conv[0][0]        \n",
      "__________________________________________________________________________________________________\n",
      "conv4_block1_add (Add)          (None, 14, 14, 1024) 0           conv4_block1_0_bn[0][0]          \n",
      "                                                                 conv4_block1_3_bn[0][0]          \n",
      "__________________________________________________________________________________________________\n",
      "conv4_block1_out (Activation)   (None, 14, 14, 1024) 0           conv4_block1_add[0][0]           \n",
      "__________________________________________________________________________________________________\n",
      "conv4_block2_1_conv (Conv2D)    (None, 14, 14, 256)  262400      conv4_block1_out[0][0]           \n",
      "__________________________________________________________________________________________________\n",
      "conv4_block2_1_bn (BatchNormali (None, 14, 14, 256)  1024        conv4_block2_1_conv[0][0]        \n",
      "__________________________________________________________________________________________________\n",
      "conv4_block2_1_relu (Activation (None, 14, 14, 256)  0           conv4_block2_1_bn[0][0]          \n",
      "__________________________________________________________________________________________________\n",
      "conv4_block2_2_conv (Conv2D)    (None, 14, 14, 256)  590080      conv4_block2_1_relu[0][0]        \n",
      "__________________________________________________________________________________________________\n",
      "conv4_block2_2_bn (BatchNormali (None, 14, 14, 256)  1024        conv4_block2_2_conv[0][0]        \n",
      "__________________________________________________________________________________________________\n",
      "conv4_block2_2_relu (Activation (None, 14, 14, 256)  0           conv4_block2_2_bn[0][0]          \n",
      "__________________________________________________________________________________________________\n",
      "conv4_block2_3_conv (Conv2D)    (None, 14, 14, 1024) 263168      conv4_block2_2_relu[0][0]        \n",
      "__________________________________________________________________________________________________\n",
      "conv4_block2_3_bn (BatchNormali (None, 14, 14, 1024) 4096        conv4_block2_3_conv[0][0]        \n",
      "__________________________________________________________________________________________________\n",
      "conv4_block2_add (Add)          (None, 14, 14, 1024) 0           conv4_block1_out[0][0]           \n",
      "                                                                 conv4_block2_3_bn[0][0]          \n",
      "__________________________________________________________________________________________________\n",
      "conv4_block2_out (Activation)   (None, 14, 14, 1024) 0           conv4_block2_add[0][0]           \n",
      "__________________________________________________________________________________________________\n",
      "conv4_block3_1_conv (Conv2D)    (None, 14, 14, 256)  262400      conv4_block2_out[0][0]           \n",
      "__________________________________________________________________________________________________\n",
      "conv4_block3_1_bn (BatchNormali (None, 14, 14, 256)  1024        conv4_block3_1_conv[0][0]        \n",
      "__________________________________________________________________________________________________\n",
      "conv4_block3_1_relu (Activation (None, 14, 14, 256)  0           conv4_block3_1_bn[0][0]          \n",
      "__________________________________________________________________________________________________\n",
      "conv4_block3_2_conv (Conv2D)    (None, 14, 14, 256)  590080      conv4_block3_1_relu[0][0]        \n",
      "__________________________________________________________________________________________________\n",
      "conv4_block3_2_bn (BatchNormali (None, 14, 14, 256)  1024        conv4_block3_2_conv[0][0]        \n",
      "__________________________________________________________________________________________________\n",
      "conv4_block3_2_relu (Activation (None, 14, 14, 256)  0           conv4_block3_2_bn[0][0]          \n",
      "__________________________________________________________________________________________________\n",
      "conv4_block3_3_conv (Conv2D)    (None, 14, 14, 1024) 263168      conv4_block3_2_relu[0][0]        \n",
      "__________________________________________________________________________________________________\n",
      "conv4_block3_3_bn (BatchNormali (None, 14, 14, 1024) 4096        conv4_block3_3_conv[0][0]        \n",
      "__________________________________________________________________________________________________\n",
      "conv4_block3_add (Add)          (None, 14, 14, 1024) 0           conv4_block2_out[0][0]           \n",
      "                                                                 conv4_block3_3_bn[0][0]          \n",
      "__________________________________________________________________________________________________\n",
      "conv4_block3_out (Activation)   (None, 14, 14, 1024) 0           conv4_block3_add[0][0]           \n",
      "__________________________________________________________________________________________________\n",
      "conv4_block4_1_conv (Conv2D)    (None, 14, 14, 256)  262400      conv4_block3_out[0][0]           \n",
      "__________________________________________________________________________________________________\n",
      "conv4_block4_1_bn (BatchNormali (None, 14, 14, 256)  1024        conv4_block4_1_conv[0][0]        \n",
      "__________________________________________________________________________________________________\n",
      "conv4_block4_1_relu (Activation (None, 14, 14, 256)  0           conv4_block4_1_bn[0][0]          \n",
      "__________________________________________________________________________________________________\n",
      "conv4_block4_2_conv (Conv2D)    (None, 14, 14, 256)  590080      conv4_block4_1_relu[0][0]        \n",
      "__________________________________________________________________________________________________\n",
      "conv4_block4_2_bn (BatchNormali (None, 14, 14, 256)  1024        conv4_block4_2_conv[0][0]        \n",
      "__________________________________________________________________________________________________\n",
      "conv4_block4_2_relu (Activation (None, 14, 14, 256)  0           conv4_block4_2_bn[0][0]          \n",
      "__________________________________________________________________________________________________\n",
      "conv4_block4_3_conv (Conv2D)    (None, 14, 14, 1024) 263168      conv4_block4_2_relu[0][0]        \n",
      "__________________________________________________________________________________________________\n",
      "conv4_block4_3_bn (BatchNormali (None, 14, 14, 1024) 4096        conv4_block4_3_conv[0][0]        \n",
      "__________________________________________________________________________________________________\n",
      "conv4_block4_add (Add)          (None, 14, 14, 1024) 0           conv4_block3_out[0][0]           \n",
      "                                                                 conv4_block4_3_bn[0][0]          \n",
      "__________________________________________________________________________________________________\n",
      "conv4_block4_out (Activation)   (None, 14, 14, 1024) 0           conv4_block4_add[0][0]           \n",
      "__________________________________________________________________________________________________\n",
      "conv4_block5_1_conv (Conv2D)    (None, 14, 14, 256)  262400      conv4_block4_out[0][0]           \n",
      "__________________________________________________________________________________________________\n",
      "conv4_block5_1_bn (BatchNormali (None, 14, 14, 256)  1024        conv4_block5_1_conv[0][0]        \n",
      "__________________________________________________________________________________________________\n",
      "conv4_block5_1_relu (Activation (None, 14, 14, 256)  0           conv4_block5_1_bn[0][0]          \n",
      "__________________________________________________________________________________________________\n",
      "conv4_block5_2_conv (Conv2D)    (None, 14, 14, 256)  590080      conv4_block5_1_relu[0][0]        \n",
      "__________________________________________________________________________________________________\n",
      "conv4_block5_2_bn (BatchNormali (None, 14, 14, 256)  1024        conv4_block5_2_conv[0][0]        \n",
      "__________________________________________________________________________________________________\n",
      "conv4_block5_2_relu (Activation (None, 14, 14, 256)  0           conv4_block5_2_bn[0][0]          \n",
      "__________________________________________________________________________________________________\n",
      "conv4_block5_3_conv (Conv2D)    (None, 14, 14, 1024) 263168      conv4_block5_2_relu[0][0]        \n",
      "__________________________________________________________________________________________________\n",
      "conv4_block5_3_bn (BatchNormali (None, 14, 14, 1024) 4096        conv4_block5_3_conv[0][0]        \n",
      "__________________________________________________________________________________________________\n",
      "conv4_block5_add (Add)          (None, 14, 14, 1024) 0           conv4_block4_out[0][0]           \n",
      "                                                                 conv4_block5_3_bn[0][0]          \n",
      "__________________________________________________________________________________________________\n",
      "conv4_block5_out (Activation)   (None, 14, 14, 1024) 0           conv4_block5_add[0][0]           \n",
      "__________________________________________________________________________________________________\n",
      "conv4_block6_1_conv (Conv2D)    (None, 14, 14, 256)  262400      conv4_block5_out[0][0]           \n",
      "__________________________________________________________________________________________________\n",
      "conv4_block6_1_bn (BatchNormali (None, 14, 14, 256)  1024        conv4_block6_1_conv[0][0]        \n",
      "__________________________________________________________________________________________________\n",
      "conv4_block6_1_relu (Activation (None, 14, 14, 256)  0           conv4_block6_1_bn[0][0]          \n",
      "__________________________________________________________________________________________________\n",
      "conv4_block6_2_conv (Conv2D)    (None, 14, 14, 256)  590080      conv4_block6_1_relu[0][0]        \n",
      "__________________________________________________________________________________________________\n",
      "conv4_block6_2_bn (BatchNormali (None, 14, 14, 256)  1024        conv4_block6_2_conv[0][0]        \n",
      "__________________________________________________________________________________________________\n",
      "conv4_block6_2_relu (Activation (None, 14, 14, 256)  0           conv4_block6_2_bn[0][0]          \n",
      "__________________________________________________________________________________________________\n",
      "conv4_block6_3_conv (Conv2D)    (None, 14, 14, 1024) 263168      conv4_block6_2_relu[0][0]        \n",
      "__________________________________________________________________________________________________\n",
      "conv4_block6_3_bn (BatchNormali (None, 14, 14, 1024) 4096        conv4_block6_3_conv[0][0]        \n",
      "__________________________________________________________________________________________________\n",
      "conv4_block6_add (Add)          (None, 14, 14, 1024) 0           conv4_block5_out[0][0]           \n",
      "                                                                 conv4_block6_3_bn[0][0]          \n",
      "__________________________________________________________________________________________________\n",
      "conv4_block6_out (Activation)   (None, 14, 14, 1024) 0           conv4_block6_add[0][0]           \n",
      "__________________________________________________________________________________________________\n",
      "conv5_block1_1_conv (Conv2D)    (None, 7, 7, 512)    524800      conv4_block6_out[0][0]           \n",
      "__________________________________________________________________________________________________\n",
      "conv5_block1_1_bn (BatchNormali (None, 7, 7, 512)    2048        conv5_block1_1_conv[0][0]        \n",
      "__________________________________________________________________________________________________\n",
      "conv5_block1_1_relu (Activation (None, 7, 7, 512)    0           conv5_block1_1_bn[0][0]          \n",
      "__________________________________________________________________________________________________\n",
      "conv5_block1_2_conv (Conv2D)    (None, 7, 7, 512)    2359808     conv5_block1_1_relu[0][0]        \n",
      "__________________________________________________________________________________________________\n",
      "conv5_block1_2_bn (BatchNormali (None, 7, 7, 512)    2048        conv5_block1_2_conv[0][0]        \n",
      "__________________________________________________________________________________________________\n",
      "conv5_block1_2_relu (Activation (None, 7, 7, 512)    0           conv5_block1_2_bn[0][0]          \n",
      "__________________________________________________________________________________________________\n",
      "conv5_block1_0_conv (Conv2D)    (None, 7, 7, 2048)   2099200     conv4_block6_out[0][0]           \n",
      "__________________________________________________________________________________________________\n",
      "conv5_block1_3_conv (Conv2D)    (None, 7, 7, 2048)   1050624     conv5_block1_2_relu[0][0]        \n",
      "__________________________________________________________________________________________________\n",
      "conv5_block1_0_bn (BatchNormali (None, 7, 7, 2048)   8192        conv5_block1_0_conv[0][0]        \n",
      "__________________________________________________________________________________________________\n",
      "conv5_block1_3_bn (BatchNormali (None, 7, 7, 2048)   8192        conv5_block1_3_conv[0][0]        \n",
      "__________________________________________________________________________________________________\n",
      "conv5_block1_add (Add)          (None, 7, 7, 2048)   0           conv5_block1_0_bn[0][0]          \n",
      "                                                                 conv5_block1_3_bn[0][0]          \n",
      "__________________________________________________________________________________________________\n",
      "conv5_block1_out (Activation)   (None, 7, 7, 2048)   0           conv5_block1_add[0][0]           \n",
      "__________________________________________________________________________________________________\n",
      "conv5_block2_1_conv (Conv2D)    (None, 7, 7, 512)    1049088     conv5_block1_out[0][0]           \n",
      "__________________________________________________________________________________________________\n",
      "conv5_block2_1_bn (BatchNormali (None, 7, 7, 512)    2048        conv5_block2_1_conv[0][0]        \n",
      "__________________________________________________________________________________________________\n",
      "conv5_block2_1_relu (Activation (None, 7, 7, 512)    0           conv5_block2_1_bn[0][0]          \n",
      "__________________________________________________________________________________________________\n",
      "conv5_block2_2_conv (Conv2D)    (None, 7, 7, 512)    2359808     conv5_block2_1_relu[0][0]        \n",
      "__________________________________________________________________________________________________\n",
      "conv5_block2_2_bn (BatchNormali (None, 7, 7, 512)    2048        conv5_block2_2_conv[0][0]        \n",
      "__________________________________________________________________________________________________\n",
      "conv5_block2_2_relu (Activation (None, 7, 7, 512)    0           conv5_block2_2_bn[0][0]          \n",
      "__________________________________________________________________________________________________\n",
      "conv5_block2_3_conv (Conv2D)    (None, 7, 7, 2048)   1050624     conv5_block2_2_relu[0][0]        \n",
      "__________________________________________________________________________________________________\n",
      "conv5_block2_3_bn (BatchNormali (None, 7, 7, 2048)   8192        conv5_block2_3_conv[0][0]        \n",
      "__________________________________________________________________________________________________\n",
      "conv5_block2_add (Add)          (None, 7, 7, 2048)   0           conv5_block1_out[0][0]           \n",
      "                                                                 conv5_block2_3_bn[0][0]          \n",
      "__________________________________________________________________________________________________\n",
      "conv5_block2_out (Activation)   (None, 7, 7, 2048)   0           conv5_block2_add[0][0]           \n",
      "__________________________________________________________________________________________________\n",
      "conv5_block3_1_conv (Conv2D)    (None, 7, 7, 512)    1049088     conv5_block2_out[0][0]           \n",
      "__________________________________________________________________________________________________\n",
      "conv5_block3_1_bn (BatchNormali (None, 7, 7, 512)    2048        conv5_block3_1_conv[0][0]        \n",
      "__________________________________________________________________________________________________\n",
      "conv5_block3_1_relu (Activation (None, 7, 7, 512)    0           conv5_block3_1_bn[0][0]          \n",
      "__________________________________________________________________________________________________\n",
      "conv5_block3_2_conv (Conv2D)    (None, 7, 7, 512)    2359808     conv5_block3_1_relu[0][0]        \n",
      "__________________________________________________________________________________________________\n",
      "conv5_block3_2_bn (BatchNormali (None, 7, 7, 512)    2048        conv5_block3_2_conv[0][0]        \n",
      "__________________________________________________________________________________________________\n",
      "conv5_block3_2_relu (Activation (None, 7, 7, 512)    0           conv5_block3_2_bn[0][0]          \n",
      "__________________________________________________________________________________________________\n",
      "conv5_block3_3_conv (Conv2D)    (None, 7, 7, 2048)   1050624     conv5_block3_2_relu[0][0]        \n",
      "__________________________________________________________________________________________________\n",
      "conv5_block3_3_bn (BatchNormali (None, 7, 7, 2048)   8192        conv5_block3_3_conv[0][0]        \n",
      "__________________________________________________________________________________________________\n",
      "conv5_block3_add (Add)          (None, 7, 7, 2048)   0           conv5_block2_out[0][0]           \n",
      "                                                                 conv5_block3_3_bn[0][0]          \n",
      "__________________________________________________________________________________________________\n",
      "conv5_block3_out (Activation)   (None, 7, 7, 2048)   0           conv5_block3_add[0][0]           \n",
      "__________________________________________________________________________________________________\n",
<<<<<<< HEAD
      "flatten (Flatten)               (None, 100352)       0           conv5_block3_out[0][0]           \n",
      "__________________________________________________________________________________________________\n",
      "predictions (Dense)             (None, 3)            301059      flatten[0][0]                    \n",
=======
      "flatten_2 (Flatten)             (None, 100352)       0           conv5_block3_out[0][0]           \n",
      "__________________________________________________________________________________________________\n",
      "predictions (Dense)             (None, 3)            301059      flatten_2[0][0]                  \n",
>>>>>>> a623abfbce2ac17a317cb8f228d96e23103d9a34
      "==================================================================================================\n",
      "Total params: 23,888,771\n",
      "Trainable params: 301,059\n",
      "Non-trainable params: 23,587,712\n",
      "__________________________________________________________________________________________________\n"
     ]
    }
   ],
<<<<<<< HEAD
   "source": [
    "print (classifier.output)\n",
    "\n",
    "objLayers = Flatten()(classifier.output)\n",
    "objLayers = Dense(units=3 , activation='sigmoid', name = 'predictions' )(objLayers)\n",
    "\n",
    "objModel = Model(classifier.input, objLayers)\n",
    "objModel.compile( optimizer= 'adam' , loss = 'categorical_crossentropy', metrics=['accuracy'])\n",
    "objModel.summary()"
   ]
  },
  {
   "cell_type": "code",
   "execution_count": 18,
   "metadata": {},
   "outputs": [],
   "source": [
    "earlyStopping = EarlyStopping(monitor= \"val_accuracy\" , min_delta= 0.01, patience= 3, verbose=1)\n",
    "modelCheckpoint = ModelCheckpoint(filepath=\"bestmodel.h5\", monitor=\"val_accuracy\", verbose=1, save_best_only= True)"
   ]
  },
  {
   "cell_type": "code",
   "execution_count": 19,
   "metadata": {},
   "outputs": [
    {
     "name": "stderr",
     "output_type": "stream",
     "text": [
      "C:\\Users\\Divergente\\AppData\\Local\\Programs\\Python\\Python38\\lib\\site-packages\\tensorflow\\python\\keras\\engine\\training.py:1969: UserWarning: `Model.fit_generator` is deprecated and will be removed in a future version. Please use `Model.fit`, which supports generators.\n",
      "  warnings.warn('`Model.fit_generator` is deprecated and '\n"
     ]
    },
    {
     "name": "stdout",
     "output_type": "stream",
     "text": [
      "Epoch 1/30\n",
      "10/10 [==============================] - 96s 10s/step - loss: 10.0063 - accuracy: 0.6125 - val_loss: 4.2939 - val_accuracy: 0.7812\n",
      "\n",
      "Epoch 00001: val_accuracy improved from -inf to 0.78125, saving model to bestmodel.h5\n"
     ]
    },
    {
     "name": "stderr",
     "output_type": "stream",
     "text": [
      "C:\\Users\\Divergente\\AppData\\Local\\Programs\\Python\\Python38\\lib\\site-packages\\tensorflow\\python\\keras\\utils\\generic_utils.py:494: CustomMaskWarning: Custom mask layers require a config and must override get_config. When loading, the custom mask layer must be passed to the custom_objects argument.\n",
=======
   "metadata": {}
  },
  {
   "cell_type": "code",
   "execution_count": 30,
   "source": [
    "earlyStopping = EarlyStopping(monitor= \"val_accuracy\" , min_delta= 0.01, patience= 3, verbose=1)\r\n",
    "modelCheckpoint = ModelCheckpoint(filepath=\"bestmodel.h5\", monitor=\"val_accuracy\", verbose=1, save_best_only= True)"
   ],
   "outputs": [],
   "metadata": {}
  },
  {
   "cell_type": "code",
   "execution_count": 31,
   "source": [
    "objFit = objModel.fit_generator(objTrain, steps_per_epoch= 10, epochs= 30, validation_data=objValid , validation_steps= 16, callbacks=[earlyStopping, modelCheckpoint])"
   ],
   "outputs": [
    {
     "output_type": "stream",
     "name": "stdout",
     "text": [
      "Epoch 1/30\n",
      "10/10 [==============================] - 104s 11s/step - loss: 3.9736 - accuracy: 0.7031 - val_loss: 2.1768 - val_accuracy: 0.8379\n",
      "\n",
      "Epoch 00001: val_accuracy improved from -inf to 0.83789, saving model to bestmodel.h5\n"
     ]
    },
    {
     "output_type": "stream",
     "name": "stderr",
     "text": [
      "C:\\Users\\gabri\\AppData\\Roaming\\Python\\Python39\\site-packages\\tensorflow\\python\\keras\\utils\\generic_utils.py:494: CustomMaskWarning: Custom mask layers require a config and must override get_config. When loading, the custom mask layer must be passed to the custom_objects argument.\n",
>>>>>>> a623abfbce2ac17a317cb8f228d96e23103d9a34
      "  warnings.warn('Custom mask layers require a config and must override '\n"
     ]
    },
    {
<<<<<<< HEAD
     "name": "stdout",
     "output_type": "stream",
     "text": [
      "Epoch 2/30\n",
      "10/10 [==============================] - 91s 10s/step - loss: 5.1246 - accuracy: 0.7563 - val_loss: 2.8050 - val_accuracy: 0.8359\n",
      "\n",
      "Epoch 00002: val_accuracy improved from 0.78125 to 0.83594, saving model to bestmodel.h5\n",
      "Epoch 3/30\n",
      "10/10 [==============================] - 91s 10s/step - loss: 2.9450 - accuracy: 0.8375 - val_loss: 2.9425 - val_accuracy: 0.8574\n",
      "\n",
      "Epoch 00003: val_accuracy improved from 0.83594 to 0.85742, saving model to bestmodel.h5\n",
      "Epoch 4/30\n",
      "10/10 [==============================] - 93s 10s/step - loss: 2.5137 - accuracy: 0.8625 - val_loss: 2.5389 - val_accuracy: 0.8867\n",
      "\n",
      "Epoch 00004: val_accuracy improved from 0.85742 to 0.88672, saving model to bestmodel.h5\n",
      "Epoch 5/30\n",
      "10/10 [==============================] - 88s 9s/step - loss: 2.0955 - accuracy: 0.8781 - val_loss: 2.6780 - val_accuracy: 0.8730\n",
      "\n",
      "Epoch 00005: val_accuracy did not improve from 0.88672\n",
      "Epoch 6/30\n",
      "10/10 [==============================] - 85s 9s/step - loss: 2.1639 - accuracy: 0.8562 - val_loss: 4.7884 - val_accuracy: 0.7441\n",
      "\n",
      "Epoch 00006: val_accuracy did not improve from 0.88672\n",
      "Epoch 7/30\n",
      "10/10 [==============================] - 81s 9s/step - loss: 2.0000 - accuracy: 0.8531 - val_loss: 2.5681 - val_accuracy: 0.8516\n",
      "\n",
      "Epoch 00007: val_accuracy did not improve from 0.88672\n",
      "Epoch 00007: early stopping\n"
     ]
    }
   ],
   "source": [
    "objFit = objModel.fit_generator(objTrain, steps_per_epoch= 10, epochs= 30, validation_data=objValid , validation_steps= 16, callbacks=[earlyStopping, modelCheckpoint])"
   ]
  },
  {
   "cell_type": "code",
   "execution_count": 20,
   "metadata": {},
   "outputs": [
    {
     "name": "stderr",
     "output_type": "stream",
     "text": [
      "C:\\Users\\Divergente\\AppData\\Local\\Programs\\Python\\Python38\\lib\\site-packages\\tensorflow\\python\\keras\\engine\\training.py:2002: UserWarning: `Model.evaluate_generator` is deprecated and will be removed in a future version. Please use `Model.evaluate`, which supports generators.\n",
      "  warnings.warn('`Model.evaluate_generator` is deprecated and '\n"
     ]
    },
    {
     "name": "stdout",
     "output_type": "stream",
     "text": [
      "A acurácia do modelo selecionado foi de = 0.8525000214576721%\n"
     ]
    }
   ],
   "source": [
    "objModel = load_model(\"bestmodel.h5\")\n",
    "\n",
    "nr_Acurracy = objModel.evaluate_generator(generator=objTest)[1] \n",
    "\n",
    "print(f\"A acurácia do modelo selecionado foi de = {nr_Acurracy}%\")"
   ]
  },
  {
   "cell_type": "code",
   "execution_count": 23,
   "metadata": {},
   "outputs": [
    {
     "name": "stderr",
     "output_type": "stream",
     "text": [
      "C:\\Users\\Divergente\\AppData\\Local\\Programs\\Python\\Python38\\lib\\site-packages\\tensorflow\\python\\keras\\engine\\training.py:2030: UserWarning: `Model.predict_generator` is deprecated and will be removed in a future version. Please use `Model.predict`, which supports generators.\n",
      "  warnings.warn('`Model.predict_generator` is deprecated and '\n"
     ]
    },
    {
     "name": "stdout",
     "output_type": "stream",
     "text": [
      "              precision    recall  f1-score   support\n",
      "\n",
      "       COVID       0.93      0.81      0.87       300\n",
      "      Normal       0.72      0.95      0.82       300\n",
      "   Pneumonia       0.99      0.71      0.83       200\n",
      "\n",
      "    accuracy                           0.84       800\n",
      "   macro avg       0.88      0.83      0.84       800\n",
      "weighted avg       0.87      0.84      0.84       800\n",
      "\n"
     ]
    }
   ],
   "source": [
    "true_classes = objTest.classes\n",
    "class_labels = list(objTest.class_indices.keys())   \n",
    "\n",
    "predictions = objModel.predict_generator(objTest)\n",
    "predictions = np.argmax(predictions, axis=1)\n",
    "\n",
    "report = classification_report(true_classes, predictions, target_names=class_labels)\n",
    "print(report)    "
   ]
  },
  {
   "cell_type": "code",
   "execution_count": 24,
   "metadata": {},
   "outputs": [
    {
     "data": {
      "image/png": "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",
=======
     "output_type": "stream",
     "name": "stdout",
     "text": [
      "Epoch 2/30\n",
      "10/10 [==============================] - 100s 10s/step - loss: 3.1036 - accuracy: 0.7917 - val_loss: 3.1728 - val_accuracy: 0.8379\n",
      "\n",
      "Epoch 00002: val_accuracy did not improve from 0.83789\n",
      "Epoch 3/30\n",
      "10/10 [==============================] - 100s 10s/step - loss: 3.6375 - accuracy: 0.8062 - val_loss: 2.3408 - val_accuracy: 0.8379\n",
      "\n",
      "Epoch 00003: val_accuracy did not improve from 0.83789\n",
      "Epoch 4/30\n",
      "10/10 [==============================] - 93s 10s/step - loss: 3.6681 - accuracy: 0.7969 - val_loss: 1.9861 - val_accuracy: 0.8770\n",
      "\n",
      "Epoch 00004: val_accuracy improved from 0.83789 to 0.87695, saving model to bestmodel.h5\n",
      "Epoch 5/30\n",
      "10/10 [==============================] - 98s 10s/step - loss: 2.2152 - accuracy: 0.8562 - val_loss: 1.6649 - val_accuracy: 0.8848\n",
      "\n",
      "Epoch 00005: val_accuracy improved from 0.87695 to 0.88477, saving model to bestmodel.h5\n",
      "Epoch 6/30\n",
      "10/10 [==============================] - 103s 11s/step - loss: 1.6840 - accuracy: 0.8656 - val_loss: 1.5465 - val_accuracy: 0.9141\n",
      "\n",
      "Epoch 00006: val_accuracy improved from 0.88477 to 0.91406, saving model to bestmodel.h5\n",
      "Epoch 7/30\n",
      "10/10 [==============================] - 95s 10s/step - loss: 1.6186 - accuracy: 0.9031 - val_loss: 2.0161 - val_accuracy: 0.8750\n",
      "\n",
      "Epoch 00007: val_accuracy did not improve from 0.91406\n",
      "Epoch 8/30\n",
      "10/10 [==============================] - 83s 9s/step - loss: 1.8624 - accuracy: 0.8687 - val_loss: 1.4724 - val_accuracy: 0.9141\n",
      "\n",
      "Epoch 00008: val_accuracy did not improve from 0.91406\n",
      "Epoch 9/30\n",
      "10/10 [==============================] - 83s 9s/step - loss: 1.9039 - accuracy: 0.8656 - val_loss: 3.0713 - val_accuracy: 0.8711\n",
      "\n",
      "Epoch 00009: val_accuracy did not improve from 0.91406\n",
      "Epoch 00009: early stopping\n"
     ]
    }
   ],
   "metadata": {}
  },
  {
   "cell_type": "code",
   "execution_count": 32,
   "source": [
    "objModel = load_model(\"bestmodel.h5\")\r\n",
    "\r\n",
    "nr_Acurracy = objModel.evaluate_generator(generator=objTest)[1] \r\n",
    "\r\n",
    "print(f\"A acurácia do modelo selecionado foi de = {nr_Acurracy}%\")"
   ],
   "outputs": [
    {
     "output_type": "stream",
     "name": "stderr",
     "text": [
      "C:\\Users\\gabri\\AppData\\Roaming\\Python\\Python39\\site-packages\\tensorflow\\python\\keras\\engine\\training.py:2002: UserWarning: `Model.evaluate_generator` is deprecated and will be removed in a future version. Please use `Model.evaluate`, which supports generators.\n",
      "  warnings.warn('`Model.evaluate_generator` is deprecated and '\n"
     ]
    },
    {
     "output_type": "stream",
     "name": "stdout",
     "text": [
      "A acurácia do modelo selecionado foi de = 0.9049999713897705%\n"
     ]
    }
   ],
   "metadata": {}
  },
  {
   "cell_type": "code",
   "execution_count": 33,
   "source": [
    "objHistory = objFit.history\r\n",
    "\r\n",
    "plt.plot(objHistory['accuracy'])\r\n",
    "plt.plot(objHistory['val_accuracy'] , c = \"red\")\r\n",
    "plt.title(\"acc vs v-acc\")\r\n",
    "plt.show()"
   ],
   "outputs": [
    {
     "output_type": "display_data",
     "data": {
      "image/png": "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",
>>>>>>> a623abfbce2ac17a317cb8f228d96e23103d9a34
      "text/plain": [
       "<Figure size 432x288 with 1 Axes>"
      ]
     },
     "metadata": {
      "needs_background": "light"
<<<<<<< HEAD
     },
     "output_type": "display_data"
    }
   ],
   "source": [
    "objHistory = objFit.history\n",
    "\n",
    "plt.plot(objHistory['accuracy'])\n",
    "plt.plot(objHistory['val_accuracy'] , c = \"red\")\n",
    "plt.title(\"acc vs v-acc\")\n",
    "plt.show()"
   ]
  },
  {
   "cell_type": "code",
   "execution_count": 25,
   "metadata": {},
   "outputs": [
    {
     "data": {
      "image/png": "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",
=======
     }
    }
   ],
   "metadata": {}
  },
  {
   "cell_type": "code",
   "execution_count": 34,
   "source": [
    "objHistory = objFit.history\r\n",
    "\r\n",
    "plt.plot(objHistory['loss'])\r\n",
    "plt.plot(objHistory['val_loss'] , c = \"red\")\r\n",
    "plt.title(\"loss vs v-loss\")\r\n",
    "plt.show()"
   ],
   "outputs": [
    {
     "output_type": "display_data",
     "data": {
      "image/png": "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",
>>>>>>> a623abfbce2ac17a317cb8f228d96e23103d9a34
      "text/plain": [
       "<Figure size 432x288 with 1 Axes>"
      ]
     },
     "metadata": {
      "needs_background": "light"
<<<<<<< HEAD
     },
     "output_type": "display_data"
    }
   ],
   "source": [
    "objHistory = objFit.history\n",
    "\n",
    "plt.plot(objHistory['loss'])\n",
    "plt.plot(objHistory['val_loss'] , c = \"red\")\n",
    "plt.title(\"loss vs v-loss\")\n",
    "plt.show()"
   ]
  },
  {
   "cell_type": "code",
   "execution_count": 31,
   "metadata": {},
   "outputs": [
    {
     "name": "stdout",
     "output_type": "stream",
     "text": [
      "A imagem é da seguinte class: Normal\n",
      "\n",
      "As chances da imagem ser da classe COVID é: 9.300303105419516e-06 porcento\n",
      "\n",
      "As chances da imagem ser da classe Normal é: 100.0 porcento\n",
      "\n",
      "As chances da imagem ser da classe Pneumonia é: 1.5566006528009043e-14 porcento\n"
     ]
    },
    {
     "data": {
      "image/png": "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",
=======
     }
    }
   ],
   "metadata": {}
  },
  {
   "cell_type": "code",
   "execution_count": 37,
   "source": [
    "def Get_Image(ds_Image_Path):\r\n",
    "  path = ds_Image_Path\r\n",
    "  objImage = image.load_img(path, target_size=(224,224,3))\r\n",
    "  objImage = image.img_to_array(objImage)\r\n",
    "  objImage = np.expand_dims(objImage , axis= 0 )\r\n",
    "  \r\n",
    "  return objImage\r\n",
    "\r\n",
    "\r\n",
    "ds_Image_Path = \"./database/Pneumonia-452.png\"   \r\n",
    "objImage = Get_Image(ds_Image_Path)\r\n",
    "\r\n",
    "objClassType = {0:'Covid',  1 : 'Normal', 2: 'Pneumonia'}\r\n",
    "\r\n",
    "res = objClassType[np.argmax(objModel.predict(objImage))]\r\n",
    "\r\n",
    "print(f\"A imagem é da seguinte class: {res}\")\r\n",
    "print()\r\n",
    "print(f\"As chances da imagem ser da classe COVID é: {objModel.predict(objImage)[0][0]*100} porcento\")\r\n",
    "print()\r\n",
    "print(f\"As chances da imagem ser da classe Normal é: {objModel.predict(objImage)[0][1]*100} porcento\")\r\n",
    "print()\r\n",
    "print(f\"As chances da imagem ser da classe Pneumonia é: {objModel.predict(objImage)[0][2]*100} porcento\")\r\n",
    "\r\n",
    "plt.imshow(objImage[0]/255, cmap = \"gray\")\r\n",
    "plt.title(\"Imagem selecionada\")\r\n",
    "plt.show()"
   ],
   "outputs": [
    {
     "output_type": "stream",
     "name": "stdout",
     "text": [
      "A imagem é da seguinte class: Pneumonia\n",
      "\n",
      "As chances da imagem ser da classe COVID é: 3.4991635782487263e-12 porcento\n",
      "\n",
      "As chances da imagem ser da classe Normal é: 0.00022279236873146147 porcento\n",
      "\n",
      "As chances da imagem ser da classe Pneumonia é: 99.99996423721313 porcento\n"
     ]
    },
    {
     "output_type": "display_data",
     "data": {
      "image/png": "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",
>>>>>>> a623abfbce2ac17a317cb8f228d96e23103d9a34
      "text/plain": [
       "<Figure size 432x288 with 1 Axes>"
      ]
     },
     "metadata": {
      "needs_background": "light"
<<<<<<< HEAD
     },
     "output_type": "display_data"
    }
   ],
   "source": [
    "def Get_Image(ds_Image_Path):\n",
    "  path = ds_Image_Path\n",
    "  objImage = image.load_img(path, target_size=(224,224,3))\n",
    "  objImage = image.img_to_array(objImage)\n",
    "  objImage = np.expand_dims(objImage , axis= 0 )\n",
    "  \n",
    "  return objImage\n",
    "\n",
    "\n",
    "ds_Image_Path = \"./database/Normal-5.png\"   \n",
    "objImage = Get_Image(ds_Image_Path)\n",
    "\n",
    "objClassType = {0:'Covid',  1 : 'Normal', 2: 'Pneumonia'}\n",
    "\n",
    "res = objClassType[np.argmax(objModel.predict(objImage))]\n",
    "\n",
    "print(f\"A imagem é da seguinte class: {res}\")\n",
    "print()\n",
    "print(f\"As chances da imagem ser da classe COVID é: {objModel.predict(objImage)[0][0]*100} porcento\")\n",
    "print()\n",
    "print(f\"As chances da imagem ser da classe Normal é: {objModel.predict(objImage)[0][1]*100} porcento\")\n",
    "print()\n",
    "print(f\"As chances da imagem ser da classe Pneumonia é: {objModel.predict(objImage)[0][2]*100} porcento\")\n",
    "\n",
    "plt.imshow(objImage[0]/255, cmap = \"gray\")\n",
    "plt.title(\"Imagem selecionada\")\n",
    "plt.show()"
   ]
  }
 ],
 "metadata": {
  "interpreter": {
   "hash": "7345486fff517dedbd222bed4e77e43bb335f0635ac28fe582f53d05393b9e92"
  },
  "kernelspec": {
   "display_name": "Python 3.8.0 64-bit",
   "name": "python3"
  },
  "language_info": {
=======
     }
    }
   ],
   "metadata": {}
  }
 ],
 "metadata": {
  "orig_nbformat": 4,
  "language_info": {
   "name": "python",
   "version": "3.9.6",
   "mimetype": "text/x-python",
>>>>>>> a623abfbce2ac17a317cb8f228d96e23103d9a34
   "codemirror_mode": {
    "name": "ipython",
    "version": 3
   },
<<<<<<< HEAD
   "file_extension": ".py",
   "mimetype": "text/x-python",
   "name": "python",
   "nbconvert_exporter": "python",
   "pygments_lexer": "ipython3",
   "version": "3.8.0"
  },
  "orig_nbformat": 4
 },
 "nbformat": 4,
 "nbformat_minor": 2
}
=======
   "pygments_lexer": "ipython3",
   "nbconvert_exporter": "python",
   "file_extension": ".py"
  },
  "kernelspec": {
   "name": "python3",
   "display_name": "Python 3.9.6 64-bit"
  },
  "interpreter": {
   "hash": "250b308242d36e83629721c7244075b381b1b678cf3b391cdc434a91845cedac"
  }
 },
 "nbformat": 4,
 "nbformat_minor": 2
}
>>>>>>> a623abfbce2ac17a317cb8f228d96e23103d9a34
