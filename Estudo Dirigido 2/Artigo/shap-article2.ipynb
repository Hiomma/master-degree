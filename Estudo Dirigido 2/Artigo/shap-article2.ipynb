{
 "cells": [
  {
   "cell_type": "markdown",
   "source": [
    "## Pesquisa\n",
    "\n",
    "Essa pesquisa tem o objetivo de analisar os dados de simulação do Tennessee Eastman com o algoritmo de seleção SHAP, em conjunto com o Random Forest para classificar as falhas, caso sejam ou não a falha informada. Aprofundando no tema, a ideia é utilizar o algortimo SHAP para verificar quais váriaveis conseguem identificar uma falha, por exemplo, unindo todas as falhas e separando uma delas para ser a classe verdadeira, podemos identificar quais variaveis tiveram maior contribuição para aquela especifica falha.\n",
    "\n",
    "### Separação dos dados\n",
    "\n",
    "Os dados foram separados em treino, teste e validação. Os dados de treino e de testes foram montados com as primeiras 40 ocorrencias de cada, exceto a selecionada para ser a classe positiva. Já os dados de validação, são os dados não utilizados pelas demais separações.\n",
    "\n",
    "### Tecnologia implementada\n",
    "\n",
    "Nesse artigo, foi utilizado o algoritmo SHAP para a seleção das variaveis mais importantes para identificar a falha e o Random Forest para classificar e testar tais variaveis.\n",
    "Para a classificação, foi utilizado para medir o poder do conjunto utilizando as métrica F1, acuracia, recall, espeficidade e precisão.\n",
    "Para fins de comparação, foram utilizados alguns gráficos e heatmaps para melhor analise entre artigos selecionados."
   ],
   "metadata": {
    "collapsed": false
   }
  },
  {
   "cell_type": "code",
   "execution_count": 1,
   "outputs": [
    {
     "name": "stderr",
     "output_type": "stream",
     "text": [
      "The seaborn styles shipped by Matplotlib are deprecated since 3.6, as they no longer correspond to the styles shipped by seaborn. However, they will remain available as 'seaborn-v0_8-<style>'. Alternatively, directly use the seaborn API instead.\n"
     ]
    }
   ],
   "source": [
    "import numpy as np\n",
    "import pandas as pd\n",
    "from sklearn.ensemble import RandomForestClassifier\n",
    "import seaborn as sns\n",
    "import matplotlib.pylab as plt\n",
    "from tennessee_eastman import get_faulty_by_id, get_faulties\n",
    "from shap_contribution import get_shap_contribution, plot_variable\n",
    "from pca_contribution import get_pca_contribution, t2s, t2t\n",
    "from sklearn.metrics import f1_score, accuracy_score, precision_score, recall_score, confusion_matrix\n",
    "from sklearn.feature_selection import RFE, f_classif, SelectFromModel, mutual_info_classif, SelectKBest\n",
    "import warnings\n",
    "import sys\n",
    "from tabulate import tabulate\n",
    "\n",
    "plt.style.use(\"seaborn\")\n",
    "warnings.filterwarnings(\"ignore\")"
   ],
   "metadata": {
    "collapsed": false
   }
  },
  {
   "cell_type": "code",
   "execution_count": 2,
   "outputs": [],
   "source": [
    "all_features_for_selection = pd.DataFrame()\n",
    "selected_fault = 1\n",
    "\n",
    "\n",
    "def select_features(X, y, selector='RFE'):\n",
    "    global all_features_for_selection\n",
    "    model = RandomForestClassifier(random_state=1234)\n",
    "    all_subsets = pd.DataFrame()\n",
    "\n",
    "    for i in range(1, 21):\n",
    "\n",
    "\n",
    "        if selector == 'RFE':\n",
    "            featureSelector = RFE(model, n_features_to_select=i)\n",
    "            featureSelector.fit(X, y)\n",
    "        if selector == 'FromModel':\n",
    "            featureSelector = SelectFromModel(estimator=model, max_features=i)\n",
    "            featureSelector.fit(X, y)\n",
    "        if selector == 'Classif':\n",
    "            featureSelector = SelectKBest(f_classif, k=i)\n",
    "            featureSelector.fit_transform(X, y)\n",
    "        if selector == 'MultiClassif':\n",
    "            featureSelector = SelectKBest(mutual_info_classif, k=i)\n",
    "            featureSelector.fit_transform(X, y)\n",
    "\n",
    "        indexes = np.nonzero(featureSelector.get_support())\n",
    "\n",
    "        X_selected = X_train[:, indexes[0]]\n",
    "        X_test_selected = X_test[:, indexes[0]]\n",
    "\n",
    "        model = RandomForestClassifier(random_state=1234)\n",
    "        model.fit(X_selected, y_train)\n",
    "\n",
    "        predicted = model.predict(X_test_selected)\n",
    "        result = f1_score(y_test, predicted)\n",
    "\n",
    "        all_features_for_selection = all_features_for_selection.append(\n",
    "            {'selector': selector, 'f1_score': result, 'indexes': indexes, 'numberFeatures': len(indexes[0]),\n",
    "             'fault': selected_fault}, ignore_index=True)\n",
    "        all_subsets = all_subsets.append(\n",
    "            {'selector': selector, 'f1_score': result, 'indexes': indexes, 'numberFeatures': len(indexes[0]),\n",
    "             'fault': selected_fault}, ignore_index=True)\n",
    "\n",
    "    all_subsets.sort_values(by=['f1_score'], ascending=False, inplace=True)\n",
    "    return all_subsets['f1_score'][0]"
   ],
   "metadata": {
    "collapsed": false
   }
  },
  {
   "cell_type": "markdown",
   "source": [
    "### Creating the heat map data with all variables and failures (The heat map is shown in the end of this file)"
   ],
   "metadata": {
    "collapsed": false
   }
  },
  {
   "cell_type": "code",
   "execution_count": 3,
   "outputs": [
    {
     "name": "stdout",
     "output_type": "stream",
     "text": [
      "(1440,) (1760,)\n",
      "(1440,) (1760,)\n",
      "(1440,) (1760,)\n",
      "(1440,) (1760,)\n",
      "(1440,) (1760,)\n",
      "(1440,) (1760,)\n",
      "(1440,) (1760,)\n",
      "(1440,) (1760,)\n",
      "(1440,) (1760,)\n",
      "(1440,) (1760,)\n",
      "(1440,) (1760,)\n",
      "(1440,) (1760,)\n",
      "(1440,) (1760,)\n",
      "(1440,) (1760,)\n",
      "(1440,) (1760,)\n",
      "(1440,) (1760,)\n",
      "(1440,) (1760,)\n",
      "(1440,) (1760,)\n",
      "(1440,) (1760,)\n",
      "(1440,) (1760,)\n",
      "(1440,) (1760,)\n"
     ]
    }
   ],
   "source": [
    "all_contributions = []\n",
    "\n",
    "for i in range(1, 22):\n",
    "    # Setting up the dataset with all falties with binary distribution\n",
    "    X_train, y_train, X_test, y_test = get_faulties(i)\n",
    "\n",
    "    print(y_train.shape, y_test.shape)\n",
    "\n",
    "    model = RandomForestClassifier(random_state=1234)\n",
    "\n",
    "    # Calculating the variables contributions\n",
    "    contributions = get_shap_contribution(model, X_train, y_train, X_test)\n",
    "\n",
    "    aux = contributions.to_numpy()\n",
    "\n",
    "    all_contributions.append(aux / aux.sum(axis=0) * 100)\n",
    "\n",
    "heatmap_data = all_contributions = np.array(all_contributions).reshape(21, 52)"
   ],
   "metadata": {
    "collapsed": false
   }
  },
  {
   "cell_type": "markdown",
   "source": [
    "### Calculating with all metrics and selecting the best variables for each failures"
   ],
   "metadata": {
    "collapsed": false
   }
  },
  {
   "cell_type": "code",
   "execution_count": null,
   "outputs": [],
   "source": [
    "all_contributions = pd.DataFrame()\n",
    "all_accuracies = pd.DataFrame()\n",
    "\n",
    "for i in range(1, 22):\n",
    "    global selected_fault\n",
    "    # Setting up the dataset with all falties with binary distribution\n",
    "    X_train, y_train, X_test, y_test = get_faulties(i)\n",
    "\n",
    "    model = RandomForestClassifier(random_state=1234)\n",
    "\n",
    "    # Calculating the variables contributions\n",
    "    contributions = get_shap_contribution(model, X_train, y_train, X_test, True)\n",
    "\n",
    "    accuracies = []\n",
    "    f1s = []\n",
    "    recalls = []\n",
    "    precisions = []\n",
    "    specificities = []\n",
    "\n",
    "    all_scores = []\n",
    "    scores = []\n",
    "    used_variables = []\n",
    "    all_variables = contribution_indexes = contributions.index.to_numpy()\n",
    "\n",
    "    X_temporary = np.array([])\n",
    "    X_test_temporary = np.array([])\n",
    "\n",
    "    stop = False\n",
    "\n",
    "    selectorsF1 = []\n",
    "\n",
    "    for j in range(X_train.shape[1]):\n",
    "        model = RandomForestClassifier(random_state=1234)\n",
    "\n",
    "        # Setting up a new dataset with the selected variables\n",
    "        X_temporary = np.concatenate((X_temporary, np.array([X_train[:, contribution_indexes[0]]]).T), axis=1) if X_temporary.shape[0] > 0 else np.array([X_train[:,contribution_indexes[0]]]).T\n",
    "        X_test_temporary = np.concatenate((X_test_temporary, np.array([X_test[:, contribution_indexes[0]]]).T), axis=1) if X_test_temporary.shape[0] > 0 else np.array([X_test[:, contribution_indexes[0]]]).T\n",
    "\n",
    "        model.fit(X_temporary, y_train)\n",
    "        predicted = model.predict(X_test_temporary)\n",
    "\n",
    "        # Calculating all metrics\n",
    "        f1_aux = f1_score(y_test, predicted)\n",
    "        accuracy_aux = accuracy_score(y_test, predicted)\n",
    "        recall_aux = recall_score(y_test, predicted)\n",
    "        precision_aux = precision_score(y_test, predicted)\n",
    "        tn_aux, fp_aux, fn_aux, tp_aux = confusion_matrix(y_test, predicted).ravel()\n",
    "        specificity_aux = tn_aux / (tn_aux + fp_aux)\n",
    "\n",
    "        if (len(scores) == 0 or (len(scores) > 0 and scores[len(scores) - 1] < f1_aux)):\n",
    "            used_variables.append(contribution_indexes[0])\n",
    "            scores.append(f1_aux)\n",
    "            f1 = f1_aux\n",
    "            accuracy = accuracy_aux\n",
    "            recall = recall_aux\n",
    "            precision = precision_aux\n",
    "            tn = tn_aux\n",
    "            fp = fp_aux\n",
    "            fn = fn_aux\n",
    "            tp = tp_aux\n",
    "            specificity = specificity_aux\n",
    "\n",
    "            contribution_indexes = np.delete(contribution_indexes, 0)\n",
    "\n",
    "        all_scores.append(f1_aux)\n",
    "\n",
    "        print(used_variables)\n",
    "\n",
    "        # Adding this accuracy to the dataframe\n",
    "        all_accuracies = all_accuracies.append(\n",
    "            {'index': i, 'f1': f1, 'accuracy': accuracy, 'recall': recall, 'precision': precision, 'specificity': specificity,\n",
    "             'tn': tn, 'fp': fp, 'fn': fn, 'tp': tp, 'scores': scores, 'all_scores': all_scores,\n",
    "             'used_variables': used_variables, 'all_variables': all_variables,}, ignore_index=True)\n",
    "\n",
    "# Adding this contribution to the dataframe\n",
    "        all_contributions = all_contributions.append({'index': i, 'value': contributions.index}, ignore_index=True)"
   ],
   "metadata": {
    "collapsed": false
   }
  },
  {
   "cell_type": "markdown",
   "source": [
    "##### Simple metrics results"
   ],
   "metadata": {
    "collapsed": false
   }
  },
  {
   "cell_type": "code",
   "execution_count": null,
   "outputs": [],
   "source": [
    "print(tabulate(all_accuracies.drop(\n",
    "    ['scores', 'all_scores', 'used_variables', 'all_variables', 'rfe', 'fromModel', 'class', 'multiclass'],\n",
    "    axis=1).round(4), tablefmt='psql', headers=\"keys\"))"
   ],
   "metadata": {
    "collapsed": false
   }
  },
  {
   "cell_type": "markdown",
   "source": [
    "##### Selected variables and scores"
   ],
   "metadata": {
    "collapsed": false
   }
  },
  {
   "cell_type": "code",
   "execution_count": null,
   "outputs": [],
   "source": [
    "temporary_df = all_accuracies.copy()\n",
    "\n",
    "for i in range(len(temporary_df['scores'])):\n",
    "    for j in range(len(temporary_df['scores'][i])):\n",
    "temporary_df['scores'][i][j] = round(temporary_df['scores'][i][j], 4)\n",
    "\n",
    "print(tabulate(temporary_df[['index', 'scores', 'used_variables']], tablefmt='psql', headers='keys',\n",
    "               maxcolwidths=[1, 1, 50, 50]))"
   ],
   "metadata": {
    "collapsed": false
   }
  },
  {
   "cell_type": "markdown",
   "source": [
    "##### All variables and scores"
   ],
   "metadata": {
    "collapsed": false
   }
  },
  {
   "cell_type": "code",
   "execution_count": null,
   "outputs": [],
   "source": [
    "for i in range(len(temporary_df['all_scores'])):\n",
    "    for j in range(len(temporary_df['all_scores'][i])):\n",
    "temporary_df['all_scores'][i][j] = round(temporary_df['all_scores'][i][j], 4)\n",
    "\n",
    "print(tabulate(all_accuracies[['index', 'all_scores', 'all_variables']], tablefmt='psql', headers='keys',\n",
    "               maxcolwidths=[1, 1, 50, 50]))"
   ],
   "metadata": {
    "collapsed": false
   }
  },
  {
   "cell_type": "markdown",
   "source": [
    "##### Score results with selected variables"
   ],
   "metadata": {
    "collapsed": false
   }
  },
  {
   "cell_type": "code",
   "execution_count": null,
   "outputs": [],
   "source": [
    "for failure in range(21):\n",
    "    plt.plot(all_accuracies[\"all_scores\"][failure], zorder=1)\n",
    "    plt.xticks(range(52), all_accuracies[\"all_variables\"][failure], fontsize=8, rotation=90)\n",
    "\n",
    "    plt.scatter(x=len(all_accuracies[\"used_variables\"][failure]) - 1,\n",
    "                y=next(reversed(all_accuracies[\"scores\"][failure])), color='r', zorder=2)\n",
    "    plt.title(\"Failure \" + str(failure + 1))\n",
    "    plt.show()"
   ],
   "metadata": {
    "collapsed": false
   }
  },
  {
   "cell_type": "markdown",
   "source": [
    "##### Heatmaps"
   ],
   "metadata": {
    "collapsed": false
   }
  },
  {
   "cell_type": "code",
   "execution_count": 6,
   "outputs": [
    {
     "data": {
      "text/plain": "<Figure size 800x550 with 2 Axes>",
      "image/png": "[encoded data removed]"
     },
     "metadata": {},
     "output_type": "display_data"
    }
   ],
   "source": [
    "np.set_printoptions(threshold=sys.maxsize, suppress=True)\n",
    "np.set_printoptions()\n",
    "\n",
    "#plt.rcParams['pdf.fonttype'] = 42\n",
    "#plt.rcParams['ps.fonttype'] = 42\n",
    "\n",
    "plt.rcParams['text.usetex'] = True\n",
    "\n",
    "fig = plt.figure()\n",
    "heat_map = sns.heatmap(heatmap_data, linewidth=1, cmap=sns.cubehelix_palette(as_cmap=True))\n",
    "plt.title('21 faults X 52 variables')\n",
    "plt.yticks(np.arange(1, 22, 1) - 0.5, np.arange(1, 22, 1), fontsize=8, rotation=0, va='center')\n",
    "plt.xticks(np.arange(1, 53, 2) + 0.5, np.arange(1, 53, 2) + 1, fontsize=8)\n",
    "plt.show()\n",
    "fig.savefig(\"2152.eps\", format='eps')\n",
    "plt.close()"
   ],
   "metadata": {
    "collapsed": false
   }
  },
  {
   "cell_type": "code",
   "execution_count": 7,
   "outputs": [
    {
     "data": {
      "text/plain": "<Figure size 800x550 with 2 Axes>",
      "image/png": "[encoded data removed]"
     },
     "metadata": {},
     "output_type": "display_data"
    }
   ],
   "source": [
    "binary_heatmap_data = []\n",
    "usedteste = [[1, 44],\n",
    " [ 10, 47],\n",
    " [ 50, 38, 19, 18],\n",
    " [ 51, 18, 46],\n",
    " [ 52, 17],\n",
    " [ 1]  ,\n",
    " [ 45, 50],\n",
    " [50, 38, 29],\n",
    " [ 50, 38, 19, 18] ,\n",
    " [19, 50, 38, 18, 31],\n",
    " [51, 9, 50, 38, 19],\n",
    " [50, 38, 19, 18, 22],\n",
    " [ 19, 50, 18, 38, 35, 11] ,\n",
    " [ 9, 21, 51 ],\n",
    " [18, 19, 50, 40, 38, 20, 29, 34],\n",
    " [ 50, 19, 38, 18, 20, 40],\n",
    " [21, 9, 51],\n",
    " [ 22, 50, 4, 18, 29, 23],\n",
    " [5, 46],\n",
    " [46, 13, 20, 38, 19, 11, 50],\n",
    " [45]]\n",
    "for i in range(21):\n",
    "    binary_heatmap_data.append([])\n",
    "\n",
    "    for j in range(52):\n",
    "        binary_heatmap_data[i].append(0)\n",
    "\n",
    "    for x in usedteste[i]:\n",
    "        binary_heatmap_data[i][x -1] = 1\n",
    "\n",
    "fig2 = plt.figure()\n",
    "heat_map = sns.heatmap(binary_heatmap_data, linewidth=1, cmap=sns.cubehelix_palette(as_cmap=True))\n",
    "plt.title('21 faults X 52 variables')\n",
    "plt.yticks(np.arange(1, 22, 1) - 0.5, np.arange(1, 22, 1), fontsize=8, rotation=0, va='center')\n",
    "plt.xticks(np.arange(1, 53, 2) + 0.5, np.arange(1, 52, 2) + 1, fontsize=8)\n",
    "plt.show()\n",
    "fig2.savefig(\"21525.eps\", format='eps')\n",
    "plt.close()"
   ],
   "metadata": {
    "collapsed": false
   }
  },
  {
   "cell_type": "code",
   "execution_count": null,
   "outputs": [],
   "source": [
    "scores_bar = []\n",
    "all_scores_bar = []\n",
    "\n",
    "for i in range(21):\n",
    "    scores_aux = all_accuracies['scores'].to_numpy()[i]\n",
    "    all_scores_aux = all_accuracies['all_scores'].to_numpy()[i]\n",
    "\n",
    "    scores_bar.append(scores_aux[len(scores_aux) - 1])\n",
    "    all_scores_bar.append(all_scores_aux[len(all_scores_aux) - 1])\n",
    "\n",
    "plt.bar(np.arange(21) - 0.2, scores_bar, 0.4, label=\"SHAP\")\n",
    "plt.bar(np.arange(21) + 0.2, all_scores_bar, 0.4, label=\"All variables\")\n",
    "\n",
    "plt.xticks(range(21), range(1, 22))\n",
    "plt.xlabel(\"Failures\")\n",
    "plt.ylabel(\"F1\")\n",
    "plt.title(\"Comparison between all variables and variables selected by SHAP\")\n",
    "plt.legend()\n",
    "plt.show()"
   ],
   "metadata": {
    "collapsed": false
   }
  },
  {
   "cell_type": "code",
   "execution_count": null,
   "outputs": [],
   "source": [
    "rfe_score = all_accuracies['rfe']\n",
    "class_score = all_accuracies['class']\n",
    "shap_score = all_accuracies['f1']\n",
    "multi_score = all_accuracies['multiclass']\n",
    "model_score = all_accuracies['fromModel']\n",
    "\n",
    "plt.bar(np.arange(21) - 0.2, rfe_score, 0.1, label=\"RFE\")\n",
    "plt.bar(np.arange(21) - 0.1, class_score, 0.1, label=\"Class\")\n",
    "plt.bar(np.arange(21), shap_score, 0.1, label=\"SHAP\")\n",
    "plt.bar(np.arange(21) + 0.1, multi_score, 0.1, label=\"Multi Class\")\n",
    "plt.bar(np.arange(21) + 0.2, model_score, 0.1, label=\"From Model\")\n",
    "\n",
    "plt.xticks(range(21), range(1, 22))\n",
    "plt.xlabel(\"Feature selectors\")\n",
    "plt.ylabel(\"F1 score\")\n",
    "plt.title(\"Comparison between feature selectors\")\n",
    "plt.legend()"
   ],
   "metadata": {
    "collapsed": false
   }
  },
  {
   "cell_type": "code",
   "execution_count": null,
   "outputs": [],
   "source": [
    "all_features_for_selection.sort_values(by=['f1_score', 'numberFeatures'], ascending=[False, True], inplace=True)"
   ],
   "metadata": {
    "collapsed": false
   }
  },
  {
   "cell_type": "code",
   "execution_count": null,
   "outputs": [],
   "source": [
    "print(all_features_for_selection.loc[\n",
    "          (all_features_for_selection['fault'] == 6) & (all_features_for_selection['selector'] == 'RFE')])"
   ],
   "metadata": {
    "collapsed": false
   }
  },
  {
   "cell_type": "code",
   "execution_count": null,
   "outputs": [],
   "source": [
    "print(all_features_for_selection.drop_duplicates(subset=['selector', 'fault']))"
   ],
   "metadata": {
    "collapsed": false
   }
  },
  {
   "cell_type": "code",
   "execution_count": null,
   "outputs": [],
   "source": [
    "show_best_scores = all_features_for_selection.drop_duplicates(subset=['selector', 'fault'])\n",
    "show_best_scores.sort_values(by=['fault', 'selector'], ascending=True, inplace=True)\n",
    "\n",
    "print(tabulate(show_best_scores, tablefmt='psql', headers=\"keys\"))"
   ],
   "metadata": {
    "collapsed": false
   }
  },
  {
   "cell_type": "code",
   "execution_count": null,
   "outputs": [],
   "source": [
    "tShap = [0.9912, 0.9918, 0.624, 0.9994, 0.9893, 1, 1, 0.9281, 0.5807, 0.8519, 0.8896, 0.9329, 0.9333, 1, 0.5378, 0.8456,\n",
    "         0.9764, 0.8859, 0.7701, 0.8694, 0.9981]\n",
    "tRFE = [0.9912, 0.9924, 0.5924, 0.9994, 0.9893, 1, 1, 0.9515, 0.6029, 0.8463, 0.9145, 0.9583, 0.9263, 1, 0.5078, 0.885,\n",
    "        0.9743, 0.9094, 0.9105, 0.8629, 0.9981]\n",
    "tSFM = [0.9912, 0.9924, 0.625, 0.9994, 0.9893, 1, 1, 0.9411, 0.5745, 0.8388, 0.9183, 0.9453, 0.9255, 1, 0.5173, 0.8698,\n",
    "        0.9743, 0.9047, 0.8961, 0.8629, 0.9981]\n",
    "tAnova = [0.9912, 0.9918, 0.6178, 0.9994, 0.8025, 1, 1, 0.9333, 0.566, 0.8196, 0.6491, 0.9453, 0.9138, 0.5573, 0.5308,\n",
    "          0.8921, 0.9384, 0.914, 0.877, 0.8189, 0.6441]\n",
    "tMI = [0.9912, 0.9924, 0.5514, 0.9994, 0.8002, 1, 1, 0.9431, 0.5045, 0.8038, 0.8912, 0.9225, 0.9342, 1, 0.4379, 0.7856,\n",
    "       0.9545, 0.909, 0.754, 0.7703, 0.9981]\n",
    "\n",
    "from scipy.stats import wilcoxon\n",
    "\n",
    "print(\"SHAP - RFE\",wilcoxon(tShap, tRFE))\n",
    "print(\"SHAP - SFM\",  wilcoxon(tShap, tSFM))\n",
    "print(\"SHAP - ANOVA\", wilcoxon(tShap, tAnova))\n",
    "print(\"SHAP - MI\",  wilcoxon(tShap, tMI))\n",
    "\n",
    "print(\"RFE - SFM\",  wilcoxon(tRFE, tSFM))\n",
    "print(\"RFE - ANOVA\",  wilcoxon(tRFE, tAnova))\n",
    "print(\"RFE - MI\",  wilcoxon(tRFE, tMI))\n",
    "\n",
    "print(\"SFM - ANOVA\",  wilcoxon(tSFM, tAnova))\n",
    "print(\"SFM - MI\",  wilcoxon(tSFM, tMI))\n",
    "\n",
    "print(\"ANOVA - MI\",  wilcoxon(tAnova, tMI))"
   ],
   "metadata": {
    "collapsed": false
   }
  },
  {
   "cell_type": "markdown",
   "source": [
    "## Conclusão\n",
    "\n",
    "Como demonstrado nessa implementação, o SHAP obteve um grande ganho comparado a utilização de todos os dados. Também foi demonstrado que a condição de parada para a escolha das variáveis pode ser removido, pois resultados melhores podem ser obtidos em troca de maior uso de dados.\n",
    "\n",
    "Analizando os gráficos produzidos de cada variável escolhida pelo SHAP, nota-se que as variáveis mais importantes são as que tem maior variação nas amostras, aumentando a taxa de detecção dessas falhas. Além disso, em comparação com outros seletores de variáveis, o SHAP apresenta maior consistência na métrica F1 em todos as falhas. O RFE também teve ótimo desempenho, entretanto, na falha 21 não obteve um bom resultado.\n",
    "\n",
    "Segundo o heatmap, é possível identificar as falhas de acordo com a oscilação de cada variável ao decorrer das amostras, já que para cada falha as primeiras 5 variáveis selecionadas são diferentes entre as demais. Também é possível remover certas variáveis do conjunto de dados, pois não são utilizados pelo SHAP e podem reduzir a acurácia do modelo.\n",
    "\n"
   ],
   "metadata": {
    "collapsed": false
   }
  }
 ],
 "metadata": {
  "kernelspec": {
   "display_name": "Python 3",
   "language": "python",
   "name": "python3"
  },
  "language_info": {
   "codemirror_mode": {
    "name": "ipython",
    "version": 2
   },
   "file_extension": ".py",
   "mimetype": "text/x-python",
   "name": "python",
   "nbconvert_exporter": "python",
   "pygments_lexer": "ipython2",
   "version": "2.7.6"
  }
 },
 "nbformat": 4,
 "nbformat_minor": 0
}
